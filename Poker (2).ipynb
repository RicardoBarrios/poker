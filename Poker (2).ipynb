{
 "cells": [
  {
   "cell_type": "code",
   "execution_count": 1,
   "metadata": {},
   "outputs": [
    {
     "name": "stdout",
     "output_type": "stream",
     "text": [
      "TEXAS HOLD'EM APP TO IMPROVE SKILLS\n"
     ]
    }
   ],
   "source": [
    "print('''TEXAS HOLD'EM APP TO IMPROVE SKILLS''')"
   ]
  },
  {
   "cell_type": "code",
   "execution_count": 2,
   "metadata": {},
   "outputs": [],
   "source": [
    "import random\n",
    "import time"
   ]
  },
  {
   "cell_type": "code",
   "execution_count": 3,
   "metadata": {},
   "outputs": [],
   "source": [
    "########### MODULE 1 : INPUTS / VARIABLES #############"
   ]
  },
  {
   "cell_type": "code",
   "execution_count": 4,
   "metadata": {},
   "outputs": [
    {
     "name": "stdout",
     "output_type": "stream",
     "text": [
      "GOALS:\n",
      "1. Simulate a game of Texas Hold 'Em with real-life attributes (randomly generated cards, player attributes, player position, prior bets, stack sizes and odds.)\n",
      "2. Give accurate live feedback based on game-theory\n"
     ]
    }
   ],
   "source": [
    "print('''GOALS:\\n1. Simulate a game of Texas Hold 'Em with real-life attributes (randomly generated cards, player attributes, player position, prior bets, stack sizes and odds.)\\n2. Give accurate live feedback based on game-theory''')\n"
   ]
  },
  {
   "cell_type": "code",
   "execution_count": 5,
   "metadata": {},
   "outputs": [
    {
     "name": "stdout",
     "output_type": "stream",
     "text": [
      "TO DO:\n",
      "A1. CLOSE PREFLOP ACTION \n",
      "A. APPLY FEEDBACK FROM QUIZZES -DAILY \n",
      "B. APPLY RANGE/CHIP CHANGES/PLAYERTYPE/POSITION ATTRIBUTES/VARIABLES\n",
      "D. CALCULATE POT ODDS FOR EVERY HAND \n"
     ]
    }
   ],
   "source": [
    "print('''TO DO:\\nA1. CLOSE PREFLOP ACTION \\nA. APPLY FEEDBACK FROM QUIZZES -DAILY \\nB. APPLY RANGE/CHIP CHANGES/PLAYERTYPE/POSITION ATTRIBUTES/VARIABLES\\nD. CALCULATE POT ODDS FOR EVERY HAND ''')"
   ]
  },
  {
   "cell_type": "code",
   "execution_count": 6,
   "metadata": {},
   "outputs": [
    {
     "name": "stdout",
     "output_type": "stream",
     "text": [
      "CURRENT ADDITION IN PROGRESS (Q600):\n"
     ]
    },
    {
     "data": {
      "text/plain": [
       "\"Q600: AdQc top pair A in position bets medium when faced with a check due to opponent's wide range and my hand's strength\""
      ]
     },
     "execution_count": 6,
     "metadata": {},
     "output_type": "execute_result"
    }
   ],
   "source": [
    "print('CURRENT ADDITION IN PROGRESS (Q600):')\n",
    "Q600F= '''Q600: AdQc top pair A in position bets medium when faced with a check due to opponent's wide range and my hand's strength'''\n",
    "Q600T= 'AdQc top pair A in position checks when faced with a check when turn coordinates the board'\n",
    "Q600R= 'AdQc top pair A in position bets large when faced with a check when my range is large and my hand is at the bottom of my range'\n",
    "\n",
    "Q600F \n",
    "\n"
   ]
  },
  {
   "cell_type": "code",
   "execution_count": 7,
   "metadata": {},
   "outputs": [
    {
     "name": "stdout",
     "output_type": "stream",
     "text": [
      "Q600\n"
     ]
    },
    {
     "data": {
      "text/plain": [
       "{'BEST_HAND': 'TOP PAIR ACES',\n",
       " 'BET': 'MEDIUM',\n",
       " 'HAND': 'AdQc',\n",
       " 'HAND_STRENGTH': 27,\n",
       " 'OPPONENT MOVE': 'CHECK',\n",
       " 'OPPONENT RANGE': 'WIDE',\n",
       " 'POSITION': 'IN POSITION',\n",
       " 'WHEN TO ADD': 'LATER'}"
      ]
     },
     "execution_count": 7,
     "metadata": {},
     "output_type": "execute_result"
    }
   ],
   "source": [
    "print(\"Q600\")\n",
    "\n",
    "Q600attributes = {\n",
    "    \n",
    "    \"HAND\": 'AdQc',\n",
    "    \"BEST_HAND\": 'TOP PAIR ACES',\n",
    "    \"POSITION\" : \"IN POSITION\",\n",
    "    \"BET\" : \"MEDIUM\",\n",
    "    \"OPPONENT MOVE\" : \"CHECK\",\n",
    "    \"OPPONENT RANGE\" : \"WIDE\",\n",
    "    \"HAND_STRENGTH\" : 27,\n",
    "    \"WHEN TO ADD\" : \"LATER\"\n",
    "}\n",
    "\n",
    "Q600attributes"
   ]
  },
  {
   "cell_type": "code",
   "execution_count": 8,
   "metadata": {},
   "outputs": [
    {
     "name": "stdout",
     "output_type": "stream",
     "text": [
      "Q600\n"
     ]
    },
    {
     "data": {
      "text/html": [
       "<div>\n",
       "<style scoped>\n",
       "    .dataframe tbody tr th:only-of-type {\n",
       "        vertical-align: middle;\n",
       "    }\n",
       "\n",
       "    .dataframe tbody tr th {\n",
       "        vertical-align: top;\n",
       "    }\n",
       "\n",
       "    .dataframe thead th {\n",
       "        text-align: right;\n",
       "    }\n",
       "</style>\n",
       "<table border=\"1\" class=\"dataframe\">\n",
       "  <thead>\n",
       "    <tr style=\"text-align: right;\">\n",
       "      <th></th>\n",
       "      <th>0</th>\n",
       "    </tr>\n",
       "  </thead>\n",
       "  <tbody>\n",
       "    <tr>\n",
       "      <th>Q600F</th>\n",
       "      <td>Q600: AdQc top pair A in position bets medium ...</td>\n",
       "    </tr>\n",
       "    <tr>\n",
       "      <th>Q600T</th>\n",
       "      <td>AdQc top pair A in position checks when faced ...</td>\n",
       "    </tr>\n",
       "    <tr>\n",
       "      <th>Q600R</th>\n",
       "      <td>AdQc top pair A in position bets large when fa...</td>\n",
       "    </tr>\n",
       "  </tbody>\n",
       "</table>\n",
       "</div>"
      ],
      "text/plain": [
       "                                                       0\n",
       "Q600F  Q600: AdQc top pair A in position bets medium ...\n",
       "Q600T  AdQc top pair A in position checks when faced ...\n",
       "Q600R  AdQc top pair A in position bets large when fa..."
      ]
     },
     "execution_count": 8,
     "metadata": {},
     "output_type": "execute_result"
    }
   ],
   "source": [
    "print(\"Q600\")\n",
    "import pandas as pd\n",
    "\n",
    "data = 'AdQc top pair A in position bets large when faced with a check when my range is large and my hand is at the bottom of my range'\n",
    "dfAddition600 = pd.DataFrame([Q600F,Q600T,Q600R],index=[\"Q600F\",\"Q600T\",\"Q600R\"])\n",
    "dfAddition600"
   ]
  },
  {
   "cell_type": "code",
   "execution_count": 9,
   "metadata": {},
   "outputs": [
    {
     "name": "stdout",
     "output_type": "stream",
     "text": [
      "Q600\n"
     ]
    },
    {
     "data": {
      "text/html": [
       "<div>\n",
       "<style scoped>\n",
       "    .dataframe tbody tr th:only-of-type {\n",
       "        vertical-align: middle;\n",
       "    }\n",
       "\n",
       "    .dataframe tbody tr th {\n",
       "        vertical-align: top;\n",
       "    }\n",
       "\n",
       "    .dataframe thead th {\n",
       "        text-align: right;\n",
       "    }\n",
       "</style>\n",
       "<table border=\"1\" class=\"dataframe\">\n",
       "  <thead>\n",
       "    <tr style=\"text-align: right;\">\n",
       "      <th></th>\n",
       "      <th>0</th>\n",
       "      <th>Hand</th>\n",
       "    </tr>\n",
       "  </thead>\n",
       "  <tbody>\n",
       "    <tr>\n",
       "      <th>Q600F</th>\n",
       "      <td>Q600: AdQc top pair A in position bets medium ...</td>\n",
       "      <td>Q600</td>\n",
       "    </tr>\n",
       "    <tr>\n",
       "      <th>Q600T</th>\n",
       "      <td>AdQc top pair A in position checks when faced ...</td>\n",
       "      <td>Q600</td>\n",
       "    </tr>\n",
       "    <tr>\n",
       "      <th>Q600R</th>\n",
       "      <td>AdQc top pair A in position bets large when fa...</td>\n",
       "      <td>Q600</td>\n",
       "    </tr>\n",
       "  </tbody>\n",
       "</table>\n",
       "</div>"
      ],
      "text/plain": [
       "                                                       0  Hand\n",
       "Q600F  Q600: AdQc top pair A in position bets medium ...  Q600\n",
       "Q600T  AdQc top pair A in position checks when faced ...  Q600\n",
       "Q600R  AdQc top pair A in position bets large when fa...  Q600"
      ]
     },
     "execution_count": 9,
     "metadata": {},
     "output_type": "execute_result"
    }
   ],
   "source": [
    "print(\"Q600\")\n",
    "\n",
    "dfAddition600['Hand']=Q600F[0:4]\n",
    "# dfAddition600['']\n",
    "dfAddition600"
   ]
  },
  {
   "cell_type": "code",
   "execution_count": 10,
   "metadata": {},
   "outputs": [
    {
     "name": "stdout",
     "output_type": "stream",
     "text": [
      "Preflop: Great hand in the big blind to close the action out of position (K5 offsuit is too poor to call)\n"
     ]
    }
   ],
   "source": [
    "print('Preflop: Great hand in the big blind to close the action out of position (K5 offsuit is too poor to call)')"
   ]
  },
  {
   "cell_type": "code",
   "execution_count": 11,
   "metadata": {
    "scrolled": true
   },
   "outputs": [
    {
     "name": "stdout",
     "output_type": "stream",
     "text": [
      "Practicing Calculating Pot-Odds\n"
     ]
    }
   ],
   "source": [
    "print('Practicing Calculating Pot-Odds')"
   ]
  },
  {
   "cell_type": "code",
   "execution_count": 12,
   "metadata": {},
   "outputs": [
    {
     "name": "stdout",
     "output_type": "stream",
     "text": [
      "In poker, pot odds are the ratio of the current size of the pot to the cost of a contemplated call. Pot odds are often compared to the probability of winning a hand with a future card in order to estimate the call's expected value.\n"
     ]
    }
   ],
   "source": [
    "print('''In poker, pot odds are the ratio of the current size of the pot to the cost of a contemplated call. Pot odds are often compared to the probability of winning a hand with a future card in order to estimate the call's expected value.''')"
   ]
  },
  {
   "cell_type": "code",
   "execution_count": 13,
   "metadata": {},
   "outputs": [
    {
     "name": "stdout",
     "output_type": "stream",
     "text": [
      "In other words...\n"
     ]
    }
   ],
   "source": [
    "print('In other words...')\n"
   ]
  },
  {
   "cell_type": "code",
   "execution_count": 14,
   "metadata": {},
   "outputs": [
    {
     "name": "stdout",
     "output_type": "stream",
     "text": [
      "POT_ODDS = Probability of winning a hand with a future card in order to estimate the call's expected value\n",
      "Current Pot Size is 200\n",
      "Potential Cost of Call is 100\n",
      "Pot Odds are 2.0 to 1\n"
     ]
    }
   ],
   "source": [
    "CURRENT_POT_SIZE = 200\n",
    "POTENTIAL_COST_OF_CALL = 100\n",
    "POT_ODDS = CURRENT_POT_SIZE / POTENTIAL_COST_OF_CALL\n",
    "print('''POT_ODDS = Probability of winning a hand with a future card in order to estimate the call's expected value''')\n",
    "print('Current Pot Size is '+ str(CURRENT_POT_SIZE))\n",
    "print('Potential Cost of Call is '+ str(POTENTIAL_COST_OF_CALL))\n",
    "\n",
    "print(\"Pot Odds are \"+str(POT_ODDS)+' to 1')"
   ]
  },
  {
   "cell_type": "code",
   "execution_count": 15,
   "metadata": {},
   "outputs": [
    {
     "name": "stdout",
     "output_type": "stream",
     "text": [
      "Turn the ratio to a percent by calculating [ Risk / Risk + Reward ]\n"
     ]
    }
   ],
   "source": [
    "print('Turn the ratio to a percent by calculating [ Risk / Risk + Reward ]')\n"
   ]
  },
  {
   "cell_type": "code",
   "execution_count": 16,
   "metadata": {},
   "outputs": [
    {
     "data": {
      "text/plain": [
       "100"
      ]
     },
     "execution_count": 16,
     "metadata": {},
     "output_type": "execute_result"
    }
   ],
   "source": [
    "RISK = POTENTIAL_COST_OF_CALL\n",
    "RISK"
   ]
  },
  {
   "cell_type": "code",
   "execution_count": 17,
   "metadata": {},
   "outputs": [
    {
     "data": {
      "text/plain": [
       "200"
      ]
     },
     "execution_count": 17,
     "metadata": {},
     "output_type": "execute_result"
    }
   ],
   "source": [
    "REWARD = CURRENT_POT_SIZE\n",
    "REWARD"
   ]
  },
  {
   "cell_type": "code",
   "execution_count": 18,
   "metadata": {},
   "outputs": [
    {
     "data": {
      "text/plain": [
       "0.3333333333333333"
      ]
     },
     "execution_count": 18,
     "metadata": {},
     "output_type": "execute_result"
    }
   ],
   "source": [
    " RISK / (RISK + REWARD)\n"
   ]
  },
  {
   "cell_type": "code",
   "execution_count": null,
   "metadata": {},
   "outputs": [],
   "source": []
  },
  {
   "cell_type": "code",
   "execution_count": 19,
   "metadata": {},
   "outputs": [],
   "source": [
    "# FIRST VARIABLE: MY STACK SIZE\n",
    "MY_STACK_SIZE_IN_BIG_BLINDS = 60\n",
    "SS = MY_STACK_SIZE_IN_BIG_BLINDS"
   ]
  },
  {
   "cell_type": "code",
   "execution_count": null,
   "metadata": {},
   "outputs": [],
   "source": []
  },
  {
   "cell_type": "code",
   "execution_count": 20,
   "metadata": {},
   "outputs": [
    {
     "data": {
      "text/plain": [
       "60"
      ]
     },
     "execution_count": 20,
     "metadata": {},
     "output_type": "execute_result"
    }
   ],
   "source": [
    "SS"
   ]
  },
  {
   "cell_type": "code",
   "execution_count": 21,
   "metadata": {},
   "outputs": [
    {
     "data": {
      "text/plain": [
       "80"
      ]
     },
     "execution_count": 21,
     "metadata": {},
     "output_type": "execute_result"
    }
   ],
   "source": [
    "ALL_IN_BET = 80\n",
    "ALL_IN_BET"
   ]
  },
  {
   "cell_type": "code",
   "execution_count": 22,
   "metadata": {},
   "outputs": [
    {
     "data": {
      "text/plain": [
       "400"
      ]
     },
     "execution_count": 22,
     "metadata": {},
     "output_type": "execute_result"
    }
   ],
   "source": [
    "POT_SIZE = 400\n",
    "POT_SIZE "
   ]
  },
  {
   "cell_type": "code",
   "execution_count": 23,
   "metadata": {},
   "outputs": [
    {
     "data": {
      "text/plain": [
       "0.16666666666666666"
      ]
     },
     "execution_count": 23,
     "metadata": {},
     "output_type": "execute_result"
    }
   ],
   "source": [
    "\n",
    "X = ALL_IN_BET / ( ALL_IN_BET + POT_SIZE )\n",
    "X"
   ]
  },
  {
   "cell_type": "code",
   "execution_count": 24,
   "metadata": {},
   "outputs": [
    {
     "data": {
      "text/plain": [
       "5.0"
      ]
     },
     "execution_count": 24,
     "metadata": {},
     "output_type": "execute_result"
    }
   ],
   "source": [
    "POT_ODDS = CURRENT_POT_SIZE / POTENTIAL_COST_OF_CALL\n",
    "POT_ODDS = 400 / 80\n",
    "POT_ODDS"
   ]
  },
  {
   "cell_type": "code",
   "execution_count": 25,
   "metadata": {},
   "outputs": [
    {
     "data": {
      "text/plain": [
       "'Bet Larger'"
      ]
     },
     "execution_count": 25,
     "metadata": {},
     "output_type": "execute_result"
    }
   ],
   "source": [
    "# If stack size is small, bet smaller. If medium, bet medium. If larger, bet larger.\n",
    "\n",
    "def f(x):\n",
    "    if x <= 20:\n",
    "        x = 'Bet Smaller'\n",
    "    elif 20 < x <= 50:\n",
    "        x = 'Bet Medium'\n",
    "    elif 50 < x:\n",
    "        x = 'Bet Larger'\n",
    "    return x\n",
    "\n",
    "MY_BET_SIZE = f(SS)\n",
    "    \n",
    "    \n",
    "MY_BET_SIZE"
   ]
  },
  {
   "cell_type": "code",
   "execution_count": null,
   "metadata": {},
   "outputs": [],
   "source": []
  },
  {
   "cell_type": "code",
   "execution_count": 26,
   "metadata": {},
   "outputs": [],
   "source": [
    "CARDS = ('Ah', '2h', '3h', '4h', '5h', '6h', '7h', '8h', '9h', '10h', 'Jh', 'Qh', 'Kh', 'Ac', '2c', '3c', '4c', '5c', '6c', '7c', '8c', '9c', '10c', 'Jc', 'Qc', 'Kc', 'As', '2s', '3s', '4s', '5s', '6s', '7s', '8s', '9s', '10s', 'Js', 'Qs', 'Ks', 'Ad', '2d', '3d', '4d', '5d', '6d', '7d', '8d', '9d', '10d', 'Jd', 'Qd', 'Kd')"
   ]
  },
  {
   "cell_type": "code",
   "execution_count": 27,
   "metadata": {},
   "outputs": [
    {
     "data": {
      "text/plain": [
       "('Ah',\n",
       " '2h',\n",
       " '3h',\n",
       " '4h',\n",
       " '5h',\n",
       " '6h',\n",
       " '7h',\n",
       " '8h',\n",
       " '9h',\n",
       " '10h',\n",
       " 'Jh',\n",
       " 'Qh',\n",
       " 'Kh',\n",
       " 'Ac',\n",
       " '2c',\n",
       " '3c',\n",
       " '4c',\n",
       " '5c',\n",
       " '6c',\n",
       " '7c',\n",
       " '8c',\n",
       " '9c',\n",
       " '10c',\n",
       " 'Jc',\n",
       " 'Qc',\n",
       " 'Kc',\n",
       " 'As',\n",
       " '2s',\n",
       " '3s',\n",
       " '4s',\n",
       " '5s',\n",
       " '6s',\n",
       " '7s',\n",
       " '8s',\n",
       " '9s',\n",
       " '10s',\n",
       " 'Js',\n",
       " 'Qs',\n",
       " 'Ks',\n",
       " 'Ad',\n",
       " '2d',\n",
       " '3d',\n",
       " '4d',\n",
       " '5d',\n",
       " '6d',\n",
       " '7d',\n",
       " '8d',\n",
       " '9d',\n",
       " '10d',\n",
       " 'Jd',\n",
       " 'Qd',\n",
       " 'Kd')"
      ]
     },
     "execution_count": 27,
     "metadata": {},
     "output_type": "execute_result"
    }
   ],
   "source": [
    "CARDS"
   ]
  },
  {
   "cell_type": "code",
   "execution_count": 28,
   "metadata": {},
   "outputs": [
    {
     "data": {
      "text/plain": [
       "['10s', '9d', '10h']"
      ]
     },
     "execution_count": 28,
     "metadata": {},
     "output_type": "execute_result"
    }
   ],
   "source": [
    "#SHUFFLE AND DEAL HAND AND COMMUNITY CARDS\n",
    "\n",
    "import random\n",
    "COMMUNITY_CARDS = random.sample(set(CARDS), 9)\n",
    "HAND = COMMUNITY_CARDS[0:2]\n",
    "#NEED TO CALCULATE OPPONPENETS HANDS IN THE DEALING\n",
    "FLOP = COMMUNITY_CARDS[2:5]\n",
    "BURN1 = COMMUNITY_CARDS[5]\n",
    "TURN = COMMUNITY_CARDS[6]\n",
    "BURN2 = COMMUNITY_CARDS[7]\n",
    "RIVER = COMMUNITY_CARDS[8]\n",
    "FLOP\n",
    "\n",
    "\n"
   ]
  },
  {
   "cell_type": "code",
   "execution_count": null,
   "metadata": {},
   "outputs": [],
   "source": []
  },
  {
   "cell_type": "code",
   "execution_count": null,
   "metadata": {},
   "outputs": [],
   "source": [
    "\n"
   ]
  },
  {
   "cell_type": "code",
   "execution_count": 29,
   "metadata": {},
   "outputs": [
    {
     "data": {
      "text/plain": [
       "['9c', 'Ks']"
      ]
     },
     "execution_count": 29,
     "metadata": {},
     "output_type": "execute_result"
    }
   ],
   "source": [
    "#HAND = ['As','10s']\n",
    "HAND"
   ]
  },
  {
   "cell_type": "code",
   "execution_count": 30,
   "metadata": {},
   "outputs": [
    {
     "data": {
      "text/plain": [
       "'UNSUITED'"
      ]
     },
     "execution_count": 30,
     "metadata": {},
     "output_type": "execute_result"
    }
   ],
   "source": [
    "#SUITEDNESS\n",
    "def f(x):\n",
    "    if x[1][-1] == x[0][-1]:\n",
    "        x = 'SUITED'\n",
    "    else:\n",
    "        x = 'UNSUITED'\n",
    "    return x\n",
    "SUITEDNESS = f(HAND)\n",
    "SUITEDNESS"
   ]
  },
  {
   "cell_type": "code",
   "execution_count": 31,
   "metadata": {},
   "outputs": [
    {
     "data": {
      "text/plain": [
       "0"
      ]
     },
     "execution_count": 31,
     "metadata": {},
     "output_type": "execute_result"
    }
   ],
   "source": [
    "#SUITEDNESS STRENGTH\n",
    "def f(x):\n",
    "    if x[1][-1] == x[0][-1]:\n",
    "        x = 3 #'SUITED'\n",
    "    else:\n",
    "        x = 0 #'UNSUITED'\n",
    "    return x\n",
    "SUITEDNESS_STRENGTH = f(HAND)\n",
    "SUITEDNESS_STRENGTH"
   ]
  },
  {
   "cell_type": "code",
   "execution_count": 32,
   "metadata": {},
   "outputs": [
    {
     "data": {
      "text/plain": [
       "'9K'"
      ]
     },
     "execution_count": 32,
     "metadata": {},
     "output_type": "execute_result"
    }
   ],
   "source": [
    "HAND_STRING_RANK = HAND[0][0:-1]+HAND[1][0:-1]\n",
    "HAND_STRING_RANK"
   ]
  },
  {
   "cell_type": "code",
   "execution_count": 33,
   "metadata": {},
   "outputs": [
    {
     "data": {
      "text/plain": [
       "'9'"
      ]
     },
     "execution_count": 33,
     "metadata": {},
     "output_type": "execute_result"
    }
   ],
   "source": [
    "HAND_1_RANK = HAND[0][0:-1]\n",
    "HAND_1_RANK"
   ]
  },
  {
   "cell_type": "code",
   "execution_count": 34,
   "metadata": {},
   "outputs": [
    {
     "data": {
      "text/plain": [
       "'K'"
      ]
     },
     "execution_count": 34,
     "metadata": {},
     "output_type": "execute_result"
    }
   ],
   "source": [
    "HAND_2_RANK = HAND[1][0:-1]\n",
    "HAND_2_RANK"
   ]
  },
  {
   "cell_type": "code",
   "execution_count": 35,
   "metadata": {},
   "outputs": [
    {
     "data": {
      "text/plain": [
       "'K'"
      ]
     },
     "execution_count": 35,
     "metadata": {},
     "output_type": "execute_result"
    }
   ],
   "source": [
    "HAND_2_RANK"
   ]
  },
  {
   "cell_type": "code",
   "execution_count": 36,
   "metadata": {},
   "outputs": [
    {
     "data": {
      "text/plain": [
       "9"
      ]
     },
     "execution_count": 36,
     "metadata": {},
     "output_type": "execute_result"
    }
   ],
   "source": [
    "def S(y):\n",
    "    if y == 'A':\n",
    "        x = 15\n",
    "    elif y == 'K':\n",
    "        x = 13\n",
    "    elif y == 'Q':\n",
    "        x = 12\n",
    "    elif y == 'J':\n",
    "        x = 11\n",
    "    elif y == y:\n",
    "        x = int(y)\n",
    "    return x \n",
    "S(HAND_1_RANK)"
   ]
  },
  {
   "cell_type": "code",
   "execution_count": 37,
   "metadata": {},
   "outputs": [
    {
     "data": {
      "text/plain": [
       "['9c', 'Ks']"
      ]
     },
     "execution_count": 37,
     "metadata": {},
     "output_type": "execute_result"
    }
   ],
   "source": [
    "#SECOND VARIABLE: MY HAND STRENGTH AND SUITEDNESS\n",
    "\n",
    "HAND"
   ]
  },
  {
   "cell_type": "code",
   "execution_count": 38,
   "metadata": {},
   "outputs": [
    {
     "data": {
      "text/plain": [
       "'9'"
      ]
     },
     "execution_count": 38,
     "metadata": {},
     "output_type": "execute_result"
    }
   ],
   "source": [
    "HAND_1_RANK = HAND[0][0:-1]\n",
    "HAND_1_RANK"
   ]
  },
  {
   "cell_type": "code",
   "execution_count": 39,
   "metadata": {},
   "outputs": [
    {
     "data": {
      "text/plain": [
       "9"
      ]
     },
     "execution_count": 39,
     "metadata": {},
     "output_type": "execute_result"
    }
   ],
   "source": [
    "HAND_1_RANK = S(HAND_1_RANK) \n",
    "HAND_1_RANK"
   ]
  },
  {
   "cell_type": "code",
   "execution_count": 40,
   "metadata": {},
   "outputs": [
    {
     "data": {
      "text/plain": [
       "'K'"
      ]
     },
     "execution_count": 40,
     "metadata": {},
     "output_type": "execute_result"
    }
   ],
   "source": [
    "HAND_2_RANK = HAND[1][0:-1]\n",
    "HAND_2_RANK"
   ]
  },
  {
   "cell_type": "code",
   "execution_count": 41,
   "metadata": {},
   "outputs": [
    {
     "data": {
      "text/plain": [
       "13"
      ]
     },
     "execution_count": 41,
     "metadata": {},
     "output_type": "execute_result"
    }
   ],
   "source": [
    "HAND_2_RANK = S(HAND_2_RANK)\n",
    "HAND_2_RANK"
   ]
  },
  {
   "cell_type": "code",
   "execution_count": 42,
   "metadata": {},
   "outputs": [
    {
     "data": {
      "text/plain": [
       "13"
      ]
     },
     "execution_count": 42,
     "metadata": {},
     "output_type": "execute_result"
    }
   ],
   "source": [
    "HIGHEST_HAND_RANK = max(HAND_1_RANK,HAND_2_RANK)\n",
    "HIGHEST_HAND_RANK"
   ]
  },
  {
   "cell_type": "code",
   "execution_count": 43,
   "metadata": {},
   "outputs": [
    {
     "data": {
      "text/plain": [
       "0"
      ]
     },
     "execution_count": 43,
     "metadata": {},
     "output_type": "execute_result"
    }
   ],
   "source": [
    "#POCKET PAIR?\n",
    "if HAND_1_RANK == HAND_2_RANK: POCKET_PAIR = 4 \n",
    "else: POCKET_PAIR = 0\n",
    "POCKET_PAIR"
   ]
  },
  {
   "cell_type": "code",
   "execution_count": 44,
   "metadata": {},
   "outputs": [
    {
     "data": {
      "text/plain": [
       "0"
      ]
     },
     "execution_count": 44,
     "metadata": {},
     "output_type": "execute_result"
    }
   ],
   "source": [
    "#SUITED CONNECTOR?\n",
    "if 3 > HAND_1_RANK - HAND_2_RANK > -3: CONNECTOR = 3\n",
    "else: CONNECTOR = 0\n",
    "CONNECTOR\n"
   ]
  },
  {
   "cell_type": "code",
   "execution_count": 45,
   "metadata": {},
   "outputs": [
    {
     "data": {
      "text/plain": [
       "22"
      ]
     },
     "execution_count": 45,
     "metadata": {},
     "output_type": "execute_result"
    }
   ],
   "source": [
    "#HAND STRENGTH RANKED FROM 4 - 41\n",
    "HAND_STRENGTH = S(HAND_1_RANK) + S(HAND_2_RANK)+ SUITEDNESS_STRENGTH + POCKET_PAIR + CONNECTOR\n",
    "HAND_STRENGTH"
   ]
  },
  {
   "cell_type": "code",
   "execution_count": 46,
   "metadata": {},
   "outputs": [],
   "source": [
    "# #HAND STRENGTH AND SUITEDNESS\n",
    "# HAND_STRENGTH_SUITEDNESS = str(HAND_STRENGTH) +' '+ SUITEDNESS\n",
    "# HAND_STRENGTH_SUITEDNESS\n",
    "# ^SUITEDNESS IS NOW CALCULATED INTO HAND STRENGTH"
   ]
  },
  {
   "cell_type": "code",
   "execution_count": 47,
   "metadata": {},
   "outputs": [],
   "source": [
    "#THIRD VARIABLE: MY POSITION"
   ]
  },
  {
   "cell_type": "code",
   "execution_count": null,
   "metadata": {},
   "outputs": [],
   "source": []
  },
  {
   "cell_type": "code",
   "execution_count": 48,
   "metadata": {},
   "outputs": [],
   "source": [
    "#FOURTH VARIABLE: PLAYER TYPES\n",
    "PLAYER_TYPES = ('TAG','LAG','REG','HAPPY')"
   ]
  },
  {
   "cell_type": "code",
   "execution_count": 49,
   "metadata": {},
   "outputs": [],
   "source": [
    "OPPONENT_TYPE = 'LAG'"
   ]
  },
  {
   "cell_type": "code",
   "execution_count": 50,
   "metadata": {},
   "outputs": [
    {
     "data": {
      "text/plain": [
       "60"
      ]
     },
     "execution_count": 50,
     "metadata": {},
     "output_type": "execute_result"
    }
   ],
   "source": [
    "#FIFTHVARIABLE: STACK SIZES\n",
    "OPPONENT_STACK_SIZE = 'shallow'\n",
    "SS #MY STACK SIZE IN BIG BLINDS"
   ]
  },
  {
   "cell_type": "code",
   "execution_count": 51,
   "metadata": {},
   "outputs": [
    {
     "data": {
      "text/plain": [
       "'shallow'"
      ]
     },
     "execution_count": 51,
     "metadata": {},
     "output_type": "execute_result"
    }
   ],
   "source": [
    "OPPONENT_STACK_SIZE"
   ]
  },
  {
   "cell_type": "code",
   "execution_count": 52,
   "metadata": {},
   "outputs": [],
   "source": [
    "#SIXTH VARIABLE: PRIOR BETS / POT SIZE \n",
    "ALL_PRIOR_BETS = 300"
   ]
  },
  {
   "cell_type": "code",
   "execution_count": 53,
   "metadata": {},
   "outputs": [],
   "source": [
    "POT_SIZE = ALL_PRIOR_BETS"
   ]
  },
  {
   "cell_type": "code",
   "execution_count": 54,
   "metadata": {},
   "outputs": [
    {
     "data": {
      "text/plain": [
       "300"
      ]
     },
     "execution_count": 54,
     "metadata": {},
     "output_type": "execute_result"
    }
   ],
   "source": [
    "POT_SIZE"
   ]
  },
  {
   "cell_type": "code",
   "execution_count": 55,
   "metadata": {},
   "outputs": [],
   "source": [
    "CALL_AMOUNT = 200"
   ]
  },
  {
   "cell_type": "code",
   "execution_count": 56,
   "metadata": {},
   "outputs": [],
   "source": [
    "#SEVENTH VARIABLE: ODDS\n",
    "ODDS_GIVING_OPPONENT = POT_SIZE / CALL_AMOUNT"
   ]
  },
  {
   "cell_type": "code",
   "execution_count": 57,
   "metadata": {},
   "outputs": [
    {
     "data": {
      "text/plain": [
       "1.5"
      ]
     },
     "execution_count": 57,
     "metadata": {},
     "output_type": "execute_result"
    }
   ],
   "source": [
    "ODDS_GIVING_OPPONENT"
   ]
  },
  {
   "cell_type": "code",
   "execution_count": 58,
   "metadata": {},
   "outputs": [],
   "source": [
    "######### MODULE 1.25 : SIMULATION ############"
   ]
  },
  {
   "cell_type": "code",
   "execution_count": 59,
   "metadata": {},
   "outputs": [],
   "source": [
    "#PRE-FLOP"
   ]
  },
  {
   "cell_type": "code",
   "execution_count": 60,
   "metadata": {},
   "outputs": [
    {
     "data": {
      "text/plain": [
       "[6]"
      ]
     },
     "execution_count": 60,
     "metadata": {},
     "output_type": "execute_result"
    }
   ],
   "source": [
    "PLAYERS_POSSIBLE = [4,5,6,7,8,9,10]\n",
    "NUMBER_OF_PLAYERS = random.sample((PLAYERS_POSSIBLE), 1) #set()\n",
    "NUMBER_OF_PLAYERS"
   ]
  },
  {
   "cell_type": "code",
   "execution_count": 61,
   "metadata": {},
   "outputs": [],
   "source": [
    "#HASH THISSSSSSSSSSS\n",
    "\n",
    "NUMBER_OF_PLAYERS = [10]"
   ]
  },
  {
   "cell_type": "code",
   "execution_count": 62,
   "metadata": {},
   "outputs": [
    {
     "data": {
      "text/plain": [
       "[1, 2, 3, 4, 5, 6, 7, 8, 9]"
      ]
     },
     "execution_count": 62,
     "metadata": {},
     "output_type": "execute_result"
    }
   ],
   "source": [
    "ACTIONS_BEFORE_YOU = list(range(1,int(NUMBER_OF_PLAYERS[0])))\n",
    "ACTIONS_BEFORE_YOU"
   ]
  },
  {
   "cell_type": "code",
   "execution_count": 63,
   "metadata": {},
   "outputs": [
    {
     "data": {
      "text/plain": [
       "[1, 2, 3, 4, 5, 6, 7, 8, 9, 10]"
      ]
     },
     "execution_count": 63,
     "metadata": {},
     "output_type": "execute_result"
    }
   ],
   "source": [
    "TOTAL_ACTIONS = list(range(1,int(NUMBER_OF_PLAYERS[0])+1))\n",
    "TOTAL_ACTIONS"
   ]
  },
  {
   "cell_type": "code",
   "execution_count": 64,
   "metadata": {},
   "outputs": [
    {
     "data": {
      "text/plain": [
       "[(4, 'UTG', 1),\n",
       " (7, 'UTG+1', 2),\n",
       " (8, 'UTG+2', 3),\n",
       " (9, 'MP1', 4),\n",
       " (10, 'MP2', 5),\n",
       " (6, 'HJ', 6),\n",
       " (5, 'CO', 7),\n",
       " (1, 'BTN', 8),\n",
       " (2, 'SB', 9),\n",
       " (3, 'BB', 10)]"
      ]
     },
     "execution_count": 64,
     "metadata": {},
     "output_type": "execute_result"
    }
   ],
   "source": [
    "# (IMPORTANCE TO GAME/REQUIRED FOR GIVEN NUMBER OF PLAYERS,'POSITION',ORDER PRE-FLOP)\n",
    "MAX_POSITIONS = [(4,'UTG',1),(7,'UTG+1',2),(8,'UTG+2',3),(9,'MP1',4),(10,'MP2',5),(6,'HJ',6),(5,'CO',7),(1,'BTN',8),(2,'SB',9),(3,'BB',10)]\n",
    "UTG_FIRST_POSITIONS = MAX_POSITIONS\n",
    "UTG_FIRST_POSITIONS"
   ]
  },
  {
   "cell_type": "code",
   "execution_count": 65,
   "metadata": {},
   "outputs": [
    {
     "data": {
      "text/plain": [
       "[(1, 'BTN', 8),\n",
       " (2, 'SB', 9),\n",
       " (3, 'BB', 10),\n",
       " (4, 'UTG', 1),\n",
       " (5, 'CO', 7),\n",
       " (6, 'HJ', 6),\n",
       " (7, 'UTG+1', 2),\n",
       " (8, 'UTG+2', 3),\n",
       " (9, 'MP1', 4),\n",
       " (10, 'MP2', 5)]"
      ]
     },
     "execution_count": 65,
     "metadata": {},
     "output_type": "execute_result"
    }
   ],
   "source": [
    "POSITIONS_SORTED_BY_IMPORTANCE = sorted(MAX_POSITIONS, key=lambda tup: tup[0])\n",
    "POSITIONS_SORTED_BY_IMPORTANCE"
   ]
  },
  {
   "cell_type": "code",
   "execution_count": 66,
   "metadata": {},
   "outputs": [
    {
     "data": {
      "text/plain": [
       "[(1, 'BTN', 8),\n",
       " (2, 'SB', 9),\n",
       " (3, 'BB', 10),\n",
       " (4, 'UTG', 1),\n",
       " (5, 'CO', 7),\n",
       " (6, 'HJ', 6),\n",
       " (7, 'UTG+1', 2),\n",
       " (8, 'UTG+2', 3),\n",
       " (9, 'MP1', 4),\n",
       " (10, 'MP2', 5)]"
      ]
     },
     "execution_count": 66,
     "metadata": {},
     "output_type": "execute_result"
    }
   ],
   "source": [
    "############NEED THIS TO CALCULATE OPPONENT DATAFRAME\n",
    "ALL_POSITIONS_IN_THIS_GAME = POSITIONS_SORTED_BY_IMPORTANCE[0:TOTAL_ACTIONS[-1]]\n",
    "ALL_POSITIONS_IN_THIS_GAME"
   ]
  },
  {
   "cell_type": "code",
   "execution_count": null,
   "metadata": {},
   "outputs": [],
   "source": []
  },
  {
   "cell_type": "code",
   "execution_count": null,
   "metadata": {},
   "outputs": [],
   "source": []
  },
  {
   "cell_type": "code",
   "execution_count": 67,
   "metadata": {},
   "outputs": [
    {
     "data": {
      "text/plain": [
       "['Stack is <50 Big Blinds',\n",
       " 'Stack is >50 Big Blinds <150',\n",
       " 'Stack is >150 Big Blinds']"
      ]
     },
     "execution_count": 67,
     "metadata": {},
     "output_type": "execute_result"
    }
   ],
   "source": [
    "STACK_SIZES_POSSIBLE = ['Stack is <50 Big Blinds',\n",
    "                       'Stack is >50 Big Blinds <150',\n",
    "                       'Stack is >150 Big Blinds']\n",
    "STACK_SIZES_POSSIBLE"
   ]
  },
  {
   "cell_type": "code",
   "execution_count": 68,
   "metadata": {},
   "outputs": [
    {
     "data": {
      "text/plain": [
       "['Stack is <50 Big Blinds',\n",
       " 'Stack is >150 Big Blinds',\n",
       " 'Stack is >50 Big Blinds <150',\n",
       " 'Stack is >150 Big Blinds',\n",
       " 'Stack is <50 Big Blinds',\n",
       " 'Stack is >150 Big Blinds',\n",
       " 'Stack is <50 Big Blinds',\n",
       " 'Stack is >50 Big Blinds <150',\n",
       " 'Stack is <50 Big Blinds',\n",
       " 'Stack is <50 Big Blinds']"
      ]
     },
     "execution_count": 68,
     "metadata": {},
     "output_type": "execute_result"
    }
   ],
   "source": [
    "########NEED THIS TO CALCULATE OPPONENT DATAFRAME\n",
    "\n",
    "from random import choices\n",
    "\n",
    "ALL_STACK_SIZES = choices(STACK_SIZES_POSSIBLE,\n",
    "                          k=NUMBER_OF_PLAYERS[0])\n",
    "ALL_STACK_SIZES"
   ]
  },
  {
   "cell_type": "code",
   "execution_count": null,
   "metadata": {},
   "outputs": [],
   "source": []
  },
  {
   "cell_type": "code",
   "execution_count": 69,
   "metadata": {},
   "outputs": [
    {
     "data": {
      "text/plain": [
       "{((1, 'BTN', 8), 'Stack is <50 Big Blinds'),\n",
       " ((2, 'SB', 9), 'Stack is >150 Big Blinds'),\n",
       " ((3, 'BB', 10), 'Stack is >50 Big Blinds <150'),\n",
       " ((4, 'UTG', 1), 'Stack is >150 Big Blinds'),\n",
       " ((5, 'CO', 7), 'Stack is <50 Big Blinds'),\n",
       " ((6, 'HJ', 6), 'Stack is >150 Big Blinds'),\n",
       " ((7, 'UTG+1', 2), 'Stack is <50 Big Blinds'),\n",
       " ((8, 'UTG+2', 3), 'Stack is >50 Big Blinds <150'),\n",
       " ((9, 'MP1', 4), 'Stack is <50 Big Blinds'),\n",
       " ((10, 'MP2', 5), 'Stack is <50 Big Blinds')}"
      ]
     },
     "execution_count": 69,
     "metadata": {},
     "output_type": "execute_result"
    }
   ],
   "source": [
    "POSITIONS_STACKS_FLOP = set(zip(ALL_POSITIONS_IN_THIS_GAME,ALL_STACK_SIZES))\n",
    "POSITIONS_STACKS_FLOP"
   ]
  },
  {
   "cell_type": "code",
   "execution_count": 70,
   "metadata": {},
   "outputs": [
    {
     "name": "stdout",
     "output_type": "stream",
     "text": [
      "{(10, 'MP2', 5): ['Stack is <50 Big Blinds'], (3, 'BB', 10): ['Stack is >50 Big Blinds <150'], (1, 'BTN', 8): ['Stack is <50 Big Blinds'], (5, 'CO', 7): ['Stack is <50 Big Blinds'], (9, 'MP1', 4): ['Stack is <50 Big Blinds'], (7, 'UTG+1', 2): ['Stack is <50 Big Blinds'], (4, 'UTG', 1): ['Stack is >150 Big Blinds'], (2, 'SB', 9): ['Stack is >150 Big Blinds'], (8, 'UTG+2', 3): ['Stack is >50 Big Blinds <150'], (6, 'HJ', 6): ['Stack is >150 Big Blinds']}\n"
     ]
    }
   ],
   "source": [
    "def Convert(tup, di): \n",
    "    for a, b in tup: \n",
    "        di.setdefault(a, []).append(b) \n",
    "    return di\n",
    "\n",
    "dictionary = {}\n",
    "print (Convert(POSITIONS_STACKS_FLOP, dictionary))"
   ]
  },
  {
   "cell_type": "code",
   "execution_count": 71,
   "metadata": {},
   "outputs": [
    {
     "data": {
      "text/plain": [
       "[(4, 'UTG', 1),\n",
       " (7, 'UTG+1', 2),\n",
       " (8, 'UTG+2', 3),\n",
       " (9, 'MP1', 4),\n",
       " (10, 'MP2', 5),\n",
       " (6, 'HJ', 6),\n",
       " (5, 'CO', 7),\n",
       " (1, 'BTN', 8),\n",
       " (2, 'SB', 9),\n",
       " (3, 'BB', 10)]"
      ]
     },
     "execution_count": 71,
     "metadata": {},
     "output_type": "execute_result"
    }
   ],
   "source": [
    "UTG_FIRST_POSITIONS"
   ]
  },
  {
   "cell_type": "code",
   "execution_count": 72,
   "metadata": {},
   "outputs": [
    {
     "data": {
      "text/plain": [
       "{((1, 'BTN', 8), 'Stack is >50 Big Blinds <150'),\n",
       " ((2, 'SB', 9), 'Stack is <50 Big Blinds'),\n",
       " ((3, 'BB', 10), 'Stack is <50 Big Blinds'),\n",
       " ((4, 'UTG', 1), 'Stack is <50 Big Blinds'),\n",
       " ((5, 'CO', 7), 'Stack is <50 Big Blinds'),\n",
       " ((6, 'HJ', 6), 'Stack is >150 Big Blinds'),\n",
       " ((7, 'UTG+1', 2), 'Stack is >150 Big Blinds'),\n",
       " ((8, 'UTG+2', 3), 'Stack is >50 Big Blinds <150'),\n",
       " ((9, 'MP1', 4), 'Stack is >150 Big Blinds'),\n",
       " ((10, 'MP2', 5), 'Stack is <50 Big Blinds')}"
      ]
     },
     "execution_count": 72,
     "metadata": {},
     "output_type": "execute_result"
    }
   ],
   "source": [
    "UTG_FIRST_POSITIONS_STACKS_PREFLOP = set(zip(UTG_FIRST_POSITIONS , ALL_STACK_SIZES))\n",
    "UTG_FIRST_POSITIONS_STACKS_PREFLOP"
   ]
  },
  {
   "cell_type": "code",
   "execution_count": null,
   "metadata": {},
   "outputs": [],
   "source": []
  },
  {
   "cell_type": "code",
   "execution_count": 73,
   "metadata": {},
   "outputs": [
    {
     "data": {
      "text/plain": [
       "['fold', 'check', 'call', 'bet small', 'bet medium', 'bet large']"
      ]
     },
     "execution_count": 73,
     "metadata": {},
     "output_type": "execute_result"
    }
   ],
   "source": [
    "OPPONENT_ACTIONS_POSSIBLE = ['fold','check','call',\n",
    "                    'bet small',\n",
    "                    'bet medium',\n",
    "                    'bet large']\n",
    "                   #'YOUR MOVE']\n",
    "OPPONENT_ACTIONS_POSSIBLE"
   ]
  },
  {
   "cell_type": "code",
   "execution_count": 74,
   "metadata": {},
   "outputs": [
    {
     "data": {
      "text/plain": [
       "{'bet large': ['StreetBegins', 'fold', 'check', 'call', 'bet small'],\n",
       " 'bet medium': ['StreetBegins', 'fold', 'check', 'call'],\n",
       " 'bet small': ['StreetBegins', 'check', 'fold'],\n",
       " 'call': ['bet small', 'bet medium', 'bet large', 'fold'],\n",
       " 'check': ['StreetBegins', 'check'],\n",
       " 'fold': ['bet small', 'call', 'bet medium', 'bet large'],\n",
       " 'zero': [0]}"
      ]
     },
     "execution_count": 74,
     "metadata": {},
     "output_type": "execute_result"
    }
   ],
   "source": [
    "OPTIONAL_MOVES_PREVIOUS_POSSIBLE_MOVES = {\n",
    " 'zero':[0],\n",
    " 'fold':['bet small','call','bet medium','bet large'],\n",
    " 'check':['StreetBegins','check'],\n",
    " 'bet small':['StreetBegins','check','fold'],\n",
    " 'call':['bet small','bet medium','bet large','fold'],\n",
    " 'bet medium':['StreetBegins','fold','check','call'],\n",
    " 'bet large':['StreetBegins','fold','check','call','bet small']\n",
    "}\n",
    "\n",
    "OPTIONAL_MOVES_PREVIOUS_POSSIBLE_MOVES"
   ]
  },
  {
   "cell_type": "code",
   "execution_count": 75,
   "metadata": {},
   "outputs": [
    {
     "data": {
      "text/plain": [
       "{'check': ['StreetBegins', 'check']}"
      ]
     },
     "execution_count": 75,
     "metadata": {},
     "output_type": "execute_result"
    }
   ],
   "source": [
    "FOLD_GIVEN_PREVIOUS_MOVES = {'fold':['bet small','call','bet medium','bet large']}\n",
    "CHECK_GIVEN_PREVIOUS_MOVES = {'check':['StreetBegins','check']}\n",
    "BET_SMALL_GIVEN_PREVIOUS_MOVES = {'bet small':['StreetBegins','check','fold'],}\n",
    "CALL_GIVEN_PREVIOUS_MOVES = {'call':['bet small','bet medium','bet large','fold'],}\n",
    "BET_MEDIUM_GIVEN_PREVIOUS_MOVES = {'bet medium':['StreetBegins','fold','check','call'],}\n",
    "BET_LARGE_GIVEN_PREVIOUS_MOVES = {'bet large':['StreetBegins','fold','check','call','bet small']}\n",
    "ALL_IN_GIVEN_PREVIOUS_MOVES = {'all-in':['StreetBegins','fold','check','call','bet small']}\n",
    "\n",
    "CHECK_GIVEN_PREVIOUS_MOVES"
   ]
  },
  {
   "cell_type": "code",
   "execution_count": 76,
   "metadata": {},
   "outputs": [
    {
     "data": {
      "text/plain": [
       "{'All-In': ['Fold', 'Call', 'Fold', 'Call', 'Fold', 'All-In'],\n",
       " 'Bet Large': ['Fold', 'Call', 'Call', 'All-In', 'Call', 'Fold'],\n",
       " 'Bet Medium': ['Fold', 'Call', 'Bet Large', 'All-In', 'Call', 'Fold'],\n",
       " 'Bet Small': ['Fold', 'Call', 'Bet Medium', 'Bet Large', 'All-In', 'Call'],\n",
       " 'Call': ['Fold', 'Call', 'Bet Medium', 'Bet Large', 'All-In', 'Call'],\n",
       " 'Check': ['Fold', 'Check', 'Bet Small', 'Bet Medium', 'Bet Large', 'All-In'],\n",
       " 'Fold': ['Fold', 'Call', 'Bet Small', 'Bet Medium', 'Bet Large', 'All-In'],\n",
       " 'StreetBegins': ['Check',\n",
       "  'Bet Small',\n",
       "  'Bet Medium',\n",
       "  'Bet Large',\n",
       "  'All-In',\n",
       "  'Check']}"
      ]
     },
     "execution_count": 76,
     "metadata": {},
     "output_type": "execute_result"
    }
   ],
   "source": [
    "Dictionary_Of_Possible_Bets = {\n",
    "'StreetBegins' : ['Check','Bet Small','Bet Medium','Bet Large','All-In','Check'],\n",
    "'Check': ['Fold','Check','Bet Small','Bet Medium','Bet Large','All-In'],                           \n",
    "'Bet Small' : ['Fold','Call','Bet Medium','Bet Large','All-In','Call'],\n",
    "'Call' : ['Fold','Call','Bet Medium','Bet Large','All-In','Call'],\n",
    "'Bet Medium' : ['Fold','Call','Bet Large','All-In','Call','Fold'],\n",
    "'Bet Large' : ['Fold','Call','Call','All-In','Call','Fold'],\n",
    "'Fold' : ['Fold','Call','Bet Small','Bet Medium','Bet Large','All-In'],\n",
    "'All-In' : ['Fold','Call','Fold','Call','Fold','All-In']\n",
    "                                }\n",
    "Dictionary_Of_Possible_Bets\n",
    "                               \n"
   ]
  },
  {
   "cell_type": "code",
   "execution_count": 77,
   "metadata": {},
   "outputs": [
    {
     "data": {
      "text/html": [
       "<div>\n",
       "<style scoped>\n",
       "    .dataframe tbody tr th:only-of-type {\n",
       "        vertical-align: middle;\n",
       "    }\n",
       "\n",
       "    .dataframe tbody tr th {\n",
       "        vertical-align: top;\n",
       "    }\n",
       "\n",
       "    .dataframe thead th {\n",
       "        text-align: right;\n",
       "    }\n",
       "</style>\n",
       "<table border=\"1\" class=\"dataframe\">\n",
       "  <thead>\n",
       "    <tr style=\"text-align: right;\">\n",
       "      <th></th>\n",
       "      <th>Possibility 1</th>\n",
       "      <th>Possibility 2</th>\n",
       "      <th>Possibility 3</th>\n",
       "      <th>Possibility 4</th>\n",
       "      <th>Possibility 5</th>\n",
       "      <th>Possibility 6</th>\n",
       "    </tr>\n",
       "  </thead>\n",
       "  <tbody>\n",
       "    <tr>\n",
       "      <th>StreetBegins</th>\n",
       "      <td>Check</td>\n",
       "      <td>Bet Small</td>\n",
       "      <td>Bet Medium</td>\n",
       "      <td>Bet Large</td>\n",
       "      <td>All-In</td>\n",
       "      <td>Check</td>\n",
       "    </tr>\n",
       "    <tr>\n",
       "      <th>Check</th>\n",
       "      <td>Fold</td>\n",
       "      <td>Check</td>\n",
       "      <td>Bet Small</td>\n",
       "      <td>Bet Medium</td>\n",
       "      <td>Bet Large</td>\n",
       "      <td>All-In</td>\n",
       "    </tr>\n",
       "    <tr>\n",
       "      <th>Bet Small</th>\n",
       "      <td>Fold</td>\n",
       "      <td>Call</td>\n",
       "      <td>Bet Medium</td>\n",
       "      <td>Bet Large</td>\n",
       "      <td>All-In</td>\n",
       "      <td>Call</td>\n",
       "    </tr>\n",
       "    <tr>\n",
       "      <th>Call</th>\n",
       "      <td>Fold</td>\n",
       "      <td>Call</td>\n",
       "      <td>Bet Medium</td>\n",
       "      <td>Bet Large</td>\n",
       "      <td>All-In</td>\n",
       "      <td>Call</td>\n",
       "    </tr>\n",
       "    <tr>\n",
       "      <th>Bet Medium</th>\n",
       "      <td>Fold</td>\n",
       "      <td>Call</td>\n",
       "      <td>Bet Large</td>\n",
       "      <td>All-In</td>\n",
       "      <td>Call</td>\n",
       "      <td>Fold</td>\n",
       "    </tr>\n",
       "    <tr>\n",
       "      <th>Bet Large</th>\n",
       "      <td>Fold</td>\n",
       "      <td>Call</td>\n",
       "      <td>Call</td>\n",
       "      <td>All-In</td>\n",
       "      <td>Call</td>\n",
       "      <td>Fold</td>\n",
       "    </tr>\n",
       "    <tr>\n",
       "      <th>Fold</th>\n",
       "      <td>Fold</td>\n",
       "      <td>Call</td>\n",
       "      <td>Bet Small</td>\n",
       "      <td>Bet Medium</td>\n",
       "      <td>Bet Large</td>\n",
       "      <td>All-In</td>\n",
       "    </tr>\n",
       "    <tr>\n",
       "      <th>All-In</th>\n",
       "      <td>Fold</td>\n",
       "      <td>Call</td>\n",
       "      <td>Fold</td>\n",
       "      <td>Call</td>\n",
       "      <td>Fold</td>\n",
       "      <td>All-In</td>\n",
       "    </tr>\n",
       "  </tbody>\n",
       "</table>\n",
       "</div>"
      ],
      "text/plain": [
       "             Possibility 1 Possibility 2 Possibility 3 Possibility 4  \\\n",
       "StreetBegins         Check     Bet Small    Bet Medium     Bet Large   \n",
       "Check                 Fold         Check     Bet Small    Bet Medium   \n",
       "Bet Small             Fold          Call    Bet Medium     Bet Large   \n",
       "Call                  Fold          Call    Bet Medium     Bet Large   \n",
       "Bet Medium            Fold          Call     Bet Large        All-In   \n",
       "Bet Large             Fold          Call          Call        All-In   \n",
       "Fold                  Fold          Call     Bet Small    Bet Medium   \n",
       "All-In                Fold          Call          Fold          Call   \n",
       "\n",
       "             Possibility 5 Possibility 6  \n",
       "StreetBegins        All-In         Check  \n",
       "Check            Bet Large        All-In  \n",
       "Bet Small           All-In          Call  \n",
       "Call                All-In          Call  \n",
       "Bet Medium            Call          Fold  \n",
       "Bet Large             Call          Fold  \n",
       "Fold             Bet Large        All-In  \n",
       "All-In                Fold        All-In  "
      ]
     },
     "execution_count": 77,
     "metadata": {},
     "output_type": "execute_result"
    }
   ],
   "source": [
    "dfPossibleBets = pd.DataFrame.from_dict(Dictionary_Of_Possible_Bets,orient='index')\n",
    "dfPossibleBets.fillna(value=pd.np.nan, inplace=True)\n",
    "dfPossibleBets.columns = ['Possibility 1','Possibility 2','Possibility 3','Possibility 4','Possibility 5','Possibility 6']\n",
    "# dfPossibleBets['Random Selections'] = \"Placeholder\"\n",
    "dfPossibleBets"
   ]
  },
  {
   "cell_type": "code",
   "execution_count": 78,
   "metadata": {},
   "outputs": [],
   "source": [
    "# dfPossibleBets['Impossible Previous Bet'] = ['Fold', 'ALL BETS POSSIBLE AFTER CHECK', '']"
   ]
  },
  {
   "cell_type": "code",
   "execution_count": 79,
   "metadata": {},
   "outputs": [
    {
     "data": {
      "text/plain": [
       "Possibility 1          Fold\n",
       "Possibility 2          Call\n",
       "Possibility 3    Bet Medium\n",
       "Possibility 4     Bet Large\n",
       "Possibility 5        All-In\n",
       "Possibility 6          Call\n",
       "Name: Call, dtype: object"
      ]
     },
     "execution_count": 79,
     "metadata": {},
     "output_type": "execute_result"
    }
   ],
   "source": [
    "dfPossibleBets.loc['Call']"
   ]
  },
  {
   "cell_type": "code",
   "execution_count": 80,
   "metadata": {},
   "outputs": [
    {
     "data": {
      "text/plain": [
       "array([['Check', 'Bet Small', 'Bet Medium', 'Bet Large', 'All-In',\n",
       "        'Check'],\n",
       "       ['Fold', 'Check', 'Bet Small', 'Bet Medium', 'Bet Large',\n",
       "        'All-In'],\n",
       "       ['Fold', 'Call', 'Bet Medium', 'Bet Large', 'All-In', 'Call'],\n",
       "       ['Fold', 'Call', 'Bet Medium', 'Bet Large', 'All-In', 'Call'],\n",
       "       ['Fold', 'Call', 'Bet Large', 'All-In', 'Call', 'Fold'],\n",
       "       ['Fold', 'Call', 'Call', 'All-In', 'Call', 'Fold'],\n",
       "       ['Fold', 'Call', 'Bet Small', 'Bet Medium', 'Bet Large', 'All-In'],\n",
       "       ['Fold', 'Call', 'Fold', 'Call', 'Fold', 'All-In']], dtype=object)"
      ]
     },
     "execution_count": 80,
     "metadata": {},
     "output_type": "execute_result"
    }
   ],
   "source": [
    "dfPossibleBets.values"
   ]
  },
  {
   "cell_type": "code",
   "execution_count": 81,
   "metadata": {},
   "outputs": [
    {
     "data": {
      "text/plain": [
       "0     Check\n",
       "1      Fold\n",
       "2      Call\n",
       "3      Call\n",
       "4    All-In\n",
       "5      Call\n",
       "6      Call\n",
       "7      Call\n",
       "dtype: object"
      ]
     },
     "execution_count": 81,
     "metadata": {},
     "output_type": "execute_result"
    }
   ],
   "source": [
    "import numpy as np\n",
    "random_selections = pd.Series([np.random.choice(i,1)[0] for i in dfPossibleBets.values])# if str(i) != 'NaN'])\n",
    "random_selections"
   ]
  },
  {
   "cell_type": "code",
   "execution_count": 82,
   "metadata": {},
   "outputs": [
    {
     "data": {
      "text/plain": [
       "['Check', 'Fold', 'Call', 'Call', 'All-In', 'Call', 'Call', 'Call']"
      ]
     },
     "execution_count": 82,
     "metadata": {},
     "output_type": "execute_result"
    }
   ],
   "source": [
    "random_selections_list = random_selections.tolist()\n",
    "random_selections_list"
   ]
  },
  {
   "cell_type": "code",
   "execution_count": 83,
   "metadata": {},
   "outputs": [
    {
     "data": {
      "text/html": [
       "<div>\n",
       "<style scoped>\n",
       "    .dataframe tbody tr th:only-of-type {\n",
       "        vertical-align: middle;\n",
       "    }\n",
       "\n",
       "    .dataframe tbody tr th {\n",
       "        vertical-align: top;\n",
       "    }\n",
       "\n",
       "    .dataframe thead th {\n",
       "        text-align: right;\n",
       "    }\n",
       "</style>\n",
       "<table border=\"1\" class=\"dataframe\">\n",
       "  <thead>\n",
       "    <tr style=\"text-align: right;\">\n",
       "      <th></th>\n",
       "      <th>Possibility 1</th>\n",
       "      <th>Possibility 2</th>\n",
       "      <th>Possibility 3</th>\n",
       "      <th>Possibility 4</th>\n",
       "      <th>Possibility 5</th>\n",
       "      <th>Possibility 6</th>\n",
       "      <th>Random Selections 1</th>\n",
       "    </tr>\n",
       "  </thead>\n",
       "  <tbody>\n",
       "    <tr>\n",
       "      <th>StreetBegins</th>\n",
       "      <td>Check</td>\n",
       "      <td>Bet Small</td>\n",
       "      <td>Bet Medium</td>\n",
       "      <td>Bet Large</td>\n",
       "      <td>All-In</td>\n",
       "      <td>Check</td>\n",
       "      <td>Check</td>\n",
       "    </tr>\n",
       "    <tr>\n",
       "      <th>Check</th>\n",
       "      <td>Fold</td>\n",
       "      <td>Check</td>\n",
       "      <td>Bet Small</td>\n",
       "      <td>Bet Medium</td>\n",
       "      <td>Bet Large</td>\n",
       "      <td>All-In</td>\n",
       "      <td>Fold</td>\n",
       "    </tr>\n",
       "    <tr>\n",
       "      <th>Bet Small</th>\n",
       "      <td>Fold</td>\n",
       "      <td>Call</td>\n",
       "      <td>Bet Medium</td>\n",
       "      <td>Bet Large</td>\n",
       "      <td>All-In</td>\n",
       "      <td>Call</td>\n",
       "      <td>Call</td>\n",
       "    </tr>\n",
       "    <tr>\n",
       "      <th>Call</th>\n",
       "      <td>Fold</td>\n",
       "      <td>Call</td>\n",
       "      <td>Bet Medium</td>\n",
       "      <td>Bet Large</td>\n",
       "      <td>All-In</td>\n",
       "      <td>Call</td>\n",
       "      <td>Call</td>\n",
       "    </tr>\n",
       "    <tr>\n",
       "      <th>Bet Medium</th>\n",
       "      <td>Fold</td>\n",
       "      <td>Call</td>\n",
       "      <td>Bet Large</td>\n",
       "      <td>All-In</td>\n",
       "      <td>Call</td>\n",
       "      <td>Fold</td>\n",
       "      <td>All-In</td>\n",
       "    </tr>\n",
       "    <tr>\n",
       "      <th>Bet Large</th>\n",
       "      <td>Fold</td>\n",
       "      <td>Call</td>\n",
       "      <td>Call</td>\n",
       "      <td>All-In</td>\n",
       "      <td>Call</td>\n",
       "      <td>Fold</td>\n",
       "      <td>Call</td>\n",
       "    </tr>\n",
       "    <tr>\n",
       "      <th>Fold</th>\n",
       "      <td>Fold</td>\n",
       "      <td>Call</td>\n",
       "      <td>Bet Small</td>\n",
       "      <td>Bet Medium</td>\n",
       "      <td>Bet Large</td>\n",
       "      <td>All-In</td>\n",
       "      <td>Call</td>\n",
       "    </tr>\n",
       "    <tr>\n",
       "      <th>All-In</th>\n",
       "      <td>Fold</td>\n",
       "      <td>Call</td>\n",
       "      <td>Fold</td>\n",
       "      <td>Call</td>\n",
       "      <td>Fold</td>\n",
       "      <td>All-In</td>\n",
       "      <td>Call</td>\n",
       "    </tr>\n",
       "  </tbody>\n",
       "</table>\n",
       "</div>"
      ],
      "text/plain": [
       "             Possibility 1 Possibility 2 Possibility 3 Possibility 4  \\\n",
       "StreetBegins         Check     Bet Small    Bet Medium     Bet Large   \n",
       "Check                 Fold         Check     Bet Small    Bet Medium   \n",
       "Bet Small             Fold          Call    Bet Medium     Bet Large   \n",
       "Call                  Fold          Call    Bet Medium     Bet Large   \n",
       "Bet Medium            Fold          Call     Bet Large        All-In   \n",
       "Bet Large             Fold          Call          Call        All-In   \n",
       "Fold                  Fold          Call     Bet Small    Bet Medium   \n",
       "All-In                Fold          Call          Fold          Call   \n",
       "\n",
       "             Possibility 5 Possibility 6 Random Selections 1  \n",
       "StreetBegins        All-In         Check               Check  \n",
       "Check            Bet Large        All-In                Fold  \n",
       "Bet Small           All-In          Call                Call  \n",
       "Call                All-In          Call                Call  \n",
       "Bet Medium            Call          Fold              All-In  \n",
       "Bet Large             Call          Fold                Call  \n",
       "Fold             Bet Large        All-In                Call  \n",
       "All-In                Fold        All-In                Call  "
      ]
     },
     "execution_count": 83,
     "metadata": {},
     "output_type": "execute_result"
    }
   ],
   "source": [
    "dfPossibleBets['Random Selections 1'] = random_selections_list\n",
    "dfRandomSelections = dfPossibleBets.replace(\"Placeholder\",\"NaN\")\n",
    "dfRandomSelections\n"
   ]
  },
  {
   "cell_type": "code",
   "execution_count": 84,
   "metadata": {},
   "outputs": [
    {
     "data": {
      "text/plain": [
       "'StreetBegins'"
      ]
     },
     "execution_count": 84,
     "metadata": {},
     "output_type": "execute_result"
    }
   ],
   "source": [
    "BET0 = 'StreetBegins'\n",
    "BET0"
   ]
  },
  {
   "cell_type": "code",
   "execution_count": 85,
   "metadata": {},
   "outputs": [
    {
     "data": {
      "text/plain": [
       "'Check'"
      ]
     },
     "execution_count": 85,
     "metadata": {},
     "output_type": "execute_result"
    }
   ],
   "source": [
    "BET1 = dfRandomSelections['Random Selections 1'].loc[BET0]\n",
    "dfRandomSelections['Bet #1'] = BET1\n",
    "BET1"
   ]
  },
  {
   "cell_type": "code",
   "execution_count": 86,
   "metadata": {},
   "outputs": [
    {
     "data": {
      "text/html": [
       "<div>\n",
       "<style scoped>\n",
       "    .dataframe tbody tr th:only-of-type {\n",
       "        vertical-align: middle;\n",
       "    }\n",
       "\n",
       "    .dataframe tbody tr th {\n",
       "        vertical-align: top;\n",
       "    }\n",
       "\n",
       "    .dataframe thead th {\n",
       "        text-align: right;\n",
       "    }\n",
       "</style>\n",
       "<table border=\"1\" class=\"dataframe\">\n",
       "  <thead>\n",
       "    <tr style=\"text-align: right;\">\n",
       "      <th></th>\n",
       "      <th>Possibility 1</th>\n",
       "      <th>Possibility 2</th>\n",
       "      <th>Possibility 3</th>\n",
       "      <th>Possibility 4</th>\n",
       "      <th>Possibility 5</th>\n",
       "      <th>Possibility 6</th>\n",
       "      <th>Random Selections 1</th>\n",
       "      <th>Bet #1</th>\n",
       "      <th>Random Selections 2</th>\n",
       "    </tr>\n",
       "  </thead>\n",
       "  <tbody>\n",
       "    <tr>\n",
       "      <th>StreetBegins</th>\n",
       "      <td>Check</td>\n",
       "      <td>Bet Small</td>\n",
       "      <td>Bet Medium</td>\n",
       "      <td>Bet Large</td>\n",
       "      <td>All-In</td>\n",
       "      <td>Check</td>\n",
       "      <td>Check</td>\n",
       "      <td>Check</td>\n",
       "      <td>Check</td>\n",
       "    </tr>\n",
       "    <tr>\n",
       "      <th>Check</th>\n",
       "      <td>Fold</td>\n",
       "      <td>Check</td>\n",
       "      <td>Bet Small</td>\n",
       "      <td>Bet Medium</td>\n",
       "      <td>Bet Large</td>\n",
       "      <td>All-In</td>\n",
       "      <td>Fold</td>\n",
       "      <td>Check</td>\n",
       "      <td>Bet Small</td>\n",
       "    </tr>\n",
       "    <tr>\n",
       "      <th>Bet Small</th>\n",
       "      <td>Fold</td>\n",
       "      <td>Call</td>\n",
       "      <td>Bet Medium</td>\n",
       "      <td>Bet Large</td>\n",
       "      <td>All-In</td>\n",
       "      <td>Call</td>\n",
       "      <td>Call</td>\n",
       "      <td>Check</td>\n",
       "      <td>Call</td>\n",
       "    </tr>\n",
       "    <tr>\n",
       "      <th>Call</th>\n",
       "      <td>Fold</td>\n",
       "      <td>Call</td>\n",
       "      <td>Bet Medium</td>\n",
       "      <td>Bet Large</td>\n",
       "      <td>All-In</td>\n",
       "      <td>Call</td>\n",
       "      <td>Call</td>\n",
       "      <td>Check</td>\n",
       "      <td>Call</td>\n",
       "    </tr>\n",
       "    <tr>\n",
       "      <th>Bet Medium</th>\n",
       "      <td>Fold</td>\n",
       "      <td>Call</td>\n",
       "      <td>Bet Large</td>\n",
       "      <td>All-In</td>\n",
       "      <td>Call</td>\n",
       "      <td>Fold</td>\n",
       "      <td>All-In</td>\n",
       "      <td>Check</td>\n",
       "      <td>Fold</td>\n",
       "    </tr>\n",
       "    <tr>\n",
       "      <th>Bet Large</th>\n",
       "      <td>Fold</td>\n",
       "      <td>Call</td>\n",
       "      <td>Call</td>\n",
       "      <td>All-In</td>\n",
       "      <td>Call</td>\n",
       "      <td>Fold</td>\n",
       "      <td>Call</td>\n",
       "      <td>Check</td>\n",
       "      <td>Fold</td>\n",
       "    </tr>\n",
       "    <tr>\n",
       "      <th>Fold</th>\n",
       "      <td>Fold</td>\n",
       "      <td>Call</td>\n",
       "      <td>Bet Small</td>\n",
       "      <td>Bet Medium</td>\n",
       "      <td>Bet Large</td>\n",
       "      <td>All-In</td>\n",
       "      <td>Call</td>\n",
       "      <td>Check</td>\n",
       "      <td>Call</td>\n",
       "    </tr>\n",
       "    <tr>\n",
       "      <th>All-In</th>\n",
       "      <td>Fold</td>\n",
       "      <td>Call</td>\n",
       "      <td>Fold</td>\n",
       "      <td>Call</td>\n",
       "      <td>Fold</td>\n",
       "      <td>All-In</td>\n",
       "      <td>Call</td>\n",
       "      <td>Check</td>\n",
       "      <td>All-In</td>\n",
       "    </tr>\n",
       "  </tbody>\n",
       "</table>\n",
       "</div>"
      ],
      "text/plain": [
       "             Possibility 1 Possibility 2 Possibility 3 Possibility 4  \\\n",
       "StreetBegins         Check     Bet Small    Bet Medium     Bet Large   \n",
       "Check                 Fold         Check     Bet Small    Bet Medium   \n",
       "Bet Small             Fold          Call    Bet Medium     Bet Large   \n",
       "Call                  Fold          Call    Bet Medium     Bet Large   \n",
       "Bet Medium            Fold          Call     Bet Large        All-In   \n",
       "Bet Large             Fold          Call          Call        All-In   \n",
       "Fold                  Fold          Call     Bet Small    Bet Medium   \n",
       "All-In                Fold          Call          Fold          Call   \n",
       "\n",
       "             Possibility 5 Possibility 6 Random Selections 1 Bet #1  \\\n",
       "StreetBegins        All-In         Check               Check  Check   \n",
       "Check            Bet Large        All-In                Fold  Check   \n",
       "Bet Small           All-In          Call                Call  Check   \n",
       "Call                All-In          Call                Call  Check   \n",
       "Bet Medium            Call          Fold              All-In  Check   \n",
       "Bet Large             Call          Fold                Call  Check   \n",
       "Fold             Bet Large        All-In                Call  Check   \n",
       "All-In                Fold        All-In                Call  Check   \n",
       "\n",
       "             Random Selections 2  \n",
       "StreetBegins               Check  \n",
       "Check                  Bet Small  \n",
       "Bet Small                   Call  \n",
       "Call                        Call  \n",
       "Bet Medium                  Fold  \n",
       "Bet Large                   Fold  \n",
       "Fold                        Call  \n",
       "All-In                    All-In  "
      ]
     },
     "execution_count": 86,
     "metadata": {},
     "output_type": "execute_result"
    }
   ],
   "source": [
    "random_selections_list_2 = pd.Series([np.random.choice(i,1)[0] for i in dfPossibleBets.values]).tolist()# if str(i) != 'NaN'])\n",
    "dfRandomSelections['Random Selections 2'] = random_selections_list_2\n",
    "dfRandomSelections\n"
   ]
  },
  {
   "cell_type": "code",
   "execution_count": 87,
   "metadata": {},
   "outputs": [
    {
     "data": {
      "text/plain": [
       "'Bet Small'"
      ]
     },
     "execution_count": 87,
     "metadata": {},
     "output_type": "execute_result"
    }
   ],
   "source": [
    "BET2 = dfRandomSelections['Random Selections 2'].loc[BET1]\n",
    "dfRandomSelections['Bet #2'] = BET2\n",
    "BET2\n"
   ]
  },
  {
   "cell_type": "code",
   "execution_count": 88,
   "metadata": {},
   "outputs": [
    {
     "data": {
      "text/html": [
       "<div>\n",
       "<style scoped>\n",
       "    .dataframe tbody tr th:only-of-type {\n",
       "        vertical-align: middle;\n",
       "    }\n",
       "\n",
       "    .dataframe tbody tr th {\n",
       "        vertical-align: top;\n",
       "    }\n",
       "\n",
       "    .dataframe thead th {\n",
       "        text-align: right;\n",
       "    }\n",
       "</style>\n",
       "<table border=\"1\" class=\"dataframe\">\n",
       "  <thead>\n",
       "    <tr style=\"text-align: right;\">\n",
       "      <th></th>\n",
       "      <th>Possibility 1</th>\n",
       "      <th>Possibility 2</th>\n",
       "      <th>Possibility 3</th>\n",
       "      <th>Possibility 4</th>\n",
       "      <th>Possibility 5</th>\n",
       "      <th>Possibility 6</th>\n",
       "      <th>Random Selections 1</th>\n",
       "      <th>Bet #1</th>\n",
       "      <th>Random Selections 2</th>\n",
       "      <th>Bet #2</th>\n",
       "      <th>Random Selections 3</th>\n",
       "    </tr>\n",
       "  </thead>\n",
       "  <tbody>\n",
       "    <tr>\n",
       "      <th>StreetBegins</th>\n",
       "      <td>Check</td>\n",
       "      <td>Bet Small</td>\n",
       "      <td>Bet Medium</td>\n",
       "      <td>Bet Large</td>\n",
       "      <td>All-In</td>\n",
       "      <td>Check</td>\n",
       "      <td>Check</td>\n",
       "      <td>Check</td>\n",
       "      <td>Check</td>\n",
       "      <td>Bet Small</td>\n",
       "      <td>Check</td>\n",
       "    </tr>\n",
       "    <tr>\n",
       "      <th>Check</th>\n",
       "      <td>Fold</td>\n",
       "      <td>Check</td>\n",
       "      <td>Bet Small</td>\n",
       "      <td>Bet Medium</td>\n",
       "      <td>Bet Large</td>\n",
       "      <td>All-In</td>\n",
       "      <td>Fold</td>\n",
       "      <td>Check</td>\n",
       "      <td>Bet Small</td>\n",
       "      <td>Bet Small</td>\n",
       "      <td>Fold</td>\n",
       "    </tr>\n",
       "    <tr>\n",
       "      <th>Bet Small</th>\n",
       "      <td>Fold</td>\n",
       "      <td>Call</td>\n",
       "      <td>Bet Medium</td>\n",
       "      <td>Bet Large</td>\n",
       "      <td>All-In</td>\n",
       "      <td>Call</td>\n",
       "      <td>Call</td>\n",
       "      <td>Check</td>\n",
       "      <td>Call</td>\n",
       "      <td>Bet Small</td>\n",
       "      <td>Fold</td>\n",
       "    </tr>\n",
       "    <tr>\n",
       "      <th>Call</th>\n",
       "      <td>Fold</td>\n",
       "      <td>Call</td>\n",
       "      <td>Bet Medium</td>\n",
       "      <td>Bet Large</td>\n",
       "      <td>All-In</td>\n",
       "      <td>Call</td>\n",
       "      <td>Call</td>\n",
       "      <td>Check</td>\n",
       "      <td>Call</td>\n",
       "      <td>Bet Small</td>\n",
       "      <td>All-In</td>\n",
       "    </tr>\n",
       "    <tr>\n",
       "      <th>Bet Medium</th>\n",
       "      <td>Fold</td>\n",
       "      <td>Call</td>\n",
       "      <td>Bet Large</td>\n",
       "      <td>All-In</td>\n",
       "      <td>Call</td>\n",
       "      <td>Fold</td>\n",
       "      <td>All-In</td>\n",
       "      <td>Check</td>\n",
       "      <td>Fold</td>\n",
       "      <td>Bet Small</td>\n",
       "      <td>All-In</td>\n",
       "    </tr>\n",
       "    <tr>\n",
       "      <th>Bet Large</th>\n",
       "      <td>Fold</td>\n",
       "      <td>Call</td>\n",
       "      <td>Call</td>\n",
       "      <td>All-In</td>\n",
       "      <td>Call</td>\n",
       "      <td>Fold</td>\n",
       "      <td>Call</td>\n",
       "      <td>Check</td>\n",
       "      <td>Fold</td>\n",
       "      <td>Bet Small</td>\n",
       "      <td>Call</td>\n",
       "    </tr>\n",
       "    <tr>\n",
       "      <th>Fold</th>\n",
       "      <td>Fold</td>\n",
       "      <td>Call</td>\n",
       "      <td>Bet Small</td>\n",
       "      <td>Bet Medium</td>\n",
       "      <td>Bet Large</td>\n",
       "      <td>All-In</td>\n",
       "      <td>Call</td>\n",
       "      <td>Check</td>\n",
       "      <td>Call</td>\n",
       "      <td>Bet Small</td>\n",
       "      <td>Call</td>\n",
       "    </tr>\n",
       "    <tr>\n",
       "      <th>All-In</th>\n",
       "      <td>Fold</td>\n",
       "      <td>Call</td>\n",
       "      <td>Fold</td>\n",
       "      <td>Call</td>\n",
       "      <td>Fold</td>\n",
       "      <td>All-In</td>\n",
       "      <td>Call</td>\n",
       "      <td>Check</td>\n",
       "      <td>All-In</td>\n",
       "      <td>Bet Small</td>\n",
       "      <td>Call</td>\n",
       "    </tr>\n",
       "  </tbody>\n",
       "</table>\n",
       "</div>"
      ],
      "text/plain": [
       "             Possibility 1 Possibility 2 Possibility 3 Possibility 4  \\\n",
       "StreetBegins         Check     Bet Small    Bet Medium     Bet Large   \n",
       "Check                 Fold         Check     Bet Small    Bet Medium   \n",
       "Bet Small             Fold          Call    Bet Medium     Bet Large   \n",
       "Call                  Fold          Call    Bet Medium     Bet Large   \n",
       "Bet Medium            Fold          Call     Bet Large        All-In   \n",
       "Bet Large             Fold          Call          Call        All-In   \n",
       "Fold                  Fold          Call     Bet Small    Bet Medium   \n",
       "All-In                Fold          Call          Fold          Call   \n",
       "\n",
       "             Possibility 5 Possibility 6 Random Selections 1 Bet #1  \\\n",
       "StreetBegins        All-In         Check               Check  Check   \n",
       "Check            Bet Large        All-In                Fold  Check   \n",
       "Bet Small           All-In          Call                Call  Check   \n",
       "Call                All-In          Call                Call  Check   \n",
       "Bet Medium            Call          Fold              All-In  Check   \n",
       "Bet Large             Call          Fold                Call  Check   \n",
       "Fold             Bet Large        All-In                Call  Check   \n",
       "All-In                Fold        All-In                Call  Check   \n",
       "\n",
       "             Random Selections 2     Bet #2 Random Selections 3  \n",
       "StreetBegins               Check  Bet Small               Check  \n",
       "Check                  Bet Small  Bet Small                Fold  \n",
       "Bet Small                   Call  Bet Small                Fold  \n",
       "Call                        Call  Bet Small              All-In  \n",
       "Bet Medium                  Fold  Bet Small              All-In  \n",
       "Bet Large                   Fold  Bet Small                Call  \n",
       "Fold                        Call  Bet Small                Call  \n",
       "All-In                    All-In  Bet Small                Call  "
      ]
     },
     "execution_count": 88,
     "metadata": {},
     "output_type": "execute_result"
    }
   ],
   "source": [
    "random_selections_list_3 = pd.Series([np.random.choice(i,1)[0] for i in dfPossibleBets.values]).tolist()# if str(i) != 'NaN'])\n",
    "dfRandomSelections['Random Selections 3'] = random_selections_list_3\n",
    "dfRandomSelections"
   ]
  },
  {
   "cell_type": "code",
   "execution_count": 89,
   "metadata": {},
   "outputs": [
    {
     "data": {
      "text/plain": [
       "'Fold'"
      ]
     },
     "execution_count": 89,
     "metadata": {},
     "output_type": "execute_result"
    }
   ],
   "source": [
    "BET3 = dfRandomSelections['Random Selections 3'].loc[BET2]\n",
    "dfRandomSelections['Bet #3'] = BET3\n",
    "BET3"
   ]
  },
  {
   "cell_type": "code",
   "execution_count": 90,
   "metadata": {
    "scrolled": true
   },
   "outputs": [
    {
     "data": {
      "text/html": [
       "<div>\n",
       "<style scoped>\n",
       "    .dataframe tbody tr th:only-of-type {\n",
       "        vertical-align: middle;\n",
       "    }\n",
       "\n",
       "    .dataframe tbody tr th {\n",
       "        vertical-align: top;\n",
       "    }\n",
       "\n",
       "    .dataframe thead th {\n",
       "        text-align: right;\n",
       "    }\n",
       "</style>\n",
       "<table border=\"1\" class=\"dataframe\">\n",
       "  <thead>\n",
       "    <tr style=\"text-align: right;\">\n",
       "      <th></th>\n",
       "      <th>Possibility 1</th>\n",
       "      <th>Possibility 2</th>\n",
       "      <th>Possibility 3</th>\n",
       "      <th>Possibility 4</th>\n",
       "      <th>Possibility 5</th>\n",
       "      <th>Possibility 6</th>\n",
       "      <th>Random Selections 1</th>\n",
       "      <th>Bet #1</th>\n",
       "      <th>Random Selections 2</th>\n",
       "      <th>Bet #2</th>\n",
       "      <th>...</th>\n",
       "      <th>Random Selections 11</th>\n",
       "      <th>Bet #11</th>\n",
       "      <th>Random Selections 12</th>\n",
       "      <th>Bet #12</th>\n",
       "      <th>Random Selections 13</th>\n",
       "      <th>Bet #13</th>\n",
       "      <th>Random Selections 14</th>\n",
       "      <th>Bet #14</th>\n",
       "      <th>Random Selections 15</th>\n",
       "      <th>Bet #15</th>\n",
       "    </tr>\n",
       "  </thead>\n",
       "  <tbody>\n",
       "    <tr>\n",
       "      <th>StreetBegins</th>\n",
       "      <td>Check</td>\n",
       "      <td>Bet Small</td>\n",
       "      <td>Bet Medium</td>\n",
       "      <td>Bet Large</td>\n",
       "      <td>All-In</td>\n",
       "      <td>Check</td>\n",
       "      <td>Check</td>\n",
       "      <td>Check</td>\n",
       "      <td>Check</td>\n",
       "      <td>Bet Small</td>\n",
       "      <td>...</td>\n",
       "      <td>Check</td>\n",
       "      <td>Call</td>\n",
       "      <td>All-In</td>\n",
       "      <td>Bet Medium</td>\n",
       "      <td>Check</td>\n",
       "      <td>All-In</td>\n",
       "      <td>All-In</td>\n",
       "      <td>All-In</td>\n",
       "      <td>Check</td>\n",
       "      <td>Fold</td>\n",
       "    </tr>\n",
       "    <tr>\n",
       "      <th>Check</th>\n",
       "      <td>Fold</td>\n",
       "      <td>Check</td>\n",
       "      <td>Bet Small</td>\n",
       "      <td>Bet Medium</td>\n",
       "      <td>Bet Large</td>\n",
       "      <td>All-In</td>\n",
       "      <td>Fold</td>\n",
       "      <td>Check</td>\n",
       "      <td>Bet Small</td>\n",
       "      <td>Bet Small</td>\n",
       "      <td>...</td>\n",
       "      <td>Check</td>\n",
       "      <td>Call</td>\n",
       "      <td>Fold</td>\n",
       "      <td>Bet Medium</td>\n",
       "      <td>Check</td>\n",
       "      <td>All-In</td>\n",
       "      <td>All-In</td>\n",
       "      <td>All-In</td>\n",
       "      <td>Fold</td>\n",
       "      <td>Fold</td>\n",
       "    </tr>\n",
       "    <tr>\n",
       "      <th>Bet Small</th>\n",
       "      <td>Fold</td>\n",
       "      <td>Call</td>\n",
       "      <td>Bet Medium</td>\n",
       "      <td>Bet Large</td>\n",
       "      <td>All-In</td>\n",
       "      <td>Call</td>\n",
       "      <td>Call</td>\n",
       "      <td>Check</td>\n",
       "      <td>Call</td>\n",
       "      <td>Bet Small</td>\n",
       "      <td>...</td>\n",
       "      <td>Fold</td>\n",
       "      <td>Call</td>\n",
       "      <td>Bet Large</td>\n",
       "      <td>Bet Medium</td>\n",
       "      <td>Call</td>\n",
       "      <td>All-In</td>\n",
       "      <td>Call</td>\n",
       "      <td>All-In</td>\n",
       "      <td>Call</td>\n",
       "      <td>Fold</td>\n",
       "    </tr>\n",
       "    <tr>\n",
       "      <th>Call</th>\n",
       "      <td>Fold</td>\n",
       "      <td>Call</td>\n",
       "      <td>Bet Medium</td>\n",
       "      <td>Bet Large</td>\n",
       "      <td>All-In</td>\n",
       "      <td>Call</td>\n",
       "      <td>Call</td>\n",
       "      <td>Check</td>\n",
       "      <td>Call</td>\n",
       "      <td>Bet Small</td>\n",
       "      <td>...</td>\n",
       "      <td>Call</td>\n",
       "      <td>Call</td>\n",
       "      <td>Bet Medium</td>\n",
       "      <td>Bet Medium</td>\n",
       "      <td>Bet Medium</td>\n",
       "      <td>All-In</td>\n",
       "      <td>Call</td>\n",
       "      <td>All-In</td>\n",
       "      <td>Call</td>\n",
       "      <td>Fold</td>\n",
       "    </tr>\n",
       "    <tr>\n",
       "      <th>Bet Medium</th>\n",
       "      <td>Fold</td>\n",
       "      <td>Call</td>\n",
       "      <td>Bet Large</td>\n",
       "      <td>All-In</td>\n",
       "      <td>Call</td>\n",
       "      <td>Fold</td>\n",
       "      <td>All-In</td>\n",
       "      <td>Check</td>\n",
       "      <td>Fold</td>\n",
       "      <td>Bet Small</td>\n",
       "      <td>...</td>\n",
       "      <td>All-In</td>\n",
       "      <td>Call</td>\n",
       "      <td>Call</td>\n",
       "      <td>Bet Medium</td>\n",
       "      <td>All-In</td>\n",
       "      <td>All-In</td>\n",
       "      <td>All-In</td>\n",
       "      <td>All-In</td>\n",
       "      <td>All-In</td>\n",
       "      <td>Fold</td>\n",
       "    </tr>\n",
       "    <tr>\n",
       "      <th>Bet Large</th>\n",
       "      <td>Fold</td>\n",
       "      <td>Call</td>\n",
       "      <td>Call</td>\n",
       "      <td>All-In</td>\n",
       "      <td>Call</td>\n",
       "      <td>Fold</td>\n",
       "      <td>Call</td>\n",
       "      <td>Check</td>\n",
       "      <td>Fold</td>\n",
       "      <td>Bet Small</td>\n",
       "      <td>...</td>\n",
       "      <td>Call</td>\n",
       "      <td>Call</td>\n",
       "      <td>Call</td>\n",
       "      <td>Bet Medium</td>\n",
       "      <td>Call</td>\n",
       "      <td>All-In</td>\n",
       "      <td>Fold</td>\n",
       "      <td>All-In</td>\n",
       "      <td>Call</td>\n",
       "      <td>Fold</td>\n",
       "    </tr>\n",
       "    <tr>\n",
       "      <th>Fold</th>\n",
       "      <td>Fold</td>\n",
       "      <td>Call</td>\n",
       "      <td>Bet Small</td>\n",
       "      <td>Bet Medium</td>\n",
       "      <td>Bet Large</td>\n",
       "      <td>All-In</td>\n",
       "      <td>Call</td>\n",
       "      <td>Check</td>\n",
       "      <td>Call</td>\n",
       "      <td>Bet Small</td>\n",
       "      <td>...</td>\n",
       "      <td>Bet Small</td>\n",
       "      <td>Call</td>\n",
       "      <td>Bet Medium</td>\n",
       "      <td>Bet Medium</td>\n",
       "      <td>Bet Large</td>\n",
       "      <td>All-In</td>\n",
       "      <td>Call</td>\n",
       "      <td>All-In</td>\n",
       "      <td>Bet Large</td>\n",
       "      <td>Fold</td>\n",
       "    </tr>\n",
       "    <tr>\n",
       "      <th>All-In</th>\n",
       "      <td>Fold</td>\n",
       "      <td>Call</td>\n",
       "      <td>Fold</td>\n",
       "      <td>Call</td>\n",
       "      <td>Fold</td>\n",
       "      <td>All-In</td>\n",
       "      <td>Call</td>\n",
       "      <td>Check</td>\n",
       "      <td>All-In</td>\n",
       "      <td>Bet Small</td>\n",
       "      <td>...</td>\n",
       "      <td>Call</td>\n",
       "      <td>Call</td>\n",
       "      <td>All-In</td>\n",
       "      <td>Bet Medium</td>\n",
       "      <td>Fold</td>\n",
       "      <td>All-In</td>\n",
       "      <td>All-In</td>\n",
       "      <td>All-In</td>\n",
       "      <td>Fold</td>\n",
       "      <td>Fold</td>\n",
       "    </tr>\n",
       "  </tbody>\n",
       "</table>\n",
       "<p>8 rows × 36 columns</p>\n",
       "</div>"
      ],
      "text/plain": [
       "             Possibility 1 Possibility 2 Possibility 3 Possibility 4  \\\n",
       "StreetBegins         Check     Bet Small    Bet Medium     Bet Large   \n",
       "Check                 Fold         Check     Bet Small    Bet Medium   \n",
       "Bet Small             Fold          Call    Bet Medium     Bet Large   \n",
       "Call                  Fold          Call    Bet Medium     Bet Large   \n",
       "Bet Medium            Fold          Call     Bet Large        All-In   \n",
       "Bet Large             Fold          Call          Call        All-In   \n",
       "Fold                  Fold          Call     Bet Small    Bet Medium   \n",
       "All-In                Fold          Call          Fold          Call   \n",
       "\n",
       "             Possibility 5 Possibility 6 Random Selections 1 Bet #1  \\\n",
       "StreetBegins        All-In         Check               Check  Check   \n",
       "Check            Bet Large        All-In                Fold  Check   \n",
       "Bet Small           All-In          Call                Call  Check   \n",
       "Call                All-In          Call                Call  Check   \n",
       "Bet Medium            Call          Fold              All-In  Check   \n",
       "Bet Large             Call          Fold                Call  Check   \n",
       "Fold             Bet Large        All-In                Call  Check   \n",
       "All-In                Fold        All-In                Call  Check   \n",
       "\n",
       "             Random Selections 2     Bet #2   ...   Random Selections 11  \\\n",
       "StreetBegins               Check  Bet Small   ...                  Check   \n",
       "Check                  Bet Small  Bet Small   ...                  Check   \n",
       "Bet Small                   Call  Bet Small   ...                   Fold   \n",
       "Call                        Call  Bet Small   ...                   Call   \n",
       "Bet Medium                  Fold  Bet Small   ...                 All-In   \n",
       "Bet Large                   Fold  Bet Small   ...                   Call   \n",
       "Fold                        Call  Bet Small   ...              Bet Small   \n",
       "All-In                    All-In  Bet Small   ...                   Call   \n",
       "\n",
       "             Bet #11 Random Selections 12     Bet #12 Random Selections 13  \\\n",
       "StreetBegins    Call               All-In  Bet Medium                Check   \n",
       "Check           Call                 Fold  Bet Medium                Check   \n",
       "Bet Small       Call            Bet Large  Bet Medium                 Call   \n",
       "Call            Call           Bet Medium  Bet Medium           Bet Medium   \n",
       "Bet Medium      Call                 Call  Bet Medium               All-In   \n",
       "Bet Large       Call                 Call  Bet Medium                 Call   \n",
       "Fold            Call           Bet Medium  Bet Medium            Bet Large   \n",
       "All-In          Call               All-In  Bet Medium                 Fold   \n",
       "\n",
       "             Bet #13 Random Selections 14 Bet #14 Random Selections 15 Bet #15  \n",
       "StreetBegins  All-In               All-In  All-In                Check    Fold  \n",
       "Check         All-In               All-In  All-In                 Fold    Fold  \n",
       "Bet Small     All-In                 Call  All-In                 Call    Fold  \n",
       "Call          All-In                 Call  All-In                 Call    Fold  \n",
       "Bet Medium    All-In               All-In  All-In               All-In    Fold  \n",
       "Bet Large     All-In                 Fold  All-In                 Call    Fold  \n",
       "Fold          All-In                 Call  All-In            Bet Large    Fold  \n",
       "All-In        All-In               All-In  All-In                 Fold    Fold  \n",
       "\n",
       "[8 rows x 36 columns]"
      ]
     },
     "execution_count": 90,
     "metadata": {},
     "output_type": "execute_result"
    }
   ],
   "source": [
    "##########EVENTUALLY CREATE FOR LOOP TO ADD RANDOM SELECTION COLUMN\n",
    "random_selections = pd.Series([np.random.choice(i,1)[0] for i in dfPossibleBets.values])# if str(i) != 'NaN'])\n",
    "random_selections_list_4 = random_selections.tolist()\n",
    "dfRandomSelections['Random Selections 4'] = random_selections_list_4\n",
    "BET4 = dfRandomSelections['Random Selections 4'].loc[BET3]\n",
    "dfRandomSelections['Bet #4'] = BET4\n",
    "\n",
    "random_selections = pd.Series([np.random.choice(i,1)[0] for i in dfPossibleBets.values])# if str(i) != 'NaN'])\n",
    "random_selections_list_5 = random_selections.tolist()\n",
    "dfRandomSelections['Random Selections 5'] = random_selections_list_5\n",
    "BET5 = dfRandomSelections['Random Selections 5'].loc[BET4]\n",
    "dfRandomSelections['Bet #5'] = BET5\n",
    "\n",
    "random_selections = pd.Series([np.random.choice(i,1)[0] for i in dfPossibleBets.values])# if str(i) != 'NaN'])\n",
    "random_selections_list_6 = random_selections.tolist()\n",
    "dfRandomSelections['Random Selections 6'] = random_selections_list_6\n",
    "BET6 = dfRandomSelections['Random Selections 6'].loc[BET5]\n",
    "dfRandomSelections['Bet #6'] = BET6\n",
    "\n",
    "random_selections = pd.Series([np.random.choice(i,1)[0] for i in dfPossibleBets.values])# if str(i) != 'NaN'])\n",
    "random_selections_list_7 = random_selections.tolist()\n",
    "dfRandomSelections['Random Selections 7'] = random_selections_list_7\n",
    "BET7 = dfRandomSelections['Random Selections 7'].loc[BET6]\n",
    "dfRandomSelections['Bet #7'] = BET7\n",
    "\n",
    "random_selections = pd.Series([np.random.choice(i,1)[0] for i in dfPossibleBets.values])# if str(i) != 'NaN'])\n",
    "random_selections_list_8 = random_selections.tolist()\n",
    "dfRandomSelections['Random Selections 8'] = random_selections_list_8\n",
    "BET8 = dfRandomSelections['Random Selections 8'].loc[BET7]\n",
    "dfRandomSelections['Bet #8'] = BET8\n",
    "\n",
    "random_selections = pd.Series([np.random.choice(i,1)[0] for i in dfPossibleBets.values])# if str(i) != 'NaN'])\n",
    "random_selections_list_9 = random_selections.tolist()\n",
    "dfRandomSelections['Random Selections 9'] = random_selections_list_9\n",
    "BET9 = dfRandomSelections['Random Selections 9'].loc[BET8]\n",
    "dfRandomSelections['Bet #9'] = BET9\n",
    "\n",
    "random_selections = pd.Series([np.random.choice(i,1)[0] for i in dfPossibleBets.values])# if str(i) != 'NaN'])\n",
    "random_selections_list_10 = random_selections.tolist()\n",
    "dfRandomSelections['Random Selections 10'] = random_selections_list_10\n",
    "BET10 = dfRandomSelections['Random Selections 10'].loc[BET9]\n",
    "dfRandomSelections['Bet #10'] = BET10\n",
    "\n",
    "random_selections = pd.Series([np.random.choice(i,1)[0] for i in dfPossibleBets.values])# if str(i) != 'NaN'])\n",
    "random_selections_list_11 = random_selections.tolist()\n",
    "dfRandomSelections['Random Selections 11'] = random_selections_list_11\n",
    "BET11 = dfRandomSelections['Random Selections 11'].loc[BET10]\n",
    "dfRandomSelections['Bet #11'] = BET11\n",
    "\n",
    "random_selections = pd.Series([np.random.choice(i,1)[0] for i in dfPossibleBets.values])# if str(i) != 'NaN'])\n",
    "random_selections_list_12 = random_selections.tolist()\n",
    "dfRandomSelections['Random Selections 12'] = random_selections_list_12\n",
    "BET12 = dfRandomSelections['Random Selections 12'].loc[BET11]\n",
    "dfRandomSelections['Bet #12'] = BET12\n",
    "\n",
    "random_selections = pd.Series([np.random.choice(i,1)[0] for i in dfPossibleBets.values])# if str(i) != 'NaN'])\n",
    "random_selections_list_13 = random_selections.tolist()\n",
    "dfRandomSelections['Random Selections 13'] = random_selections_list_13\n",
    "BET13 = dfRandomSelections['Random Selections 13'].loc[BET12]\n",
    "dfRandomSelections['Bet #13'] = BET13\n",
    "\n",
    "random_selections = pd.Series([np.random.choice(i,1)[0] for i in dfPossibleBets.values])# if str(i) != 'NaN'])\n",
    "random_selections_list_14 = random_selections.tolist()\n",
    "dfRandomSelections['Random Selections 14'] = random_selections_list_14\n",
    "BET14 = dfRandomSelections['Random Selections 14'].loc[BET13]\n",
    "dfRandomSelections['Bet #14'] = BET14\n",
    "\n",
    "random_selections = pd.Series([np.random.choice(i,1)[0] for i in dfPossibleBets.values])# if str(i) != 'NaN'])\n",
    "random_selections_list_15 = random_selections.tolist()\n",
    "dfRandomSelections['Random Selections 15'] = random_selections_list_15\n",
    "BET15 = dfRandomSelections['Random Selections 15'].loc[BET14]\n",
    "dfRandomSelections['Bet #15'] = BET15\n",
    "\n",
    "dfRandomSelections"
   ]
  },
  {
   "cell_type": "code",
   "execution_count": 91,
   "metadata": {},
   "outputs": [
    {
     "data": {
      "text/plain": [
       "['Check',\n",
       " 'Bet Small',\n",
       " 'Fold',\n",
       " 'All-In',\n",
       " 'Fold',\n",
       " 'All-In',\n",
       " 'Fold',\n",
       " 'Fold',\n",
       " 'Call',\n",
       " 'All-In']"
      ]
     },
     "execution_count": 91,
     "metadata": {},
     "output_type": "execute_result"
    }
   ],
   "source": [
    "BETS_ROUND_ONE = [BET1, BET2, BET3, BET4, BET5, BET6, BET7, BET8, BET9, BET10]\n",
    "BETS_ROUND_ONE\n",
    "# BETS_PERCENTAGE_OF_STACK = BETS_ROUND_ONE.replace('Bet Medium',.5)\n",
    "# BETS_PERCENTAGE_OF_STACK"
   ]
  },
  {
   "cell_type": "code",
   "execution_count": 92,
   "metadata": {},
   "outputs": [
    {
     "data": {
      "text/plain": [
       "['Check',\n",
       " 'Bet Small',\n",
       " 'Fold',\n",
       " 'All-In',\n",
       " 'Fold',\n",
       " 'All-In',\n",
       " 'Fold',\n",
       " 'Fold',\n",
       " 'Call',\n",
       " 'All-In']"
      ]
     },
     "execution_count": 92,
     "metadata": {},
     "output_type": "execute_result"
    }
   ],
   "source": [
    "BETS_ROUND_ONE"
   ]
  },
  {
   "cell_type": "code",
   "execution_count": 93,
   "metadata": {},
   "outputs": [
    {
     "data": {
      "text/plain": [
       "['Check',\n",
       " 'Bet Small / 10%',\n",
       " 'Fold / Bet 0%',\n",
       " 'Go All-In / Bet 100%',\n",
       " 'Fold / Bet 0%',\n",
       " 'Go All-In / Bet 100%',\n",
       " 'Fold / Bet 0%',\n",
       " 'Fold / Bet 0%',\n",
       " 'Call / Bet Same as Opponent',\n",
       " 'Go All-In / Bet 100%']"
      ]
     },
     "execution_count": 93,
     "metadata": {},
     "output_type": "execute_result"
    }
   ],
   "source": [
    "BETS_ROUND_ONE = ['Bet Medium / 25%' if x=='Bet Medium' else x for x in BETS_ROUND_ONE]\n",
    "BETS_ROUND_ONE = ['Bet Small / 10%' if x=='Bet Small' else x for x in BETS_ROUND_ONE]\n",
    "BETS_ROUND_ONE = ['Bet Large / 40%' if x=='Bet Large' else x for x in BETS_ROUND_ONE]\n",
    "BETS_ROUND_ONE = ['Fold / Bet 0%' if x=='Fold' else x for x in BETS_ROUND_ONE]\n",
    "BETS_ROUND_ONE = ['Go All-In / Bet 100%' if x=='All-In' else x for x in BETS_ROUND_ONE]\n",
    "BETS_ROUND_ONE = ['Call / Bet Same as Opponent' if x=='Call' else x for x in BETS_ROUND_ONE]\n",
    "\n",
    "BETS_ROUND_ONE\n"
   ]
  },
  {
   "cell_type": "code",
   "execution_count": null,
   "metadata": {},
   "outputs": [],
   "source": []
  },
  {
   "cell_type": "code",
   "execution_count": 94,
   "metadata": {},
   "outputs": [],
   "source": [
    "# import itertools\n",
    "# for a, b in itertools.combinations(mylist, 2):\n",
    "#     compare(a, b)"
   ]
  },
  {
   "cell_type": "code",
   "execution_count": 95,
   "metadata": {},
   "outputs": [],
   "source": [
    "# for m, x in BETS_ROUND_ONE:\n",
    "#     if BETS_ROUND_ONE[x] < BETS_ROUND_ONE[m*x]:\n",
    "#         BETS_ROUND_ONE[x] = 'Call'\n",
    "# BETS_ROUND_ONE"
   ]
  },
  {
   "cell_type": "code",
   "execution_count": 96,
   "metadata": {},
   "outputs": [
    {
     "data": {
      "text/plain": [
       "['Stack is >150 Big Blinds',\n",
       " 'Stack is <50 Big Blinds',\n",
       " 'Stack is <50 Big Blinds',\n",
       " 'Stack is <50 Big Blinds',\n",
       " 'Stack is >150 Big Blinds',\n",
       " 'Stack is >150 Big Blinds',\n",
       " 'Stack is >150 Big Blinds',\n",
       " 'Stack is >50 Big Blinds <150',\n",
       " 'Stack is >150 Big Blinds',\n",
       " 'Stack is >150 Big Blinds']"
      ]
     },
     "execution_count": 96,
     "metadata": {},
     "output_type": "execute_result"
    }
   ],
   "source": [
    "ALL_STACK_SIZES = choices(STACK_SIZES_POSSIBLE,\n",
    "                          k=NUMBER_OF_PLAYERS[0])\n",
    "ALL_STACK_SIZES\n",
    "\n",
    "\n",
    "\n"
   ]
  },
  {
   "cell_type": "code",
   "execution_count": 97,
   "metadata": {},
   "outputs": [
    {
     "data": {
      "text/plain": [
       "[(4, 'UTG', 1),\n",
       " (5, 'CO', 7),\n",
       " (6, 'HJ', 6),\n",
       " (7, 'UTG+1', 2),\n",
       " (8, 'UTG+2', 3),\n",
       " (9, 'MP1', 4),\n",
       " (10, 'MP2', 5),\n",
       " (1, 'BTN', 8),\n",
       " (2, 'SB', 9),\n",
       " (3, 'BB', 10)]"
      ]
     },
     "execution_count": 97,
     "metadata": {},
     "output_type": "execute_result"
    }
   ],
   "source": [
    "ALL_POSITIONS_IN_THIS_GAME = ALL_POSITIONS_IN_THIS_GAME[3:]+ALL_POSITIONS_IN_THIS_GAME[0:3]\n",
    "ALL_POSITIONS_IN_THIS_GAME"
   ]
  },
  {
   "cell_type": "code",
   "execution_count": 98,
   "metadata": {},
   "outputs": [],
   "source": [
    "def merge(UTG_FIRST_POSITIONS, ALL_STACK_SIZES, BETS_ROUND_ONE):\n",
    "    merged_list = [(UTG_FIRST_POSITIONS[i], ALL_STACK_SIZES[i], BETS_ROUND_ONE[i]) for i in range(0, len(UTG_FIRST_POSITIONS))]\n",
    "    return merged_list"
   ]
  },
  {
   "cell_type": "code",
   "execution_count": 99,
   "metadata": {},
   "outputs": [
    {
     "data": {
      "text/plain": [
       "[((4, 'UTG', 1), 'Stack is >150 Big Blinds', 'Check'),\n",
       " ((7, 'UTG+1', 2), 'Stack is <50 Big Blinds', 'Bet Small / 10%'),\n",
       " ((8, 'UTG+2', 3), 'Stack is <50 Big Blinds', 'Fold / Bet 0%'),\n",
       " ((9, 'MP1', 4), 'Stack is <50 Big Blinds', 'Go All-In / Bet 100%'),\n",
       " ((10, 'MP2', 5), 'Stack is >150 Big Blinds', 'Fold / Bet 0%'),\n",
       " ((6, 'HJ', 6), 'Stack is >150 Big Blinds', 'Go All-In / Bet 100%'),\n",
       " ((5, 'CO', 7), 'Stack is >150 Big Blinds', 'Fold / Bet 0%'),\n",
       " ((1, 'BTN', 8), 'Stack is >50 Big Blinds <150', 'Fold / Bet 0%'),\n",
       " ((2, 'SB', 9), 'Stack is >150 Big Blinds', 'Call / Bet Same as Opponent'),\n",
       " ((3, 'BB', 10), 'Stack is >150 Big Blinds', 'Go All-In / Bet 100%')]"
      ]
     },
     "execution_count": 99,
     "metadata": {},
     "output_type": "execute_result"
    }
   ],
   "source": [
    "FIRST_ROUND_OF_BETTING = merge(UTG_FIRST_POSITIONS,ALL_STACK_SIZES,BETS_ROUND_ONE)\n",
    "FIRST_ROUND_OF_BETTING"
   ]
  },
  {
   "cell_type": "code",
   "execution_count": null,
   "metadata": {},
   "outputs": [],
   "source": []
  },
  {
   "cell_type": "code",
   "execution_count": null,
   "metadata": {},
   "outputs": [],
   "source": []
  },
  {
   "cell_type": "code",
   "execution_count": null,
   "metadata": {},
   "outputs": [],
   "source": []
  },
  {
   "cell_type": "code",
   "execution_count": 100,
   "metadata": {},
   "outputs": [],
   "source": [
    "# BetLargeDictionary = {'Bet Large': ['Fold', 'Call,', 'Bet Large', 'All-In']}\n",
    "# BetMediumDictionary = {'Bet Medium': ['Fold', 'Bet Large', 'All-In']}\n",
    "# BetSmallDictionary = {'Bet Small': ['Fold', 'Call', 'Bet Medium', 'Bet Large', 'All-In']}\n",
    "# CallDictionary = {'Call' : ['Fold', 'Bet Medium', 'Bet Large', 'All-In']}\n",
    "# CheckDictionary = {'Check' : ['Fold', 'Check', 'Bet Small', 'Bet Medium', 'Bet Large', 'All-In']}\n",
    "# PRIOR_BET_Dictionary = {'PRIOR_BET' : ['ALL POSSIBLE BETS AFTER PRIOR BET']}\n",
    "# StreetBeginsDictionary = {'Street Begins' : ['Check', 'Bet Small', 'Bet Medium', 'Bet Large', 'All-In']}\n",
    "\n",
    "# CallDictionary"
   ]
  },
  {
   "cell_type": "code",
   "execution_count": null,
   "metadata": {},
   "outputs": [],
   "source": []
  },
  {
   "cell_type": "code",
   "execution_count": 101,
   "metadata": {},
   "outputs": [],
   "source": [
    "######## NEED TO ELIMINATE PLAYERS ONCE THEY FOLD\n",
    "######## CANNOT ALLOW CHECKINGS AFTER A BET\n"
   ]
  },
  {
   "cell_type": "code",
   "execution_count": 102,
   "metadata": {},
   "outputs": [
    {
     "data": {
      "text/plain": [
       "\"[(((4, 'UTG', 1), 'Stack is >50 Big Blinds <150'), 'initial bet or min-raise'),\\n (((7, 'UTG+1', 2), 'Stack is >50 Big Blinds <150'), 'fold'),\\n (((8, 'UTG+2', 3), 'Stack is >150 Big Blinds'), 'check'),\\n (((9, 'MP1', 4), 'Stack is <50 Big Blinds'),\\n  'bet large (initial bet or raise/re-raise)'),\\n (((10, 'MP2', 5), 'Stack is >50 Big Blinds <150'),\\n  'bet large (initial bet or raise/re-raise)'),\\n (((6, 'HJ', 6), 'Stack is >50 Big Blinds <150'),\\n  'bet small (initial bet or min-raise)'),\\n (((5, 'CO', 7), 'Stack is <50 Big Blinds'), 'fold'),\\n (((1, 'BTN', 8), 'Stack is >150 Big Blinds'), 'check'),\\n (((2, 'SB', 9), 'Stack is >50 Big Blinds <150'), 'fold'),\\n (((3, 'BB', 10), 'Stack is >150 Big Blinds'),\\n  'YOUR MOVE')]\""
      ]
     },
     "execution_count": 102,
     "metadata": {},
     "output_type": "execute_result"
    }
   ],
   "source": [
    "\n",
    "\n",
    "#^^^^^^^^^^RANDOMIZED\n",
    "########################################################################################################################\n",
    "########################################################################################################################\n",
    "########################################################################################################################\n",
    "#DESIGNED:\n",
    "\n",
    "DESIGNED_POSITIONS_STACKS_SORTED_ACTIONS = '''[(((4, 'UTG', 1), 'Stack is >50 Big Blinds <150'), 'initial bet or min-raise'),\n",
    " (((7, 'UTG+1', 2), 'Stack is >50 Big Blinds <150'), 'fold'),\n",
    " (((8, 'UTG+2', 3), 'Stack is >150 Big Blinds'), 'check'),\n",
    " (((9, 'MP1', 4), 'Stack is <50 Big Blinds'),\n",
    "  'bet large (initial bet or raise/re-raise)'),\n",
    " (((10, 'MP2', 5), 'Stack is >50 Big Blinds <150'),\n",
    "  'bet large (initial bet or raise/re-raise)'),\n",
    " (((6, 'HJ', 6), 'Stack is >50 Big Blinds <150'),\n",
    "  'bet small (initial bet or min-raise)'),\n",
    " (((5, 'CO', 7), 'Stack is <50 Big Blinds'), 'fold'),\n",
    " (((1, 'BTN', 8), 'Stack is >150 Big Blinds'), 'check'),\n",
    " (((2, 'SB', 9), 'Stack is >50 Big Blinds <150'), 'fold'),\n",
    " (((3, 'BB', 10), 'Stack is >150 Big Blinds'),\n",
    "  'YOUR MOVE')]'''\n",
    "\n",
    "DESIGNED_POSITIONS_STACKS_SORTED_ACTIONS"
   ]
  },
  {
   "cell_type": "code",
   "execution_count": 103,
   "metadata": {},
   "outputs": [],
   "source": [
    "######### MODULE 2 : DECISIONS ############\n",
    "######### PART ONE : PRE-FLOP #############"
   ]
  },
  {
   "cell_type": "code",
   "execution_count": 104,
   "metadata": {},
   "outputs": [],
   "source": [
    "#*** means that I need to come back to this\n",
    "RAISE_REASONS = ('hand makes nut flush', #***need to find source video- not sure if given flop or not\n",
    "                 'hand makes marginal top pair', #DONE\n",
    "                 'opponent doesnt see this coming', #***LEVEL5\n",
    "                 'hand works well as a bluff since it has a good blocker', #DONE\n",
    "                 'good post-flop playability', #***need to determine this range LEVEL3\n",
    "                 'my range is better than the opponents') #***need to determine how to figure this out LEVEL4"
   ]
  },
  {
   "cell_type": "code",
   "execution_count": 105,
   "metadata": {},
   "outputs": [
    {
     "data": {
      "text/plain": [
       "('hand makes nut flush',\n",
       " 'hand makes marginal top pair',\n",
       " 'opponent doesnt see this coming',\n",
       " 'hand works well as a bluff since it has a good blocker',\n",
       " 'good post-flop playability',\n",
       " 'my range is better than the opponents')"
      ]
     },
     "execution_count": 105,
     "metadata": {},
     "output_type": "execute_result"
    }
   ],
   "source": [
    "RAISE_REASONS"
   ]
  },
  {
   "cell_type": "code",
   "execution_count": 106,
   "metadata": {},
   "outputs": [],
   "source": [
    "THREE_BET_REASONS = ('opponent folds a lot of their range') #***LEVEL5"
   ]
  },
  {
   "cell_type": "code",
   "execution_count": 107,
   "metadata": {},
   "outputs": [],
   "source": [
    "CHECK_RAISE_REASONS = ('')"
   ]
  },
  {
   "cell_type": "code",
   "execution_count": 108,
   "metadata": {},
   "outputs": [],
   "source": [
    "OPTIONS = ('bet small','bet medium','bet large','all-in','check','fold','call')"
   ]
  },
  {
   "cell_type": "code",
   "execution_count": 109,
   "metadata": {},
   "outputs": [
    {
     "data": {
      "text/plain": [
       "('bet small', 'bet medium', 'bet large', 'all-in', 'check', 'fold', 'call')"
      ]
     },
     "execution_count": 109,
     "metadata": {},
     "output_type": "execute_result"
    }
   ],
   "source": [
    "OPTIONS"
   ]
  },
  {
   "cell_type": "code",
   "execution_count": 110,
   "metadata": {},
   "outputs": [],
   "source": [
    "LIMP = ['Everyone folded to me in the small blind and Im doing this with a large amount of my range'] #DONE"
   ]
  },
  {
   "cell_type": "code",
   "execution_count": 111,
   "metadata": {},
   "outputs": [],
   "source": [
    "BET_SMALL_REASONS = ['100% continuation bet strategy', #***LEVEL4\n",
    "                     'Im on the button and the hand is good enough to bet (Q8o)'] #DONE"
   ]
  },
  {
   "cell_type": "code",
   "execution_count": 112,
   "metadata": {},
   "outputs": [],
   "source": [
    "# POSITION = MY_POSITION[1]\n",
    "# POSITION"
   ]
  },
  {
   "cell_type": "code",
   "execution_count": 113,
   "metadata": {},
   "outputs": [
    {
     "data": {
      "text/plain": [
       "['9c', 'Ks', '10s', '9d', '10h', '5c', '4h', '10d', '2s']"
      ]
     },
     "execution_count": 113,
     "metadata": {},
     "output_type": "execute_result"
    }
   ],
   "source": [
    "COMMUNITY_CARDS"
   ]
  },
  {
   "cell_type": "code",
   "execution_count": 114,
   "metadata": {},
   "outputs": [
    {
     "data": {
      "text/plain": [
       "['9c', 'Ks']"
      ]
     },
     "execution_count": 114,
     "metadata": {},
     "output_type": "execute_result"
    }
   ],
   "source": [
    "HAND"
   ]
  },
  {
   "cell_type": "code",
   "execution_count": 115,
   "metadata": {
    "scrolled": true
   },
   "outputs": [
    {
     "data": {
      "text/plain": [
       "['10s', '9d', '10h']"
      ]
     },
     "execution_count": 115,
     "metadata": {},
     "output_type": "execute_result"
    }
   ],
   "source": [
    "FLOP"
   ]
  },
  {
   "cell_type": "code",
   "execution_count": 116,
   "metadata": {},
   "outputs": [
    {
     "data": {
      "text/plain": [
       "9"
      ]
     },
     "execution_count": 116,
     "metadata": {},
     "output_type": "execute_result"
    }
   ],
   "source": [
    "HAND_1_RANK"
   ]
  },
  {
   "cell_type": "code",
   "execution_count": 117,
   "metadata": {},
   "outputs": [
    {
     "data": {
      "text/plain": [
       "13"
      ]
     },
     "execution_count": 117,
     "metadata": {},
     "output_type": "execute_result"
    }
   ],
   "source": [
    "HAND_2_RANK"
   ]
  },
  {
   "cell_type": "code",
   "execution_count": 118,
   "metadata": {},
   "outputs": [
    {
     "data": {
      "text/plain": [
       "10"
      ]
     },
     "execution_count": 118,
     "metadata": {},
     "output_type": "execute_result"
    }
   ],
   "source": [
    "FLOP_1_RANK = S(FLOP[0][0:-1])\n",
    "FLOP_1_RANK"
   ]
  },
  {
   "cell_type": "code",
   "execution_count": 119,
   "metadata": {},
   "outputs": [
    {
     "data": {
      "text/plain": [
       "9"
      ]
     },
     "execution_count": 119,
     "metadata": {},
     "output_type": "execute_result"
    }
   ],
   "source": [
    "FLOP_2_RANK = S(FLOP[1][0:-1])\n",
    "FLOP_2_RANK"
   ]
  },
  {
   "cell_type": "code",
   "execution_count": 120,
   "metadata": {},
   "outputs": [
    {
     "data": {
      "text/plain": [
       "10"
      ]
     },
     "execution_count": 120,
     "metadata": {},
     "output_type": "execute_result"
    }
   ],
   "source": [
    "FLOP_3_RANK = S(FLOP[2][0:-1])\n",
    "FLOP_3_RANK"
   ]
  },
  {
   "cell_type": "code",
   "execution_count": 121,
   "metadata": {},
   "outputs": [
    {
     "data": {
      "text/plain": [
       "'4h'"
      ]
     },
     "execution_count": 121,
     "metadata": {},
     "output_type": "execute_result"
    }
   ],
   "source": [
    "TURN"
   ]
  },
  {
   "cell_type": "code",
   "execution_count": 122,
   "metadata": {},
   "outputs": [
    {
     "data": {
      "text/plain": [
       "'4'"
      ]
     },
     "execution_count": 122,
     "metadata": {},
     "output_type": "execute_result"
    }
   ],
   "source": [
    "TURN_RANK = TURN[0:-1]\n",
    "TURN_RANK"
   ]
  },
  {
   "cell_type": "code",
   "execution_count": 123,
   "metadata": {},
   "outputs": [
    {
     "data": {
      "text/plain": [
       "4"
      ]
     },
     "execution_count": 123,
     "metadata": {},
     "output_type": "execute_result"
    }
   ],
   "source": [
    "TURN_RANK = S(TURN_RANK)\n",
    "TURN_RANK"
   ]
  },
  {
   "cell_type": "code",
   "execution_count": 124,
   "metadata": {
    "scrolled": true
   },
   "outputs": [
    {
     "data": {
      "text/plain": [
       "'2s'"
      ]
     },
     "execution_count": 124,
     "metadata": {},
     "output_type": "execute_result"
    }
   ],
   "source": [
    "RIVER"
   ]
  },
  {
   "cell_type": "code",
   "execution_count": 125,
   "metadata": {},
   "outputs": [
    {
     "data": {
      "text/plain": [
       "'2'"
      ]
     },
     "execution_count": 125,
     "metadata": {},
     "output_type": "execute_result"
    }
   ],
   "source": [
    "RIVER_RANK = RIVER[0:-1]\n",
    "RIVER_RANK"
   ]
  },
  {
   "cell_type": "code",
   "execution_count": 126,
   "metadata": {},
   "outputs": [
    {
     "data": {
      "text/plain": [
       "2"
      ]
     },
     "execution_count": 126,
     "metadata": {},
     "output_type": "execute_result"
    }
   ],
   "source": [
    "RIVER_RANK = S(RIVER_RANK)\n",
    "RIVER_RANK"
   ]
  },
  {
   "cell_type": "code",
   "execution_count": 127,
   "metadata": {},
   "outputs": [],
   "source": [
    "#RIVER TOP TWO PAIR - GO ALL IN\n"
   ]
  },
  {
   "cell_type": "code",
   "execution_count": 128,
   "metadata": {},
   "outputs": [
    {
     "data": {
      "text/plain": [
       "10"
      ]
     },
     "execution_count": 128,
     "metadata": {},
     "output_type": "execute_result"
    }
   ],
   "source": [
    "#hand makes marginal top pair if highest FLOP RANK is 11 and one HAND RANK is equal to highest FLOP RANK\n",
    "\n",
    "HIGHEST_FLOP_RANK = max(FLOP_1_RANK,FLOP_2_RANK,FLOP_3_RANK)\n",
    "HIGHEST_FLOP_RANK"
   ]
  },
  {
   "cell_type": "code",
   "execution_count": 129,
   "metadata": {},
   "outputs": [
    {
     "data": {
      "text/plain": [
       "13"
      ]
     },
     "execution_count": 129,
     "metadata": {},
     "output_type": "execute_result"
    }
   ],
   "source": [
    "HIGHEST_HAND_RANK = max(HAND_1_RANK,HAND_2_RANK)\n",
    "HIGHEST_HAND_RANK"
   ]
  },
  {
   "cell_type": "code",
   "execution_count": 130,
   "metadata": {},
   "outputs": [
    {
     "data": {
      "text/plain": [
       "10"
      ]
     },
     "execution_count": 130,
     "metadata": {},
     "output_type": "execute_result"
    }
   ],
   "source": [
    "FLOP_1_RANK"
   ]
  },
  {
   "cell_type": "code",
   "execution_count": 131,
   "metadata": {},
   "outputs": [
    {
     "data": {
      "text/plain": [
       "{((1, 'BTN', 8), 'Stack is <50 Big Blinds'),\n",
       " ((2, 'SB', 9), 'Stack is >150 Big Blinds'),\n",
       " ((3, 'BB', 10), 'Stack is >50 Big Blinds <150'),\n",
       " ((4, 'UTG', 1), 'Stack is >150 Big Blinds'),\n",
       " ((5, 'CO', 7), 'Stack is <50 Big Blinds'),\n",
       " ((6, 'HJ', 6), 'Stack is >150 Big Blinds'),\n",
       " ((7, 'UTG+1', 2), 'Stack is <50 Big Blinds'),\n",
       " ((8, 'UTG+2', 3), 'Stack is >50 Big Blinds <150'),\n",
       " ((9, 'MP1', 4), 'Stack is <50 Big Blinds'),\n",
       " ((10, 'MP2', 5), 'Stack is <50 Big Blinds')}"
      ]
     },
     "execution_count": 131,
     "metadata": {},
     "output_type": "execute_result"
    }
   ],
   "source": [
    "POSITIONS_STACKS_FLOP"
   ]
  },
  {
   "cell_type": "code",
   "execution_count": 132,
   "metadata": {},
   "outputs": [
    {
     "data": {
      "text/plain": [
       "((9, 'MP1', 4), 'Stack is <50 Big Blinds', 'Go All-In / Bet 100%')"
      ]
     },
     "execution_count": 132,
     "metadata": {},
     "output_type": "execute_result"
    }
   ],
   "source": [
    "My_Situation = FIRST_ROUND_OF_BETTING.pop(random.randrange(len(FIRST_ROUND_OF_BETTING)))\n",
    "My_Situation"
   ]
  },
  {
   "cell_type": "code",
   "execution_count": 133,
   "metadata": {},
   "outputs": [
    {
     "data": {
      "text/plain": [
       "'MP1'"
      ]
     },
     "execution_count": 133,
     "metadata": {},
     "output_type": "execute_result"
    }
   ],
   "source": [
    "My_Position=My_Situation[0][1]\n",
    "My_Position"
   ]
  },
  {
   "cell_type": "code",
   "execution_count": 134,
   "metadata": {},
   "outputs": [],
   "source": [
    "import pandas as pd\n",
    "data = pd.DataFrame({\"HAND\": HAND},{\"HAND_STRENGTH\":HAND_STRENGTH},{\"POSITION\":My_Position})"
   ]
  },
  {
   "cell_type": "code",
   "execution_count": 135,
   "metadata": {},
   "outputs": [
    {
     "data": {
      "text/html": [
       "<div>\n",
       "<style scoped>\n",
       "    .dataframe tbody tr th:only-of-type {\n",
       "        vertical-align: middle;\n",
       "    }\n",
       "\n",
       "    .dataframe tbody tr th {\n",
       "        vertical-align: top;\n",
       "    }\n",
       "\n",
       "    .dataframe thead th {\n",
       "        text-align: right;\n",
       "    }\n",
       "</style>\n",
       "<table border=\"1\" class=\"dataframe\">\n",
       "  <thead>\n",
       "    <tr style=\"text-align: right;\">\n",
       "      <th></th>\n",
       "      <th>CARDS</th>\n",
       "      <th>HAND STRENGTH</th>\n",
       "      <th>MY POSITION</th>\n",
       "    </tr>\n",
       "  </thead>\n",
       "  <tbody>\n",
       "    <tr>\n",
       "      <th>Preflop</th>\n",
       "      <td>NaN</td>\n",
       "      <td>NaN</td>\n",
       "      <td>NaN</td>\n",
       "    </tr>\n",
       "    <tr>\n",
       "      <th>Flop</th>\n",
       "      <td>NaN</td>\n",
       "      <td>NaN</td>\n",
       "      <td>NaN</td>\n",
       "    </tr>\n",
       "    <tr>\n",
       "      <th>Turn</th>\n",
       "      <td>NaN</td>\n",
       "      <td>NaN</td>\n",
       "      <td>NaN</td>\n",
       "    </tr>\n",
       "    <tr>\n",
       "      <th>River</th>\n",
       "      <td>NaN</td>\n",
       "      <td>NaN</td>\n",
       "      <td>NaN</td>\n",
       "    </tr>\n",
       "  </tbody>\n",
       "</table>\n",
       "</div>"
      ],
      "text/plain": [
       "        CARDS HAND STRENGTH MY POSITION\n",
       "Preflop   NaN           NaN         NaN\n",
       "Flop      NaN           NaN         NaN\n",
       "Turn      NaN           NaN         NaN\n",
       "River     NaN           NaN         NaN"
      ]
     },
     "execution_count": 135,
     "metadata": {},
     "output_type": "execute_result"
    }
   ],
   "source": [
    "dfMyHand = pd.DataFrame(columns = [\"CARDS\",\"HAND STRENGTH\",\"MY POSITION\"], index = ['Preflop','Flop','Turn','River'])\n",
    "dfMyHand"
   ]
  },
  {
   "cell_type": "code",
   "execution_count": 136,
   "metadata": {},
   "outputs": [
    {
     "data": {
      "text/plain": [
       "[((4, 'UTG', 1), 'Stack is >150 Big Blinds', 'Check'),\n",
       " ((7, 'UTG+1', 2), 'Stack is <50 Big Blinds', 'Bet Small / 10%'),\n",
       " ((8, 'UTG+2', 3), 'Stack is <50 Big Blinds', 'Fold / Bet 0%'),\n",
       " ((10, 'MP2', 5), 'Stack is >150 Big Blinds', 'Fold / Bet 0%'),\n",
       " ((6, 'HJ', 6), 'Stack is >150 Big Blinds', 'Go All-In / Bet 100%'),\n",
       " ((5, 'CO', 7), 'Stack is >150 Big Blinds', 'Fold / Bet 0%'),\n",
       " ((1, 'BTN', 8), 'Stack is >50 Big Blinds <150', 'Fold / Bet 0%'),\n",
       " ((2, 'SB', 9), 'Stack is >150 Big Blinds', 'Call / Bet Same as Opponent'),\n",
       " ((3, 'BB', 10), 'Stack is >150 Big Blinds', 'Go All-In / Bet 100%')]"
      ]
     },
     "execution_count": 136,
     "metadata": {},
     "output_type": "execute_result"
    }
   ],
   "source": [
    "FIRST_ROUND_OF_BETTING"
   ]
  },
  {
   "cell_type": "code",
   "execution_count": 137,
   "metadata": {},
   "outputs": [
    {
     "data": {
      "text/plain": [
       "[(4, 'UTG', 1),\n",
       " (7, 'UTG+1', 2),\n",
       " (8, 'UTG+2', 3),\n",
       " (9, 'MP1', 4),\n",
       " (10, 'MP2', 5),\n",
       " (6, 'HJ', 6),\n",
       " (5, 'CO', 7),\n",
       " (1, 'BTN', 8),\n",
       " (2, 'SB', 9),\n",
       " (3, 'BB', 10)]"
      ]
     },
     "execution_count": 137,
     "metadata": {},
     "output_type": "execute_result"
    }
   ],
   "source": [
    "Position_list = [(4,'UTG',1),(7,'UTG+1',2),(8,'UTG+2',3),(9,'MP1',4),(10,'MP2',5),(6,'HJ',6),(5,'CO',7),(1,'BTN',8),(2,'SB',9),(3,'BB',10)]\n",
    "Position_list"
   ]
  },
  {
   "cell_type": "code",
   "execution_count": 138,
   "metadata": {},
   "outputs": [
    {
     "name": "stdout",
     "output_type": "stream",
     "text": [
      "None\n"
     ]
    }
   ],
   "source": [
    "newlist=random.shuffle(FIRST_ROUND_OF_BETTING)\n",
    "print(newlist)"
   ]
  },
  {
   "cell_type": "code",
   "execution_count": 139,
   "metadata": {},
   "outputs": [
    {
     "data": {
      "text/html": [
       "<div>\n",
       "<style scoped>\n",
       "    .dataframe tbody tr th:only-of-type {\n",
       "        vertical-align: middle;\n",
       "    }\n",
       "\n",
       "    .dataframe tbody tr th {\n",
       "        vertical-align: top;\n",
       "    }\n",
       "\n",
       "    .dataframe thead th {\n",
       "        text-align: right;\n",
       "    }\n",
       "</style>\n",
       "<table border=\"1\" class=\"dataframe\">\n",
       "  <thead>\n",
       "    <tr style=\"text-align: right;\">\n",
       "      <th></th>\n",
       "      <th>CARDS</th>\n",
       "      <th>HAND STRENGTH</th>\n",
       "      <th>MY POSITION</th>\n",
       "      <th>MY STACK SIZE</th>\n",
       "      <th>HIGHEST HAND RANK</th>\n",
       "    </tr>\n",
       "  </thead>\n",
       "  <tbody>\n",
       "    <tr>\n",
       "      <th>Preflop</th>\n",
       "      <td>[9c, Ks]</td>\n",
       "      <td>22</td>\n",
       "      <td>MP1</td>\n",
       "      <td>Stack is &lt;50 Big Blinds</td>\n",
       "      <td>13</td>\n",
       "    </tr>\n",
       "    <tr>\n",
       "      <th>Flop</th>\n",
       "      <td>NaN</td>\n",
       "      <td>22</td>\n",
       "      <td>MP1</td>\n",
       "      <td>Stack is &lt;50 Big Blinds</td>\n",
       "      <td>13</td>\n",
       "    </tr>\n",
       "    <tr>\n",
       "      <th>Turn</th>\n",
       "      <td>NaN</td>\n",
       "      <td>22</td>\n",
       "      <td>MP1</td>\n",
       "      <td>Stack is &lt;50 Big Blinds</td>\n",
       "      <td>13</td>\n",
       "    </tr>\n",
       "    <tr>\n",
       "      <th>River</th>\n",
       "      <td>NaN</td>\n",
       "      <td>22</td>\n",
       "      <td>MP1</td>\n",
       "      <td>Stack is &lt;50 Big Blinds</td>\n",
       "      <td>13</td>\n",
       "    </tr>\n",
       "  </tbody>\n",
       "</table>\n",
       "</div>"
      ],
      "text/plain": [
       "            CARDS  HAND STRENGTH MY POSITION            MY STACK SIZE  \\\n",
       "Preflop  [9c, Ks]             22         MP1  Stack is <50 Big Blinds   \n",
       "Flop          NaN             22         MP1  Stack is <50 Big Blinds   \n",
       "Turn          NaN             22         MP1  Stack is <50 Big Blinds   \n",
       "River         NaN             22         MP1  Stack is <50 Big Blinds   \n",
       "\n",
       "         HIGHEST HAND RANK  \n",
       "Preflop                 13  \n",
       "Flop                    13  \n",
       "Turn                    13  \n",
       "River                   13  "
      ]
     },
     "execution_count": 139,
     "metadata": {},
     "output_type": "execute_result"
    }
   ],
   "source": [
    "dfMyHand.at['Preflop','CARDS'] = HAND\n",
    "dfMyHand['HAND STRENGTH']=HAND_STRENGTH\n",
    "dfMyHand['MY POSITION']=My_Position\n",
    "dfMyHand['MY STACK SIZE']=My_Situation[1]\n",
    "dfMyHand['HIGHEST HAND RANK']=HIGHEST_HAND_RANK\n",
    "dfMyHand"
   ]
  },
  {
   "cell_type": "code",
   "execution_count": null,
   "metadata": {},
   "outputs": [],
   "source": []
  },
  {
   "cell_type": "code",
   "execution_count": 140,
   "metadata": {},
   "outputs": [],
   "source": [
    "dfPreflop = dfMyHand"
   ]
  },
  {
   "cell_type": "code",
   "execution_count": 141,
   "metadata": {},
   "outputs": [
    {
     "data": {
      "text/html": [
       "<div>\n",
       "<style scoped>\n",
       "    .dataframe tbody tr th:only-of-type {\n",
       "        vertical-align: middle;\n",
       "    }\n",
       "\n",
       "    .dataframe tbody tr th {\n",
       "        vertical-align: top;\n",
       "    }\n",
       "\n",
       "    .dataframe thead th {\n",
       "        text-align: right;\n",
       "    }\n",
       "</style>\n",
       "<table border=\"1\" class=\"dataframe\">\n",
       "  <thead>\n",
       "    <tr style=\"text-align: right;\">\n",
       "      <th></th>\n",
       "      <th>CARDS</th>\n",
       "      <th>HAND STRENGTH</th>\n",
       "      <th>MY POSITION</th>\n",
       "      <th>MY STACK SIZE</th>\n",
       "      <th>HIGHEST HAND RANK</th>\n",
       "    </tr>\n",
       "  </thead>\n",
       "  <tbody>\n",
       "    <tr>\n",
       "      <th>Preflop</th>\n",
       "      <td>[9c, Ks]</td>\n",
       "      <td>22</td>\n",
       "      <td>MP1</td>\n",
       "      <td>Stack is &lt;50 Big Blinds</td>\n",
       "      <td>13</td>\n",
       "    </tr>\n",
       "    <tr>\n",
       "      <th>Flop</th>\n",
       "      <td>NaN</td>\n",
       "      <td>22</td>\n",
       "      <td>MP1</td>\n",
       "      <td>Stack is &lt;50 Big Blinds</td>\n",
       "      <td>13</td>\n",
       "    </tr>\n",
       "    <tr>\n",
       "      <th>Turn</th>\n",
       "      <td>NaN</td>\n",
       "      <td>22</td>\n",
       "      <td>MP1</td>\n",
       "      <td>Stack is &lt;50 Big Blinds</td>\n",
       "      <td>13</td>\n",
       "    </tr>\n",
       "    <tr>\n",
       "      <th>River</th>\n",
       "      <td>NaN</td>\n",
       "      <td>22</td>\n",
       "      <td>MP1</td>\n",
       "      <td>Stack is &lt;50 Big Blinds</td>\n",
       "      <td>13</td>\n",
       "    </tr>\n",
       "  </tbody>\n",
       "</table>\n",
       "</div>"
      ],
      "text/plain": [
       "            CARDS  HAND STRENGTH MY POSITION            MY STACK SIZE  \\\n",
       "Preflop  [9c, Ks]             22         MP1  Stack is <50 Big Blinds   \n",
       "Flop          NaN             22         MP1  Stack is <50 Big Blinds   \n",
       "Turn          NaN             22         MP1  Stack is <50 Big Blinds   \n",
       "River         NaN             22         MP1  Stack is <50 Big Blinds   \n",
       "\n",
       "         HIGHEST HAND RANK  \n",
       "Preflop                 13  \n",
       "Flop                    13  \n",
       "Turn                    13  \n",
       "River                   13  "
      ]
     },
     "execution_count": 141,
     "metadata": {},
     "output_type": "execute_result"
    }
   ],
   "source": [
    "dfFlop = dfMyHand\n",
    "# dfFlop['FLOP']=str(FLOP)\n",
    "# dfFlop['HIGHEST FLOP RANK']=HIGHEST_FLOP_RANK\n",
    "dfFlop"
   ]
  },
  {
   "cell_type": "code",
   "execution_count": 142,
   "metadata": {},
   "outputs": [],
   "source": [
    "import numpy as np"
   ]
  },
  {
   "cell_type": "code",
   "execution_count": 143,
   "metadata": {},
   "outputs": [
    {
     "data": {
      "text/html": [
       "<div>\n",
       "<style scoped>\n",
       "    .dataframe tbody tr th:only-of-type {\n",
       "        vertical-align: middle;\n",
       "    }\n",
       "\n",
       "    .dataframe tbody tr th {\n",
       "        vertical-align: top;\n",
       "    }\n",
       "\n",
       "    .dataframe thead th {\n",
       "        text-align: right;\n",
       "    }\n",
       "</style>\n",
       "<table border=\"1\" class=\"dataframe\">\n",
       "  <thead>\n",
       "    <tr style=\"text-align: right;\">\n",
       "      <th></th>\n",
       "      <th>CARDS</th>\n",
       "      <th>HAND STRENGTH</th>\n",
       "      <th>MY POSITION</th>\n",
       "      <th>MY STACK SIZE</th>\n",
       "      <th>HIGHEST HAND RANK</th>\n",
       "    </tr>\n",
       "  </thead>\n",
       "  <tbody>\n",
       "    <tr>\n",
       "      <th>Preflop</th>\n",
       "      <td>[9c, Ks]</td>\n",
       "      <td>20</td>\n",
       "      <td>BTN</td>\n",
       "      <td>Stack is &lt;50 Big Blinds</td>\n",
       "      <td>13</td>\n",
       "    </tr>\n",
       "    <tr>\n",
       "      <th>Flop</th>\n",
       "      <td>NaN</td>\n",
       "      <td>20</td>\n",
       "      <td>BTN</td>\n",
       "      <td>Stack is &lt;50 Big Blinds</td>\n",
       "      <td>13</td>\n",
       "    </tr>\n",
       "    <tr>\n",
       "      <th>Turn</th>\n",
       "      <td>NaN</td>\n",
       "      <td>20</td>\n",
       "      <td>BTN</td>\n",
       "      <td>Stack is &lt;50 Big Blinds</td>\n",
       "      <td>13</td>\n",
       "    </tr>\n",
       "    <tr>\n",
       "      <th>River</th>\n",
       "      <td>NaN</td>\n",
       "      <td>20</td>\n",
       "      <td>BTN</td>\n",
       "      <td>Stack is &lt;50 Big Blinds</td>\n",
       "      <td>13</td>\n",
       "    </tr>\n",
       "  </tbody>\n",
       "</table>\n",
       "</div>"
      ],
      "text/plain": [
       "            CARDS  HAND STRENGTH MY POSITION            MY STACK SIZE  \\\n",
       "Preflop  [9c, Ks]             20         BTN  Stack is <50 Big Blinds   \n",
       "Flop          NaN             20         BTN  Stack is <50 Big Blinds   \n",
       "Turn          NaN             20         BTN  Stack is <50 Big Blinds   \n",
       "River         NaN             20         BTN  Stack is <50 Big Blinds   \n",
       "\n",
       "         HIGHEST HAND RANK  \n",
       "Preflop                 13  \n",
       "Flop                    13  \n",
       "Turn                    13  \n",
       "River                   13  "
      ]
     },
     "execution_count": 143,
     "metadata": {},
     "output_type": "execute_result"
    }
   ],
   "source": [
    "###############MANUALLY ENTERED CRITERIA\n",
    "dfPreflop['HAND STRENGTH'] = 20\n",
    "dfPreflop['MY POSITION'] = 'BTN'\n",
    "dfPreflop"
   ]
  },
  {
   "cell_type": "code",
   "execution_count": 144,
   "metadata": {},
   "outputs": [
    {
     "data": {
      "text/html": [
       "<div>\n",
       "<style scoped>\n",
       "    .dataframe tbody tr th:only-of-type {\n",
       "        vertical-align: middle;\n",
       "    }\n",
       "\n",
       "    .dataframe tbody tr th {\n",
       "        vertical-align: top;\n",
       "    }\n",
       "\n",
       "    .dataframe thead th {\n",
       "        text-align: right;\n",
       "    }\n",
       "</style>\n",
       "<table border=\"1\" class=\"dataframe\">\n",
       "  <thead>\n",
       "    <tr style=\"text-align: right;\">\n",
       "      <th></th>\n",
       "      <th>CARDS</th>\n",
       "      <th>HAND STRENGTH</th>\n",
       "      <th>MY POSITION</th>\n",
       "      <th>MY STACK SIZE</th>\n",
       "      <th>HIGHEST HAND RANK</th>\n",
       "      <th>REASONS TO LIMP/BET SMALL</th>\n",
       "    </tr>\n",
       "  </thead>\n",
       "  <tbody>\n",
       "    <tr>\n",
       "      <th>Preflop</th>\n",
       "      <td>[9c, Ks]</td>\n",
       "      <td>20</td>\n",
       "      <td>BTN</td>\n",
       "      <td>Stack is &lt;50 Big Blinds</td>\n",
       "      <td>13</td>\n",
       "      <td>NaN</td>\n",
       "    </tr>\n",
       "    <tr>\n",
       "      <th>Flop</th>\n",
       "      <td>NaN</td>\n",
       "      <td>20</td>\n",
       "      <td>BTN</td>\n",
       "      <td>Stack is &lt;50 Big Blinds</td>\n",
       "      <td>13</td>\n",
       "      <td>NaN</td>\n",
       "    </tr>\n",
       "    <tr>\n",
       "      <th>Turn</th>\n",
       "      <td>NaN</td>\n",
       "      <td>20</td>\n",
       "      <td>BTN</td>\n",
       "      <td>Stack is &lt;50 Big Blinds</td>\n",
       "      <td>13</td>\n",
       "      <td>NaN</td>\n",
       "    </tr>\n",
       "    <tr>\n",
       "      <th>River</th>\n",
       "      <td>NaN</td>\n",
       "      <td>20</td>\n",
       "      <td>BTN</td>\n",
       "      <td>Stack is &lt;50 Big Blinds</td>\n",
       "      <td>13</td>\n",
       "      <td>NaN</td>\n",
       "    </tr>\n",
       "  </tbody>\n",
       "</table>\n",
       "</div>"
      ],
      "text/plain": [
       "            CARDS  HAND STRENGTH MY POSITION            MY STACK SIZE  \\\n",
       "Preflop  [9c, Ks]             20         BTN  Stack is <50 Big Blinds   \n",
       "Flop          NaN             20         BTN  Stack is <50 Big Blinds   \n",
       "Turn          NaN             20         BTN  Stack is <50 Big Blinds   \n",
       "River         NaN             20         BTN  Stack is <50 Big Blinds   \n",
       "\n",
       "         HIGHEST HAND RANK  REASONS TO LIMP/BET SMALL  \n",
       "Preflop                 13                        NaN  \n",
       "Flop                    13                        NaN  \n",
       "Turn                    13                        NaN  \n",
       "River                   13                        NaN  "
      ]
     },
     "execution_count": 144,
     "metadata": {},
     "output_type": "execute_result"
    }
   ],
   "source": [
    "dfPreflop['REASONS TO LIMP/BET SMALL'] = dfPreflop['HAND STRENGTH'].apply(lambda x: '''I'm on the button and the hand is good enough to bet (Q8o [strength 20] or better)''' \n",
    "    if 28 > x > 19 and 'MY POSITION' == 'BTN'else np.NaN)\n",
    "\n",
    "#'''I'm on the button but the hand is not good enough to bet (Q8o [strength 20] or worse)''')                 \n",
    "\n",
    "dfPreflop"
   ]
  },
  {
   "cell_type": "code",
   "execution_count": 145,
   "metadata": {},
   "outputs": [
    {
     "data": {
      "text/html": [
       "<div>\n",
       "<style scoped>\n",
       "    .dataframe tbody tr th:only-of-type {\n",
       "        vertical-align: middle;\n",
       "    }\n",
       "\n",
       "    .dataframe tbody tr th {\n",
       "        vertical-align: top;\n",
       "    }\n",
       "\n",
       "    .dataframe thead th {\n",
       "        text-align: right;\n",
       "    }\n",
       "</style>\n",
       "<table border=\"1\" class=\"dataframe\">\n",
       "  <thead>\n",
       "    <tr style=\"text-align: right;\">\n",
       "      <th></th>\n",
       "      <th>CARDS</th>\n",
       "      <th>HAND STRENGTH</th>\n",
       "      <th>MY POSITION</th>\n",
       "      <th>MY STACK SIZE</th>\n",
       "      <th>HIGHEST HAND RANK</th>\n",
       "      <th>REASONS TO LIMP/BET SMALL</th>\n",
       "    </tr>\n",
       "  </thead>\n",
       "  <tbody>\n",
       "    <tr>\n",
       "      <th>Preflop</th>\n",
       "      <td>[9c, Ks]</td>\n",
       "      <td>20</td>\n",
       "      <td>BTN</td>\n",
       "      <td>Stack is &lt;50 Big Blinds</td>\n",
       "      <td>13</td>\n",
       "      <td>NaN</td>\n",
       "    </tr>\n",
       "    <tr>\n",
       "      <th>Flop</th>\n",
       "      <td>NaN</td>\n",
       "      <td>20</td>\n",
       "      <td>BTN</td>\n",
       "      <td>Stack is &lt;50 Big Blinds</td>\n",
       "      <td>13</td>\n",
       "      <td>NaN</td>\n",
       "    </tr>\n",
       "    <tr>\n",
       "      <th>Turn</th>\n",
       "      <td>NaN</td>\n",
       "      <td>20</td>\n",
       "      <td>BTN</td>\n",
       "      <td>Stack is &lt;50 Big Blinds</td>\n",
       "      <td>13</td>\n",
       "      <td>NaN</td>\n",
       "    </tr>\n",
       "    <tr>\n",
       "      <th>River</th>\n",
       "      <td>NaN</td>\n",
       "      <td>20</td>\n",
       "      <td>BTN</td>\n",
       "      <td>Stack is &lt;50 Big Blinds</td>\n",
       "      <td>13</td>\n",
       "      <td>NaN</td>\n",
       "    </tr>\n",
       "  </tbody>\n",
       "</table>\n",
       "</div>"
      ],
      "text/plain": [
       "            CARDS  HAND STRENGTH MY POSITION            MY STACK SIZE  \\\n",
       "Preflop  [9c, Ks]             20         BTN  Stack is <50 Big Blinds   \n",
       "Flop          NaN             20         BTN  Stack is <50 Big Blinds   \n",
       "Turn          NaN             20         BTN  Stack is <50 Big Blinds   \n",
       "River         NaN             20         BTN  Stack is <50 Big Blinds   \n",
       "\n",
       "         HIGHEST HAND RANK  REASONS TO LIMP/BET SMALL  \n",
       "Preflop                 13                        NaN  \n",
       "Flop                    13                        NaN  \n",
       "Turn                    13                        NaN  \n",
       "River                   13                        NaN  "
      ]
     },
     "execution_count": 145,
     "metadata": {},
     "output_type": "execute_result"
    }
   ],
   "source": [
    "pd.set_option('max_colwidth',800)\n",
    "dfPreflop"
   ]
  },
  {
   "cell_type": "code",
   "execution_count": 146,
   "metadata": {},
   "outputs": [],
   "source": [
    "BET_MEDIUM_REASONS = ['UTG raised, then it folded around to me and Im doing this with a large amount of my range']"
   ]
  },
  {
   "cell_type": "code",
   "execution_count": 147,
   "metadata": {},
   "outputs": [],
   "source": [
    "BET_LARGE_REASONS = ['medium-strength hands identified as such to opponents (small raise) require a larger raise', #Quiz 259: 44suited raise 4x BB\n",
    "                    'bet 3x big blind when deep stacked with a good hand first to act'] #Q264 88 suited preflop first to act\n"
   ]
  },
  {
   "cell_type": "code",
   "execution_count": 148,
   "metadata": {},
   "outputs": [],
   "source": [
    "ALL_IN_REASONS = ['get more value from strong made hands']"
   ]
  },
  {
   "cell_type": "code",
   "execution_count": 149,
   "metadata": {},
   "outputs": [],
   "source": [
    "CHECK_REASONS = ['would have previously checked my range that now improves',\n",
    "                 'marginal made hand with an overcard kicker that makes sense to check '#Q262 Flop\n",
    "                ]"
   ]
  },
  {
   "cell_type": "code",
   "execution_count": 150,
   "metadata": {},
   "outputs": [],
   "source": [
    "FOLD_REASONS = ['not many good cards to come that will help my hand']"
   ]
  },
  {
   "cell_type": "code",
   "execution_count": 151,
   "metadata": {},
   "outputs": [],
   "source": [
    "CALL_REASONS = ['getting good pot-odds to call',\n",
    "                'play the entire hand in-position',\n",
    "                'hand is too strong to fold',\n",
    "                'getting the right price to call',\n",
    "               'my hand is near the top of my range'#Q262-Turn\n",
    "               ]"
   ]
  },
  {
   "cell_type": "code",
   "execution_count": 152,
   "metadata": {},
   "outputs": [],
   "source": [
    "VIBES = ['that he has pocket 7s rather than a made hand']"
   ]
  },
  {
   "cell_type": "code",
   "execution_count": 153,
   "metadata": {},
   "outputs": [],
   "source": [
    "CARDS = ('Ah', '2h', '3h', '4h', '5h', '6h', '7h', '8h', '9h', '10h', 'Jh', 'Qh', 'Kh', 'Ac', '2c', '3c', '4c', '5c', '6c', '7c', '8c', '9c', '10c', 'Jc', 'Qc', 'Kc', 'As', '2s', '3s', '4s', '5s', '6s', '7s', '8s', '9s', '10s', 'Js', 'Qs', 'Ks', 'Ad', '2d', '3d', '4d', '5d', '6d', '7d', '8d', '9d', '10d', 'Jd', 'Qd', 'Kd')\n"
   ]
  },
  {
   "cell_type": "code",
   "execution_count": 154,
   "metadata": {},
   "outputs": [
    {
     "data": {
      "text/plain": [
       "('Ah',\n",
       " '2h',\n",
       " '3h',\n",
       " '4h',\n",
       " '5h',\n",
       " '6h',\n",
       " '7h',\n",
       " '8h',\n",
       " '9h',\n",
       " '10h',\n",
       " 'Jh',\n",
       " 'Qh',\n",
       " 'Kh',\n",
       " 'Ac',\n",
       " '2c',\n",
       " '3c',\n",
       " '4c',\n",
       " '5c',\n",
       " '6c',\n",
       " '7c',\n",
       " '8c',\n",
       " '9c',\n",
       " '10c',\n",
       " 'Jc',\n",
       " 'Qc',\n",
       " 'Kc',\n",
       " 'As',\n",
       " '2s',\n",
       " '3s',\n",
       " '4s',\n",
       " '5s',\n",
       " '6s',\n",
       " '7s',\n",
       " '8s',\n",
       " '9s',\n",
       " '10s',\n",
       " 'Js',\n",
       " 'Qs',\n",
       " 'Ks',\n",
       " 'Ad',\n",
       " '2d',\n",
       " '3d',\n",
       " '4d',\n",
       " '5d',\n",
       " '6d',\n",
       " '7d',\n",
       " '8d',\n",
       " '9d',\n",
       " '10d',\n",
       " 'Jd',\n",
       " 'Qd',\n",
       " 'Kd')"
      ]
     },
     "execution_count": 154,
     "metadata": {},
     "output_type": "execute_result"
    }
   ],
   "source": [
    "CARDS"
   ]
  },
  {
   "cell_type": "code",
   "execution_count": 155,
   "metadata": {},
   "outputs": [],
   "source": [
    "# SIMPLIFIED_ACTIONS_THROUGH_TO_YOU = [word.replace('bet large (initial bet or raise/re-raise)','bet large') for word in ACTIONS_THROUGH_TO_YOU]\n",
    "# SIMPLIFIED_ACTIONS_THROUGH_TO_YOU = [word.replace('bet medium (initial bet or raise/re-raise)','bet medium') for word in SIMPLIFIED_ACTIONS_THROUGH_TO_YOU]\n",
    "# SIMPLIFIED_ACTIONS_THROUGH_TO_YOU = [word.replace('bet small (initial bet or min-raise)','bet small') for word in SIMPLIFIED_ACTIONS_THROUGH_TO_YOU]\n",
    "\n",
    "# SIMPLIFIED_ACTIONS_THROUGH_TO_YOU\n"
   ]
  },
  {
   "cell_type": "code",
   "execution_count": 156,
   "metadata": {},
   "outputs": [],
   "source": [
    "#FOLD TO YOU PREFLOP\n",
    "\n",
    "# FOLD_TO_YOU = ACTIONS_THROUGH_TO_YOU\n",
    "\n",
    "# for n, i in enumerate(FOLD_TO_YOU):\n",
    "#     if i != 'YOUR MOVE':\n",
    "#         FOLD_TO_YOU[n] = 'fold'\n",
    "\n",
    "# FOLD_TO_YOU"
   ]
  },
  {
   "cell_type": "code",
   "execution_count": 157,
   "metadata": {},
   "outputs": [],
   "source": [
    "#UTG BET THEN FOLD TO YOU PREFLOP\n",
    "\n",
    "# UTG_BET_FOLD_TO_YOU = ACTIONS_THROUGH_TO_YOU#SIMPLIFIED_ACTIONS_THROUGH_TO_YOU\n",
    "\n",
    "# for n, i in enumerate(UTG_BET_FOLD_TO_YOU):\n",
    "#     if i != 'YOUR MOVE':\n",
    "#         UTG_BET_FOLD_TO_YOU[n] = 'fold'\n",
    "\n",
    "# UTG_BET_FOLD_TO_YOU[0] = 'bet'\n",
    "# UTG_BET_FOLD_TO_YOU"
   ]
  },
  {
   "cell_type": "code",
   "execution_count": 158,
   "metadata": {},
   "outputs": [],
   "source": [
    "# n = 1\n",
    "# ACTIONS_THROUGH_TO_YOU = [x[n] for x in POSITIONS_STACKS_ACTIONS_THROUGH_TO_YOU ]\n",
    "# ACTIONS_THROUGH_TO_YOU"
   ]
  },
  {
   "cell_type": "code",
   "execution_count": 159,
   "metadata": {},
   "outputs": [],
   "source": [
    "#ACTIONS_THROUGH_TO_YOU_'BET'\n"
   ]
  },
  {
   "cell_type": "code",
   "execution_count": 160,
   "metadata": {},
   "outputs": [],
   "source": [
    "# FOLD_TO_YOU_DATAFRAME = pd.DataFrame({'Action': FOLD_TO_YOU})\n",
    "# FOLD_TO_YOU_DATAFRAME"
   ]
  },
  {
   "cell_type": "code",
   "execution_count": 161,
   "metadata": {},
   "outputs": [],
   "source": [
    "# ACTUAL_ACTIONS_DATAFRAME = pd.DataFrame({'Action': ACTIONS_THROUGH_TO_YOU})#SIMPLIFIED_ACTIONS_THROUGH_TO_YOU})\n",
    "# ACTUAL_ACTIONS_DATAFRAME"
   ]
  },
  {
   "cell_type": "code",
   "execution_count": 162,
   "metadata": {},
   "outputs": [],
   "source": [
    "# ACTUAL_ACTIONS_ARRAY = ACTUAL_ACTIONS_DATAFRAME['Action'].unique()\n",
    "# ACTUAL_ACTIONS_ARRAY"
   ]
  },
  {
   "cell_type": "code",
   "execution_count": 163,
   "metadata": {},
   "outputs": [],
   "source": [
    "# # SIMPLIFIED_ACTIONS_THROUGH_TO_YOU_ARRAY = np.array(SIMPLIFIED_ACTIONS_THROUGH_TO_YOU, dtype=object)\n",
    "# # SIMPLIFIED_ACTIONS_THROUGH_TO_YOU_ARRAY\n",
    "# ACTIONS_THROUGH_TO_YOU_ARRAY = np.array(ACTIONS_THROUGH_TO_YOU, dtype= object)\n",
    "# ACTIONS_THROUGH_TO_YOU"
   ]
  },
  {
   "cell_type": "code",
   "execution_count": 164,
   "metadata": {},
   "outputs": [],
   "source": [
    "# #Are all actions prior to you folds?\n",
    "# FOLD_TO_YOU = FOLD_TO_YOU_DATAFRAME['Action'].unique()\n",
    "# FOLD_TO_YOU"
   ]
  },
  {
   "cell_type": "code",
   "execution_count": 165,
   "metadata": {},
   "outputs": [
    {
     "data": {
      "text/plain": [
       "array(['fold', 'YOUR MOVE'], dtype=object)"
      ]
     },
     "execution_count": 165,
     "metadata": {},
     "output_type": "execute_result"
    }
   ],
   "source": [
    "import numpy as np\n",
    "FOLD_ARRAY = np.array(['fold', 'YOUR MOVE'], dtype=object)\n",
    "FOLD_ARRAY"
   ]
  },
  {
   "cell_type": "code",
   "execution_count": 166,
   "metadata": {},
   "outputs": [],
   "source": [
    "# np.array_equal(FOLD_TO_YOU,FOLD_ARRAY)"
   ]
  },
  {
   "cell_type": "code",
   "execution_count": 167,
   "metadata": {},
   "outputs": [],
   "source": [
    "if HAND_STRENGTH < 25:\n",
    "    dfPreflop['REASONS TO FOLD'] = 'Hand is too weak to call'\n",
    "else: np.NaN"
   ]
  },
  {
   "cell_type": "code",
   "execution_count": 168,
   "metadata": {},
   "outputs": [
    {
     "data": {
      "text/html": [
       "<div>\n",
       "<style scoped>\n",
       "    .dataframe tbody tr th:only-of-type {\n",
       "        vertical-align: middle;\n",
       "    }\n",
       "\n",
       "    .dataframe tbody tr th {\n",
       "        vertical-align: top;\n",
       "    }\n",
       "\n",
       "    .dataframe thead th {\n",
       "        text-align: right;\n",
       "    }\n",
       "</style>\n",
       "<table border=\"1\" class=\"dataframe\">\n",
       "  <thead>\n",
       "    <tr style=\"text-align: right;\">\n",
       "      <th></th>\n",
       "      <th>CARDS</th>\n",
       "      <th>HAND STRENGTH</th>\n",
       "      <th>MY POSITION</th>\n",
       "      <th>MY STACK SIZE</th>\n",
       "      <th>HIGHEST HAND RANK</th>\n",
       "      <th>REASONS TO LIMP/BET SMALL</th>\n",
       "      <th>REASONS TO FOLD</th>\n",
       "    </tr>\n",
       "  </thead>\n",
       "  <tbody>\n",
       "    <tr>\n",
       "      <th>Preflop</th>\n",
       "      <td>[9c, Ks]</td>\n",
       "      <td>20</td>\n",
       "      <td>BTN</td>\n",
       "      <td>Stack is &lt;50 Big Blinds</td>\n",
       "      <td>13</td>\n",
       "      <td>NaN</td>\n",
       "      <td>Hand is too weak to call</td>\n",
       "    </tr>\n",
       "    <tr>\n",
       "      <th>Flop</th>\n",
       "      <td>NaN</td>\n",
       "      <td>20</td>\n",
       "      <td>BTN</td>\n",
       "      <td>Stack is &lt;50 Big Blinds</td>\n",
       "      <td>13</td>\n",
       "      <td>NaN</td>\n",
       "      <td>Hand is too weak to call</td>\n",
       "    </tr>\n",
       "    <tr>\n",
       "      <th>Turn</th>\n",
       "      <td>NaN</td>\n",
       "      <td>20</td>\n",
       "      <td>BTN</td>\n",
       "      <td>Stack is &lt;50 Big Blinds</td>\n",
       "      <td>13</td>\n",
       "      <td>NaN</td>\n",
       "      <td>Hand is too weak to call</td>\n",
       "    </tr>\n",
       "    <tr>\n",
       "      <th>River</th>\n",
       "      <td>NaN</td>\n",
       "      <td>20</td>\n",
       "      <td>BTN</td>\n",
       "      <td>Stack is &lt;50 Big Blinds</td>\n",
       "      <td>13</td>\n",
       "      <td>NaN</td>\n",
       "      <td>Hand is too weak to call</td>\n",
       "    </tr>\n",
       "  </tbody>\n",
       "</table>\n",
       "</div>"
      ],
      "text/plain": [
       "            CARDS  HAND STRENGTH MY POSITION            MY STACK SIZE  \\\n",
       "Preflop  [9c, Ks]             20         BTN  Stack is <50 Big Blinds   \n",
       "Flop          NaN             20         BTN  Stack is <50 Big Blinds   \n",
       "Turn          NaN             20         BTN  Stack is <50 Big Blinds   \n",
       "River         NaN             20         BTN  Stack is <50 Big Blinds   \n",
       "\n",
       "         HIGHEST HAND RANK  REASONS TO LIMP/BET SMALL  \\\n",
       "Preflop                 13                        NaN   \n",
       "Flop                    13                        NaN   \n",
       "Turn                    13                        NaN   \n",
       "River                   13                        NaN   \n",
       "\n",
       "                  REASONS TO FOLD  \n",
       "Preflop  Hand is too weak to call  \n",
       "Flop     Hand is too weak to call  \n",
       "Turn     Hand is too weak to call  \n",
       "River    Hand is too weak to call  "
      ]
     },
     "execution_count": 168,
     "metadata": {},
     "output_type": "execute_result"
    }
   ],
   "source": [
    "#Limp if everyone folded to me in the small blind because I'm doing this with a large amount of my range: All previous actions are FOLD and my position is SB pre-flop\n",
    "\n",
    "dfPreflop['REASONS TO LIMP/BET SMALL'] = dfPreflop['MY POSITION'].apply(lambda x: '''Everyone folded to me in the small blind and I'm limping with a large amount of my range''' if x == 'SB'\n",
    "    and np.array_equal(FOLD_TO_YOU,ACTUAL_ACTIONS_ARRAY) == True\n",
    "    else np.NaN)\n",
    "dfPreflop"
   ]
  },
  {
   "cell_type": "code",
   "execution_count": 169,
   "metadata": {},
   "outputs": [
    {
     "data": {
      "text/plain": [
       "9"
      ]
     },
     "execution_count": 169,
     "metadata": {},
     "output_type": "execute_result"
    }
   ],
   "source": [
    "FLOP_2_RANK"
   ]
  },
  {
   "cell_type": "code",
   "execution_count": 170,
   "metadata": {},
   "outputs": [
    {
     "data": {
      "text/plain": [
       "10"
      ]
     },
     "execution_count": 170,
     "metadata": {},
     "output_type": "execute_result"
    }
   ],
   "source": [
    "FLOP_3_RANK"
   ]
  },
  {
   "cell_type": "code",
   "execution_count": 171,
   "metadata": {},
   "outputs": [
    {
     "data": {
      "text/plain": [
       "[9, 13]"
      ]
     },
     "execution_count": 171,
     "metadata": {},
     "output_type": "execute_result"
    }
   ],
   "source": [
    "HAND_RANKS_ONLY = [HAND_1_RANK, HAND_2_RANK]\n",
    "HAND_RANKS_ONLY"
   ]
  },
  {
   "cell_type": "code",
   "execution_count": 172,
   "metadata": {},
   "outputs": [
    {
     "data": {
      "text/plain": [
       "[10, 9, 10]"
      ]
     },
     "execution_count": 172,
     "metadata": {},
     "output_type": "execute_result"
    }
   ],
   "source": [
    "FLOP_RANKS_ONLY = [FLOP_1_RANK, FLOP_2_RANK, FLOP_3_RANK]\n",
    "FLOP_RANKS_ONLY"
   ]
  },
  {
   "cell_type": "code",
   "execution_count": 173,
   "metadata": {},
   "outputs": [
    {
     "data": {
      "text/plain": [
       "4"
      ]
     },
     "execution_count": 173,
     "metadata": {},
     "output_type": "execute_result"
    }
   ],
   "source": [
    "TURN_RANK"
   ]
  },
  {
   "cell_type": "code",
   "execution_count": 174,
   "metadata": {},
   "outputs": [
    {
     "data": {
      "text/plain": [
       "['As', '2s']"
      ]
     },
     "execution_count": 174,
     "metadata": {},
     "output_type": "execute_result"
    }
   ],
   "source": [
    "HAND = ['As', '2s']\n",
    "HAND"
   ]
  },
  {
   "cell_type": "code",
   "execution_count": 175,
   "metadata": {},
   "outputs": [
    {
     "data": {
      "text/plain": [
       "22"
      ]
     },
     "execution_count": 175,
     "metadata": {},
     "output_type": "execute_result"
    }
   ],
   "source": [
    "HAND_STRENGTH"
   ]
  },
  {
   "cell_type": "code",
   "execution_count": 176,
   "metadata": {},
   "outputs": [
    {
     "data": {
      "text/html": [
       "<div>\n",
       "<style scoped>\n",
       "    .dataframe tbody tr th:only-of-type {\n",
       "        vertical-align: middle;\n",
       "    }\n",
       "\n",
       "    .dataframe tbody tr th {\n",
       "        vertical-align: top;\n",
       "    }\n",
       "\n",
       "    .dataframe thead th {\n",
       "        text-align: right;\n",
       "    }\n",
       "</style>\n",
       "<table border=\"1\" class=\"dataframe\">\n",
       "  <thead>\n",
       "    <tr style=\"text-align: right;\">\n",
       "      <th></th>\n",
       "      <th>CARDS</th>\n",
       "      <th>HAND STRENGTH</th>\n",
       "      <th>MY POSITION</th>\n",
       "      <th>MY STACK SIZE</th>\n",
       "      <th>HIGHEST HAND RANK</th>\n",
       "      <th>REASONS TO LIMP/BET SMALL</th>\n",
       "      <th>REASONS TO FOLD</th>\n",
       "    </tr>\n",
       "  </thead>\n",
       "  <tbody>\n",
       "    <tr>\n",
       "      <th>Preflop</th>\n",
       "      <td>[9c, Ks]</td>\n",
       "      <td>20</td>\n",
       "      <td>BTN</td>\n",
       "      <td>Stack is &lt;50 Big Blinds</td>\n",
       "      <td>13</td>\n",
       "      <td>NaN</td>\n",
       "      <td>Hand is too weak to call</td>\n",
       "    </tr>\n",
       "    <tr>\n",
       "      <th>Flop</th>\n",
       "      <td>NaN</td>\n",
       "      <td>20</td>\n",
       "      <td>BTN</td>\n",
       "      <td>Stack is &lt;50 Big Blinds</td>\n",
       "      <td>13</td>\n",
       "      <td>NaN</td>\n",
       "      <td>Hand is too weak to call</td>\n",
       "    </tr>\n",
       "    <tr>\n",
       "      <th>Turn</th>\n",
       "      <td>NaN</td>\n",
       "      <td>20</td>\n",
       "      <td>BTN</td>\n",
       "      <td>Stack is &lt;50 Big Blinds</td>\n",
       "      <td>13</td>\n",
       "      <td>NaN</td>\n",
       "      <td>Hand is too weak to call</td>\n",
       "    </tr>\n",
       "    <tr>\n",
       "      <th>River</th>\n",
       "      <td>NaN</td>\n",
       "      <td>20</td>\n",
       "      <td>BTN</td>\n",
       "      <td>Stack is &lt;50 Big Blinds</td>\n",
       "      <td>13</td>\n",
       "      <td>NaN</td>\n",
       "      <td>Hand is too weak to call</td>\n",
       "    </tr>\n",
       "  </tbody>\n",
       "</table>\n",
       "</div>"
      ],
      "text/plain": [
       "            CARDS  HAND STRENGTH MY POSITION            MY STACK SIZE  \\\n",
       "Preflop  [9c, Ks]             20         BTN  Stack is <50 Big Blinds   \n",
       "Flop          NaN             20         BTN  Stack is <50 Big Blinds   \n",
       "Turn          NaN             20         BTN  Stack is <50 Big Blinds   \n",
       "River         NaN             20         BTN  Stack is <50 Big Blinds   \n",
       "\n",
       "         HIGHEST HAND RANK  REASONS TO LIMP/BET SMALL  \\\n",
       "Preflop                 13                        NaN   \n",
       "Flop                    13                        NaN   \n",
       "Turn                    13                        NaN   \n",
       "River                   13                        NaN   \n",
       "\n",
       "                  REASONS TO FOLD  \n",
       "Preflop  Hand is too weak to call  \n",
       "Flop     Hand is too weak to call  \n",
       "Turn     Hand is too weak to call  \n",
       "River    Hand is too weak to call  "
      ]
     },
     "execution_count": 176,
     "metadata": {},
     "output_type": "execute_result"
    }
   ],
   "source": [
    "dfPreflop"
   ]
  },
  {
   "cell_type": "code",
   "execution_count": 177,
   "metadata": {},
   "outputs": [
    {
     "data": {
      "text/plain": [
       "[9]"
      ]
     },
     "execution_count": 177,
     "metadata": {},
     "output_type": "execute_result"
    }
   ],
   "source": [
    "PAIR = [x for x in HAND_RANKS_ONLY if x in FLOP_RANKS_ONLY]\n",
    "PAIR"
   ]
  },
  {
   "cell_type": "code",
   "execution_count": 178,
   "metadata": {},
   "outputs": [
    {
     "data": {
      "text/plain": [
       "[9]"
      ]
     },
     "execution_count": 178,
     "metadata": {},
     "output_type": "execute_result"
    }
   ],
   "source": [
    "PAIR"
   ]
  },
  {
   "cell_type": "code",
   "execution_count": 179,
   "metadata": {},
   "outputs": [],
   "source": [
    "# PAIR[0]"
   ]
  },
  {
   "cell_type": "code",
   "execution_count": 180,
   "metadata": {},
   "outputs": [],
   "source": [
    "#if there is a number in PAIR, PAIR_STRENGTH = 4. NOT SURE HOW THIS CODE IS WORKING\n",
    "# if 1 in PAIR: PAIR_STRENGTH = 4\n",
    "# else: PAIR_STRENTGH = 0\n",
    "# PAIR_STRENGTH"
   ]
  },
  {
   "cell_type": "code",
   "execution_count": 181,
   "metadata": {},
   "outputs": [
    {
     "data": {
      "text/plain": [
       "['10s', '9d', '10h']"
      ]
     },
     "execution_count": 181,
     "metadata": {},
     "output_type": "execute_result"
    }
   ],
   "source": [
    "FLOP"
   ]
  },
  {
   "cell_type": "code",
   "execution_count": 182,
   "metadata": {},
   "outputs": [
    {
     "data": {
      "text/plain": [
       "'5c'"
      ]
     },
     "execution_count": 182,
     "metadata": {},
     "output_type": "execute_result"
    }
   ],
   "source": [
    "BURN1"
   ]
  },
  {
   "cell_type": "code",
   "execution_count": 183,
   "metadata": {},
   "outputs": [
    {
     "data": {
      "text/plain": [
       "'4h'"
      ]
     },
     "execution_count": 183,
     "metadata": {},
     "output_type": "execute_result"
    }
   ],
   "source": [
    "TURN"
   ]
  },
  {
   "cell_type": "code",
   "execution_count": 184,
   "metadata": {},
   "outputs": [
    {
     "data": {
      "text/plain": [
       "'10d'"
      ]
     },
     "execution_count": 184,
     "metadata": {},
     "output_type": "execute_result"
    }
   ],
   "source": [
    "BURN2"
   ]
  },
  {
   "cell_type": "code",
   "execution_count": 185,
   "metadata": {},
   "outputs": [
    {
     "data": {
      "text/plain": [
       "'2s'"
      ]
     },
     "execution_count": 185,
     "metadata": {},
     "output_type": "execute_result"
    }
   ],
   "source": [
    "RIVER"
   ]
  },
  {
   "cell_type": "code",
   "execution_count": null,
   "metadata": {},
   "outputs": [],
   "source": []
  },
  {
   "cell_type": "code",
   "execution_count": 186,
   "metadata": {},
   "outputs": [
    {
     "data": {
      "text/plain": [
       "22"
      ]
     },
     "execution_count": 186,
     "metadata": {},
     "output_type": "execute_result"
    }
   ],
   "source": [
    "HAND_STRENGTH"
   ]
  },
  {
   "cell_type": "code",
   "execution_count": 187,
   "metadata": {},
   "outputs": [
    {
     "data": {
      "text/html": [
       "<div>\n",
       "<style scoped>\n",
       "    .dataframe tbody tr th:only-of-type {\n",
       "        vertical-align: middle;\n",
       "    }\n",
       "\n",
       "    .dataframe tbody tr th {\n",
       "        vertical-align: top;\n",
       "    }\n",
       "\n",
       "    .dataframe thead th {\n",
       "        text-align: right;\n",
       "    }\n",
       "</style>\n",
       "<table border=\"1\" class=\"dataframe\">\n",
       "  <thead>\n",
       "    <tr style=\"text-align: right;\">\n",
       "      <th></th>\n",
       "      <th>CARDS</th>\n",
       "      <th>HAND STRENGTH</th>\n",
       "      <th>MY POSITION</th>\n",
       "      <th>MY STACK SIZE</th>\n",
       "      <th>HIGHEST HAND RANK</th>\n",
       "      <th>REASONS TO LIMP/BET SMALL</th>\n",
       "      <th>REASONS TO FOLD</th>\n",
       "    </tr>\n",
       "  </thead>\n",
       "  <tbody>\n",
       "    <tr>\n",
       "      <th>Preflop</th>\n",
       "      <td>[9c, Ks]</td>\n",
       "      <td>20</td>\n",
       "      <td>BTN</td>\n",
       "      <td>Stack is &lt;50 Big Blinds</td>\n",
       "      <td>13</td>\n",
       "      <td>NaN</td>\n",
       "      <td>Hand is too weak to call</td>\n",
       "    </tr>\n",
       "    <tr>\n",
       "      <th>Flop</th>\n",
       "      <td>NaN</td>\n",
       "      <td>20</td>\n",
       "      <td>BTN</td>\n",
       "      <td>Stack is &lt;50 Big Blinds</td>\n",
       "      <td>13</td>\n",
       "      <td>NaN</td>\n",
       "      <td>Hand is too weak to call</td>\n",
       "    </tr>\n",
       "    <tr>\n",
       "      <th>Turn</th>\n",
       "      <td>NaN</td>\n",
       "      <td>20</td>\n",
       "      <td>BTN</td>\n",
       "      <td>Stack is &lt;50 Big Blinds</td>\n",
       "      <td>13</td>\n",
       "      <td>NaN</td>\n",
       "      <td>Hand is too weak to call</td>\n",
       "    </tr>\n",
       "    <tr>\n",
       "      <th>River</th>\n",
       "      <td>NaN</td>\n",
       "      <td>20</td>\n",
       "      <td>BTN</td>\n",
       "      <td>Stack is &lt;50 Big Blinds</td>\n",
       "      <td>13</td>\n",
       "      <td>NaN</td>\n",
       "      <td>Hand is too weak to call</td>\n",
       "    </tr>\n",
       "  </tbody>\n",
       "</table>\n",
       "</div>"
      ],
      "text/plain": [
       "            CARDS  HAND STRENGTH MY POSITION            MY STACK SIZE  \\\n",
       "Preflop  [9c, Ks]             20         BTN  Stack is <50 Big Blinds   \n",
       "Flop          NaN             20         BTN  Stack is <50 Big Blinds   \n",
       "Turn          NaN             20         BTN  Stack is <50 Big Blinds   \n",
       "River         NaN             20         BTN  Stack is <50 Big Blinds   \n",
       "\n",
       "         HIGHEST HAND RANK  REASONS TO LIMP/BET SMALL  \\\n",
       "Preflop                 13                        NaN   \n",
       "Flop                    13                        NaN   \n",
       "Turn                    13                        NaN   \n",
       "River                   13                        NaN   \n",
       "\n",
       "                  REASONS TO FOLD  \n",
       "Preflop  Hand is too weak to call  \n",
       "Flop     Hand is too weak to call  \n",
       "Turn     Hand is too weak to call  \n",
       "River    Hand is too weak to call  "
      ]
     },
     "execution_count": 187,
     "metadata": {},
     "output_type": "execute_result"
    }
   ],
   "source": [
    "dfPreflop"
   ]
  },
  {
   "cell_type": "code",
   "execution_count": 188,
   "metadata": {},
   "outputs": [
    {
     "data": {
      "text/html": [
       "<div>\n",
       "<style scoped>\n",
       "    .dataframe tbody tr th:only-of-type {\n",
       "        vertical-align: middle;\n",
       "    }\n",
       "\n",
       "    .dataframe tbody tr th {\n",
       "        vertical-align: top;\n",
       "    }\n",
       "\n",
       "    .dataframe thead th {\n",
       "        text-align: right;\n",
       "    }\n",
       "</style>\n",
       "<table border=\"1\" class=\"dataframe\">\n",
       "  <thead>\n",
       "    <tr style=\"text-align: right;\">\n",
       "      <th></th>\n",
       "      <th>CARDS</th>\n",
       "      <th>HAND STRENGTH</th>\n",
       "      <th>MY POSITION</th>\n",
       "      <th>MY STACK SIZE</th>\n",
       "      <th>HIGHEST HAND RANK</th>\n",
       "      <th>REASONS TO LIMP/BET SMALL</th>\n",
       "      <th>REASONS TO FOLD</th>\n",
       "      <th>REASONS TO RAISE</th>\n",
       "    </tr>\n",
       "  </thead>\n",
       "  <tbody>\n",
       "    <tr>\n",
       "      <th>Preflop</th>\n",
       "      <td>[9c, Ks]</td>\n",
       "      <td>20</td>\n",
       "      <td>BTN</td>\n",
       "      <td>Stack is &lt;50 Big Blinds</td>\n",
       "      <td>13</td>\n",
       "      <td>NaN</td>\n",
       "      <td>Hand is too weak to call</td>\n",
       "      <td>NaN</td>\n",
       "    </tr>\n",
       "    <tr>\n",
       "      <th>Flop</th>\n",
       "      <td>NaN</td>\n",
       "      <td>20</td>\n",
       "      <td>BTN</td>\n",
       "      <td>Stack is &lt;50 Big Blinds</td>\n",
       "      <td>13</td>\n",
       "      <td>NaN</td>\n",
       "      <td>Hand is too weak to call</td>\n",
       "      <td>NaN</td>\n",
       "    </tr>\n",
       "    <tr>\n",
       "      <th>Turn</th>\n",
       "      <td>NaN</td>\n",
       "      <td>20</td>\n",
       "      <td>BTN</td>\n",
       "      <td>Stack is &lt;50 Big Blinds</td>\n",
       "      <td>13</td>\n",
       "      <td>NaN</td>\n",
       "      <td>Hand is too weak to call</td>\n",
       "      <td>NaN</td>\n",
       "    </tr>\n",
       "    <tr>\n",
       "      <th>River</th>\n",
       "      <td>NaN</td>\n",
       "      <td>20</td>\n",
       "      <td>BTN</td>\n",
       "      <td>Stack is &lt;50 Big Blinds</td>\n",
       "      <td>13</td>\n",
       "      <td>NaN</td>\n",
       "      <td>Hand is too weak to call</td>\n",
       "      <td>NaN</td>\n",
       "    </tr>\n",
       "  </tbody>\n",
       "</table>\n",
       "</div>"
      ],
      "text/plain": [
       "            CARDS  HAND STRENGTH MY POSITION            MY STACK SIZE  \\\n",
       "Preflop  [9c, Ks]             20         BTN  Stack is <50 Big Blinds   \n",
       "Flop          NaN             20         BTN  Stack is <50 Big Blinds   \n",
       "Turn          NaN             20         BTN  Stack is <50 Big Blinds   \n",
       "River         NaN             20         BTN  Stack is <50 Big Blinds   \n",
       "\n",
       "         HIGHEST HAND RANK  REASONS TO LIMP/BET SMALL  \\\n",
       "Preflop                 13                        NaN   \n",
       "Flop                    13                        NaN   \n",
       "Turn                    13                        NaN   \n",
       "River                   13                        NaN   \n",
       "\n",
       "                  REASONS TO FOLD  REASONS TO RAISE  \n",
       "Preflop  Hand is too weak to call               NaN  \n",
       "Flop     Hand is too weak to call               NaN  \n",
       "Turn     Hand is too weak to call               NaN  \n",
       "River    Hand is too weak to call               NaN  "
      ]
     },
     "execution_count": 188,
     "metadata": {},
     "output_type": "execute_result"
    }
   ],
   "source": [
    "dfPreflop['REASONS TO RAISE'] = dfPreflop['HAND STRENGTH'].apply(lambda x: '''Hand makes marginal top pair''' \n",
    "    if x == HIGHEST_HAND_RANK and 8 < x < 12 else np.NaN)\n",
    "\n",
    "#'''I'm on the button but the hand is not good enough to bet (Q8o [strength 20] or better)''')                 \n",
    "\n",
    "dfPreflop"
   ]
  },
  {
   "cell_type": "code",
   "execution_count": 189,
   "metadata": {},
   "outputs": [
    {
     "data": {
      "text/plain": [
       "22"
      ]
     },
     "execution_count": 189,
     "metadata": {},
     "output_type": "execute_result"
    }
   ],
   "source": [
    "HAND_STRENGTH"
   ]
  },
  {
   "cell_type": "code",
   "execution_count": 190,
   "metadata": {},
   "outputs": [
    {
     "data": {
      "text/html": [
       "<div>\n",
       "<style scoped>\n",
       "    .dataframe tbody tr th:only-of-type {\n",
       "        vertical-align: middle;\n",
       "    }\n",
       "\n",
       "    .dataframe tbody tr th {\n",
       "        vertical-align: top;\n",
       "    }\n",
       "\n",
       "    .dataframe thead th {\n",
       "        text-align: right;\n",
       "    }\n",
       "</style>\n",
       "<table border=\"1\" class=\"dataframe\">\n",
       "  <thead>\n",
       "    <tr style=\"text-align: right;\">\n",
       "      <th></th>\n",
       "      <th>CARDS</th>\n",
       "      <th>HAND STRENGTH</th>\n",
       "      <th>MY POSITION</th>\n",
       "      <th>MY STACK SIZE</th>\n",
       "      <th>HIGHEST HAND RANK</th>\n",
       "      <th>REASONS TO LIMP/BET SMALL</th>\n",
       "      <th>REASONS TO FOLD</th>\n",
       "      <th>REASONS TO RAISE</th>\n",
       "    </tr>\n",
       "  </thead>\n",
       "  <tbody>\n",
       "    <tr>\n",
       "      <th>Preflop</th>\n",
       "      <td>[9c, Ks]</td>\n",
       "      <td>20</td>\n",
       "      <td>BTN</td>\n",
       "      <td>Stack is &lt;50 Big Blinds</td>\n",
       "      <td>13</td>\n",
       "      <td>NaN</td>\n",
       "      <td>Hand is too weak to call</td>\n",
       "      <td>NaN</td>\n",
       "    </tr>\n",
       "    <tr>\n",
       "      <th>Flop</th>\n",
       "      <td>NaN</td>\n",
       "      <td>20</td>\n",
       "      <td>BTN</td>\n",
       "      <td>Stack is &lt;50 Big Blinds</td>\n",
       "      <td>13</td>\n",
       "      <td>NaN</td>\n",
       "      <td>Hand is too weak to call</td>\n",
       "      <td>NaN</td>\n",
       "    </tr>\n",
       "    <tr>\n",
       "      <th>Turn</th>\n",
       "      <td>NaN</td>\n",
       "      <td>20</td>\n",
       "      <td>BTN</td>\n",
       "      <td>Stack is &lt;50 Big Blinds</td>\n",
       "      <td>13</td>\n",
       "      <td>NaN</td>\n",
       "      <td>Hand is too weak to call</td>\n",
       "      <td>NaN</td>\n",
       "    </tr>\n",
       "    <tr>\n",
       "      <th>River</th>\n",
       "      <td>NaN</td>\n",
       "      <td>20</td>\n",
       "      <td>BTN</td>\n",
       "      <td>Stack is &lt;50 Big Blinds</td>\n",
       "      <td>13</td>\n",
       "      <td>NaN</td>\n",
       "      <td>Hand is too weak to call</td>\n",
       "      <td>NaN</td>\n",
       "    </tr>\n",
       "  </tbody>\n",
       "</table>\n",
       "</div>"
      ],
      "text/plain": [
       "            CARDS  HAND STRENGTH MY POSITION            MY STACK SIZE  \\\n",
       "Preflop  [9c, Ks]             20         BTN  Stack is <50 Big Blinds   \n",
       "Flop          NaN             20         BTN  Stack is <50 Big Blinds   \n",
       "Turn          NaN             20         BTN  Stack is <50 Big Blinds   \n",
       "River         NaN             20         BTN  Stack is <50 Big Blinds   \n",
       "\n",
       "         HIGHEST HAND RANK  REASONS TO LIMP/BET SMALL  \\\n",
       "Preflop                 13                        NaN   \n",
       "Flop                    13                        NaN   \n",
       "Turn                    13                        NaN   \n",
       "River                   13                        NaN   \n",
       "\n",
       "                  REASONS TO FOLD  REASONS TO RAISE  \n",
       "Preflop  Hand is too weak to call               NaN  \n",
       "Flop     Hand is too weak to call               NaN  \n",
       "Turn     Hand is too weak to call               NaN  \n",
       "River    Hand is too weak to call               NaN  "
      ]
     },
     "execution_count": 190,
     "metadata": {},
     "output_type": "execute_result"
    }
   ],
   "source": [
    "dfPreflop"
   ]
  },
  {
   "cell_type": "code",
   "execution_count": 191,
   "metadata": {},
   "outputs": [
    {
     "data": {
      "text/html": [
       "<div>\n",
       "<style scoped>\n",
       "    .dataframe tbody tr th:only-of-type {\n",
       "        vertical-align: middle;\n",
       "    }\n",
       "\n",
       "    .dataframe tbody tr th {\n",
       "        vertical-align: top;\n",
       "    }\n",
       "\n",
       "    .dataframe thead th {\n",
       "        text-align: right;\n",
       "    }\n",
       "</style>\n",
       "<table border=\"1\" class=\"dataframe\">\n",
       "  <thead>\n",
       "    <tr style=\"text-align: right;\">\n",
       "      <th></th>\n",
       "      <th>CARDS</th>\n",
       "      <th>HAND STRENGTH</th>\n",
       "      <th>MY POSITION</th>\n",
       "      <th>MY STACK SIZE</th>\n",
       "      <th>HIGHEST HAND RANK</th>\n",
       "      <th>REASONS TO LIMP/BET SMALL</th>\n",
       "      <th>REASONS TO FOLD</th>\n",
       "      <th>REASONS TO RAISE</th>\n",
       "    </tr>\n",
       "  </thead>\n",
       "  <tbody>\n",
       "    <tr>\n",
       "      <th>Preflop</th>\n",
       "      <td>[9c, Ks]</td>\n",
       "      <td>20</td>\n",
       "      <td>BTN</td>\n",
       "      <td>Stack is &lt;50 Big Blinds</td>\n",
       "      <td>13</td>\n",
       "      <td>NaN</td>\n",
       "      <td>Hand is too weak to call</td>\n",
       "      <td>NaN</td>\n",
       "    </tr>\n",
       "    <tr>\n",
       "      <th>Flop</th>\n",
       "      <td>NaN</td>\n",
       "      <td>20</td>\n",
       "      <td>BTN</td>\n",
       "      <td>Stack is &lt;50 Big Blinds</td>\n",
       "      <td>13</td>\n",
       "      <td>NaN</td>\n",
       "      <td>Hand is too weak to call</td>\n",
       "      <td>NaN</td>\n",
       "    </tr>\n",
       "    <tr>\n",
       "      <th>Turn</th>\n",
       "      <td>NaN</td>\n",
       "      <td>20</td>\n",
       "      <td>BTN</td>\n",
       "      <td>Stack is &lt;50 Big Blinds</td>\n",
       "      <td>13</td>\n",
       "      <td>NaN</td>\n",
       "      <td>Hand is too weak to call</td>\n",
       "      <td>NaN</td>\n",
       "    </tr>\n",
       "    <tr>\n",
       "      <th>River</th>\n",
       "      <td>NaN</td>\n",
       "      <td>20</td>\n",
       "      <td>BTN</td>\n",
       "      <td>Stack is &lt;50 Big Blinds</td>\n",
       "      <td>13</td>\n",
       "      <td>NaN</td>\n",
       "      <td>Hand is too weak to call</td>\n",
       "      <td>NaN</td>\n",
       "    </tr>\n",
       "  </tbody>\n",
       "</table>\n",
       "</div>"
      ],
      "text/plain": [
       "            CARDS  HAND STRENGTH MY POSITION            MY STACK SIZE  \\\n",
       "Preflop  [9c, Ks]             20         BTN  Stack is <50 Big Blinds   \n",
       "Flop          NaN             20         BTN  Stack is <50 Big Blinds   \n",
       "Turn          NaN             20         BTN  Stack is <50 Big Blinds   \n",
       "River         NaN             20         BTN  Stack is <50 Big Blinds   \n",
       "\n",
       "         HIGHEST HAND RANK  REASONS TO LIMP/BET SMALL  \\\n",
       "Preflop                 13                        NaN   \n",
       "Flop                    13                        NaN   \n",
       "Turn                    13                        NaN   \n",
       "River                   13                        NaN   \n",
       "\n",
       "                  REASONS TO FOLD  REASONS TO RAISE  \n",
       "Preflop  Hand is too weak to call               NaN  \n",
       "Flop     Hand is too weak to call               NaN  \n",
       "Turn     Hand is too weak to call               NaN  \n",
       "River    Hand is too weak to call               NaN  "
      ]
     },
     "execution_count": 191,
     "metadata": {},
     "output_type": "execute_result"
    }
   ],
   "source": [
    "#Hand works well as a bluff since it has good blockers if HAND 1 or HAND 2 has RANK 15\n",
    "\n",
    "dfPreflop['REASONS TO RAISE'] = dfPreflop['HIGHEST HAND RANK'].apply(lambda x: '''Hand works well as a bluff since it has a good blocker'''\n",
    "    if x == 15 and HAND_STRENGTH < 23 else np.NaN)\n",
    "\n",
    "dfPreflop"
   ]
  },
  {
   "cell_type": "code",
   "execution_count": 192,
   "metadata": {},
   "outputs": [],
   "source": [
    "# SIMPLIFIED_ACTIONS_THROUGH_TO_YOU"
   ]
  },
  {
   "cell_type": "code",
   "execution_count": 193,
   "metadata": {},
   "outputs": [],
   "source": [
    "# UTG_BET_FOLD_ARRAY = np.array([UTG_BET_FOLD_TO_YOU[0].startswith('bet'),'fold', 'YOUR MOVE'], dtype=object)\n",
    "# UTG_BET_FOLD_ARRAY"
   ]
  },
  {
   "cell_type": "code",
   "execution_count": 194,
   "metadata": {},
   "outputs": [],
   "source": [
    "# UTG_BET_FOLD_ARRAY_TO_BET = np.array([True,'fold','YOUR MOVE'], dtype=object)\n",
    "# UTG_BET_FOLD_ARRAY_TO_BET"
   ]
  },
  {
   "cell_type": "code",
   "execution_count": 195,
   "metadata": {},
   "outputs": [],
   "source": [
    "#FOLDS TO YOU / FIRST TO ACT\n"
   ]
  },
  {
   "cell_type": "code",
   "execution_count": null,
   "metadata": {},
   "outputs": [],
   "source": []
  },
  {
   "cell_type": "code",
   "execution_count": 196,
   "metadata": {},
   "outputs": [],
   "source": [
    "####CREATE 'POT ODDS' CALCULAOR/GAME#########################"
   ]
  },
  {
   "cell_type": "code",
   "execution_count": 197,
   "metadata": {},
   "outputs": [
    {
     "data": {
      "text/html": [
       "<div>\n",
       "<style scoped>\n",
       "    .dataframe tbody tr th:only-of-type {\n",
       "        vertical-align: middle;\n",
       "    }\n",
       "\n",
       "    .dataframe tbody tr th {\n",
       "        vertical-align: top;\n",
       "    }\n",
       "\n",
       "    .dataframe thead th {\n",
       "        text-align: right;\n",
       "    }\n",
       "</style>\n",
       "<table border=\"1\" class=\"dataframe\">\n",
       "  <thead>\n",
       "    <tr style=\"text-align: right;\">\n",
       "      <th></th>\n",
       "      <th>CARDS</th>\n",
       "      <th>HAND STRENGTH</th>\n",
       "      <th>MY POSITION</th>\n",
       "      <th>MY STACK SIZE</th>\n",
       "      <th>HIGHEST HAND RANK</th>\n",
       "      <th>REASONS TO LIMP/BET SMALL</th>\n",
       "      <th>REASONS TO FOLD</th>\n",
       "      <th>REASONS TO RAISE</th>\n",
       "    </tr>\n",
       "  </thead>\n",
       "  <tbody>\n",
       "    <tr>\n",
       "      <th>Preflop</th>\n",
       "      <td>[9c, Ks]</td>\n",
       "      <td>20</td>\n",
       "      <td>BTN</td>\n",
       "      <td>Stack is &lt;50 Big Blinds</td>\n",
       "      <td>13</td>\n",
       "      <td>NaN</td>\n",
       "      <td>Hand is too weak to call</td>\n",
       "      <td>NaN</td>\n",
       "    </tr>\n",
       "    <tr>\n",
       "      <th>Flop</th>\n",
       "      <td>NaN</td>\n",
       "      <td>20</td>\n",
       "      <td>BTN</td>\n",
       "      <td>Stack is &lt;50 Big Blinds</td>\n",
       "      <td>13</td>\n",
       "      <td>NaN</td>\n",
       "      <td>Hand is too weak to call</td>\n",
       "      <td>NaN</td>\n",
       "    </tr>\n",
       "    <tr>\n",
       "      <th>Turn</th>\n",
       "      <td>NaN</td>\n",
       "      <td>20</td>\n",
       "      <td>BTN</td>\n",
       "      <td>Stack is &lt;50 Big Blinds</td>\n",
       "      <td>13</td>\n",
       "      <td>NaN</td>\n",
       "      <td>Hand is too weak to call</td>\n",
       "      <td>NaN</td>\n",
       "    </tr>\n",
       "    <tr>\n",
       "      <th>River</th>\n",
       "      <td>NaN</td>\n",
       "      <td>20</td>\n",
       "      <td>BTN</td>\n",
       "      <td>Stack is &lt;50 Big Blinds</td>\n",
       "      <td>13</td>\n",
       "      <td>NaN</td>\n",
       "      <td>Hand is too weak to call</td>\n",
       "      <td>NaN</td>\n",
       "    </tr>\n",
       "  </tbody>\n",
       "</table>\n",
       "</div>"
      ],
      "text/plain": [
       "            CARDS  HAND STRENGTH MY POSITION            MY STACK SIZE  \\\n",
       "Preflop  [9c, Ks]             20         BTN  Stack is <50 Big Blinds   \n",
       "Flop          NaN             20         BTN  Stack is <50 Big Blinds   \n",
       "Turn          NaN             20         BTN  Stack is <50 Big Blinds   \n",
       "River         NaN             20         BTN  Stack is <50 Big Blinds   \n",
       "\n",
       "         HIGHEST HAND RANK  REASONS TO LIMP/BET SMALL  \\\n",
       "Preflop                 13                        NaN   \n",
       "Flop                    13                        NaN   \n",
       "Turn                    13                        NaN   \n",
       "River                   13                        NaN   \n",
       "\n",
       "                  REASONS TO FOLD  REASONS TO RAISE  \n",
       "Preflop  Hand is too weak to call               NaN  \n",
       "Flop     Hand is too weak to call               NaN  \n",
       "Turn     Hand is too weak to call               NaN  \n",
       "River    Hand is too weak to call               NaN  "
      ]
     },
     "execution_count": 197,
     "metadata": {},
     "output_type": "execute_result"
    }
   ],
   "source": [
    "dfPreflop"
   ]
  },
  {
   "cell_type": "code",
   "execution_count": 198,
   "metadata": {},
   "outputs": [],
   "source": [
    "# dfPreflop['ACTIONS'].loc= SIMPLIFIED_ACTIONS_THROUGH_TO_YOU\n",
    "# dfPreflop"
   ]
  },
  {
   "cell_type": "code",
   "execution_count": 199,
   "metadata": {},
   "outputs": [],
   "source": [
    "# dfBetsPreflop = dfPreflop\n",
    "# dfBetsPreflop[POSITIONS_STACKS_ACTIONS_THROUGH_TO_YOU] = \n",
    "# dfBetsPreflop"
   ]
  },
  {
   "cell_type": "code",
   "execution_count": 200,
   "metadata": {},
   "outputs": [
    {
     "data": {
      "text/html": [
       "<div>\n",
       "<style scoped>\n",
       "    .dataframe tbody tr th:only-of-type {\n",
       "        vertical-align: middle;\n",
       "    }\n",
       "\n",
       "    .dataframe tbody tr th {\n",
       "        vertical-align: top;\n",
       "    }\n",
       "\n",
       "    .dataframe thead th {\n",
       "        text-align: right;\n",
       "    }\n",
       "</style>\n",
       "<table border=\"1\" class=\"dataframe\">\n",
       "  <thead>\n",
       "    <tr style=\"text-align: right;\">\n",
       "      <th></th>\n",
       "      <th>CARDS</th>\n",
       "      <th>HAND STRENGTH</th>\n",
       "      <th>MY POSITION</th>\n",
       "      <th>MY STACK SIZE</th>\n",
       "      <th>HIGHEST HAND RANK</th>\n",
       "      <th>REASONS TO LIMP/BET SMALL</th>\n",
       "      <th>REASONS TO FOLD</th>\n",
       "      <th>REASONS TO RAISE</th>\n",
       "      <th>REASONS TO BET MEDIUM</th>\n",
       "    </tr>\n",
       "  </thead>\n",
       "  <tbody>\n",
       "    <tr>\n",
       "      <th>Preflop</th>\n",
       "      <td>[9c, Ks]</td>\n",
       "      <td>20</td>\n",
       "      <td>BTN</td>\n",
       "      <td>Stack is &lt;50 Big Blinds</td>\n",
       "      <td>13</td>\n",
       "      <td>NaN</td>\n",
       "      <td>Hand is too weak to call</td>\n",
       "      <td>NaN</td>\n",
       "      <td>NaN</td>\n",
       "    </tr>\n",
       "    <tr>\n",
       "      <th>Flop</th>\n",
       "      <td>NaN</td>\n",
       "      <td>20</td>\n",
       "      <td>BTN</td>\n",
       "      <td>Stack is &lt;50 Big Blinds</td>\n",
       "      <td>13</td>\n",
       "      <td>NaN</td>\n",
       "      <td>Hand is too weak to call</td>\n",
       "      <td>NaN</td>\n",
       "      <td>NaN</td>\n",
       "    </tr>\n",
       "    <tr>\n",
       "      <th>Turn</th>\n",
       "      <td>NaN</td>\n",
       "      <td>20</td>\n",
       "      <td>BTN</td>\n",
       "      <td>Stack is &lt;50 Big Blinds</td>\n",
       "      <td>13</td>\n",
       "      <td>NaN</td>\n",
       "      <td>Hand is too weak to call</td>\n",
       "      <td>NaN</td>\n",
       "      <td>NaN</td>\n",
       "    </tr>\n",
       "    <tr>\n",
       "      <th>River</th>\n",
       "      <td>NaN</td>\n",
       "      <td>20</td>\n",
       "      <td>BTN</td>\n",
       "      <td>Stack is &lt;50 Big Blinds</td>\n",
       "      <td>13</td>\n",
       "      <td>NaN</td>\n",
       "      <td>Hand is too weak to call</td>\n",
       "      <td>NaN</td>\n",
       "      <td>NaN</td>\n",
       "    </tr>\n",
       "  </tbody>\n",
       "</table>\n",
       "</div>"
      ],
      "text/plain": [
       "            CARDS  HAND STRENGTH MY POSITION            MY STACK SIZE  \\\n",
       "Preflop  [9c, Ks]             20         BTN  Stack is <50 Big Blinds   \n",
       "Flop          NaN             20         BTN  Stack is <50 Big Blinds   \n",
       "Turn          NaN             20         BTN  Stack is <50 Big Blinds   \n",
       "River         NaN             20         BTN  Stack is <50 Big Blinds   \n",
       "\n",
       "         HIGHEST HAND RANK  REASONS TO LIMP/BET SMALL  \\\n",
       "Preflop                 13                        NaN   \n",
       "Flop                    13                        NaN   \n",
       "Turn                    13                        NaN   \n",
       "River                   13                        NaN   \n",
       "\n",
       "                  REASONS TO FOLD  REASONS TO RAISE  REASONS TO BET MEDIUM  \n",
       "Preflop  Hand is too weak to call               NaN                    NaN  \n",
       "Flop     Hand is too weak to call               NaN                    NaN  \n",
       "Turn     Hand is too weak to call               NaN                    NaN  \n",
       "River    Hand is too weak to call               NaN                    NaN  "
      ]
     },
     "execution_count": 200,
     "metadata": {},
     "output_type": "execute_result"
    }
   ],
   "source": [
    "# BET_MEDIUM_REASONS = ['UTG raised (ACTIONS_THROUGH_TO_YOU contains \"bet\"), then it folded around to me (and Im doing this with a large amount of my range']\n",
    "\n",
    "dfPreflop['REASONS TO BET MEDIUM'] = dfPreflop['MY POSITION'].apply(lambda x: '''Someone raised and then everyone folded to me in the small blind and I'm doing this with a large amount of my range''' if x == 'SB'\n",
    "    and np.array_equal(UTG_BET_FOLD_ARRAY_TO_BET,UTG_BET_FOLD_ARRAY) == True\n",
    "    else np.NaN)\n",
    "dfPreflop"
   ]
  },
  {
   "cell_type": "code",
   "execution_count": 201,
   "metadata": {},
   "outputs": [
    {
     "data": {
      "text/html": [
       "<div>\n",
       "<style scoped>\n",
       "    .dataframe tbody tr th:only-of-type {\n",
       "        vertical-align: middle;\n",
       "    }\n",
       "\n",
       "    .dataframe tbody tr th {\n",
       "        vertical-align: top;\n",
       "    }\n",
       "\n",
       "    .dataframe thead th {\n",
       "        text-align: right;\n",
       "    }\n",
       "</style>\n",
       "<table border=\"1\" class=\"dataframe\">\n",
       "  <thead>\n",
       "    <tr style=\"text-align: right;\">\n",
       "      <th></th>\n",
       "      <th>CARDS</th>\n",
       "      <th>HAND STRENGTH</th>\n",
       "      <th>MY POSITION</th>\n",
       "      <th>MY STACK SIZE</th>\n",
       "      <th>HIGHEST HAND RANK</th>\n",
       "      <th>REASONS TO LIMP/BET SMALL</th>\n",
       "      <th>REASONS TO FOLD</th>\n",
       "      <th>REASONS TO RAISE</th>\n",
       "      <th>REASONS TO BET MEDIUM</th>\n",
       "    </tr>\n",
       "  </thead>\n",
       "  <tbody>\n",
       "    <tr>\n",
       "      <th>Preflop</th>\n",
       "      <td>[9c, Ks]</td>\n",
       "      <td>20</td>\n",
       "      <td>BTN</td>\n",
       "      <td>Stack is &lt;50 Big Blinds</td>\n",
       "      <td>13</td>\n",
       "      <td>NaN</td>\n",
       "      <td>Hand is too weak to call</td>\n",
       "      <td>NaN</td>\n",
       "      <td>NaN</td>\n",
       "    </tr>\n",
       "    <tr>\n",
       "      <th>Flop</th>\n",
       "      <td>[10s, 9d, 10h]</td>\n",
       "      <td>20</td>\n",
       "      <td>BTN</td>\n",
       "      <td>Stack is &lt;50 Big Blinds</td>\n",
       "      <td>13</td>\n",
       "      <td>NaN</td>\n",
       "      <td>Hand is too weak to call</td>\n",
       "      <td>NaN</td>\n",
       "      <td>NaN</td>\n",
       "    </tr>\n",
       "    <tr>\n",
       "      <th>Turn</th>\n",
       "      <td>NaN</td>\n",
       "      <td>20</td>\n",
       "      <td>BTN</td>\n",
       "      <td>Stack is &lt;50 Big Blinds</td>\n",
       "      <td>13</td>\n",
       "      <td>NaN</td>\n",
       "      <td>Hand is too weak to call</td>\n",
       "      <td>NaN</td>\n",
       "      <td>NaN</td>\n",
       "    </tr>\n",
       "    <tr>\n",
       "      <th>River</th>\n",
       "      <td>NaN</td>\n",
       "      <td>20</td>\n",
       "      <td>BTN</td>\n",
       "      <td>Stack is &lt;50 Big Blinds</td>\n",
       "      <td>13</td>\n",
       "      <td>NaN</td>\n",
       "      <td>Hand is too weak to call</td>\n",
       "      <td>NaN</td>\n",
       "      <td>NaN</td>\n",
       "    </tr>\n",
       "  </tbody>\n",
       "</table>\n",
       "</div>"
      ],
      "text/plain": [
       "                  CARDS  HAND STRENGTH MY POSITION            MY STACK SIZE  \\\n",
       "Preflop        [9c, Ks]             20         BTN  Stack is <50 Big Blinds   \n",
       "Flop     [10s, 9d, 10h]             20         BTN  Stack is <50 Big Blinds   \n",
       "Turn                NaN             20         BTN  Stack is <50 Big Blinds   \n",
       "River               NaN             20         BTN  Stack is <50 Big Blinds   \n",
       "\n",
       "         HIGHEST HAND RANK  REASONS TO LIMP/BET SMALL  \\\n",
       "Preflop                 13                        NaN   \n",
       "Flop                    13                        NaN   \n",
       "Turn                    13                        NaN   \n",
       "River                   13                        NaN   \n",
       "\n",
       "                  REASONS TO FOLD  REASONS TO RAISE  REASONS TO BET MEDIUM  \n",
       "Preflop  Hand is too weak to call               NaN                    NaN  \n",
       "Flop     Hand is too weak to call               NaN                    NaN  \n",
       "Turn     Hand is too weak to call               NaN                    NaN  \n",
       "River    Hand is too weak to call               NaN                    NaN  "
      ]
     },
     "execution_count": 201,
     "metadata": {},
     "output_type": "execute_result"
    }
   ],
   "source": [
    "dfPreflop.at[\"Flop\",\"CARDS\"] = FLOP\n",
    "dfFlop = dfPreflop\n",
    "dfFlop"
   ]
  },
  {
   "cell_type": "code",
   "execution_count": 202,
   "metadata": {},
   "outputs": [
    {
     "data": {
      "text/html": [
       "<div>\n",
       "<style scoped>\n",
       "    .dataframe tbody tr th:only-of-type {\n",
       "        vertical-align: middle;\n",
       "    }\n",
       "\n",
       "    .dataframe tbody tr th {\n",
       "        vertical-align: top;\n",
       "    }\n",
       "\n",
       "    .dataframe thead th {\n",
       "        text-align: right;\n",
       "    }\n",
       "</style>\n",
       "<table border=\"1\" class=\"dataframe\">\n",
       "  <thead>\n",
       "    <tr style=\"text-align: right;\">\n",
       "      <th></th>\n",
       "      <th>CARDS</th>\n",
       "      <th>HAND STRENGTH</th>\n",
       "      <th>MY POSITION</th>\n",
       "      <th>MY STACK SIZE</th>\n",
       "      <th>HIGHEST HAND RANK</th>\n",
       "      <th>REASONS TO LIMP/BET SMALL</th>\n",
       "      <th>REASONS TO FOLD</th>\n",
       "      <th>REASONS TO RAISE</th>\n",
       "      <th>REASONS TO BET MEDIUM</th>\n",
       "    </tr>\n",
       "  </thead>\n",
       "  <tbody>\n",
       "    <tr>\n",
       "      <th>Preflop</th>\n",
       "      <td>[9c, Ks]</td>\n",
       "      <td>20</td>\n",
       "      <td>BTN</td>\n",
       "      <td>Stack is &lt;50 Big Blinds</td>\n",
       "      <td>13</td>\n",
       "      <td>NaN</td>\n",
       "      <td>Hand is too weak to call</td>\n",
       "      <td>NaN</td>\n",
       "      <td>NaN</td>\n",
       "    </tr>\n",
       "    <tr>\n",
       "      <th>Flop</th>\n",
       "      <td>[10s, 9d, 10h]</td>\n",
       "      <td>20</td>\n",
       "      <td>BTN</td>\n",
       "      <td>Stack is &lt;50 Big Blinds</td>\n",
       "      <td>13</td>\n",
       "      <td>NaN</td>\n",
       "      <td>Hand is too weak to call</td>\n",
       "      <td>NaN</td>\n",
       "      <td>NaN</td>\n",
       "    </tr>\n",
       "    <tr>\n",
       "      <th>Turn</th>\n",
       "      <td>[4h]</td>\n",
       "      <td>20</td>\n",
       "      <td>BTN</td>\n",
       "      <td>Stack is &lt;50 Big Blinds</td>\n",
       "      <td>13</td>\n",
       "      <td>NaN</td>\n",
       "      <td>Hand is too weak to call</td>\n",
       "      <td>NaN</td>\n",
       "      <td>NaN</td>\n",
       "    </tr>\n",
       "    <tr>\n",
       "      <th>River</th>\n",
       "      <td>NaN</td>\n",
       "      <td>20</td>\n",
       "      <td>BTN</td>\n",
       "      <td>Stack is &lt;50 Big Blinds</td>\n",
       "      <td>13</td>\n",
       "      <td>NaN</td>\n",
       "      <td>Hand is too weak to call</td>\n",
       "      <td>NaN</td>\n",
       "      <td>NaN</td>\n",
       "    </tr>\n",
       "  </tbody>\n",
       "</table>\n",
       "</div>"
      ],
      "text/plain": [
       "                  CARDS  HAND STRENGTH MY POSITION            MY STACK SIZE  \\\n",
       "Preflop        [9c, Ks]             20         BTN  Stack is <50 Big Blinds   \n",
       "Flop     [10s, 9d, 10h]             20         BTN  Stack is <50 Big Blinds   \n",
       "Turn               [4h]             20         BTN  Stack is <50 Big Blinds   \n",
       "River               NaN             20         BTN  Stack is <50 Big Blinds   \n",
       "\n",
       "         HIGHEST HAND RANK  REASONS TO LIMP/BET SMALL  \\\n",
       "Preflop                 13                        NaN   \n",
       "Flop                    13                        NaN   \n",
       "Turn                    13                        NaN   \n",
       "River                   13                        NaN   \n",
       "\n",
       "                  REASONS TO FOLD  REASONS TO RAISE  REASONS TO BET MEDIUM  \n",
       "Preflop  Hand is too weak to call               NaN                    NaN  \n",
       "Flop     Hand is too weak to call               NaN                    NaN  \n",
       "Turn     Hand is too weak to call               NaN                    NaN  \n",
       "River    Hand is too weak to call               NaN                    NaN  "
      ]
     },
     "execution_count": 202,
     "metadata": {},
     "output_type": "execute_result"
    }
   ],
   "source": [
    "dfFlop.at[\"Turn\",\"CARDS\"] = [TURN]\n",
    "dfTurn = dfFlop\n",
    "dfTurn"
   ]
  },
  {
   "cell_type": "code",
   "execution_count": 203,
   "metadata": {},
   "outputs": [
    {
     "data": {
      "text/html": [
       "<div>\n",
       "<style scoped>\n",
       "    .dataframe tbody tr th:only-of-type {\n",
       "        vertical-align: middle;\n",
       "    }\n",
       "\n",
       "    .dataframe tbody tr th {\n",
       "        vertical-align: top;\n",
       "    }\n",
       "\n",
       "    .dataframe thead th {\n",
       "        text-align: right;\n",
       "    }\n",
       "</style>\n",
       "<table border=\"1\" class=\"dataframe\">\n",
       "  <thead>\n",
       "    <tr style=\"text-align: right;\">\n",
       "      <th></th>\n",
       "      <th>CARDS</th>\n",
       "      <th>HAND STRENGTH</th>\n",
       "      <th>MY POSITION</th>\n",
       "      <th>MY STACK SIZE</th>\n",
       "      <th>HIGHEST HAND RANK</th>\n",
       "      <th>REASONS TO LIMP/BET SMALL</th>\n",
       "      <th>REASONS TO FOLD</th>\n",
       "      <th>REASONS TO RAISE</th>\n",
       "      <th>REASONS TO BET MEDIUM</th>\n",
       "    </tr>\n",
       "  </thead>\n",
       "  <tbody>\n",
       "    <tr>\n",
       "      <th>Preflop</th>\n",
       "      <td>[9c, Ks]</td>\n",
       "      <td>20</td>\n",
       "      <td>BTN</td>\n",
       "      <td>Stack is &lt;50 Big Blinds</td>\n",
       "      <td>13</td>\n",
       "      <td>NaN</td>\n",
       "      <td>Hand is too weak to call</td>\n",
       "      <td>NaN</td>\n",
       "      <td>NaN</td>\n",
       "    </tr>\n",
       "    <tr>\n",
       "      <th>Flop</th>\n",
       "      <td>[10s, 9d, 10h]</td>\n",
       "      <td>20</td>\n",
       "      <td>BTN</td>\n",
       "      <td>Stack is &lt;50 Big Blinds</td>\n",
       "      <td>13</td>\n",
       "      <td>NaN</td>\n",
       "      <td>Hand is too weak to call</td>\n",
       "      <td>NaN</td>\n",
       "      <td>NaN</td>\n",
       "    </tr>\n",
       "    <tr>\n",
       "      <th>Turn</th>\n",
       "      <td>[4h]</td>\n",
       "      <td>20</td>\n",
       "      <td>BTN</td>\n",
       "      <td>Stack is &lt;50 Big Blinds</td>\n",
       "      <td>13</td>\n",
       "      <td>NaN</td>\n",
       "      <td>Hand is too weak to call</td>\n",
       "      <td>NaN</td>\n",
       "      <td>NaN</td>\n",
       "    </tr>\n",
       "    <tr>\n",
       "      <th>River</th>\n",
       "      <td>[2s]</td>\n",
       "      <td>20</td>\n",
       "      <td>BTN</td>\n",
       "      <td>Stack is &lt;50 Big Blinds</td>\n",
       "      <td>13</td>\n",
       "      <td>NaN</td>\n",
       "      <td>Hand is too weak to call</td>\n",
       "      <td>NaN</td>\n",
       "      <td>NaN</td>\n",
       "    </tr>\n",
       "  </tbody>\n",
       "</table>\n",
       "</div>"
      ],
      "text/plain": [
       "                  CARDS  HAND STRENGTH MY POSITION            MY STACK SIZE  \\\n",
       "Preflop        [9c, Ks]             20         BTN  Stack is <50 Big Blinds   \n",
       "Flop     [10s, 9d, 10h]             20         BTN  Stack is <50 Big Blinds   \n",
       "Turn               [4h]             20         BTN  Stack is <50 Big Blinds   \n",
       "River              [2s]             20         BTN  Stack is <50 Big Blinds   \n",
       "\n",
       "         HIGHEST HAND RANK  REASONS TO LIMP/BET SMALL  \\\n",
       "Preflop                 13                        NaN   \n",
       "Flop                    13                        NaN   \n",
       "Turn                    13                        NaN   \n",
       "River                   13                        NaN   \n",
       "\n",
       "                  REASONS TO FOLD  REASONS TO RAISE  REASONS TO BET MEDIUM  \n",
       "Preflop  Hand is too weak to call               NaN                    NaN  \n",
       "Flop     Hand is too weak to call               NaN                    NaN  \n",
       "Turn     Hand is too weak to call               NaN                    NaN  \n",
       "River    Hand is too weak to call               NaN                    NaN  "
      ]
     },
     "execution_count": 203,
     "metadata": {},
     "output_type": "execute_result"
    }
   ],
   "source": [
    "dfTurn.at[\"River\",\"CARDS\"] = [RIVER]\n",
    "dfRiver = dfTurn\n",
    "dfRiver"
   ]
  },
  {
   "cell_type": "code",
   "execution_count": 204,
   "metadata": {},
   "outputs": [
    {
     "data": {
      "text/plain": [
       "[['9c', 'Ks'], ['10s', '9d', '10h'], ['4h'], ['2s']]"
      ]
     },
     "execution_count": 204,
     "metadata": {},
     "output_type": "execute_result"
    }
   ],
   "source": [
    "TOP_7_CARDS = dfRiver.CARDS.tolist()\n",
    "TOP_7_CARDS"
   ]
  },
  {
   "cell_type": "code",
   "execution_count": 205,
   "metadata": {},
   "outputs": [
    {
     "data": {
      "text/plain": [
       "[['9c', 'Ks'], ['10s', '9d', '10h']]"
      ]
     },
     "execution_count": 205,
     "metadata": {},
     "output_type": "execute_result"
    }
   ],
   "source": [
    "YOUR_CARDS_PLUS_FLOP = TOP_7_CARDS[0:2]\n",
    "YOUR_CARDS_PLUS_FLOP"
   ]
  },
  {
   "cell_type": "code",
   "execution_count": 206,
   "metadata": {},
   "outputs": [
    {
     "data": {
      "text/plain": [
       "['9c', 'Ks']"
      ]
     },
     "execution_count": 206,
     "metadata": {},
     "output_type": "execute_result"
    }
   ],
   "source": [
    "YOUR_CARDS = dfRiver.CARDS.tolist()[0]\n",
    "YOUR_CARDS\n"
   ]
  },
  {
   "cell_type": "code",
   "execution_count": 207,
   "metadata": {},
   "outputs": [
    {
     "data": {
      "text/plain": [
       "['10s', '9d', '10h']"
      ]
     },
     "execution_count": 207,
     "metadata": {},
     "output_type": "execute_result"
    }
   ],
   "source": [
    "FLOP"
   ]
  },
  {
   "cell_type": "code",
   "execution_count": 208,
   "metadata": {},
   "outputs": [
    {
     "data": {
      "text/plain": [
       "['9c', 'Ks', '10s', '9d', '10h']"
      ]
     },
     "execution_count": 208,
     "metadata": {},
     "output_type": "execute_result"
    }
   ],
   "source": [
    "List_of_your_cards_plus_flop = YOUR_CARDS + FLOP\n",
    "List_of_your_cards_plus_flop"
   ]
  },
  {
   "cell_type": "code",
   "execution_count": 209,
   "metadata": {},
   "outputs": [
    {
     "data": {
      "text/plain": [
       "'9cKs10s9d10h'"
      ]
     },
     "execution_count": 209,
     "metadata": {},
     "output_type": "execute_result"
    }
   ],
   "source": [
    "import string\n",
    "listA = [''.join(x for x in par if x not in string.punctuation) for par in List_of_your_cards_plus_flop]\n",
    "listB = ''.join(listA)\n",
    "listB"
   ]
  },
  {
   "cell_type": "code",
   "execution_count": 210,
   "metadata": {},
   "outputs": [
    {
     "data": {
      "text/plain": [
       "'9K1sd0'"
      ]
     },
     "execution_count": 210,
     "metadata": {},
     "output_type": "execute_result"
    }
   ],
   "source": [
    "Card_Numbers = listB[::2]\n",
    "Card_Numbers"
   ]
  },
  {
   "cell_type": "code",
   "execution_count": 211,
   "metadata": {},
   "outputs": [
    {
     "data": {
      "text/plain": [
       "'cs091h'"
      ]
     },
     "execution_count": 211,
     "metadata": {},
     "output_type": "execute_result"
    }
   ],
   "source": [
    "Card_Suits_Plus_Z = 'Z'+listB\n",
    "Card_Suits = Card_Suits_Plus_Z[::2]\n",
    "Card_Suits_Minus_Z = Card_Suits[1:]\n",
    "Card_Suits_Minus_Z"
   ]
  },
  {
   "cell_type": "code",
   "execution_count": 212,
   "metadata": {},
   "outputs": [
    {
     "data": {
      "text/plain": [
       "Counter({'0': 1, '1': 1, '9': 1, 'c': 1, 'h': 1, 's': 1})"
      ]
     },
     "execution_count": 212,
     "metadata": {},
     "output_type": "execute_result"
    }
   ],
   "source": [
    "#count number of suits in hand plus flop\n",
    "import collections\n",
    "results = collections.Counter(Card_Suits_Minus_Z)\n",
    "results"
   ]
  },
  {
   "cell_type": "code",
   "execution_count": 213,
   "metadata": {},
   "outputs": [
    {
     "data": {
      "text/plain": [
       "[]"
      ]
     },
     "execution_count": 213,
     "metadata": {},
     "output_type": "execute_result"
    }
   ],
   "source": [
    "Backdoor_Flush_Draw = [id for id, count in results.items() if count == 3]\n",
    "Backdoor_Flush_Draw"
   ]
  },
  {
   "cell_type": "code",
   "execution_count": 214,
   "metadata": {},
   "outputs": [
    {
     "data": {
      "text/html": [
       "<div>\n",
       "<style scoped>\n",
       "    .dataframe tbody tr th:only-of-type {\n",
       "        vertical-align: middle;\n",
       "    }\n",
       "\n",
       "    .dataframe tbody tr th {\n",
       "        vertical-align: top;\n",
       "    }\n",
       "\n",
       "    .dataframe thead th {\n",
       "        text-align: right;\n",
       "    }\n",
       "</style>\n",
       "<table border=\"1\" class=\"dataframe\">\n",
       "  <thead>\n",
       "    <tr style=\"text-align: right;\">\n",
       "      <th></th>\n",
       "      <th>CARDS</th>\n",
       "      <th>HAND STRENGTH</th>\n",
       "      <th>MY POSITION</th>\n",
       "      <th>MY STACK SIZE</th>\n",
       "      <th>HIGHEST HAND RANK</th>\n",
       "      <th>REASONS TO LIMP/BET SMALL</th>\n",
       "      <th>REASONS TO FOLD</th>\n",
       "      <th>REASONS TO RAISE</th>\n",
       "      <th>REASONS TO BET MEDIUM</th>\n",
       "    </tr>\n",
       "  </thead>\n",
       "  <tbody>\n",
       "    <tr>\n",
       "      <th>Preflop</th>\n",
       "      <td>[9c, Ks]</td>\n",
       "      <td>20</td>\n",
       "      <td>BTN</td>\n",
       "      <td>Stack is &lt;50 Big Blinds</td>\n",
       "      <td>13</td>\n",
       "      <td>NaN</td>\n",
       "      <td>Hand is too weak to call</td>\n",
       "      <td>NaN</td>\n",
       "      <td>NaN</td>\n",
       "    </tr>\n",
       "    <tr>\n",
       "      <th>Flop</th>\n",
       "      <td>[10s, 9d, 10h]</td>\n",
       "      <td>20</td>\n",
       "      <td>BTN</td>\n",
       "      <td>Stack is &lt;50 Big Blinds</td>\n",
       "      <td>13</td>\n",
       "      <td>NaN</td>\n",
       "      <td>Hand is too weak to call</td>\n",
       "      <td>NaN</td>\n",
       "      <td>NaN</td>\n",
       "    </tr>\n",
       "    <tr>\n",
       "      <th>Turn</th>\n",
       "      <td>[4h]</td>\n",
       "      <td>20</td>\n",
       "      <td>BTN</td>\n",
       "      <td>Stack is &lt;50 Big Blinds</td>\n",
       "      <td>13</td>\n",
       "      <td>NaN</td>\n",
       "      <td>Hand is too weak to call</td>\n",
       "      <td>NaN</td>\n",
       "      <td>NaN</td>\n",
       "    </tr>\n",
       "    <tr>\n",
       "      <th>River</th>\n",
       "      <td>[2s]</td>\n",
       "      <td>20</td>\n",
       "      <td>BTN</td>\n",
       "      <td>Stack is &lt;50 Big Blinds</td>\n",
       "      <td>13</td>\n",
       "      <td>NaN</td>\n",
       "      <td>Hand is too weak to call</td>\n",
       "      <td>NaN</td>\n",
       "      <td>NaN</td>\n",
       "    </tr>\n",
       "  </tbody>\n",
       "</table>\n",
       "</div>"
      ],
      "text/plain": [
       "                  CARDS  HAND STRENGTH MY POSITION            MY STACK SIZE  \\\n",
       "Preflop        [9c, Ks]             20         BTN  Stack is <50 Big Blinds   \n",
       "Flop     [10s, 9d, 10h]             20         BTN  Stack is <50 Big Blinds   \n",
       "Turn               [4h]             20         BTN  Stack is <50 Big Blinds   \n",
       "River              [2s]             20         BTN  Stack is <50 Big Blinds   \n",
       "\n",
       "         HIGHEST HAND RANK  REASONS TO LIMP/BET SMALL  \\\n",
       "Preflop                 13                        NaN   \n",
       "Flop                    13                        NaN   \n",
       "Turn                    13                        NaN   \n",
       "River                   13                        NaN   \n",
       "\n",
       "                  REASONS TO FOLD  REASONS TO RAISE  REASONS TO BET MEDIUM  \n",
       "Preflop  Hand is too weak to call               NaN                    NaN  \n",
       "Flop     Hand is too weak to call               NaN                    NaN  \n",
       "Turn     Hand is too weak to call               NaN                    NaN  \n",
       "River    Hand is too weak to call               NaN                    NaN  "
      ]
     },
     "execution_count": 214,
     "metadata": {},
     "output_type": "execute_result"
    }
   ],
   "source": [
    "dfRiver"
   ]
  },
  {
   "cell_type": "code",
   "execution_count": 215,
   "metadata": {},
   "outputs": [
    {
     "data": {
      "text/plain": [
       "Counter({'0': 1, '1': 1, '9': 1, 'K': 1, 'd': 1, 's': 1})"
      ]
     },
     "execution_count": 215,
     "metadata": {},
     "output_type": "execute_result"
    }
   ],
   "source": [
    "#count number of numbers in hand plus flop\n",
    "import collections\n",
    "results = collections.Counter(Card_Numbers)\n",
    "results"
   ]
  },
  {
   "cell_type": "code",
   "execution_count": 216,
   "metadata": {},
   "outputs": [
    {
     "data": {
      "text/plain": [
       "[]"
      ]
     },
     "execution_count": 216,
     "metadata": {},
     "output_type": "execute_result"
    }
   ],
   "source": [
    "Pair_the_Flop = [id for id, count in results.items() if count > 1]\n",
    "Pair_the_Flop"
   ]
  },
  {
   "cell_type": "code",
   "execution_count": 217,
   "metadata": {},
   "outputs": [],
   "source": [
    "# STRENGTH_OF_YOUR_CARDS_PLUS_FLOP\n",
    "######## CARD NUMBER STRENGTH >>>>>>>>>MAYBE DO THIS LATER, SEEMS UNNECESSARY AFTER THE FLOP\n",
    "######## PAIR STRENGTH\n",
    "######## 3 OF A KIND STRENGTH\n",
    "######## STRAIGHT STRENGTH\n",
    "######## FLUSH STRENGTH\n",
    "######## FOUR OF A KIND STRENGTH\n",
    "######## STRAIGHT FLUSH STRENGTH\n",
    "######## ROYAL FLUSH STRENGTH"
   ]
  },
  {
   "cell_type": "code",
   "execution_count": 218,
   "metadata": {},
   "outputs": [],
   "source": [
    "HAND_STRENGTH = 30"
   ]
  },
  {
   "cell_type": "code",
   "execution_count": 219,
   "metadata": {},
   "outputs": [
    {
     "data": {
      "text/plain": [
       "'MP1'"
      ]
     },
     "execution_count": 219,
     "metadata": {},
     "output_type": "execute_result"
    }
   ],
   "source": [
    "My_Position"
   ]
  },
  {
   "cell_type": "code",
   "execution_count": 220,
   "metadata": {},
   "outputs": [
    {
     "data": {
      "text/plain": [
       "'Stack is <50 Big Blinds'"
      ]
     },
     "execution_count": 220,
     "metadata": {},
     "output_type": "execute_result"
    }
   ],
   "source": [
    "MY_STACK_SIZE = My_Situation[1]\n",
    "MY_STACK_SIZE"
   ]
  },
  {
   "cell_type": "code",
   "execution_count": 221,
   "metadata": {},
   "outputs": [
    {
     "data": {
      "text/html": [
       "<div>\n",
       "<style scoped>\n",
       "    .dataframe tbody tr th:only-of-type {\n",
       "        vertical-align: middle;\n",
       "    }\n",
       "\n",
       "    .dataframe tbody tr th {\n",
       "        vertical-align: top;\n",
       "    }\n",
       "\n",
       "    .dataframe thead th {\n",
       "        text-align: right;\n",
       "    }\n",
       "</style>\n",
       "<table border=\"1\" class=\"dataframe\">\n",
       "  <thead>\n",
       "    <tr style=\"text-align: right;\">\n",
       "      <th></th>\n",
       "      <th>CARDS</th>\n",
       "      <th>HAND STRENGTH</th>\n",
       "      <th>MY POSITION</th>\n",
       "      <th>MY STACK SIZE</th>\n",
       "      <th>HIGHEST HAND RANK</th>\n",
       "      <th>REASONS TO LIMP/BET SMALL</th>\n",
       "      <th>REASONS TO FOLD</th>\n",
       "      <th>REASONS TO RAISE</th>\n",
       "      <th>REASONS TO BET MEDIUM</th>\n",
       "      <th>REASONS TO BET LARGE</th>\n",
       "    </tr>\n",
       "  </thead>\n",
       "  <tbody>\n",
       "    <tr>\n",
       "      <th>Preflop</th>\n",
       "      <td>[9c, Ks]</td>\n",
       "      <td>20</td>\n",
       "      <td>BTN</td>\n",
       "      <td>Stack is &lt;50 Big Blinds</td>\n",
       "      <td>13</td>\n",
       "      <td>NaN</td>\n",
       "      <td>Hand is too weak to call</td>\n",
       "      <td>NaN</td>\n",
       "      <td>NaN</td>\n",
       "      <td>NaN</td>\n",
       "    </tr>\n",
       "    <tr>\n",
       "      <th>Flop</th>\n",
       "      <td>[10s, 9d, 10h]</td>\n",
       "      <td>20</td>\n",
       "      <td>BTN</td>\n",
       "      <td>Stack is &lt;50 Big Blinds</td>\n",
       "      <td>13</td>\n",
       "      <td>NaN</td>\n",
       "      <td>Hand is too weak to call</td>\n",
       "      <td>NaN</td>\n",
       "      <td>NaN</td>\n",
       "      <td>NaN</td>\n",
       "    </tr>\n",
       "    <tr>\n",
       "      <th>Turn</th>\n",
       "      <td>[4h]</td>\n",
       "      <td>20</td>\n",
       "      <td>BTN</td>\n",
       "      <td>Stack is &lt;50 Big Blinds</td>\n",
       "      <td>13</td>\n",
       "      <td>NaN</td>\n",
       "      <td>Hand is too weak to call</td>\n",
       "      <td>NaN</td>\n",
       "      <td>NaN</td>\n",
       "      <td>NaN</td>\n",
       "    </tr>\n",
       "    <tr>\n",
       "      <th>River</th>\n",
       "      <td>[2s]</td>\n",
       "      <td>20</td>\n",
       "      <td>BTN</td>\n",
       "      <td>Stack is &lt;50 Big Blinds</td>\n",
       "      <td>13</td>\n",
       "      <td>NaN</td>\n",
       "      <td>Hand is too weak to call</td>\n",
       "      <td>NaN</td>\n",
       "      <td>NaN</td>\n",
       "      <td>NaN</td>\n",
       "    </tr>\n",
       "  </tbody>\n",
       "</table>\n",
       "</div>"
      ],
      "text/plain": [
       "                  CARDS  HAND STRENGTH MY POSITION            MY STACK SIZE  \\\n",
       "Preflop        [9c, Ks]             20         BTN  Stack is <50 Big Blinds   \n",
       "Flop     [10s, 9d, 10h]             20         BTN  Stack is <50 Big Blinds   \n",
       "Turn               [4h]             20         BTN  Stack is <50 Big Blinds   \n",
       "River              [2s]             20         BTN  Stack is <50 Big Blinds   \n",
       "\n",
       "         HIGHEST HAND RANK  REASONS TO LIMP/BET SMALL  \\\n",
       "Preflop                 13                        NaN   \n",
       "Flop                    13                        NaN   \n",
       "Turn                    13                        NaN   \n",
       "River                   13                        NaN   \n",
       "\n",
       "                  REASONS TO FOLD  REASONS TO RAISE  REASONS TO BET MEDIUM  \\\n",
       "Preflop  Hand is too weak to call               NaN                    NaN   \n",
       "Flop     Hand is too weak to call               NaN                    NaN   \n",
       "Turn     Hand is too weak to call               NaN                    NaN   \n",
       "River    Hand is too weak to call               NaN                    NaN   \n",
       "\n",
       "         REASONS TO BET LARGE  \n",
       "Preflop                   NaN  \n",
       "Flop                      NaN  \n",
       "Turn                      NaN  \n",
       "River                     NaN  "
      ]
     },
     "execution_count": 221,
     "metadata": {},
     "output_type": "execute_result"
    }
   ],
   "source": [
    "#Bet 3x big blind when deep stacked with a good hand first to act'] #Q264 88 suited preflop first to act\n",
    "dfPreflop['REASONS TO BET LARGE'] = dfPreflop['MY POSITION'].apply(lambda x: \n",
    "    '''Bet 3x big blind when deep stacked with a good hand first to act''' \n",
    "    #########FIRST TO ACT INCLUDING FOLDS:\n",
    "        if MY_STACK_SIZE == \"Stack is >150 Big Blinds\" \n",
    "            and HAND_STRENGTH >= 30\n",
    "                and My_Position == 'UTG'\n",
    "                    or MY_STACK_SIZE == \"Stack is >150 Big Blinds\" \n",
    "                        and x == 'UTG'\n",
    "                            and HAND_STRENGTH >= 30\n",
    "                                else np.NaN)\n",
    "    ##########FIRST TO ACT INCLUDING FOLDS^^:\n",
    "dfPreflop"
   ]
  },
  {
   "cell_type": "code",
   "execution_count": 222,
   "metadata": {},
   "outputs": [
    {
     "data": {
      "text/plain": [
       "[9, 13]"
      ]
     },
     "execution_count": 222,
     "metadata": {},
     "output_type": "execute_result"
    }
   ],
   "source": [
    "HAND_RANKS_ONLY"
   ]
  },
  {
   "cell_type": "code",
   "execution_count": 223,
   "metadata": {},
   "outputs": [
    {
     "data": {
      "text/plain": [
       "[10, 9, 10]"
      ]
     },
     "execution_count": 223,
     "metadata": {},
     "output_type": "execute_result"
    }
   ],
   "source": [
    "FLOP_RANKS_ONLY"
   ]
  },
  {
   "cell_type": "code",
   "execution_count": 224,
   "metadata": {},
   "outputs": [
    {
     "data": {
      "text/plain": [
       "13"
      ]
     },
     "execution_count": 224,
     "metadata": {},
     "output_type": "execute_result"
    }
   ],
   "source": [
    "OVERCARDS = [max(i) for i in zip(FLOP_RANKS_ONLY,HAND_RANKS_ONLY)]\n",
    "OVERCARD = max(OVERCARDS)\n",
    "OVERCARD"
   ]
  },
  {
   "cell_type": "code",
   "execution_count": 225,
   "metadata": {},
   "outputs": [
    {
     "data": {
      "text/plain": [
       "True"
      ]
     },
     "execution_count": 225,
     "metadata": {},
     "output_type": "execute_result"
    }
   ],
   "source": [
    "OVERCARD_IN_HAND = OVERCARD in HAND_RANKS_ONLY\n",
    "OVERCARD_IN_HAND"
   ]
  },
  {
   "cell_type": "code",
   "execution_count": 226,
   "metadata": {},
   "outputs": [],
   "source": [
    "# Check marginal made hand (medium pair [6s to 10s]) with an overcard kicker #Q262 Flop\n",
    "\n",
    "try:\n",
    "    # the code that can cause the error\n",
    "    if 11 > PAIR[0] > 5 and OVERCARD_IN_HAND == True: \n",
    "        PAIR_WITH_OVERCARD = 'Marginal made hand with overcard kicker'\n",
    "\n",
    "        \n",
    "except IndexError: # catch the error\n",
    "    pass\n",
    "\n",
    "\n"
   ]
  },
  {
   "cell_type": "code",
   "execution_count": 227,
   "metadata": {},
   "outputs": [
    {
     "data": {
      "text/html": [
       "<div>\n",
       "<style scoped>\n",
       "    .dataframe tbody tr th:only-of-type {\n",
       "        vertical-align: middle;\n",
       "    }\n",
       "\n",
       "    .dataframe tbody tr th {\n",
       "        vertical-align: top;\n",
       "    }\n",
       "\n",
       "    .dataframe thead th {\n",
       "        text-align: right;\n",
       "    }\n",
       "</style>\n",
       "<table border=\"1\" class=\"dataframe\">\n",
       "  <thead>\n",
       "    <tr style=\"text-align: right;\">\n",
       "      <th></th>\n",
       "      <th>CARDS</th>\n",
       "      <th>HAND STRENGTH</th>\n",
       "      <th>MY POSITION</th>\n",
       "      <th>MY STACK SIZE</th>\n",
       "      <th>HIGHEST HAND RANK</th>\n",
       "      <th>REASONS TO LIMP/BET SMALL</th>\n",
       "      <th>REASONS TO FOLD</th>\n",
       "      <th>REASONS TO RAISE</th>\n",
       "      <th>REASONS TO BET MEDIUM</th>\n",
       "      <th>REASONS TO BET LARGE</th>\n",
       "      <th>REASONS TO CHECK</th>\n",
       "    </tr>\n",
       "  </thead>\n",
       "  <tbody>\n",
       "    <tr>\n",
       "      <th>Preflop</th>\n",
       "      <td>[9c, Ks]</td>\n",
       "      <td>20</td>\n",
       "      <td>BTN</td>\n",
       "      <td>Stack is &lt;50 Big Blinds</td>\n",
       "      <td>13</td>\n",
       "      <td>NaN</td>\n",
       "      <td>Hand is too weak to call</td>\n",
       "      <td>NaN</td>\n",
       "      <td>NaN</td>\n",
       "      <td>NaN</td>\n",
       "      <td>Check marginal made hand (medium pair [6s to 10s]) with an overcard kicker</td>\n",
       "    </tr>\n",
       "    <tr>\n",
       "      <th>Flop</th>\n",
       "      <td>[10s, 9d, 10h]</td>\n",
       "      <td>20</td>\n",
       "      <td>BTN</td>\n",
       "      <td>Stack is &lt;50 Big Blinds</td>\n",
       "      <td>13</td>\n",
       "      <td>NaN</td>\n",
       "      <td>Hand is too weak to call</td>\n",
       "      <td>NaN</td>\n",
       "      <td>NaN</td>\n",
       "      <td>NaN</td>\n",
       "      <td>Check marginal made hand (medium pair [6s to 10s]) with an overcard kicker</td>\n",
       "    </tr>\n",
       "    <tr>\n",
       "      <th>Turn</th>\n",
       "      <td>[4h]</td>\n",
       "      <td>20</td>\n",
       "      <td>BTN</td>\n",
       "      <td>Stack is &lt;50 Big Blinds</td>\n",
       "      <td>13</td>\n",
       "      <td>NaN</td>\n",
       "      <td>Hand is too weak to call</td>\n",
       "      <td>NaN</td>\n",
       "      <td>NaN</td>\n",
       "      <td>NaN</td>\n",
       "      <td>Check marginal made hand (medium pair [6s to 10s]) with an overcard kicker</td>\n",
       "    </tr>\n",
       "    <tr>\n",
       "      <th>River</th>\n",
       "      <td>[2s]</td>\n",
       "      <td>20</td>\n",
       "      <td>BTN</td>\n",
       "      <td>Stack is &lt;50 Big Blinds</td>\n",
       "      <td>13</td>\n",
       "      <td>NaN</td>\n",
       "      <td>Hand is too weak to call</td>\n",
       "      <td>NaN</td>\n",
       "      <td>NaN</td>\n",
       "      <td>NaN</td>\n",
       "      <td>Check marginal made hand (medium pair [6s to 10s]) with an overcard kicker</td>\n",
       "    </tr>\n",
       "  </tbody>\n",
       "</table>\n",
       "</div>"
      ],
      "text/plain": [
       "                  CARDS  HAND STRENGTH MY POSITION            MY STACK SIZE  \\\n",
       "Preflop        [9c, Ks]             20         BTN  Stack is <50 Big Blinds   \n",
       "Flop     [10s, 9d, 10h]             20         BTN  Stack is <50 Big Blinds   \n",
       "Turn               [4h]             20         BTN  Stack is <50 Big Blinds   \n",
       "River              [2s]             20         BTN  Stack is <50 Big Blinds   \n",
       "\n",
       "         HIGHEST HAND RANK  REASONS TO LIMP/BET SMALL  \\\n",
       "Preflop                 13                        NaN   \n",
       "Flop                    13                        NaN   \n",
       "Turn                    13                        NaN   \n",
       "River                   13                        NaN   \n",
       "\n",
       "                  REASONS TO FOLD  REASONS TO RAISE  REASONS TO BET MEDIUM  \\\n",
       "Preflop  Hand is too weak to call               NaN                    NaN   \n",
       "Flop     Hand is too weak to call               NaN                    NaN   \n",
       "Turn     Hand is too weak to call               NaN                    NaN   \n",
       "River    Hand is too weak to call               NaN                    NaN   \n",
       "\n",
       "         REASONS TO BET LARGE  \\\n",
       "Preflop                   NaN   \n",
       "Flop                      NaN   \n",
       "Turn                      NaN   \n",
       "River                     NaN   \n",
       "\n",
       "                                                                   REASONS TO CHECK  \n",
       "Preflop  Check marginal made hand (medium pair [6s to 10s]) with an overcard kicker  \n",
       "Flop     Check marginal made hand (medium pair [6s to 10s]) with an overcard kicker  \n",
       "Turn     Check marginal made hand (medium pair [6s to 10s]) with an overcard kicker  \n",
       "River    Check marginal made hand (medium pair [6s to 10s]) with an overcard kicker  "
      ]
     },
     "execution_count": 227,
     "metadata": {},
     "output_type": "execute_result"
    }
   ],
   "source": [
    "try:\n",
    "    if PAIR_WITH_OVERCARD == 'Marginal made hand with overcard kicker':\n",
    "        dfPreflop['REASONS TO CHECK'] = 'Check marginal made hand (medium pair [6s to 10s]) with an overcard kicker'\n",
    "\n",
    "except NameError:\n",
    "    pass\n",
    "dfPreflop"
   ]
  },
  {
   "cell_type": "code",
   "execution_count": 228,
   "metadata": {},
   "outputs": [
    {
     "data": {
      "text/plain": [
       "30"
      ]
     },
     "execution_count": 228,
     "metadata": {},
     "output_type": "execute_result"
    }
   ],
   "source": [
    "HAND_STRENGTH"
   ]
  },
  {
   "cell_type": "code",
   "execution_count": 229,
   "metadata": {},
   "outputs": [
    {
     "data": {
      "text/html": [
       "<div>\n",
       "<style scoped>\n",
       "    .dataframe tbody tr th:only-of-type {\n",
       "        vertical-align: middle;\n",
       "    }\n",
       "\n",
       "    .dataframe tbody tr th {\n",
       "        vertical-align: top;\n",
       "    }\n",
       "\n",
       "    .dataframe thead th {\n",
       "        text-align: right;\n",
       "    }\n",
       "</style>\n",
       "<table border=\"1\" class=\"dataframe\">\n",
       "  <thead>\n",
       "    <tr style=\"text-align: right;\">\n",
       "      <th></th>\n",
       "      <th>CARDS</th>\n",
       "      <th>HAND STRENGTH</th>\n",
       "      <th>MY POSITION</th>\n",
       "      <th>MY STACK SIZE</th>\n",
       "      <th>HIGHEST HAND RANK</th>\n",
       "      <th>REASONS TO LIMP/BET SMALL</th>\n",
       "      <th>REASONS TO FOLD</th>\n",
       "      <th>REASONS TO RAISE</th>\n",
       "      <th>REASONS TO BET MEDIUM</th>\n",
       "      <th>REASONS TO BET LARGE</th>\n",
       "      <th>REASONS TO CHECK</th>\n",
       "    </tr>\n",
       "  </thead>\n",
       "  <tbody>\n",
       "    <tr>\n",
       "      <th>Preflop</th>\n",
       "      <td>[9c, Ks]</td>\n",
       "      <td>20</td>\n",
       "      <td>BTN</td>\n",
       "      <td>Stack is &lt;50 Big Blinds</td>\n",
       "      <td>13</td>\n",
       "      <td>NaN</td>\n",
       "      <td>Hand is too weak to call</td>\n",
       "      <td>NaN</td>\n",
       "      <td>NaN</td>\n",
       "      <td>NaN</td>\n",
       "      <td>Check marginal made hand (medium pair [6s to 10s]) with an overcard kicker</td>\n",
       "    </tr>\n",
       "    <tr>\n",
       "      <th>Flop</th>\n",
       "      <td>[10s, 9d, 10h]</td>\n",
       "      <td>20</td>\n",
       "      <td>BTN</td>\n",
       "      <td>Stack is &lt;50 Big Blinds</td>\n",
       "      <td>13</td>\n",
       "      <td>NaN</td>\n",
       "      <td>Hand is too weak to call</td>\n",
       "      <td>NaN</td>\n",
       "      <td>NaN</td>\n",
       "      <td>NaN</td>\n",
       "      <td>Check marginal made hand (medium pair [6s to 10s]) with an overcard kicker</td>\n",
       "    </tr>\n",
       "    <tr>\n",
       "      <th>Turn</th>\n",
       "      <td>[4h]</td>\n",
       "      <td>20</td>\n",
       "      <td>BTN</td>\n",
       "      <td>Stack is &lt;50 Big Blinds</td>\n",
       "      <td>13</td>\n",
       "      <td>NaN</td>\n",
       "      <td>Hand is too weak to call</td>\n",
       "      <td>NaN</td>\n",
       "      <td>NaN</td>\n",
       "      <td>NaN</td>\n",
       "      <td>Check marginal made hand (medium pair [6s to 10s]) with an overcard kicker</td>\n",
       "    </tr>\n",
       "    <tr>\n",
       "      <th>River</th>\n",
       "      <td>[2s]</td>\n",
       "      <td>20</td>\n",
       "      <td>BTN</td>\n",
       "      <td>Stack is &lt;50 Big Blinds</td>\n",
       "      <td>13</td>\n",
       "      <td>NaN</td>\n",
       "      <td>Hand is too weak to call</td>\n",
       "      <td>NaN</td>\n",
       "      <td>NaN</td>\n",
       "      <td>NaN</td>\n",
       "      <td>Check marginal made hand (medium pair [6s to 10s]) with an overcard kicker</td>\n",
       "    </tr>\n",
       "  </tbody>\n",
       "</table>\n",
       "</div>"
      ],
      "text/plain": [
       "                  CARDS  HAND STRENGTH MY POSITION            MY STACK SIZE  \\\n",
       "Preflop        [9c, Ks]             20         BTN  Stack is <50 Big Blinds   \n",
       "Flop     [10s, 9d, 10h]             20         BTN  Stack is <50 Big Blinds   \n",
       "Turn               [4h]             20         BTN  Stack is <50 Big Blinds   \n",
       "River              [2s]             20         BTN  Stack is <50 Big Blinds   \n",
       "\n",
       "         HIGHEST HAND RANK  REASONS TO LIMP/BET SMALL  \\\n",
       "Preflop                 13                        NaN   \n",
       "Flop                    13                        NaN   \n",
       "Turn                    13                        NaN   \n",
       "River                   13                        NaN   \n",
       "\n",
       "                  REASONS TO FOLD  REASONS TO RAISE  REASONS TO BET MEDIUM  \\\n",
       "Preflop  Hand is too weak to call               NaN                    NaN   \n",
       "Flop     Hand is too weak to call               NaN                    NaN   \n",
       "Turn     Hand is too weak to call               NaN                    NaN   \n",
       "River    Hand is too weak to call               NaN                    NaN   \n",
       "\n",
       "         REASONS TO BET LARGE  \\\n",
       "Preflop                   NaN   \n",
       "Flop                      NaN   \n",
       "Turn                      NaN   \n",
       "River                     NaN   \n",
       "\n",
       "                                                                   REASONS TO CHECK  \n",
       "Preflop  Check marginal made hand (medium pair [6s to 10s]) with an overcard kicker  \n",
       "Flop     Check marginal made hand (medium pair [6s to 10s]) with an overcard kicker  \n",
       "Turn     Check marginal made hand (medium pair [6s to 10s]) with an overcard kicker  \n",
       "River    Check marginal made hand (medium pair [6s to 10s]) with an overcard kicker  "
      ]
     },
     "execution_count": 229,
     "metadata": {},
     "output_type": "execute_result"
    }
   ],
   "source": [
    "if HAND_STRENGTH > 30:\n",
    "    dfPreflop['REASONS TO CALL'] = 'Hand is too strong to fold'\n",
    "dfPreflop"
   ]
  },
  {
   "cell_type": "code",
   "execution_count": 230,
   "metadata": {},
   "outputs": [
    {
     "data": {
      "text/plain": [
       "('Ah',\n",
       " '2h',\n",
       " '3h',\n",
       " '4h',\n",
       " '5h',\n",
       " '6h',\n",
       " '7h',\n",
       " '8h',\n",
       " '9h',\n",
       " '10h',\n",
       " 'Jh',\n",
       " 'Qh',\n",
       " 'Kh',\n",
       " 'Ac',\n",
       " '2c',\n",
       " '3c',\n",
       " '4c',\n",
       " '5c',\n",
       " '6c',\n",
       " '7c',\n",
       " '8c',\n",
       " '9c',\n",
       " '10c',\n",
       " 'Jc',\n",
       " 'Qc',\n",
       " 'Kc',\n",
       " 'As',\n",
       " '2s',\n",
       " '3s',\n",
       " '4s',\n",
       " '5s',\n",
       " '6s',\n",
       " '7s',\n",
       " '8s',\n",
       " '9s',\n",
       " '10s',\n",
       " 'Js',\n",
       " 'Qs',\n",
       " 'Ks',\n",
       " 'Ad',\n",
       " '2d',\n",
       " '3d',\n",
       " '4d',\n",
       " '5d',\n",
       " '6d',\n",
       " '7d',\n",
       " '8d',\n",
       " '9d',\n",
       " '10d',\n",
       " 'Jd',\n",
       " 'Qd',\n",
       " 'Kd')"
      ]
     },
     "execution_count": 230,
     "metadata": {},
     "output_type": "execute_result"
    }
   ],
   "source": [
    "CARDS\n"
   ]
  },
  {
   "cell_type": "code",
   "execution_count": null,
   "metadata": {},
   "outputs": [],
   "source": []
  },
  {
   "cell_type": "code",
   "execution_count": 231,
   "metadata": {},
   "outputs": [
    {
     "data": {
      "text/plain": [
       "30"
      ]
     },
     "execution_count": 231,
     "metadata": {},
     "output_type": "execute_result"
    }
   ],
   "source": [
    "HAND_STRENGTH"
   ]
  },
  {
   "cell_type": "code",
   "execution_count": 232,
   "metadata": {},
   "outputs": [],
   "source": [
    "#TOP TWO PAIR ON THE RIVER : GO ALL-IN"
   ]
  },
  {
   "cell_type": "code",
   "execution_count": 233,
   "metadata": {},
   "outputs": [],
   "source": [
    "################# MODULE 1.5: CALCULATING POT-ODDS #########################"
   ]
  },
  {
   "cell_type": "code",
   "execution_count": 234,
   "metadata": {},
   "outputs": [],
   "source": [
    "#### GOAL: SUM BET SIZES BEFORE YOUR MOVE"
   ]
  },
  {
   "cell_type": "code",
   "execution_count": 235,
   "metadata": {},
   "outputs": [],
   "source": [
    "########## MODULE TWO PART TWO : DECISIONS ON THE TURN ############"
   ]
  },
  {
   "cell_type": "code",
   "execution_count": 236,
   "metadata": {},
   "outputs": [
    {
     "data": {
      "text/plain": [
       "['9c', 'Ks', '10s', '9d', '10h', '5c', '4h', '10d', '2s']"
      ]
     },
     "execution_count": 236,
     "metadata": {},
     "output_type": "execute_result"
    }
   ],
   "source": [
    "COMMUNITY_CARDS \n"
   ]
  },
  {
   "cell_type": "code",
   "execution_count": 237,
   "metadata": {},
   "outputs": [
    {
     "data": {
      "text/plain": [
       "['10s', '9d', '10h']"
      ]
     },
     "execution_count": 237,
     "metadata": {},
     "output_type": "execute_result"
    }
   ],
   "source": [
    "HAND = COMMUNITY_CARDS[0:2]\n",
    "FLOP = COMMUNITY_CARDS[2:5]\n",
    "BURN1 = COMMUNITY_CARDS[5]\n",
    "TURN = COMMUNITY_CARDS[6]\n",
    "BURN2 = COMMUNITY_CARDS[7]\n",
    "RIVER = COMMUNITY_CARDS[8]\n",
    "FLOP"
   ]
  },
  {
   "cell_type": "code",
   "execution_count": 238,
   "metadata": {},
   "outputs": [
    {
     "data": {
      "text/plain": [
       "['9c', 'Ks']"
      ]
     },
     "execution_count": 238,
     "metadata": {},
     "output_type": "execute_result"
    }
   ],
   "source": [
    "HAND"
   ]
  },
  {
   "cell_type": "code",
   "execution_count": 239,
   "metadata": {},
   "outputs": [
    {
     "data": {
      "text/plain": [
       "'4h'"
      ]
     },
     "execution_count": 239,
     "metadata": {},
     "output_type": "execute_result"
    }
   ],
   "source": [
    "TURN"
   ]
  },
  {
   "cell_type": "code",
   "execution_count": 240,
   "metadata": {},
   "outputs": [
    {
     "data": {
      "text/plain": [
       "4"
      ]
     },
     "execution_count": 240,
     "metadata": {},
     "output_type": "execute_result"
    }
   ],
   "source": [
    "TURN_RANK"
   ]
  },
  {
   "cell_type": "code",
   "execution_count": 241,
   "metadata": {},
   "outputs": [
    {
     "data": {
      "text/plain": [
       "10"
      ]
     },
     "execution_count": 241,
     "metadata": {},
     "output_type": "execute_result"
    }
   ],
   "source": [
    "FLOP_1_RANK\n"
   ]
  },
  {
   "cell_type": "code",
   "execution_count": 242,
   "metadata": {},
   "outputs": [
    {
     "data": {
      "text/plain": [
       "9"
      ]
     },
     "execution_count": 242,
     "metadata": {},
     "output_type": "execute_result"
    }
   ],
   "source": [
    "FLOP_2_RANK"
   ]
  },
  {
   "cell_type": "code",
   "execution_count": 243,
   "metadata": {},
   "outputs": [
    {
     "data": {
      "text/plain": [
       "10"
      ]
     },
     "execution_count": 243,
     "metadata": {},
     "output_type": "execute_result"
    }
   ],
   "source": [
    "FLOP_3_RANK"
   ]
  },
  {
   "cell_type": "code",
   "execution_count": 244,
   "metadata": {},
   "outputs": [
    {
     "data": {
      "text/html": [
       "<div>\n",
       "<style scoped>\n",
       "    .dataframe tbody tr th:only-of-type {\n",
       "        vertical-align: middle;\n",
       "    }\n",
       "\n",
       "    .dataframe tbody tr th {\n",
       "        vertical-align: top;\n",
       "    }\n",
       "\n",
       "    .dataframe thead th {\n",
       "        text-align: right;\n",
       "    }\n",
       "</style>\n",
       "<table border=\"1\" class=\"dataframe\">\n",
       "  <thead>\n",
       "    <tr style=\"text-align: right;\">\n",
       "      <th></th>\n",
       "      <th>CARDS</th>\n",
       "      <th>HAND STRENGTH</th>\n",
       "      <th>MY POSITION</th>\n",
       "      <th>MY STACK SIZE</th>\n",
       "      <th>HIGHEST HAND RANK</th>\n",
       "      <th>REASONS TO LIMP/BET SMALL</th>\n",
       "      <th>REASONS TO FOLD</th>\n",
       "      <th>REASONS TO RAISE</th>\n",
       "      <th>REASONS TO BET MEDIUM</th>\n",
       "      <th>REASONS TO BET LARGE</th>\n",
       "      <th>REASONS TO CHECK</th>\n",
       "      <th>TURN CARD</th>\n",
       "      <th>REASONS TO CALL</th>\n",
       "    </tr>\n",
       "  </thead>\n",
       "  <tbody>\n",
       "    <tr>\n",
       "      <th>Preflop</th>\n",
       "      <td>[9c, Ks]</td>\n",
       "      <td>20</td>\n",
       "      <td>BTN</td>\n",
       "      <td>Stack is &lt;50 Big Blinds</td>\n",
       "      <td>13</td>\n",
       "      <td>NaN</td>\n",
       "      <td>Hand is too weak to call</td>\n",
       "      <td>NaN</td>\n",
       "      <td>NaN</td>\n",
       "      <td>NaN</td>\n",
       "      <td>Check marginal made hand (medium pair [6s to 10s]) with an overcard kicker</td>\n",
       "      <td>4h</td>\n",
       "      <td>You have at least a pair</td>\n",
       "    </tr>\n",
       "    <tr>\n",
       "      <th>Flop</th>\n",
       "      <td>[10s, 9d, 10h]</td>\n",
       "      <td>20</td>\n",
       "      <td>BTN</td>\n",
       "      <td>Stack is &lt;50 Big Blinds</td>\n",
       "      <td>13</td>\n",
       "      <td>NaN</td>\n",
       "      <td>Hand is too weak to call</td>\n",
       "      <td>NaN</td>\n",
       "      <td>NaN</td>\n",
       "      <td>NaN</td>\n",
       "      <td>Check marginal made hand (medium pair [6s to 10s]) with an overcard kicker</td>\n",
       "      <td>4h</td>\n",
       "      <td>You have at least a pair</td>\n",
       "    </tr>\n",
       "    <tr>\n",
       "      <th>Turn</th>\n",
       "      <td>[4h]</td>\n",
       "      <td>20</td>\n",
       "      <td>BTN</td>\n",
       "      <td>Stack is &lt;50 Big Blinds</td>\n",
       "      <td>13</td>\n",
       "      <td>NaN</td>\n",
       "      <td>Hand is too weak to call</td>\n",
       "      <td>NaN</td>\n",
       "      <td>NaN</td>\n",
       "      <td>NaN</td>\n",
       "      <td>Check marginal made hand (medium pair [6s to 10s]) with an overcard kicker</td>\n",
       "      <td>4h</td>\n",
       "      <td>You have at least a pair</td>\n",
       "    </tr>\n",
       "    <tr>\n",
       "      <th>River</th>\n",
       "      <td>[2s]</td>\n",
       "      <td>20</td>\n",
       "      <td>BTN</td>\n",
       "      <td>Stack is &lt;50 Big Blinds</td>\n",
       "      <td>13</td>\n",
       "      <td>NaN</td>\n",
       "      <td>Hand is too weak to call</td>\n",
       "      <td>NaN</td>\n",
       "      <td>NaN</td>\n",
       "      <td>NaN</td>\n",
       "      <td>Check marginal made hand (medium pair [6s to 10s]) with an overcard kicker</td>\n",
       "      <td>4h</td>\n",
       "      <td>You have at least a pair</td>\n",
       "    </tr>\n",
       "  </tbody>\n",
       "</table>\n",
       "</div>"
      ],
      "text/plain": [
       "                  CARDS  HAND STRENGTH MY POSITION            MY STACK SIZE  \\\n",
       "Preflop        [9c, Ks]             20         BTN  Stack is <50 Big Blinds   \n",
       "Flop     [10s, 9d, 10h]             20         BTN  Stack is <50 Big Blinds   \n",
       "Turn               [4h]             20         BTN  Stack is <50 Big Blinds   \n",
       "River              [2s]             20         BTN  Stack is <50 Big Blinds   \n",
       "\n",
       "         HIGHEST HAND RANK  REASONS TO LIMP/BET SMALL  \\\n",
       "Preflop                 13                        NaN   \n",
       "Flop                    13                        NaN   \n",
       "Turn                    13                        NaN   \n",
       "River                   13                        NaN   \n",
       "\n",
       "                  REASONS TO FOLD  REASONS TO RAISE  REASONS TO BET MEDIUM  \\\n",
       "Preflop  Hand is too weak to call               NaN                    NaN   \n",
       "Flop     Hand is too weak to call               NaN                    NaN   \n",
       "Turn     Hand is too weak to call               NaN                    NaN   \n",
       "River    Hand is too weak to call               NaN                    NaN   \n",
       "\n",
       "         REASONS TO BET LARGE  \\\n",
       "Preflop                   NaN   \n",
       "Flop                      NaN   \n",
       "Turn                      NaN   \n",
       "River                     NaN   \n",
       "\n",
       "                                                                   REASONS TO CHECK  \\\n",
       "Preflop  Check marginal made hand (medium pair [6s to 10s]) with an overcard kicker   \n",
       "Flop     Check marginal made hand (medium pair [6s to 10s]) with an overcard kicker   \n",
       "Turn     Check marginal made hand (medium pair [6s to 10s]) with an overcard kicker   \n",
       "River    Check marginal made hand (medium pair [6s to 10s]) with an overcard kicker   \n",
       "\n",
       "        TURN CARD           REASONS TO CALL  \n",
       "Preflop        4h  You have at least a pair  \n",
       "Flop           4h  You have at least a pair  \n",
       "Turn           4h  You have at least a pair  \n",
       "River          4h  You have at least a pair  "
      ]
     },
     "execution_count": 244,
     "metadata": {},
     "output_type": "execute_result"
    }
   ],
   "source": [
    "dfPreflop['TURN CARD'] = str(TURN)\n",
    "\n",
    "if TURN_RANK == FLOP_1_RANK or FLOP_2_RANK or FLOP_3_RANK:\n",
    "    dfPreflop['REASONS TO CALL'] = 'You have at least a pair'\n",
    "dfPreflop"
   ]
  },
  {
   "cell_type": "code",
   "execution_count": 245,
   "metadata": {},
   "outputs": [
    {
     "data": {
      "text/html": [
       "<div>\n",
       "<style scoped>\n",
       "    .dataframe tbody tr th:only-of-type {\n",
       "        vertical-align: middle;\n",
       "    }\n",
       "\n",
       "    .dataframe tbody tr th {\n",
       "        vertical-align: top;\n",
       "    }\n",
       "\n",
       "    .dataframe thead th {\n",
       "        text-align: right;\n",
       "    }\n",
       "</style>\n",
       "<table border=\"1\" class=\"dataframe\">\n",
       "  <thead>\n",
       "    <tr style=\"text-align: right;\">\n",
       "      <th></th>\n",
       "      <th>CARDS</th>\n",
       "      <th>HAND STRENGTH</th>\n",
       "      <th>MY POSITION</th>\n",
       "      <th>MY STACK SIZE</th>\n",
       "      <th>HIGHEST HAND RANK</th>\n",
       "      <th>REASONS TO LIMP/BET SMALL</th>\n",
       "      <th>REASONS TO FOLD</th>\n",
       "      <th>REASONS TO RAISE</th>\n",
       "      <th>REASONS TO BET MEDIUM</th>\n",
       "      <th>REASONS TO BET LARGE</th>\n",
       "      <th>REASONS TO CHECK</th>\n",
       "      <th>TURN CARD</th>\n",
       "      <th>REASONS TO CALL</th>\n",
       "    </tr>\n",
       "  </thead>\n",
       "  <tbody>\n",
       "    <tr>\n",
       "      <th>Preflop</th>\n",
       "      <td>[9c, Ks]</td>\n",
       "      <td>20</td>\n",
       "      <td>BTN</td>\n",
       "      <td>Stack is &lt;50 Big Blinds</td>\n",
       "      <td>13</td>\n",
       "      <td>NaN</td>\n",
       "      <td>Hand is too weak to call</td>\n",
       "      <td>NaN</td>\n",
       "      <td>NaN</td>\n",
       "      <td>NaN</td>\n",
       "      <td>Check marginal made hand (medium pair [6s to 10s]) with an overcard kicker</td>\n",
       "      <td>4h</td>\n",
       "      <td>You have at least a pair</td>\n",
       "    </tr>\n",
       "    <tr>\n",
       "      <th>Flop</th>\n",
       "      <td>[10s, 9d, 10h]</td>\n",
       "      <td>20</td>\n",
       "      <td>BTN</td>\n",
       "      <td>Stack is &lt;50 Big Blinds</td>\n",
       "      <td>13</td>\n",
       "      <td>NaN</td>\n",
       "      <td>Hand is too weak to call</td>\n",
       "      <td>NaN</td>\n",
       "      <td>NaN</td>\n",
       "      <td>NaN</td>\n",
       "      <td>Check marginal made hand (medium pair [6s to 10s]) with an overcard kicker</td>\n",
       "      <td>4h</td>\n",
       "      <td>You have at least a pair</td>\n",
       "    </tr>\n",
       "    <tr>\n",
       "      <th>Turn</th>\n",
       "      <td>[4h]</td>\n",
       "      <td>20</td>\n",
       "      <td>BTN</td>\n",
       "      <td>Stack is &lt;50 Big Blinds</td>\n",
       "      <td>13</td>\n",
       "      <td>NaN</td>\n",
       "      <td>Hand is too weak to call</td>\n",
       "      <td>NaN</td>\n",
       "      <td>NaN</td>\n",
       "      <td>NaN</td>\n",
       "      <td>Check marginal made hand (medium pair [6s to 10s]) with an overcard kicker</td>\n",
       "      <td>4h</td>\n",
       "      <td>You have at least a pair</td>\n",
       "    </tr>\n",
       "    <tr>\n",
       "      <th>River</th>\n",
       "      <td>[2s]</td>\n",
       "      <td>20</td>\n",
       "      <td>BTN</td>\n",
       "      <td>Stack is &lt;50 Big Blinds</td>\n",
       "      <td>13</td>\n",
       "      <td>NaN</td>\n",
       "      <td>Hand is too weak to call</td>\n",
       "      <td>NaN</td>\n",
       "      <td>NaN</td>\n",
       "      <td>NaN</td>\n",
       "      <td>Check marginal made hand (medium pair [6s to 10s]) with an overcard kicker</td>\n",
       "      <td>4h</td>\n",
       "      <td>You have at least a pair</td>\n",
       "    </tr>\n",
       "  </tbody>\n",
       "</table>\n",
       "</div>"
      ],
      "text/plain": [
       "                  CARDS  HAND STRENGTH MY POSITION            MY STACK SIZE  \\\n",
       "Preflop        [9c, Ks]             20         BTN  Stack is <50 Big Blinds   \n",
       "Flop     [10s, 9d, 10h]             20         BTN  Stack is <50 Big Blinds   \n",
       "Turn               [4h]             20         BTN  Stack is <50 Big Blinds   \n",
       "River              [2s]             20         BTN  Stack is <50 Big Blinds   \n",
       "\n",
       "         HIGHEST HAND RANK  REASONS TO LIMP/BET SMALL  \\\n",
       "Preflop                 13                        NaN   \n",
       "Flop                    13                        NaN   \n",
       "Turn                    13                        NaN   \n",
       "River                   13                        NaN   \n",
       "\n",
       "                  REASONS TO FOLD  REASONS TO RAISE  REASONS TO BET MEDIUM  \\\n",
       "Preflop  Hand is too weak to call               NaN                    NaN   \n",
       "Flop     Hand is too weak to call               NaN                    NaN   \n",
       "Turn     Hand is too weak to call               NaN                    NaN   \n",
       "River    Hand is too weak to call               NaN                    NaN   \n",
       "\n",
       "         REASONS TO BET LARGE  \\\n",
       "Preflop                   NaN   \n",
       "Flop                      NaN   \n",
       "Turn                      NaN   \n",
       "River                     NaN   \n",
       "\n",
       "                                                                   REASONS TO CHECK  \\\n",
       "Preflop  Check marginal made hand (medium pair [6s to 10s]) with an overcard kicker   \n",
       "Flop     Check marginal made hand (medium pair [6s to 10s]) with an overcard kicker   \n",
       "Turn     Check marginal made hand (medium pair [6s to 10s]) with an overcard kicker   \n",
       "River    Check marginal made hand (medium pair [6s to 10s]) with an overcard kicker   \n",
       "\n",
       "        TURN CARD           REASONS TO CALL  \n",
       "Preflop        4h  You have at least a pair  \n",
       "Flop           4h  You have at least a pair  \n",
       "Turn           4h  You have at least a pair  \n",
       "River          4h  You have at least a pair  "
      ]
     },
     "execution_count": 245,
     "metadata": {},
     "output_type": "execute_result"
    }
   ],
   "source": [
    "dfFlopTurn = dfPreflop\n",
    "dfFlopTurn\n"
   ]
  },
  {
   "cell_type": "code",
   "execution_count": 246,
   "metadata": {},
   "outputs": [],
   "source": [
    "RAISE_POSSIBILITIES = ('Opponent plays very well/folds out hands you beat')"
   ]
  },
  {
   "cell_type": "code",
   "execution_count": 247,
   "metadata": {},
   "outputs": [],
   "source": [
    "########### MODULE TWO PART THREE : DECISIONS ON THE RIVER ############"
   ]
  },
  {
   "cell_type": "code",
   "execution_count": 248,
   "metadata": {},
   "outputs": [],
   "source": [
    "RIVER = COMMUNITY_CARDS[8]"
   ]
  },
  {
   "cell_type": "code",
   "execution_count": 249,
   "metadata": {},
   "outputs": [
    {
     "data": {
      "text/plain": [
       "'2s'"
      ]
     },
     "execution_count": 249,
     "metadata": {},
     "output_type": "execute_result"
    }
   ],
   "source": [
    "RIVER"
   ]
  },
  {
   "cell_type": "code",
   "execution_count": 250,
   "metadata": {},
   "outputs": [
    {
     "data": {
      "text/html": [
       "<div>\n",
       "<style scoped>\n",
       "    .dataframe tbody tr th:only-of-type {\n",
       "        vertical-align: middle;\n",
       "    }\n",
       "\n",
       "    .dataframe tbody tr th {\n",
       "        vertical-align: top;\n",
       "    }\n",
       "\n",
       "    .dataframe thead th {\n",
       "        text-align: right;\n",
       "    }\n",
       "</style>\n",
       "<table border=\"1\" class=\"dataframe\">\n",
       "  <thead>\n",
       "    <tr style=\"text-align: right;\">\n",
       "      <th></th>\n",
       "      <th>CARDS</th>\n",
       "      <th>HAND STRENGTH</th>\n",
       "      <th>MY POSITION</th>\n",
       "      <th>MY STACK SIZE</th>\n",
       "      <th>HIGHEST HAND RANK</th>\n",
       "      <th>REASONS TO LIMP/BET SMALL</th>\n",
       "      <th>REASONS TO FOLD</th>\n",
       "      <th>REASONS TO RAISE</th>\n",
       "      <th>REASONS TO BET MEDIUM</th>\n",
       "      <th>REASONS TO BET LARGE</th>\n",
       "      <th>REASONS TO CHECK</th>\n",
       "      <th>TURN CARD</th>\n",
       "      <th>REASONS TO CALL</th>\n",
       "      <th>RIVER</th>\n",
       "    </tr>\n",
       "  </thead>\n",
       "  <tbody>\n",
       "    <tr>\n",
       "      <th>Preflop</th>\n",
       "      <td>[9c, Ks]</td>\n",
       "      <td>20</td>\n",
       "      <td>BTN</td>\n",
       "      <td>Stack is &lt;50 Big Blinds</td>\n",
       "      <td>13</td>\n",
       "      <td>NaN</td>\n",
       "      <td>Hand is too weak to call</td>\n",
       "      <td>NaN</td>\n",
       "      <td>NaN</td>\n",
       "      <td>NaN</td>\n",
       "      <td>Check marginal made hand (medium pair [6s to 10s]) with an overcard kicker</td>\n",
       "      <td>4h</td>\n",
       "      <td>You have at least a pair</td>\n",
       "      <td>2s</td>\n",
       "    </tr>\n",
       "    <tr>\n",
       "      <th>Flop</th>\n",
       "      <td>[10s, 9d, 10h]</td>\n",
       "      <td>20</td>\n",
       "      <td>BTN</td>\n",
       "      <td>Stack is &lt;50 Big Blinds</td>\n",
       "      <td>13</td>\n",
       "      <td>NaN</td>\n",
       "      <td>Hand is too weak to call</td>\n",
       "      <td>NaN</td>\n",
       "      <td>NaN</td>\n",
       "      <td>NaN</td>\n",
       "      <td>Check marginal made hand (medium pair [6s to 10s]) with an overcard kicker</td>\n",
       "      <td>4h</td>\n",
       "      <td>You have at least a pair</td>\n",
       "      <td>2s</td>\n",
       "    </tr>\n",
       "    <tr>\n",
       "      <th>Turn</th>\n",
       "      <td>[4h]</td>\n",
       "      <td>20</td>\n",
       "      <td>BTN</td>\n",
       "      <td>Stack is &lt;50 Big Blinds</td>\n",
       "      <td>13</td>\n",
       "      <td>NaN</td>\n",
       "      <td>Hand is too weak to call</td>\n",
       "      <td>NaN</td>\n",
       "      <td>NaN</td>\n",
       "      <td>NaN</td>\n",
       "      <td>Check marginal made hand (medium pair [6s to 10s]) with an overcard kicker</td>\n",
       "      <td>4h</td>\n",
       "      <td>You have at least a pair</td>\n",
       "      <td>2s</td>\n",
       "    </tr>\n",
       "    <tr>\n",
       "      <th>River</th>\n",
       "      <td>[2s]</td>\n",
       "      <td>20</td>\n",
       "      <td>BTN</td>\n",
       "      <td>Stack is &lt;50 Big Blinds</td>\n",
       "      <td>13</td>\n",
       "      <td>NaN</td>\n",
       "      <td>Hand is too weak to call</td>\n",
       "      <td>NaN</td>\n",
       "      <td>NaN</td>\n",
       "      <td>NaN</td>\n",
       "      <td>Check marginal made hand (medium pair [6s to 10s]) with an overcard kicker</td>\n",
       "      <td>4h</td>\n",
       "      <td>You have at least a pair</td>\n",
       "      <td>2s</td>\n",
       "    </tr>\n",
       "  </tbody>\n",
       "</table>\n",
       "</div>"
      ],
      "text/plain": [
       "                  CARDS  HAND STRENGTH MY POSITION            MY STACK SIZE  \\\n",
       "Preflop        [9c, Ks]             20         BTN  Stack is <50 Big Blinds   \n",
       "Flop     [10s, 9d, 10h]             20         BTN  Stack is <50 Big Blinds   \n",
       "Turn               [4h]             20         BTN  Stack is <50 Big Blinds   \n",
       "River              [2s]             20         BTN  Stack is <50 Big Blinds   \n",
       "\n",
       "         HIGHEST HAND RANK  REASONS TO LIMP/BET SMALL  \\\n",
       "Preflop                 13                        NaN   \n",
       "Flop                    13                        NaN   \n",
       "Turn                    13                        NaN   \n",
       "River                   13                        NaN   \n",
       "\n",
       "                  REASONS TO FOLD  REASONS TO RAISE  REASONS TO BET MEDIUM  \\\n",
       "Preflop  Hand is too weak to call               NaN                    NaN   \n",
       "Flop     Hand is too weak to call               NaN                    NaN   \n",
       "Turn     Hand is too weak to call               NaN                    NaN   \n",
       "River    Hand is too weak to call               NaN                    NaN   \n",
       "\n",
       "         REASONS TO BET LARGE  \\\n",
       "Preflop                   NaN   \n",
       "Flop                      NaN   \n",
       "Turn                      NaN   \n",
       "River                     NaN   \n",
       "\n",
       "                                                                   REASONS TO CHECK  \\\n",
       "Preflop  Check marginal made hand (medium pair [6s to 10s]) with an overcard kicker   \n",
       "Flop     Check marginal made hand (medium pair [6s to 10s]) with an overcard kicker   \n",
       "Turn     Check marginal made hand (medium pair [6s to 10s]) with an overcard kicker   \n",
       "River    Check marginal made hand (medium pair [6s to 10s]) with an overcard kicker   \n",
       "\n",
       "        TURN CARD           REASONS TO CALL RIVER  \n",
       "Preflop        4h  You have at least a pair    2s  \n",
       "Flop           4h  You have at least a pair    2s  \n",
       "Turn           4h  You have at least a pair    2s  \n",
       "River          4h  You have at least a pair    2s  "
      ]
     },
     "execution_count": 250,
     "metadata": {},
     "output_type": "execute_result"
    }
   ],
   "source": [
    "dfFlopTurn['RIVER'] = RIVER\n",
    "dfFlopTurn\n"
   ]
  },
  {
   "cell_type": "code",
   "execution_count": 251,
   "metadata": {},
   "outputs": [
    {
     "data": {
      "text/plain": [
       "'2s'"
      ]
     },
     "execution_count": 251,
     "metadata": {},
     "output_type": "execute_result"
    }
   ],
   "source": [
    "RIVER"
   ]
  },
  {
   "cell_type": "code",
   "execution_count": 252,
   "metadata": {},
   "outputs": [],
   "source": [
    "#Write this as a list :'[x]'\n",
    "NUMBER_OF_PLAYERS = [4]"
   ]
  },
  {
   "cell_type": "code",
   "execution_count": 253,
   "metadata": {},
   "outputs": [
    {
     "data": {
      "text/plain": [
       "[4]"
      ]
     },
     "execution_count": 253,
     "metadata": {},
     "output_type": "execute_result"
    }
   ],
   "source": [
    "NUMBER_OF_PLAYERS"
   ]
  },
  {
   "cell_type": "code",
   "execution_count": 254,
   "metadata": {},
   "outputs": [
    {
     "data": {
      "text/plain": [
       "['10s', '9d', '10h']"
      ]
     },
     "execution_count": 254,
     "metadata": {},
     "output_type": "execute_result"
    }
   ],
   "source": [
    "FLOP"
   ]
  },
  {
   "cell_type": "code",
   "execution_count": 255,
   "metadata": {},
   "outputs": [],
   "source": [
    "EQUITY = ('backdoor flush draw','gutshot straight draw','overcards')\n"
   ]
  },
  {
   "cell_type": "code",
   "execution_count": 256,
   "metadata": {},
   "outputs": [
    {
     "data": {
      "text/plain": [
       "('backdoor flush draw', 'gutshot straight draw', 'overcards')"
      ]
     },
     "execution_count": 256,
     "metadata": {},
     "output_type": "execute_result"
    }
   ],
   "source": [
    "EQUITY"
   ]
  },
  {
   "cell_type": "code",
   "execution_count": null,
   "metadata": {},
   "outputs": [],
   "source": []
  },
  {
   "cell_type": "code",
   "execution_count": 257,
   "metadata": {},
   "outputs": [],
   "source": [
    "import random\n",
    "import matplotlib.pyplot as plt\n",
    "import matplotlib.image as img"
   ]
  },
  {
   "cell_type": "code",
   "execution_count": 258,
   "metadata": {
    "scrolled": true
   },
   "outputs": [
    {
     "data": {
      "text/plain": [
       "2"
      ]
     },
     "execution_count": 258,
     "metadata": {},
     "output_type": "execute_result"
    }
   ],
   "source": [
    "roll = random.randint(1,6)\n",
    "roll"
   ]
  },
  {
   "cell_type": "code",
   "execution_count": 264,
   "metadata": {},
   "outputs": [],
   "source": [
    "Qh = 'file:///Users/ricardobarrios/learning-texas-holdem/art_assets/queen_of_hearts.png'"
   ]
  },
  {
   "cell_type": "code",
   "execution_count": 265,
   "metadata": {},
   "outputs": [
    {
     "name": "stdout",
     "output_type": "stream",
     "text": [
      "file:///Users/ricardobarrios/learning-texas-holdem/art_assets/queen_of_hearts.png\n"
     ]
    }
   ],
   "source": [
    "print(Qh)"
   ]
  },
  {
   "cell_type": "code",
   "execution_count": 261,
   "metadata": {},
   "outputs": [
    {
     "data": {
      "text/plain": [
       "'file:///Users/ricardobarrios/learning-texas-holdem/art_assets/king_of_hearts.png'"
      ]
     },
     "execution_count": 261,
     "metadata": {},
     "output_type": "execute_result"
    }
   ],
   "source": [
    "Kh = 'file:///Users/ricardobarrios/learning-texas-holdem/art_assets/king_of_hearts.png'\n",
    "Kh"
   ]
  },
  {
   "cell_type": "code",
   "execution_count": 262,
   "metadata": {},
   "outputs": [
    {
     "ename": "SyntaxError",
     "evalue": "can't assign to literal (<ipython-input-262-73dc32e462fa>, line 1)",
     "output_type": "error",
     "traceback": [
      "\u001b[0;36m  File \u001b[0;32m\"<ipython-input-262-73dc32e462fa>\"\u001b[0;36m, line \u001b[0;32m1\u001b[0m\n\u001b[0;31m    'Th' = 'file:///Users/ricardobarrios/learning-texas-holdem/art_assets/ten_of_hearts.png'\u001b[0m\n\u001b[0m                                                                                            ^\u001b[0m\n\u001b[0;31mSyntaxError\u001b[0m\u001b[0;31m:\u001b[0m can't assign to literal\n"
     ]
    }
   ],
   "source": [
    "'Th' = 'file:///Users/ricardobarrios/learning-texas-holdem/art_assets/ten_of_hearts.png'\n",
    "'Qs' = 'file:///Users/ricardobarrios/learning-texas-holdem/art_assets/queen_of_spades.png'\n",
    "'Qh' = 'file:///Users/ricardobarrios/learning-texas-holdem/art_assets/queen_of_hearts.png'\n",
    "'Qd' = 'file:///Users/ricardobarrios/learning-texas-holdem/art_assets/queen_of_diamonds.png'\n",
    "'Qc' = 'file:///Users/ricardobarrios/learning-texas-holdem/art_assets/queen_of_clubs.png'\n",
    "'Ks' = 'file:///Users/ricardobarrios/learning-texas-holdem/art_assets/king_of_spades.png'\n",
    "'Kh' = 'file:///Users/ricardobarrios/learning-texas-holdem/art_assets/king_of_hearts.png'\n",
    "'Kd' = 'file:///Users/ricardobarrios/learning-texas-holdem/art_assets/king_of_diamonds.png'\n",
    "'Kc' = 'file:///Users/ricardobarrios/learning-texas-holdem/art_assets/king_of_clubs.png'\n",
    "'Js' = 'file:///Users/ricardobarrios/learning-texas-holdem/art_assets/jack_of_spades.png'\n",
    "'Jh' = 'file:///Users/ricardobarrios/learning-texas-holdem/art_assets/jack_of_hearts.png'\n",
    "'Jd' = 'file:///Users/ricardobarrios/learning-texas-holdem/art_assets/jack_of_diamonds.png'\n",
    "'Jc' = 'file:///Users/ricardobarrios/learning-texas-holdem/art_assets/jack_of_clubs.png'\n",
    "# 'Jk' = 'file:///Users/ricardobarrios/learning-texas-holdem/art_assets/black_joker.png'\n",
    "'IDK' = 'file:///Users/ricardobarrios/learning-texas-holdem/art_assets/back@2x.png'\n",
    "'IDDK' = 'file:///Users/ricardobarrios/learning-texas-holdem/art_assets/back.png'\n",
    "'As' = 'file:///Users/ricardobarrios/learning-texas-holdem/art_assets/ace_of_spades.png'\n",
    "'Ah' = 'file:///Users/ricardobarrios/learning-texas-holdem/art_assets/ace_of_hearts.png'\n",
    "'Ad' = 'file:///Users/ricardobarrios/learning-texas-holdem/art_assets/ace_of_diamonds.png'\n",
    "'Ac' = 'file:///Users/ricardobarrios/learning-texas-holdem/art_assets/ace_of_clubs.png'\n",
    "'Ts' = 'file:///Users/ricardobarrios/learning-texas-holdem/art_assets/10_of_spades.png'\n",
    "'Th' = 'file:///Users/ricardobarrios/learning-texas-holdem/art_assets/10_of_hearts.png'\n",
    "'Td' = 'file:///Users/ricardobarrios/learning-texas-holdem/art_assets/10_of_diamonds.png'\n",
    "'Tc' = 'file:///Users/ricardobarrios/learning-texas-holdem/art_assets/10_of_clubs.png'\n",
    "'9s' = 'file:///Users/ricardobarrios/learning-texas-holdem/art_assets/9_of_spades.png'\n",
    "'9h' = 'file:///Users/ricardobarrios/learning-texas-holdem/art_assets/9_of_hearts.png'\n",
    "'9d' = 'file:///Users/ricardobarrios/learning-texas-holdem/art_assets/9_of_diamonds.png'\n",
    "'9c' = 'file:///Users/ricardobarrios/learning-texas-holdem/art_assets/9_of_clubs.png'\n",
    "'8s' = 'file:///Users/ricardobarrios/learning-texas-holdem/art_assets/8_of_spades.png'\n",
    "'8h' = 'file:///Users/ricardobarrios/learning-texas-holdem/art_assets/8_of_hearts.png'\n",
    "'8d' = 'file:///Users/ricardobarrios/learning-texas-holdem/art_assets/8_of_diamonds.png'\n",
    "'8c' = 'file:///Users/ricardobarrios/learning-texas-holdem/art_assets/8_of_clubs.png'\n",
    "'7s' = 'file:///Users/ricardobarrios/learning-texas-holdem/art_assets/7_of_spades.png'\n",
    "'7h' = 'file:///Users/ricardobarrios/learning-texas-holdem/art_assets/7_of_hearts.png'\n",
    "'7d' = 'file:///Users/ricardobarrios/learning-texas-holdem/art_assets/7_of_diamonds.png'\n",
    "'7c' = 'file:///Users/ricardobarrios/learning-texas-holdem/art_assets/7_of_clubs.png'\n",
    "'6s' = 'file:///Users/ricardobarrios/learning-texas-holdem/art_assets/6_of_spades.png'\n",
    "'6h' = 'file:///Users/ricardobarrios/learning-texas-holdem/art_assets/6_of_hearts.png'\n",
    "'6d' = 'file:///Users/ricardobarrios/learning-texas-holdem/art_assets/6_of_diamonds.png'\n",
    "'6c' = 'file:///Users/ricardobarrios/learning-texas-holdem/art_assets/6_of_clubs.png'\n",
    "'5s' = 'file:///Users/ricardobarrios/learning-texas-holdem/art_assets/5_of_spades.png'\n",
    "'5h' = 'file:///Users/ricardobarrios/learning-texas-holdem/art_assets/5_of_hearts.png'\n",
    "'5d' = 'file:///Users/ricardobarrios/learning-texas-holdem/art_assets/5_of_diamonds.png'\n",
    "'5c' = 'file:///Users/ricardobarrios/learning-texas-holdem/art_assets/5_of_clubs.png'\n",
    "'4s' = 'file:///Users/ricardobarrios/learning-texas-holdem/art_assets/4_of_spades.png'\n",
    "'4h' = 'file:///Users/ricardobarrios/learning-texas-holdem/art_assets/4_of_hearts.png'\n",
    "'4d' = 'file:///Users/ricardobarrios/learning-texas-holdem/art_assets/4_of_diamonds.png'\n",
    "'4c' = 'file:///Users/ricardobarrios/learning-texas-holdem/art_assets/4_of_clubs.png'\n",
    "'3s' = 'file:///Users/ricardobarrios/learning-texas-holdem/art_assets/3_of_spades.png'\n",
    "'3h' = 'file:///Users/ricardobarrios/learning-texas-holdem/art_assets/3_of_hearts.png'\n",
    "'3d' = 'file:///Users/ricardobarrios/learning-texas-holdem/art_assets/3_of_diamonds.png'\n",
    "'3c' = 'file:///Users/ricardobarrios/learning-texas-holdem/art_assets/3_of_clubs.png'\n",
    "'2s' = 'file:///Users/ricardobarrios/learning-texas-holdem/art_assets/2_of_spades.png'\n",
    "'2h' = 'file:///Users/ricardobarrios/learning-texas-holdem/art_assets/2_of_hearts.png'\n",
    "'2d' = 'file:///Users/ricardobarrios/learning-texas-holdem/art_assets/2_of_diamonds.png'\n",
    "'2c' = 'file:///Users/ricardobarrios/learning-texas-holdem/art_assets/2_of_clubs.png'\n"
   ]
  },
  {
   "cell_type": "code",
   "execution_count": null,
   "metadata": {},
   "outputs": [],
   "source": [
    "As = img.imread(As)"
   ]
  },
  {
   "cell_type": "code",
   "execution_count": null,
   "metadata": {},
   "outputs": [],
   "source": [
    "cards = (['Jh','Kh','As','Th'])\n"
   ]
  },
  {
   "cell_type": "code",
   "execution_count": null,
   "metadata": {},
   "outputs": [],
   "source": [
    "fun = random.choice(cards)\n",
    "plt.imshow(fun)\n",
    "plt.show()"
   ]
  },
  {
   "cell_type": "code",
   "execution_count": null,
   "metadata": {},
   "outputs": [],
   "source": [
    "import PIL\n",
    "from PIL import Image\n",
    "basewidth = 300\n",
    " ",
    "img = Image.open('learning-texas-holdem/art_assets/2_of_clubs.png')\n",
    " ",
    "wpercent = (basewidth / float(img.size[0]))\n",
    " ",
    "hsize = int((float(img.size[1]) * float(wpercent)))\n",
    " ",
    "img = img.resize((basewidth, hsize), PIL.Image.ANTIALIAS)\n",
    " ",
    "img.save('learning-texas-holdem/art_assets/2_of_clubs.png')"
   ]
  },
  {
   "cell_type": "code",
   "execution_count": null,
   "metadata": {},
   "outputs": [],
   "source": [
    "from PIL import Image\n",
    "\n",
    "im = Image.open('///Users/ricardobarrios/learning-texas-holdem/art_assets/2_of_clubs.png')\n",
    "width, height = 400,800"
   ]
  },
  {
   "cell_type": "code",
   "execution_count": null,
   "metadata": {},
   "outputs": [],
   "source": [
    "import time\n",
    "import random\n",
    "\n",
    "def linebreak(sec=2):\n",
    "\tprint('\\n' + '*'*60 + '\\n' + '*'*60 + '\\n')\n",
    "\ttime.sleep(sec)\n",
    "\n",
    "# Lists for card variables to generate any of the possible 52 cards\n",
    "suit_list = ['clubs', 'diamonds', 'hearts', 'spades']\n",
    "value_list = ['A', 2, 3, 4, 5, 6, 7, 8, 9, 10, 'J', 'Q', 'K']\n",
    "\n",
    "\n",
    "# Returns a list which represents a random card\n",
    "# The 0 index represents the card value (e.g. Ace, 6, King, etc.)\n",
    "# The 1 index represents the card suit (e.g. clubs)\n",
    "def rand_card():\n",
    "\trand_suit = random.choice(suit_list)\n",
    "\trand_value = random.choice(value_list)\n",
    "\treturn [str(rand_value), rand_suit]\n",
    "\n",
    "# Takes a card (represented by a list object in the form [value, suit]) argument\n",
    "# Gets the value of the card\n",
    "def get_card_value(card):\n",
    "\treturn card[0]\n",
    "# Gets the suit of the card\n",
    "def get_card_suit(card):\n",
    "\treturn card[1]\n",
    "\n",
    "\n",
    "# Tells player the hand they have been dealt via print statement\n",
    "# Prevents repeat cards from being played\n",
    "# Returns the player's hand, represented by a list of lists'\n",
    "def deal_player():\n",
    "\tprint('\\nYou are dealt the following two cards:')\n",
    "\tplayer_hand = []\n",
    "\ti = 0\n",
    "\twhile i < 2:\n",
    "\t\tletters_list = ['a', 'b']\n",
    "\t\tgiven_card = rand_card()\n",
    "\t\tif given_card not in player_hand:\n",
    "\t\t\tprint(' %s)   %s of %s' %(letters_list[i], get_card_value(given_card), get_card_suit(given_card)))\n",
    "\t\t\tplayer_hand.append(given_card)\n",
    "\t\t\ti = i + 1\n",
    "\treturn player_hand\n",
    "\n",
    "\n",
    "# Returns the number of cards the player wishes to discard\n",
    "# Error handling ensures only 0-3 cards are discarded\n",
    "def discard_cards():\n",
    "\ttime.sleep(4)\n",
    "\tprint('''\\n~\\n''')\n",
    "\tprint('Do you want to Check, Bet Small, Bet Large, or go All-In?')\n",
    "\twhile True:\n",
    "\t\ttry:\n",
    "\t\t\tdiscard_x_cards = int(input('\\n> '))\n",
    "\t\t\tif valid_discard_num(discard_x_cards):\n",
    "\t\t\t\tbreak\n",
    "\t\t\telse:\n",
    "\t\t\t\tprint('That is not allowed. Please choose between 0 and 3 cards to discard.')\n",
    "\t\texcept ValueError:\n",
    "\t\t\tprint('Invalid command. Input a number between 0-3.')\n",
    "\treturn discard_x_cards\n",
    "\n",
    "\n",
    "# Returns True only when the player chooses to discard between 0-3 cards\t\t\n",
    "def valid_discard_num(discard_num):\n",
    "\tif discard_num in ['Check', 'Bet Small', 'Bet Large','Go All-In']:\n",
    "\t\treturn True\n",
    "\n",
    "\n",
    "# Asks the user to specify what card(s) (a-e) are to be discarded one at a time\n",
    "# If no cards are to be discarded, then the function returns None\n",
    "# Otherwise, the function returns a list of lower-case letters (representing cards) to be discarded\n",
    "def specify_discard_cards(tot_discarded_cards):\n",
    "\tif tot_discarded_cards == 0:\n",
    "\t\tprint('\\nYou choose to stick with the hand you were dealt.')\n",
    "\t\ttime.sleep(2)\n",
    "\t\treturn [] # empty list, represents no cards\n",
    "\telse:\n",
    "\t\tprint('The number of cards to be discarded is %s' % tot_discarded_cards)\n",
    "\t\ttime.sleep(2)\n",
    "\t\tdiscard_card_list = []\n",
    "\t\t\n",
    "\t\ti = 0\n",
    "\t\twhile i < tot_discarded_cards:\n",
    "\t\t\tprint('\\nType the letter of card #%s to be discarded. (a-e)' % (i+1))\n",
    "\t\t\tdiscard_card = input('> ').lower()\n",
    "\t\t\tif not valid_card_letter(discard_card):\n",
    "\t\t\t\tcontinue\n",
    "\t\t\tif not check_card_exists(discard_card, discard_card_list):\n",
    "\t\t\t\tcontinue\n",
    "\t\t\t\t\n",
    "\t\t\tdiscard_card_list.append(discard_card)\n",
    "\t\t\ti = i + 1\n",
    "\t\treturn discard_card_list\n",
    "\n",
    "\n",
    "# Returns True if player inputs a letter between a-e (representing one card from the player's hand)\n",
    "# Returns False plus a printed info message if the user does not type a valid letter\n",
    "# Uses inputted letter as an argument\n",
    "def valid_card_letter(letter_input):\n",
    "\tfive_letters = ['a', 'b', 'c', 'd', 'e']\n",
    "\tif letter_input.lower() not in five_letters:\n",
    "\t\tprint(\"That's not allowed. Choose one card with an assigned letter (a-e)\")\n",
    "\t\treturn False\n",
    "\telse:\n",
    "\t\treturn True\n",
    "\t\t\t\t\n",
    "# Returns True if the user hasn't already chosen a letter representing a card to discard\n",
    "# Returns False and a printed info message if the user chooses the same card to discard again\n",
    "# First argument is the inputted letter. Second argument is a list of already inputted letters\n",
    "def check_card_exists(letter_input, used_letters):\n",
    "\tif letter_input.lower() not in used_letters:\n",
    "\t\treturn True\n",
    "\telse:\n",
    "\t\tprint('You already chose to discard this card. What else will you discard?')\n",
    "\t\treturn False\n",
    "\t\t\n",
    "\n",
    "# Returns a preliminary list of identified cards ([value, suit]) to be discarded\n",
    "# First argument is list of requested discard cards.\n",
    "# Second argument is the list representing players hand\n",
    "def identify_discard_cards(discard_list, player_hand):\n",
    "\tcards_to_remove = []\n",
    "\tfor letter in discard_list:\n",
    "\t\tif letter == 'a':\n",
    "\t\t\tcards_to_remove.append(player_hand[0])\n",
    "\t\tif letter == 'b':\n",
    "\t\t\tcards_to_remove.append(player_hand[1])\n",
    "\t\tif letter == 'c':\n",
    "\t\t\tcards_to_remove.append(player_hand[2])\n",
    "\t\tif letter == 'd':\n",
    "\t\t\tcards_to_remove.append(player_hand[3])\n",
    "\t\tif letter == 'e':\n",
    "\t\t\tcards_to_remove.append(player_hand[4])\n",
    "\treturn cards_to_remove\n",
    "\t\t\t\n",
    "\n",
    "# Removes the cards the player wished to discard from the player's hand\n",
    "# Functions by creating a prelminary discard list, then compares to player's hand to remove the right cards\n",
    "# Returns what remains of the player's hand\n",
    "def throw_discard_cards(discard_list, player_hand, cards_to_chuck):\n",
    "\tfor card in cards_to_chuck:\n",
    "\t\tif card in player_hand:\n",
    "\t\t\tplayer_hand.remove(card)\n",
    "\treturn player_hand\t\t\n",
    "\n",
    "# Returns the player's hand of 5 cards with any new cards drawn\n",
    "# The object returned is a list of 5 cards (each represented as [value, suit])\n",
    "# Ensures that no new cards are repeats of what was already in the player's hand\n",
    "# Prints the hand for the player to see\n",
    "def receive_new_cards(num_discard_cards, player_hand, cards_to_chuck):\n",
    "\ti = 0\n",
    "\twhile i < num_discard_cards:\n",
    "\t\treceived_card = rand_card()\n",
    "\t\tif received_card not in player_hand and received_card not in cards_to_chuck:\n",
    "\t\t\tplayer_hand.append(received_card)\n",
    "\t\t\ti = i + 1\n",
    "# \tlinebreak()\n",
    "\tprint('\\nYour final hand is as follows:\\n')\n",
    "\ttime.sleep(2)\n",
    "\tfor card in player_hand:\n",
    "\t\tprint('   %s of %s' % (card[0], card[1]))\n",
    "\treturn player_hand\n",
    "\t\n",
    "\n",
    "# Returns the player's hand in the order of value (Aces low, Kings high)\n",
    "# Player's hand is a list of lists\n",
    "# 1st argument is the player's hand, a list of cards (card is itself in the form [value, suit])\n",
    "# 2nd argument is the list of values ordered from Ace low to King high\n",
    "def order_card_values(player_hand, value_list):\n",
    "\tordered_hand = []\n",
    "\tfor value in value_list:\n",
    "\t\tfor card in player_hand:\n",
    "\t\t\ttry:\n",
    "\t\t\t\t# NOTE: All values are currently strings.\n",
    "\t\t\t\t# Any string which can be an integer MUST be converted to an integer\n",
    "\t\t\t\t# The reason is related to problems with comparing values in the value_list against string numbers\n",
    "\t\t\t\tif int(card[0]) == value:\n",
    "\t\t\t\t\tordered_hand.append(card)\n",
    "\t\t\texcept ValueError:\n",
    "\t\t\t\t# The except captures all the string values (i.e. A, J, Q, K)\n",
    "\t\t\t\tif card[0] == value:\n",
    "\t\t\t\t\tordered_hand.append(card)\n",
    "\treturn ordered_hand\n",
    "\n",
    "\n",
    "# Function required in the is_straight() function\n",
    "# Returns a list of two strings\n",
    "# Strings are the concatenated values of the player's cards\n",
    "# One string has aces on left, other on right (e.g. ['AA49Q', '49QAA'])\n",
    "# Cards have already been ordered using the order_card_values function\n",
    "# Argument is the player's hand in an ordered state\n",
    "def concatenate_player_values(ordered_hand):\n",
    "\tplayer_values = []\n",
    "\tfor card in ordered_hand:\n",
    "\t\tplayer_values.append(str(card[0]))\n",
    "\t\n",
    "\tlow_aces_values_str = ''.join(player_values)\n",
    "\t# Represents a concateneated string of card values, already ordered starting with aces\n",
    "\t\n",
    "\ttrailing_aces = ''\n",
    "\tfor letter in low_aces_values_str:\n",
    "\t\tif letter == 'A':\n",
    "\t\t\ttrailing_aces += 'A'\n",
    "\t\t\t# Creates a string with a trail of aces which will be added to the raw string later\n",
    "\thigh_aces_values_str = low_aces_values_str[len(trailing_aces):] + trailing_aces\n",
    "\t# removes the prefix aces from the values string and places aces at the end of said string\n",
    "\t# e.g. 'AA37K' becomes '37KAA'\n",
    "\t\n",
    "\treturn [low_aces_values_str, high_aces_values_str]\n",
    "\t\t\n",
    "\n",
    "\n",
    "# Returns True if a STRAIGHT (sequential values) is present in the player's hand\n",
    "# Otherwise returns False\n",
    "# Uses the concatenate_player_values function\n",
    "def is_straight():\n",
    "\tordered_values_list = concatenate_player_values(ordered_hand)\n",
    "\tfor string in ordered_values_list:\n",
    "\t\tif string in 'A2345678910JQKA':\n",
    "\t\t\treturn True\n",
    "\telse:\n",
    "\t\treturn False\n",
    "\n",
    "# Returns True if all cards are of the same suit; FLUSH\n",
    "# Argument is the hand of the player; a list of cards represented [value, suit]\n",
    "def is_flush(player_hand):\n",
    "\tplayer_hand_suit_list = []\n",
    "\tfor card in player_hand:\n",
    "\t\tplayer_hand_suit_list.append(card[1])\n",
    "\tif player_hand_suit_list[1:] == player_hand_suit_list[:-1]:\n",
    "\t\treturn True\n",
    "\telse:\n",
    "\t\treturn False\n",
    "\n",
    "# Checks for duplicate card values within the player's hand (arg)\n",
    "# Counts the duplicate values\n",
    "# Returns a list of lists; individual lists have two items\n",
    "# The individual lists are in the form [card value, duplicated x times]\n",
    "# e.g. [['A', 2], [10, 2]] is a pair of Aces and a pair of 10s\n",
    "# Further code makes sure no one value is counted more than once\n",
    "def check_dup_values(player_hand):\n",
    "\tvalues_list = []\n",
    "\tfor card in player_hand:\n",
    "\t\tvalues_list.append(card[0])\n",
    "\t\n",
    "\tcounted_values = []\n",
    "\talready_checked_value = []\n",
    "\tfor value in values_list:\n",
    "\t\tif value not in already_checked_value:\n",
    "\t\t\talready_checked_value.append(value)\n",
    "\t\t\tif values_list.count(value) == 2:\n",
    "\t\t\t\tcounted_values.append([value, 2])\n",
    "\t\t\tif values_list.count(value) == 3:\n",
    "\t\t\t\tcounted_values.append([value, 3])\n",
    "\t\t\tif values_list.count(value) == 4:\n",
    "\t\t\t\tcounted_values.append([value, 4])\n",
    "\t\n",
    "\treturn counted_values\n",
    "\n",
    "\n",
    "# Stores the returned list from check_dup_values(player_hand) as a variable\n",
    "# Returns the type of hand the player has on the basis of duplicate value cards\n",
    "def compute_dup_values(player_hand):\n",
    "\tduplicate_values_list = check_dup_values(player_hand)\n",
    "\t\n",
    "\tif len(duplicate_values_list) == 0:\n",
    "\t\t# No duplicate values\n",
    "\t\treturn False\n",
    "\t\n",
    "\tif len(duplicate_values_list) == 1:\n",
    "\t\tfor mini_list in duplicate_values_list:\n",
    "\t\t\tif mini_list[1] == 4:\n",
    "\t\t\t\treturn 'FOUR OF A KIND'\n",
    "\t\t\tif mini_list[1] == 3:\n",
    "\t\t\t\treturn 'THREE OF A KIND'\n",
    "\t\t\tif mini_list[1] == 2:\n",
    "\t\t\t\treturn 'PAIR OF ' + str(mini_list [0]) + 's'\n",
    "\t\n",
    "\tif len(duplicate_values_list) == 2:\n",
    "\t\t# Must be TWO PAIRS or FULL HOUSE\n",
    "\t\tfor mini_list in duplicate_values_list:\n",
    "\t\t\tif mini_list[1] == 3:\n",
    "\t\t\t\treturn 'FULL HOUSE'\n",
    "\t\t\n",
    "\t\tpair_list = []\n",
    "\t\tfor mini_list in duplicate_values_list:\n",
    "\t\t\tpair = str(mini_list[0])+ 's'\n",
    "\t\t\tpair_list.append(pair)\n",
    "\t\treturn 'TWO PAIRS OF ' + pair_list[0] + ' AND ' + pair_list[1]\n",
    "\n",
    "# Retruns the type of hand the player has\n",
    "# Ranked/Checked in order of best to worst hand\n",
    "def determine_hand(player_hand):\n",
    "\tprocessed_duplicates = compute_dup_values(player_hand)\n",
    "\tif is_straight() and is_flush(player_hand):\n",
    "\t\treturn 'STRAIGHT FLUSH'\n",
    "\telif processed_duplicates == 'FOUR OF A KIND':\n",
    "\t\treturn 'FOUR OF A KIND'\n",
    "\telif processed_duplicates == 'FULL HOUSE':\n",
    "\t\treturn 'FULL HOUSE'\n",
    "\telif is_flush(player_hand):\n",
    "\t\treturn 'FLUSH'\n",
    "\telif is_straight():\n",
    "\t\treturn 'STRAIGHT'\n",
    "\telif processed_duplicates == 'THREE OF A KIND':\n",
    "\t\treturn 'THREE OF A KIND'\n",
    "\telif processed_duplicates:\n",
    "\t\treturn processed_duplicates\n",
    "\telse:\n",
    "\t\treturn determine_high_card(player_hand)\n",
    "\n",
    "# Returns the highest value card the player has when the best hand is HIGH CARD\n",
    "# Aces are treated as highest value\n",
    "# For remainder of value list, highest values are proportional with the inverse of the value_list\n",
    "def determine_high_card(player_hand):\n",
    "\treversed_value_list = value_list[::-1]\n",
    "\tfor value in reversed_value_list:\n",
    "\t\tfor card in player_hand:\n",
    "\t\t\tif card[0] == 'A':\n",
    "\t\t\t\treturn 'HIGH CARD ACE'\n",
    "\t\t\tif card[0] == value:\n",
    "\t\t\t\treturn 'HIGH CARD ' + str(value)\n",
    "\n",
    "# Returns a list with two items\n",
    "# First item is the name of the hand the opponent has been assigned\n",
    "# Second item is a list with 2 values that will provide the \"strength\" for certain types of hands\n",
    "# Creates a 'hand' for the principal opponent\n",
    "# DOES NOT function in the same way as the player's hand\n",
    "# Instead based on probability to assign the computer with a hand, much simpler!\n",
    "def opponent_hand(value_list):\n",
    "\trand_num = random.randint(0, 1000)\n",
    "\t\n",
    "\topponent_value_cards = []\n",
    "\ti = 0\n",
    "\t# Creates the list of two values that will make up the second item of the return\n",
    "\twhile i < 2:\n",
    "\t\trand_value = random.choice(value_list)\n",
    "\t\tif rand_value not in opponent_value_cards:\n",
    "\t\t\topponent_value_cards.append(rand_value)\n",
    "\t\t\ti += 1\n",
    "\t\n",
    "\t# Assigns the 'hand' which makes up the first item of the return\n",
    "\tif rand_num <= 300:\n",
    "\t\t# Overwrites previously assigned first item in oppponent_value_cards list to ensure value is >= 7\n",
    "\t\topponent_value_cards[0] = str(random.choice(value_list[6:] + ['A']))\n",
    "\t\topp_hand = 'HIGH CARD ' + opponent_value_cards[0]\n",
    "\telif rand_num <= 700:\n",
    "\t\topp_hand = 'PAIR OF ' + str(opponent_value_cards[0]) + 's'\n",
    "\telif rand_num <= 900:\n",
    "\t\topp_hand = 'TWO PAIRS (' + str(opponent_value_cards[0]) + 's AND ' + str(opponent_value_cards[1]) + 's)'\n",
    "\telif rand_num <= 950:\n",
    "\t\topp_hand = 'THREE OF A KIND (' + str(opponent_value_cards[0]) + 's)'\n",
    "\telif rand_num <= 975:\n",
    "\t\topp_hand = 'STRAIGHT'\n",
    "\telif rand_num <= 987:\n",
    "\t\topp_hand = 'FLUSH'\n",
    "\telif rand_num <= 995:\n",
    "\t\topp_hand = 'FULL HOUSE (THREE ' + str(opponent_value_cards[0]) + 's AND TWO ' + str(opponent_value_cards[1]) + 's)'\n",
    "\telif rand_num <= 999:\n",
    "\t\topp_hand = 'FOUR OF A KIND (' + str(opponent_value_cards[0]) + 's)'\n",
    "\telse:\n",
    "\t\topp_hand = 'STRAIGHT FLUSH'\n",
    "\t\n",
    "\treturn [opp_hand, opponent_value_cards]\n",
    "\n",
    "def play_again():\n",
    "\tprint('\\nWould you care to play another round? (y/n)')\n",
    "\tif input('> ').lower() in ['yes', 'y']:\n",
    "\t\treturn True\n",
    "\telse:\n",
    "\t\treturn False\n",
    "\t\t\t\n",
    "#---------GAME LOOP---------#\n",
    "# \tlinebreak(0)\n",
    "print('-'*15 + \"Ricardo Barrios' Python Poker\" + '-'*15)\n",
    "# \tlinebreak()\n",
    "print('\\nYou play Texas Hold em Poker at $1/$2 blinds with a $100 stack. There are a total of 9 players at the table. You are sitting UTG.')\n",
    "while True:\n",
    "\ttime.sleep(3.5)\n",
    "\tdealt_hand = deal_player()\n",
    "\t\n",
    "\ttot_discarded_cards = discard_cards()\n",
    "\tdiscarded_cards_list = specify_discard_cards(tot_discarded_cards)\n",
    "\tcards_to_chuck = identify_discard_cards(discarded_cards_list, dealt_hand)\n",
    "\tremaining_hand = throw_discard_cards(discarded_cards_list, dealt_hand, cards_to_chuck)\n",
    "\t\n",
    "\tnew_hand = receive_new_cards(tot_discarded_cards, remaining_hand, cards_to_chuck)\n",
    "\tordered_hand = order_card_values(new_hand, value_list)\n",
    "\t\n",
    "\tname_player_hand = determine_hand(ordered_hand) #--> A function which will determine the name of the hand (e.g. FLUSH)\n",
    "\t\n",
    "\ttime.sleep(4)\n",
    "\tprint('\\nYou reveal your hand:\\n%s' % name_player_hand)\n",
    "\ttime.sleep(3)\n",
    "\tenemy_hand = opponent_hand(value_list)\n",
    "\tprint('\\nYour opponent reveals their hand:\\n' + enemy_hand[0])\n",
    "\t\n",
    "\t#who_wins()\n",
    "\t\n",
    "\tif not play_again():\n",
    "\t\tprint('\\nThank you for playing!')\n",
    "\t\ttime.sleep(1)\n",
    "\t\tbreak\n",
    "\t\t\n",
    "# \tlinebreak()\n"
   ]
  },
  {
   "cell_type": "code",
   "execution_count": null,
   "metadata": {},
   "outputs": [],
   "source": [
    "import random\n",
    "import time\n",
    "\n",
    "# def linebreak(sec=2):\n",
    "\tprint('\\n' + '*'*60 + '\\n' + '*'*60 + '\\n')\n",
    "\ttime.sleep(sec)\n",
    "\n",
    "# Lists for card variables to generate any of the possible 52 cards\n",
    "suit_list = ['clubs', 'diamonds', 'hearts', 'spades']\n",
    "value_list = ['A', 2, 3, 4, 5, 6, 7, 8, 9, 10, 'J', 'Q', 'K']\n",
    "\n",
    "\n",
    "\n",
    "# Returns a list which represents a random card\n",
    "# The 0 index represents the card value (e.g. Ace, 6, King, etc.)\n",
    "# The 1 index represents the card suit (e.g. clubs)\n",
    "def rand_card():\n",
    "\trand_suit = random.choice(suit_list)\n",
    "\trand_value = random.choice(value_list)\n",
    "\treturn [str(rand_value), rand_suit]\n",
    "\n",
    "# Takes a card (represented by a list object in the form [value, suit]) argument\n",
    "# Gets the value of the card\n",
    "def get_card_value(card):\n",
    "\treturn card[0]\n",
    "# Gets the suit of the card\n",
    "def get_card_suit(card):\n",
    "\treturn card[1]\n",
    "\n",
    "\n",
    "# Tells player the hand they have been dealt via print statement\n",
    "# Prevents repeat cards from being played\n",
    "# Returns the player's hand, represented by a list of lists'\n",
    "def deal_player():\n",
    "\tprint('\\nYou are dealt the following five cards:')\n",
    "\tplayer_hand = []\n",
    "\ti = 0\n",
    "\twhile i < 5:\n",
    "\t\tletters_list = ['a', 'b', 'c', 'd', 'e']\n",
    "\t\tgiven_card = rand_card()\n",
    "\t\tif given_card not in player_hand:\n",
    "\t\t\tprint(' %s)   %s of %s' %(letters_list[i], get_card_value(given_card), get_card_suit(given_card)))\n",
    "\t\t\tplayer_hand.append(given_card)\n",
    "\t\t\ti = i + 1\n",
    "\treturn player_hand\n",
    "\n",
    "\n",
    "# Returns the number of cards the player wishes to discard\n",
    "# Error handling ensures only 0-3 cards are discarded\n",
    "def discard_cards():\n",
    "\ttime.sleep(4)\n",
    "\tprint('\\nYou may choose to discard up to 3 cards for new ones.')\n",
    "\tprint('How many cards do you wish to swap (0-3)?')\n",
    "\twhile True:\n",
    "\t\ttry:\n",
    "\t\t\tdiscard_x_cards = int(input('\\n> '))\n",
    "\t\t\tif valid_discard_num(discard_x_cards):\n",
    "\t\t\t\tbreak\n",
    "\t\t\telse:\n",
    "\t\t\t\tprint('That is not allowed. Please choose between 0 and 3 cards to discard.')\n",
    "\t\texcept ValueError:\n",
    "\t\t\tprint('Invalid command. Input a number between 0-3.')\n",
    "\treturn discard_x_cards\n",
    "\n",
    "\n",
    "# Returns True only when the player chooses to discard between 0-3 cards\t\t\n",
    "def valid_discard_num(discard_num):\n",
    "\tif 0 <= discard_num <= 3:\n",
    "\t\treturn True\n",
    "\n",
    "\n",
    "# Asks the user to specify what card(s) (a-e) are to be discarded one at a time\n",
    "# If no cards are to be discarded, then the function returns None\n",
    "# Otherwise, the function returns a list of lower-case letters (representing cards) to be discarded\n",
    "def specify_discard_cards(tot_discarded_cards):\n",
    "\tif tot_discarded_cards == 0:\n",
    "\t\tprint('\\nYou choose to stick with the hand you were dealt.')\n",
    "\t\ttime.sleep(2)\n",
    "\t\treturn [] # empty list, represents no cards\n",
    "\telse:\n",
    "\t\tprint('The number of cards to be discarded is %s' % tot_discarded_cards)\n",
    "\t\ttime.sleep(2)\n",
    "\t\tdiscard_card_list = []\n",
    "\t\t\n",
    "\t\ti = 0\n",
    "\t\twhile i < tot_discarded_cards:\n",
    "\t\t\tprint('\\nType the letter of card #%s to be discarded. (a-e)' % (i+1))\n",
    "\t\t\tdiscard_card = input('> ').lower()\n",
    "\t\t\tif not valid_card_letter(discard_card):\n",
    "\t\t\t\tcontinue\n",
    "\t\t\tif not check_card_exists(discard_card, discard_card_list):\n",
    "\t\t\t\tcontinue\n",
    "\t\t\t\t\n",
    "\t\t\tdiscard_card_list.append(discard_card)\n",
    "\t\t\ti = i + 1\n",
    "\t\treturn discard_card_list\n",
    "\n",
    "\n",
    "# Returns True if player inputs a letter between a-e (representing one card from the player's hand)\n",
    "# Returns False plus a printed info message if the user does not type a valid letter\n",
    "# Uses inputted letter as an argument\n",
    "def valid_card_letter(letter_input):\n",
    "\tfive_letters = ['a', 'b', 'c', 'd', 'e']\n",
    "\tif letter_input.lower() not in five_letters:\n",
    "\t\tprint(\"That's not allowed. Choose one card with an assigned letter (a-e)\")\n",
    "\t\treturn False\n",
    "\telse:\n",
    "\t\treturn True\n",
    "\t\t\t\t\n",
    "# Returns True if the user hasn't already chosen a letter representing a card to discard\n",
    "# Returns False and a printed info message if the user chooses the same card to discard again\n",
    "# First argument is the inputted letter. Second argument is a list of already inputted letters\n",
    "def check_card_exists(letter_input, used_letters):\n",
    "\tif letter_input.lower() not in used_letters:\n",
    "\t\treturn True\n",
    "\telse:\n",
    "\t\tprint('You already chose to discard this card. What else will you discard?')\n",
    "\t\treturn False\n",
    "\t\t\n",
    "\n",
    "# Returns a preliminary list of identified cards ([value, suit]) to be discarded\n",
    "# First argument is list of requested discard cards.\n",
    "# Second argument is the list representing players hand\n",
    "def identify_discard_cards(discard_list, player_hand):\n",
    "\tcards_to_remove = []\n",
    "\tfor letter in discard_list:\n",
    "\t\tif letter == 'a':\n",
    "\t\t\tcards_to_remove.append(player_hand[0])\n",
    "\t\tif letter == 'b':\n",
    "\t\t\tcards_to_remove.append(player_hand[1])\n",
    "\t\tif letter == 'c':\n",
    "\t\t\tcards_to_remove.append(player_hand[2])\n",
    "\t\tif letter == 'd':\n",
    "\t\t\tcards_to_remove.append(player_hand[3])\n",
    "\t\tif letter == 'e':\n",
    "\t\t\tcards_to_remove.append(player_hand[4])\n",
    "\treturn cards_to_remove\n",
    "\t\t\t\n",
    "\n",
    "# Removes the cards the player wished to discard from the player's hand\n",
    "# Functions by creating a prelminary discard list, then compares to player's hand to remove the right cards\n",
    "# Returns what remains of the player's hand\n",
    "def throw_discard_cards(discard_list, player_hand, cards_to_chuck):\n",
    "\tfor card in cards_to_chuck:\n",
    "\t\tif card in player_hand:\n",
    "\t\t\tplayer_hand.remove(card)\n",
    "\treturn player_hand\t\t\n",
    "\n",
    "# Returns the player's hand of 5 cards with any new cards drawn\n",
    "# The object returned is a list of 5 cards (each represented as [value, suit])\n",
    "# Ensures that no new cards are repeats of what was already in the player's hand\n",
    "# Prints the hand for the player to see\n",
    "def receive_new_cards(num_discard_cards, player_hand, cards_to_chuck):\n",
    "\ti = 0\n",
    "\twhile i < num_discard_cards:\n",
    "\t\treceived_card = rand_card()\n",
    "\t\tif received_card not in player_hand and received_card not in cards_to_chuck:\n",
    "\t\t\tplayer_hand.append(received_card)\n",
    "\t\t\ti = i + 1\n",
    "# \tlinebreak()\n",
    "\tprint('\\nYour final hand is as follows:\\n')\n",
    "\ttime.sleep(2)\n",
    "\tfor card in player_hand:\n",
    "\t\tprint('   %s of %s' % (card[0], card[1]))\n",
    "\treturn player_hand\n",
    "\t\n",
    "\n",
    "# Returns the player's hand in the order of value (Aces low, Kings high)\n",
    "# Player's hand is a list of lists\n",
    "# 1st argument is the player's hand, a list of cards (card is itself in the form [value, suit])\n",
    "# 2nd argument is the list of values ordered from Ace low to King high\n",
    "def order_card_values(player_hand, value_list):\n",
    "\tordered_hand = []\n",
    "\tfor value in value_list:\n",
    "\t\tfor card in player_hand:\n",
    "\t\t\ttry:\n",
    "\t\t\t\t# NOTE: All values are currently strings.\n",
    "\t\t\t\t# Any string which can be an integer MUST be converted to an integer\n",
    "\t\t\t\t# The reason is related to problems with comparing values in the value_list against string numbers\n",
    "\t\t\t\tif int(card[0]) == value:\n",
    "\t\t\t\t\tordered_hand.append(card)\n",
    "\t\t\texcept ValueError:\n",
    "\t\t\t\t# The except captures all the string values (i.e. A, J, Q, K)\n",
    "\t\t\t\tif card[0] == value:\n",
    "\t\t\t\t\tordered_hand.append(card)\n",
    "\treturn ordered_hand\n",
    "\n",
    "\n",
    "# Function required in the is_straight() function\n",
    "# Returns a list of two strings\n",
    "# Strings are the concatenated values of the player's cards\n",
    "# One string has aces on left, other on right (e.g. ['AA49Q', '49QAA'])\n",
    "# Cards have already been ordered using the order_card_values function\n",
    "# Argument is the player's hand in an ordered state\n",
    "def concatenate_player_values(ordered_hand):\n",
    "\tplayer_values = []\n",
    "\tfor card in ordered_hand:\n",
    "\t\tplayer_values.append(str(card[0]))\n",
    "\t\n",
    "\tlow_aces_values_str = ''.join(player_values)\n",
    "\t# Represents a concateneated string of card values, already ordered starting with aces\n",
    "\t\n",
    "\ttrailing_aces = ''\n",
    "\tfor letter in low_aces_values_str:\n",
    "\t\tif letter == 'A':\n",
    "\t\t\ttrailing_aces += 'A'\n",
    "\t\t\t# Creates a string with a trail of aces which will be added to the raw string later\n",
    "\thigh_aces_values_str = low_aces_values_str[len(trailing_aces):] + trailing_aces\n",
    "\t# removes the prefix aces from the values string and places aces at the end of said string\n",
    "\t# e.g. 'AA37K' becomes '37KAA'\n",
    "\t\n",
    "\treturn [low_aces_values_str, high_aces_values_str]\n",
    "\t\t\n",
    "\n",
    "\n",
    "# Returns True if a STRAIGHT (sequential values) is present in the player's hand\n",
    "# Otherwise returns False\n",
    "# Uses the concatenate_player_values function\n",
    "def is_straight():\n",
    "\tordered_values_list = concatenate_player_values(ordered_hand)\n",
    "\tfor string in ordered_values_list:\n",
    "\t\tif string in 'A2345678910JQKA':\n",
    "\t\t\treturn True\n",
    "\telse:\n",
    "\t\treturn False\n",
    "\n",
    "# Returns True if all cards are of the same suit; FLUSH\n",
    "# Argument is the hand of the player; a list of cards represented [value, suit]\n",
    "def is_flush(player_hand):\n",
    "\tplayer_hand_suit_list = []\n",
    "\tfor card in player_hand:\n",
    "\t\tplayer_hand_suit_list.append(card[1])\n",
    "\tif player_hand_suit_list[1:] == player_hand_suit_list[:-1]:\n",
    "\t\treturn True\n",
    "\telse:\n",
    "\t\treturn False\n",
    "\n",
    "# Checks for duplicate card values within the player's hand (arg)\n",
    "# Counts the duplicate values\n",
    "# Returns a list of lists; individual lists have two items\n",
    "# The individual lists are in the form [card value, duplicated x times]\n",
    "# e.g. [['A', 2], [10, 2]] is a pair of Aces and a pair of 10s\n",
    "# Further code makes sure no one value is counted more than once\n",
    "def check_dup_values(player_hand):\n",
    "\tvalues_list = []\n",
    "\tfor card in player_hand:\n",
    "\t\tvalues_list.append(card[0])\n",
    "\t\n",
    "\tcounted_values = []\n",
    "\talready_checked_value = []\n",
    "\tfor value in values_list:\n",
    "\t\tif value not in already_checked_value:\n",
    "\t\t\talready_checked_value.append(value)\n",
    "\t\t\tif values_list.count(value) == 2:\n",
    "\t\t\t\tcounted_values.append([value, 2])\n",
    "\t\t\tif values_list.count(value) == 3:\n",
    "\t\t\t\tcounted_values.append([value, 3])\n",
    "\t\t\tif values_list.count(value) == 4:\n",
    "\t\t\t\tcounted_values.append([value, 4])\n",
    "\t\n",
    "\treturn counted_values\n",
    "\n",
    "\n",
    "# Stores the returned list from check_dup_values(player_hand) as a variable\n",
    "# Returns the type of hand the player has on the basis of duplicate value cards\n",
    "def compute_dup_values(player_hand):\n",
    "\tduplicate_values_list = check_dup_values(player_hand)\n",
    "\t\n",
    "\tif len(duplicate_values_list) == 0:\n",
    "\t\t# No duplicate values\n",
    "\t\treturn False\n",
    "\t\n",
    "\tif len(duplicate_values_list) == 1:\n",
    "\t\tfor mini_list in duplicate_values_list:\n",
    "\t\t\tif mini_list[1] == 4:\n",
    "\t\t\t\treturn 'FOUR OF A KIND'\n",
    "\t\t\tif mini_list[1] == 3:\n",
    "\t\t\t\treturn 'THREE OF A KIND'\n",
    "\t\t\tif mini_list[1] == 2:\n",
    "\t\t\t\treturn 'PAIR OF ' + str(mini_list [0]) + 's'\n",
    "\t\n",
    "\tif len(duplicate_values_list) == 2:\n",
    "\t\t# Must be TWO PAIRS or FULL HOUSE\n",
    "\t\tfor mini_list in duplicate_values_list:\n",
    "\t\t\tif mini_list[1] == 3:\n",
    "\t\t\t\treturn 'FULL HOUSE'\n",
    "\t\t\n",
    "\t\tpair_list = []\n",
    "\t\tfor mini_list in duplicate_values_list:\n",
    "\t\t\tpair = str(mini_list[0])+ 's'\n",
    "\t\t\tpair_list.append(pair)\n",
    "\t\treturn 'TWO PAIRS OF ' + pair_list[0] + ' AND ' + pair_list[1]\n",
    "\n",
    "# Retruns the type of hand the player has\n",
    "# Ranked/Checked in order of best to worst hand\n",
    "def determine_hand(player_hand):\n",
    "\tprocessed_duplicates = compute_dup_values(player_hand)\n",
    "\tif is_straight() and is_flush(player_hand):\n",
    "\t\treturn 'STRAIGHT FLUSH'\n",
    "\telif processed_duplicates == 'FOUR OF A KIND':\n",
    "\t\treturn 'FOUR OF A KIND'\n",
    "\telif processed_duplicates == 'FULL HOUSE':\n",
    "\t\treturn 'FULL HOUSE'\n",
    "\telif is_flush(player_hand):\n",
    "\t\treturn 'FLUSH'\n",
    "\telif is_straight():\n",
    "\t\treturn 'STRAIGHT'\n",
    "\telif processed_duplicates == 'THREE OF A KIND':\n",
    "\t\treturn 'THREE OF A KIND'\n",
    "\telif processed_duplicates:\n",
    "\t\treturn processed_duplicates\n",
    "\telse:\n",
    "\t\treturn determine_high_card(player_hand)\n",
    "\n",
    "# Returns the highest value card the player has when the best hand is HIGH CARD\n",
    "# Aces are treated as highest value\n",
    "# For remainder of value list, highest values are proportional with the inverse of the value_list\n",
    "def determine_high_card(player_hand):\n",
    "\treversed_value_list = value_list[::-1]\n",
    "\tfor value in reversed_value_list:\n",
    "\t\tfor card in player_hand:\n",
    "\t\t\tif card[0] == 'A':\n",
    "\t\t\t\treturn 'HIGH CARD ACE'\n",
    "\t\t\tif card[0] == value:\n",
    "\t\t\t\treturn 'HIGH CARD ' + str(value)\n",
    "\n",
    "# Returns a list with two items\n",
    "# First item is the name of the hand the opponent has been assigned\n",
    "# Second item is a list with 2 values that will provide the \"strength\" for certain types of hands\n",
    "# Creates a 'hand' for the principal opponent\n",
    "# DOES NOT function in the same way as the player's hand\n",
    "# Instead based on probability to assign the computer with a hand, much simpler!\n",
    "def opponent_hand(value_list):\n",
    "\trand_num = random.randint(0, 1000)\n",
    "\t\n",
    "\topponent_value_cards = []\n",
    "\ti = 0\n",
    "\t# Creates the list of two values that will make up the second item of the return\n",
    "\twhile i < 2:\n",
    "\t\trand_value = random.choice(value_list)\n",
    "\t\tif rand_value not in opponent_value_cards:\n",
    "\t\t\topponent_value_cards.append(rand_value)\n",
    "\t\t\ti += 1\n",
    "\t\n",
    "\t# Assigns the 'hand' which makes up the first item of the return\n",
    "\tif rand_num <= 300:\n",
    "\t\t# Overwrites previously assigned first item in oppponent_value_cards list to ensure value is >= 7\n",
    "\t\topponent_value_cards[0] = str(random.choice(value_list[6:] + ['A']))\n",
    "\t\topp_hand = 'HIGH CARD ' + opponent_value_cards[0]\n",
    "\telif rand_num <= 700:\n",
    "\t\topp_hand = 'PAIR OF ' + str(opponent_value_cards[0]) + 's'\n",
    "\telif rand_num <= 900:\n",
    "\t\topp_hand = 'TWO PAIRS (' + str(opponent_value_cards[0]) + 's AND ' + str(opponent_value_cards[1]) + 's)'\n",
    "\telif rand_num <= 950:\n",
    "\t\topp_hand = 'THREE OF A KIND (' + str(opponent_value_cards[0]) + 's)'\n",
    "\telif rand_num <= 975:\n",
    "\t\topp_hand = 'STRAIGHT'\n",
    "\telif rand_num <= 987:\n",
    "\t\topp_hand = 'FLUSH'\n",
    "\telif rand_num <= 995:\n",
    "\t\topp_hand = 'FULL HOUSE (THREE ' + str(opponent_value_cards[0]) + 's AND TWO ' + str(opponent_value_cards[1]) + 's)'\n",
    "\telif rand_num <= 999:\n",
    "\t\topp_hand = 'FOUR OF A KIND (' + str(opponent_value_cards[0]) + 's)'\n",
    "\telse:\n",
    "\t\topp_hand = 'STRAIGHT FLUSH'\n",
    "\t\n",
    "\treturn [opp_hand, opponent_value_cards]\n",
    "\n",
    "def play_again():\n",
    "\tprint('\\nWould you care to play another round? (y/n)')\n",
    "\tif input('> ').lower() in ['yes', 'y']:\n",
    "\t\treturn True\n",
    "\telse:\n",
    "\t\treturn False\n",
    "\t\t\t\n",
    "#---------GAME LOOP---------#\n",
    "# linebreak(0)\n",
    "print('-'*15 + \"Anthony Starkey's Python Poker\" + '-'*15)\n",
    "# linebreak()\n",
    "print('\\nYou play British Poker against an exceptionally skilled player.')\n",
    "while True:\n",
    "\ttime.sleep(3.5)\n",
    "\tdealt_hand = deal_player()\n",
    "\t\n",
    "\ttot_discarded_cards = discard_cards()\n",
    "\tdiscarded_cards_list = specify_discard_cards(tot_discarded_cards)\n",
    "\tcards_to_chuck = identify_discard_cards(discarded_cards_list, dealt_hand)\n",
    "\tremaining_hand = throw_discard_cards(discarded_cards_list, dealt_hand, cards_to_chuck)\n",
    "\t\n",
    "\tnew_hand = receive_new_cards(tot_discarded_cards, remaining_hand, cards_to_chuck)\n",
    "\tordered_hand = order_card_values(new_hand, value_list)\n",
    "\t\n",
    "\tname_player_hand = determine_hand(ordered_hand) #--> A function which will determine the name of the hand (e.g. FLUSH)\n",
    "\t\n",
    "\ttime.sleep(4)\n",
    "\tprint('\\nYou reveal your hand:\\n%s' % name_player_hand)\n",
    "\ttime.sleep(3)\n",
    "\tenemy_hand = opponent_hand(value_list)\n",
    "\tprint('\\nYour opponent reveals their hand:\\n' + enemy_hand[0])\n",
    "\t\n",
    "\t#who_wins()\n",
    "\t\n",
    "\tif not play_again():\n",
    "\t\tprint('\\nThank you for playing!')\n",
    "\t\ttime.sleep(1)\n",
    "\t\tbreak\n",
    "\t\t\n",
    "# \tlinebreak()\n"
   ]
  },
  {
   "cell_type": "code",
   "execution_count": null,
   "metadata": {},
   "outputs": [],
   "source": []
  }
 ],
 "metadata": {
  "kernelspec": {
   "display_name": "Python 3",
   "language": "python",
   "name": "python3"
  },
  "language_info": {
   "codemirror_mode": {
    "name": "ipython",
    "version": 3
   },
   "file_extension": ".py",
   "mimetype": "text/x-python",
   "name": "python",
   "nbconvert_exporter": "python",
   "pygments_lexer": "ipython3",
   "version": "3.6.4"
  }
 },
 "nbformat": 4,
 "nbformat_minor": 2
}
