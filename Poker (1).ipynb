{
 "cells": [
  {
   "cell_type": "code",
   "execution_count": 1,
   "metadata": {},
   "outputs": [
    {
     "name": "stdout",
     "output_type": "stream",
     "text": [
      "TEXAS HOLD'EM APP TO IMPROVE SKILLS\n"
     ]
    }
   ],
   "source": [
    "print('''TEXAS HOLD'EM APP TO IMPROVE SKILLS''')"
   ]
  },
  {
   "cell_type": "code",
   "execution_count": 2,
   "metadata": {},
   "outputs": [],
   "source": [
    "########### MODULE 1 : INPUTS / VARIABLES #############"
   ]
  },
  {
   "cell_type": "code",
   "execution_count": 3,
   "metadata": {},
   "outputs": [
    {
     "name": "stdout",
     "output_type": "stream",
     "text": [
      "GOALS:\n",
      "1. Simulate a game of Texas Hold 'Em with real-life attributes (randomly generated cards, player attributes, player position, prior bets, stack sizes and odds.)\n",
      "2. Give accurate live feedback based on game-theory\n"
     ]
    }
   ],
   "source": [
    "print('''GOALS:\\n1. Simulate a game of Texas Hold 'Em with real-life attributes (randomly generated cards, player attributes, player position, prior bets, stack sizes and odds.)\\n2. Give accurate live feedback based on game-theory''')\n"
   ]
  },
  {
   "cell_type": "code",
   "execution_count": 4,
   "metadata": {},
   "outputs": [
    {
     "name": "stdout",
     "output_type": "stream",
     "text": [
      "TO DO:\n",
      "A1. CLOSE PREFLOP ACTION \n",
      "A. APPLY FEEDBACK FROM QUIZZES -DAILY \n",
      "B. APPLY RANGE/CHIP CHANGES/PLAYERTYPE/POSITION ATTRIBUTES/VARIABLES\n",
      "D. CALCULATE POT ODDS FOR EVERY HAND \n"
     ]
    }
   ],
   "source": [
    "print('''TO DO:\\nA1. CLOSE PREFLOP ACTION \\nA. APPLY FEEDBACK FROM QUIZZES -DAILY \\nB. APPLY RANGE/CHIP CHANGES/PLAYERTYPE/POSITION ATTRIBUTES/VARIABLES\\nD. CALCULATE POT ODDS FOR EVERY HAND ''')"
   ]
  },
  {
   "cell_type": "code",
   "execution_count": 5,
   "metadata": {},
   "outputs": [
    {
     "name": "stdout",
     "output_type": "stream",
     "text": [
      "CURRENT ADDITION IN PROGRESS (Q600):\n"
     ]
    },
    {
     "data": {
      "text/plain": [
       "\"Q600: AdQc top pair A in position bets medium when faced with a check due to opponent's wide range and my hand's strength\""
      ]
     },
     "execution_count": 5,
     "metadata": {},
     "output_type": "execute_result"
    }
   ],
   "source": [
    "print('CURRENT ADDITION IN PROGRESS (Q600):')\n",
    "Q600F= '''Q600: AdQc top pair A in position bets medium when faced with a check due to opponent's wide range and my hand's strength'''\n",
    "Q600T= 'AdQc top pair A in position checks when faced with a check when turn coordinates the board'\n",
    "Q600R= 'AdQc top pair A in position bets large when faced with a check when my range is large and my hand is at the bottom of my range'\n",
    "\n",
    "Q600F \n",
    "\n"
   ]
  },
  {
   "cell_type": "code",
   "execution_count": 6,
   "metadata": {},
   "outputs": [
    {
     "name": "stdout",
     "output_type": "stream",
     "text": [
      "Q600\n"
     ]
    },
    {
     "data": {
      "text/plain": [
       "{'BEST_HAND': 'TOP PAIR ACES',\n",
       " 'BET': 'MEDIUM',\n",
       " 'HAND': 'AdQc',\n",
       " 'HAND_STRENGTH': 27,\n",
       " 'OPPONENT MOVE': 'CHECK',\n",
       " 'OPPONENT RANGE': 'WIDE',\n",
       " 'POSITION': 'IN POSITION',\n",
       " 'WHEN TO ADD': 'LATER'}"
      ]
     },
     "execution_count": 6,
     "metadata": {},
     "output_type": "execute_result"
    }
   ],
   "source": [
    "print(\"Q600\")\n",
    "\n",
    "Q600attributes = {\n",
    "    \n",
    "    \"HAND\": 'AdQc',\n",
    "    \"BEST_HAND\": 'TOP PAIR ACES',\n",
    "    \"POSITION\" : \"IN POSITION\",\n",
    "    \"BET\" : \"MEDIUM\",\n",
    "    \"OPPONENT MOVE\" : \"CHECK\",\n",
    "    \"OPPONENT RANGE\" : \"WIDE\",\n",
    "    \"HAND_STRENGTH\" : 27,\n",
    "    \"WHEN TO ADD\" : \"LATER\"\n",
    "}\n",
    "\n",
    "Q600attributes"
   ]
  },
  {
   "cell_type": "code",
   "execution_count": 7,
   "metadata": {},
   "outputs": [
    {
     "name": "stdout",
     "output_type": "stream",
     "text": [
      "Q600\n"
     ]
    },
    {
     "data": {
      "text/html": [
       "<div>\n",
       "<style scoped>\n",
       "    .dataframe tbody tr th:only-of-type {\n",
       "        vertical-align: middle;\n",
       "    }\n",
       "\n",
       "    .dataframe tbody tr th {\n",
       "        vertical-align: top;\n",
       "    }\n",
       "\n",
       "    .dataframe thead th {\n",
       "        text-align: right;\n",
       "    }\n",
       "</style>\n",
       "<table border=\"1\" class=\"dataframe\">\n",
       "  <thead>\n",
       "    <tr style=\"text-align: right;\">\n",
       "      <th></th>\n",
       "      <th>0</th>\n",
       "    </tr>\n",
       "  </thead>\n",
       "  <tbody>\n",
       "    <tr>\n",
       "      <th>Q600F</th>\n",
       "      <td>Q600: AdQc top pair A in position bets medium ...</td>\n",
       "    </tr>\n",
       "    <tr>\n",
       "      <th>Q600T</th>\n",
       "      <td>AdQc top pair A in position checks when faced ...</td>\n",
       "    </tr>\n",
       "    <tr>\n",
       "      <th>Q600R</th>\n",
       "      <td>AdQc top pair A in position bets large when fa...</td>\n",
       "    </tr>\n",
       "  </tbody>\n",
       "</table>\n",
       "</div>"
      ],
      "text/plain": [
       "                                                       0\n",
       "Q600F  Q600: AdQc top pair A in position bets medium ...\n",
       "Q600T  AdQc top pair A in position checks when faced ...\n",
       "Q600R  AdQc top pair A in position bets large when fa..."
      ]
     },
     "execution_count": 7,
     "metadata": {},
     "output_type": "execute_result"
    }
   ],
   "source": [
    "print(\"Q600\")\n",
    "import pandas as pd\n",
    "\n",
    "data = 'AdQc top pair A in position bets large when faced with a check when my range is large and my hand is at the bottom of my range'\n",
    "dfAddition600 = pd.DataFrame([Q600F,Q600T,Q600R],index=[\"Q600F\",\"Q600T\",\"Q600R\"])\n",
    "dfAddition600"
   ]
  },
  {
   "cell_type": "code",
   "execution_count": 8,
   "metadata": {},
   "outputs": [
    {
     "name": "stdout",
     "output_type": "stream",
     "text": [
      "Q600\n"
     ]
    },
    {
     "data": {
      "text/html": [
       "<div>\n",
       "<style scoped>\n",
       "    .dataframe tbody tr th:only-of-type {\n",
       "        vertical-align: middle;\n",
       "    }\n",
       "\n",
       "    .dataframe tbody tr th {\n",
       "        vertical-align: top;\n",
       "    }\n",
       "\n",
       "    .dataframe thead th {\n",
       "        text-align: right;\n",
       "    }\n",
       "</style>\n",
       "<table border=\"1\" class=\"dataframe\">\n",
       "  <thead>\n",
       "    <tr style=\"text-align: right;\">\n",
       "      <th></th>\n",
       "      <th>0</th>\n",
       "      <th>Hand</th>\n",
       "    </tr>\n",
       "  </thead>\n",
       "  <tbody>\n",
       "    <tr>\n",
       "      <th>Q600F</th>\n",
       "      <td>Q600: AdQc top pair A in position bets medium ...</td>\n",
       "      <td>Q600</td>\n",
       "    </tr>\n",
       "    <tr>\n",
       "      <th>Q600T</th>\n",
       "      <td>AdQc top pair A in position checks when faced ...</td>\n",
       "      <td>Q600</td>\n",
       "    </tr>\n",
       "    <tr>\n",
       "      <th>Q600R</th>\n",
       "      <td>AdQc top pair A in position bets large when fa...</td>\n",
       "      <td>Q600</td>\n",
       "    </tr>\n",
       "  </tbody>\n",
       "</table>\n",
       "</div>"
      ],
      "text/plain": [
       "                                                       0  Hand\n",
       "Q600F  Q600: AdQc top pair A in position bets medium ...  Q600\n",
       "Q600T  AdQc top pair A in position checks when faced ...  Q600\n",
       "Q600R  AdQc top pair A in position bets large when fa...  Q600"
      ]
     },
     "execution_count": 8,
     "metadata": {},
     "output_type": "execute_result"
    }
   ],
   "source": [
    "print(\"Q600\")\n",
    "\n",
    "dfAddition600['Hand']=Q600F[0:4]\n",
    "# dfAddition600['']\n",
    "dfAddition600"
   ]
  },
  {
   "cell_type": "code",
   "execution_count": 9,
   "metadata": {},
   "outputs": [
    {
     "name": "stdout",
     "output_type": "stream",
     "text": [
      "Preflop: Great hand in the big blind to close the action out of position (K5 offsuit is too poor to call)\n"
     ]
    }
   ],
   "source": [
    "print('Preflop: Great hand in the big blind to close the action out of position (K5 offsuit is too poor to call)')"
   ]
  },
  {
   "cell_type": "code",
   "execution_count": 10,
   "metadata": {
    "scrolled": true
   },
   "outputs": [
    {
     "name": "stdout",
     "output_type": "stream",
     "text": [
      "Practicing Calculating Pot-Odds\n"
     ]
    }
   ],
   "source": [
    "print('Practicing Calculating Pot-Odds')"
   ]
  },
  {
   "cell_type": "code",
   "execution_count": 11,
   "metadata": {},
   "outputs": [
    {
     "name": "stdout",
     "output_type": "stream",
     "text": [
      "In poker, pot odds are the ratio of the current size of the pot to the cost of a contemplated call. Pot odds are often compared to the probability of winning a hand with a future card in order to estimate the call's expected value.\n"
     ]
    }
   ],
   "source": [
    "print('''In poker, pot odds are the ratio of the current size of the pot to the cost of a contemplated call. Pot odds are often compared to the probability of winning a hand with a future card in order to estimate the call's expected value.''')"
   ]
  },
  {
   "cell_type": "code",
   "execution_count": 12,
   "metadata": {},
   "outputs": [
    {
     "name": "stdout",
     "output_type": "stream",
     "text": [
      "In other words...\n"
     ]
    }
   ],
   "source": [
    "print('In other words...')\n"
   ]
  },
  {
   "cell_type": "code",
   "execution_count": 13,
   "metadata": {},
   "outputs": [
    {
     "name": "stdout",
     "output_type": "stream",
     "text": [
      "POT_ODDS = Probability of winning a hand with a future card in order to estimate the call's expected value\n",
      "Current Pot Size is 200\n",
      "Potential Cost of Call is 100\n",
      "Pot Odds are 2.0 to 1\n"
     ]
    }
   ],
   "source": [
    "CURRENT_POT_SIZE = 200\n",
    "POTENTIAL_COST_OF_CALL = 100\n",
    "POT_ODDS = CURRENT_POT_SIZE / POTENTIAL_COST_OF_CALL\n",
    "print('''POT_ODDS = Probability of winning a hand with a future card in order to estimate the call's expected value''')\n",
    "print('Current Pot Size is '+ str(CURRENT_POT_SIZE))\n",
    "print('Potential Cost of Call is '+ str(POTENTIAL_COST_OF_CALL))\n",
    "\n",
    "print(\"Pot Odds are \"+str(POT_ODDS)+' to 1')"
   ]
  },
  {
   "cell_type": "code",
   "execution_count": 14,
   "metadata": {},
   "outputs": [
    {
     "name": "stdout",
     "output_type": "stream",
     "text": [
      "Turn the ratio to a percent by calculating [ Risk / Risk + Reward ]\n"
     ]
    }
   ],
   "source": [
    "print('Turn the ratio to a percent by calculating [ Risk / Risk + Reward ]')\n"
   ]
  },
  {
   "cell_type": "code",
   "execution_count": 15,
   "metadata": {},
   "outputs": [
    {
     "data": {
      "text/plain": [
       "100"
      ]
     },
     "execution_count": 15,
     "metadata": {},
     "output_type": "execute_result"
    }
   ],
   "source": [
    "RISK = POTENTIAL_COST_OF_CALL\n",
    "RISK"
   ]
  },
  {
   "cell_type": "code",
   "execution_count": 16,
   "metadata": {},
   "outputs": [
    {
     "data": {
      "text/plain": [
       "200"
      ]
     },
     "execution_count": 16,
     "metadata": {},
     "output_type": "execute_result"
    }
   ],
   "source": [
    "REWARD = CURRENT_POT_SIZE\n",
    "REWARD"
   ]
  },
  {
   "cell_type": "code",
   "execution_count": 17,
   "metadata": {},
   "outputs": [
    {
     "data": {
      "text/plain": [
       "0.3333333333333333"
      ]
     },
     "execution_count": 17,
     "metadata": {},
     "output_type": "execute_result"
    }
   ],
   "source": [
    " RISK / (RISK + REWARD)\n"
   ]
  },
  {
   "cell_type": "code",
   "execution_count": null,
   "metadata": {},
   "outputs": [],
   "source": []
  },
  {
   "cell_type": "code",
   "execution_count": 18,
   "metadata": {},
   "outputs": [],
   "source": [
    "# FIRST VARIABLE: MY STACK SIZE\n",
    "MY_STACK_SIZE_IN_BIG_BLINDS = 60\n",
    "SS = MY_STACK_SIZE_IN_BIG_BLINDS"
   ]
  },
  {
   "cell_type": "code",
   "execution_count": null,
   "metadata": {},
   "outputs": [],
   "source": []
  },
  {
   "cell_type": "code",
   "execution_count": 19,
   "metadata": {},
   "outputs": [
    {
     "data": {
      "text/plain": [
       "60"
      ]
     },
     "execution_count": 19,
     "metadata": {},
     "output_type": "execute_result"
    }
   ],
   "source": [
    "SS"
   ]
  },
  {
   "cell_type": "code",
   "execution_count": 20,
   "metadata": {},
   "outputs": [
    {
     "data": {
      "text/plain": [
       "80"
      ]
     },
     "execution_count": 20,
     "metadata": {},
     "output_type": "execute_result"
    }
   ],
   "source": [
    "ALL_IN_BET = 80\n",
    "ALL_IN_BET"
   ]
  },
  {
   "cell_type": "code",
   "execution_count": 21,
   "metadata": {},
   "outputs": [
    {
     "data": {
      "text/plain": [
       "400"
      ]
     },
     "execution_count": 21,
     "metadata": {},
     "output_type": "execute_result"
    }
   ],
   "source": [
    "POT_SIZE = 400\n",
    "POT_SIZE "
   ]
  },
  {
   "cell_type": "code",
   "execution_count": 22,
   "metadata": {},
   "outputs": [
    {
     "data": {
      "text/plain": [
       "0.16666666666666666"
      ]
     },
     "execution_count": 22,
     "metadata": {},
     "output_type": "execute_result"
    }
   ],
   "source": [
    "X = ALL_IN_BET / ( ALL_IN_BET + POT_SIZE )\n",
    "X"
   ]
  },
  {
   "cell_type": "code",
   "execution_count": 23,
   "metadata": {},
   "outputs": [
    {
     "data": {
      "text/plain": [
       "5.0"
      ]
     },
     "execution_count": 23,
     "metadata": {},
     "output_type": "execute_result"
    }
   ],
   "source": [
    "POT_ODDS = CURRENT_POT_SIZE / POTENTIAL_COST_OF_CALL\n",
    "POT_ODDS = 400 / 80\n",
    "POT_ODDS"
   ]
  },
  {
   "cell_type": "code",
   "execution_count": 24,
   "metadata": {},
   "outputs": [
    {
     "data": {
      "text/plain": [
       "'Bet Larger'"
      ]
     },
     "execution_count": 24,
     "metadata": {},
     "output_type": "execute_result"
    }
   ],
   "source": [
    "# If stack size is small, bet smaller. If medium, bet medium. If larger, bet larger.\n",
    "\n",
    "def f(x):\n",
    "    if x <= 20:\n",
    "        x = 'Bet Smaller'\n",
    "    elif 20 < x <= 50:\n",
    "        x = 'Bet Medium'\n",
    "    elif 50 < x:\n",
    "        x = 'Bet Larger'\n",
    "    return x\n",
    "\n",
    "MY_BET_SIZE = f(SS)\n",
    "    \n",
    "    \n",
    "MY_BET_SIZE"
   ]
  },
  {
   "cell_type": "code",
   "execution_count": null,
   "metadata": {},
   "outputs": [],
   "source": []
  },
  {
   "cell_type": "code",
   "execution_count": 25,
   "metadata": {},
   "outputs": [],
   "source": [
    "CARDS = ('Ah', '2h', '3h', '4h', '5h', '6h', '7h', '8h', '9h', '10h', 'Jh', 'Qh', 'Kh', 'Ac', '2c', '3c', '4c', '5c', '6c', '7c', '8c', '9c', '10c', 'Jc', 'Qc', 'Kc', 'As', '2s', '3s', '4s', '5s', '6s', '7s', '8s', '9s', '10s', 'Js', 'Qs', 'Ks', 'Ad', '2d', '3d', '4d', '5d', '6d', '7d', '8d', '9d', '10d', 'Jd', 'Qd', 'Kd')"
   ]
  },
  {
   "cell_type": "code",
   "execution_count": 26,
   "metadata": {},
   "outputs": [
    {
     "data": {
      "text/plain": [
       "('Ah',\n",
       " '2h',\n",
       " '3h',\n",
       " '4h',\n",
       " '5h',\n",
       " '6h',\n",
       " '7h',\n",
       " '8h',\n",
       " '9h',\n",
       " '10h',\n",
       " 'Jh',\n",
       " 'Qh',\n",
       " 'Kh',\n",
       " 'Ac',\n",
       " '2c',\n",
       " '3c',\n",
       " '4c',\n",
       " '5c',\n",
       " '6c',\n",
       " '7c',\n",
       " '8c',\n",
       " '9c',\n",
       " '10c',\n",
       " 'Jc',\n",
       " 'Qc',\n",
       " 'Kc',\n",
       " 'As',\n",
       " '2s',\n",
       " '3s',\n",
       " '4s',\n",
       " '5s',\n",
       " '6s',\n",
       " '7s',\n",
       " '8s',\n",
       " '9s',\n",
       " '10s',\n",
       " 'Js',\n",
       " 'Qs',\n",
       " 'Ks',\n",
       " 'Ad',\n",
       " '2d',\n",
       " '3d',\n",
       " '4d',\n",
       " '5d',\n",
       " '6d',\n",
       " '7d',\n",
       " '8d',\n",
       " '9d',\n",
       " '10d',\n",
       " 'Jd',\n",
       " 'Qd',\n",
       " 'Kd')"
      ]
     },
     "execution_count": 26,
     "metadata": {},
     "output_type": "execute_result"
    }
   ],
   "source": [
    "CARDS"
   ]
  },
  {
   "cell_type": "code",
   "execution_count": 27,
   "metadata": {},
   "outputs": [
    {
     "data": {
      "text/plain": [
       "['As', '8d', '6s']"
      ]
     },
     "execution_count": 27,
     "metadata": {},
     "output_type": "execute_result"
    }
   ],
   "source": [
    "#SHUFFLE AND DEAL HAND AND COMMUNITY CARDS\n",
    "\n",
    "import random\n",
    "COMMUNITY_CARDS = random.sample(set(CARDS), 9)\n",
    "HAND = COMMUNITY_CARDS[0:2]\n",
    "#NEED TO CALCULATE OPPONPENETS HANDS IN THE DEALING\n",
    "FLOP = COMMUNITY_CARDS[2:5]\n",
    "BURN1 = COMMUNITY_CARDS[5]\n",
    "TURN = COMMUNITY_CARDS[6]\n",
    "BURN2 = COMMUNITY_CARDS[7]\n",
    "RIVER = COMMUNITY_CARDS[8]\n",
    "FLOP\n",
    "\n",
    "\n"
   ]
  },
  {
   "cell_type": "code",
   "execution_count": null,
   "metadata": {},
   "outputs": [],
   "source": []
  },
  {
   "cell_type": "code",
   "execution_count": null,
   "metadata": {},
   "outputs": [],
   "source": [
    "\n"
   ]
  },
  {
   "cell_type": "code",
   "execution_count": 31,
   "metadata": {},
   "outputs": [
    {
     "data": {
      "text/plain": [
       "['10h', '4c']"
      ]
     },
     "execution_count": 31,
     "metadata": {},
     "output_type": "execute_result"
    }
   ],
   "source": [
    "#HAND = ['As','10s']\n",
    "HAND"
   ]
  },
  {
   "cell_type": "code",
   "execution_count": 32,
   "metadata": {},
   "outputs": [
    {
     "data": {
      "text/plain": [
       "'UNSUITED'"
      ]
     },
     "execution_count": 32,
     "metadata": {},
     "output_type": "execute_result"
    }
   ],
   "source": [
    "#SUITEDNESS\n",
    "def f(x):\n",
    "    if x[1][-1] == x[0][-1]:\n",
    "        x = 'SUITED'\n",
    "    else:\n",
    "        x = 'UNSUITED'\n",
    "    return x\n",
    "SUITEDNESS = f(HAND)\n",
    "SUITEDNESS"
   ]
  },
  {
   "cell_type": "code",
   "execution_count": 33,
   "metadata": {},
   "outputs": [
    {
     "data": {
      "text/plain": [
       "0"
      ]
     },
     "execution_count": 33,
     "metadata": {},
     "output_type": "execute_result"
    }
   ],
   "source": [
    "#SUITEDNESS STRENGTH\n",
    "def f(x):\n",
    "    if x[1][-1] == x[0][-1]:\n",
    "        x = 3 #'SUITED'\n",
    "    else:\n",
    "        x = 0 #'UNSUITED'\n",
    "    return x\n",
    "SUITEDNESS_STRENGTH = f(HAND)\n",
    "SUITEDNESS_STRENGTH"
   ]
  },
  {
   "cell_type": "code",
   "execution_count": 34,
   "metadata": {},
   "outputs": [
    {
     "data": {
      "text/plain": [
       "'104'"
      ]
     },
     "execution_count": 34,
     "metadata": {},
     "output_type": "execute_result"
    }
   ],
   "source": [
    "HAND_STRING_RANK = HAND[0][0:-1]+HAND[1][0:-1]\n",
    "HAND_STRING_RANK"
   ]
  },
  {
   "cell_type": "code",
   "execution_count": 35,
   "metadata": {},
   "outputs": [
    {
     "data": {
      "text/plain": [
       "'10'"
      ]
     },
     "execution_count": 35,
     "metadata": {},
     "output_type": "execute_result"
    }
   ],
   "source": [
    "HAND_1_RANK = HAND[0][0:-1]\n",
    "HAND_1_RANK"
   ]
  },
  {
   "cell_type": "code",
   "execution_count": 36,
   "metadata": {},
   "outputs": [
    {
     "data": {
      "text/plain": [
       "'4'"
      ]
     },
     "execution_count": 36,
     "metadata": {},
     "output_type": "execute_result"
    }
   ],
   "source": [
    "HAND_2_RANK = HAND[1][0:-1]\n",
    "HAND_2_RANK"
   ]
  },
  {
   "cell_type": "code",
   "execution_count": 37,
   "metadata": {},
   "outputs": [
    {
     "data": {
      "text/plain": [
       "'4'"
      ]
     },
     "execution_count": 37,
     "metadata": {},
     "output_type": "execute_result"
    }
   ],
   "source": [
    "HAND_2_RANK"
   ]
  },
  {
   "cell_type": "code",
   "execution_count": 38,
   "metadata": {},
   "outputs": [
    {
     "data": {
      "text/plain": [
       "10"
      ]
     },
     "execution_count": 38,
     "metadata": {},
     "output_type": "execute_result"
    }
   ],
   "source": [
    "def S(y):\n",
    "    if y == 'A':\n",
    "        x = 15\n",
    "    elif y == 'K':\n",
    "        x = 13\n",
    "    elif y == 'Q':\n",
    "        x = 12\n",
    "    elif y == 'J':\n",
    "        x = 11\n",
    "    elif y == y:\n",
    "        x = int(y)\n",
    "    return x \n",
    "S(HAND_1_RANK)"
   ]
  },
  {
   "cell_type": "code",
   "execution_count": 39,
   "metadata": {},
   "outputs": [
    {
     "data": {
      "text/plain": [
       "['10h', '4c']"
      ]
     },
     "execution_count": 39,
     "metadata": {},
     "output_type": "execute_result"
    }
   ],
   "source": [
    "#SECOND VARIABLE: MY HAND STRENGTH AND SUITEDNESS\n",
    "\n",
    "HAND"
   ]
  },
  {
   "cell_type": "code",
   "execution_count": 40,
   "metadata": {},
   "outputs": [
    {
     "data": {
      "text/plain": [
       "'10'"
      ]
     },
     "execution_count": 40,
     "metadata": {},
     "output_type": "execute_result"
    }
   ],
   "source": [
    "HAND_1_RANK = HAND[0][0:-1]\n",
    "HAND_1_RANK"
   ]
  },
  {
   "cell_type": "code",
   "execution_count": 41,
   "metadata": {},
   "outputs": [
    {
     "data": {
      "text/plain": [
       "10"
      ]
     },
     "execution_count": 41,
     "metadata": {},
     "output_type": "execute_result"
    }
   ],
   "source": [
    "HAND_1_RANK = S(HAND_1_RANK) \n",
    "HAND_1_RANK"
   ]
  },
  {
   "cell_type": "code",
   "execution_count": 42,
   "metadata": {},
   "outputs": [
    {
     "data": {
      "text/plain": [
       "'4'"
      ]
     },
     "execution_count": 42,
     "metadata": {},
     "output_type": "execute_result"
    }
   ],
   "source": [
    "HAND_2_RANK = HAND[1][0:-1]\n",
    "HAND_2_RANK"
   ]
  },
  {
   "cell_type": "code",
   "execution_count": 43,
   "metadata": {},
   "outputs": [
    {
     "data": {
      "text/plain": [
       "4"
      ]
     },
     "execution_count": 43,
     "metadata": {},
     "output_type": "execute_result"
    }
   ],
   "source": [
    "HAND_2_RANK = S(HAND_2_RANK)\n",
    "HAND_2_RANK"
   ]
  },
  {
   "cell_type": "code",
   "execution_count": 44,
   "metadata": {},
   "outputs": [
    {
     "data": {
      "text/plain": [
       "0"
      ]
     },
     "execution_count": 44,
     "metadata": {},
     "output_type": "execute_result"
    }
   ],
   "source": [
    "#POCKET PAIR?\n",
    "if HAND_1_RANK == HAND_2_RANK: POCKET_PAIR = 4 \n",
    "else: POCKET_PAIR = 0\n",
    "POCKET_PAIR"
   ]
  },
  {
   "cell_type": "code",
   "execution_count": 45,
   "metadata": {},
   "outputs": [
    {
     "data": {
      "text/plain": [
       "0"
      ]
     },
     "execution_count": 45,
     "metadata": {},
     "output_type": "execute_result"
    }
   ],
   "source": [
    "#SUITED CONNECTOR?\n",
    "if 3 > HAND_1_RANK - HAND_2_RANK > -3: CONNECTOR = 3\n",
    "else: CONNECTOR = 0\n",
    "CONNECTOR\n"
   ]
  },
  {
   "cell_type": "code",
   "execution_count": 46,
   "metadata": {},
   "outputs": [
    {
     "data": {
      "text/plain": [
       "14"
      ]
     },
     "execution_count": 46,
     "metadata": {},
     "output_type": "execute_result"
    }
   ],
   "source": [
    "#HAND STRENGTH RANKED FROM 4 - 41\n",
    "HAND_STRENGTH = S(HAND_1_RANK) + S(HAND_2_RANK)+ SUITEDNESS_STRENGTH + POCKET_PAIR + CONNECTOR\n",
    "HAND_STRENGTH"
   ]
  },
  {
   "cell_type": "code",
   "execution_count": 47,
   "metadata": {},
   "outputs": [],
   "source": [
    "# #HAND STRENGTH AND SUITEDNESS\n",
    "# HAND_STRENGTH_SUITEDNESS = str(HAND_STRENGTH) +' '+ SUITEDNESS\n",
    "# HAND_STRENGTH_SUITEDNESS\n",
    "# ^SUITEDNESS IS NOW CALCULATED INTO HAND STRENGTH"
   ]
  },
  {
   "cell_type": "code",
   "execution_count": 48,
   "metadata": {},
   "outputs": [],
   "source": [
    "#THIRD VARIABLE: MY POSITION"
   ]
  },
  {
   "cell_type": "code",
   "execution_count": null,
   "metadata": {},
   "outputs": [],
   "source": []
  },
  {
   "cell_type": "code",
   "execution_count": 49,
   "metadata": {},
   "outputs": [],
   "source": [
    "#FOURTH VARIABLE: PLAYER TYPES\n",
    "PLAYER_TYPES = ('TAG','LAG','REG','HAPPY')"
   ]
  },
  {
   "cell_type": "code",
   "execution_count": 50,
   "metadata": {},
   "outputs": [],
   "source": [
    "OPPONENT_TYPE = 'LAG'"
   ]
  },
  {
   "cell_type": "code",
   "execution_count": 51,
   "metadata": {},
   "outputs": [
    {
     "data": {
      "text/plain": [
       "60"
      ]
     },
     "execution_count": 51,
     "metadata": {},
     "output_type": "execute_result"
    }
   ],
   "source": [
    "#FIFTHVARIABLE: STACK SIZES\n",
    "OPPONENT_STACK_SIZE = 'shallow'\n",
    "SS #MY STACK SIZE IN BIG BLINDS"
   ]
  },
  {
   "cell_type": "code",
   "execution_count": 52,
   "metadata": {},
   "outputs": [
    {
     "data": {
      "text/plain": [
       "'shallow'"
      ]
     },
     "execution_count": 52,
     "metadata": {},
     "output_type": "execute_result"
    }
   ],
   "source": [
    "OPPONENT_STACK_SIZE"
   ]
  },
  {
   "cell_type": "code",
   "execution_count": 53,
   "metadata": {},
   "outputs": [],
   "source": [
    "#SIXTH VARIABLE: PRIOR BETS / POT SIZE \n",
    "ALL_PRIOR_BETS = 300"
   ]
  },
  {
   "cell_type": "code",
   "execution_count": 54,
   "metadata": {},
   "outputs": [],
   "source": [
    "POT_SIZE = ALL_PRIOR_BETS"
   ]
  },
  {
   "cell_type": "code",
   "execution_count": 55,
   "metadata": {},
   "outputs": [
    {
     "data": {
      "text/plain": [
       "300"
      ]
     },
     "execution_count": 55,
     "metadata": {},
     "output_type": "execute_result"
    }
   ],
   "source": [
    "POT_SIZE"
   ]
  },
  {
   "cell_type": "code",
   "execution_count": 56,
   "metadata": {},
   "outputs": [],
   "source": [
    "CALL_AMOUNT = 200"
   ]
  },
  {
   "cell_type": "code",
   "execution_count": 57,
   "metadata": {},
   "outputs": [],
   "source": [
    "#SEVENTH VARIABLE: ODDS\n",
    "ODDS_GIVING_OPPONENT = POT_SIZE / CALL_AMOUNT"
   ]
  },
  {
   "cell_type": "code",
   "execution_count": 58,
   "metadata": {},
   "outputs": [
    {
     "data": {
      "text/plain": [
       "1.5"
      ]
     },
     "execution_count": 58,
     "metadata": {},
     "output_type": "execute_result"
    }
   ],
   "source": [
    "ODDS_GIVING_OPPONENT"
   ]
  },
  {
   "cell_type": "code",
   "execution_count": 59,
   "metadata": {},
   "outputs": [],
   "source": [
    "######### MODULE 1.25 : SIMULATION ############"
   ]
  },
  {
   "cell_type": "code",
   "execution_count": 60,
   "metadata": {},
   "outputs": [],
   "source": [
    "#PRE-FLOP"
   ]
  },
  {
   "cell_type": "code",
   "execution_count": 61,
   "metadata": {},
   "outputs": [
    {
     "data": {
      "text/plain": [
       "[7]"
      ]
     },
     "execution_count": 61,
     "metadata": {},
     "output_type": "execute_result"
    }
   ],
   "source": [
    "PLAYERS_POSSIBLE = [4,5,6,7,8,9,10]\n",
    "NUMBER_OF_PLAYERS = random.sample((PLAYERS_POSSIBLE), 1) #set()\n",
    "NUMBER_OF_PLAYERS"
   ]
  },
  {
   "cell_type": "code",
   "execution_count": 62,
   "metadata": {},
   "outputs": [],
   "source": [
    "#HASH THISSSSSSSSSSS\n",
    "\n",
    "NUMBER_OF_PLAYERS = [10]"
   ]
  },
  {
   "cell_type": "code",
   "execution_count": 63,
   "metadata": {},
   "outputs": [
    {
     "data": {
      "text/plain": [
       "[1, 2, 3, 4, 5, 6, 7, 8, 9]"
      ]
     },
     "execution_count": 63,
     "metadata": {},
     "output_type": "execute_result"
    }
   ],
   "source": [
    "ACTIONS_BEFORE_YOU = list(range(1,int(NUMBER_OF_PLAYERS[0])))\n",
    "ACTIONS_BEFORE_YOU"
   ]
  },
  {
   "cell_type": "code",
   "execution_count": 64,
   "metadata": {},
   "outputs": [
    {
     "data": {
      "text/plain": [
       "[1, 2, 3, 4, 5, 6, 7, 8, 9, 10]"
      ]
     },
     "execution_count": 64,
     "metadata": {},
     "output_type": "execute_result"
    }
   ],
   "source": [
    "TOTAL_ACTIONS = list(range(1,int(NUMBER_OF_PLAYERS[0])+1))\n",
    "TOTAL_ACTIONS"
   ]
  },
  {
   "cell_type": "code",
   "execution_count": 65,
   "metadata": {},
   "outputs": [
    {
     "data": {
      "text/plain": [
       "[(4, 'UTG', 1),\n",
       " (7, 'UTG+1', 2),\n",
       " (8, 'UTG+2', 3),\n",
       " (9, 'MP1', 4),\n",
       " (10, 'MP2', 5),\n",
       " (6, 'HJ', 6),\n",
       " (5, 'CO', 7),\n",
       " (1, 'BTN', 8),\n",
       " (2, 'SB', 9),\n",
       " (3, 'BB', 10)]"
      ]
     },
     "execution_count": 65,
     "metadata": {},
     "output_type": "execute_result"
    }
   ],
   "source": [
    "# (IMPORTANCE TO GAME/REQUIRED FOR GIVEN NUMBER OF PLAYERS,'POSITION',ORDER PRE-FLOP)\n",
    "MAX_POSITIONS = [(4,'UTG',1),(7,'UTG+1',2),(8,'UTG+2',3),(9,'MP1',4),(10,'MP2',5),(6,'HJ',6),(5,'CO',7),(1,'BTN',8),(2,'SB',9),(3,'BB',10)]\n",
    "MAX_POSITIONS"
   ]
  },
  {
   "cell_type": "code",
   "execution_count": 66,
   "metadata": {},
   "outputs": [
    {
     "data": {
      "text/plain": [
       "[(1, 'BTN', 8),\n",
       " (2, 'SB', 9),\n",
       " (3, 'BB', 10),\n",
       " (4, 'UTG', 1),\n",
       " (5, 'CO', 7),\n",
       " (6, 'HJ', 6),\n",
       " (7, 'UTG+1', 2),\n",
       " (8, 'UTG+2', 3),\n",
       " (9, 'MP1', 4),\n",
       " (10, 'MP2', 5)]"
      ]
     },
     "execution_count": 66,
     "metadata": {},
     "output_type": "execute_result"
    }
   ],
   "source": [
    "POSITIONS_SORTED_BY_IMPORTANCE = sorted(MAX_POSITIONS, key=lambda tup: tup[0])\n",
    "POSITIONS_SORTED_BY_IMPORTANCE"
   ]
  },
  {
   "cell_type": "code",
   "execution_count": 67,
   "metadata": {},
   "outputs": [
    {
     "data": {
      "text/plain": [
       "[(1, 'BTN', 8),\n",
       " (2, 'SB', 9),\n",
       " (3, 'BB', 10),\n",
       " (4, 'UTG', 1),\n",
       " (5, 'CO', 7),\n",
       " (6, 'HJ', 6),\n",
       " (7, 'UTG+1', 2),\n",
       " (8, 'UTG+2', 3),\n",
       " (9, 'MP1', 4),\n",
       " (10, 'MP2', 5)]"
      ]
     },
     "execution_count": 67,
     "metadata": {},
     "output_type": "execute_result"
    }
   ],
   "source": [
    "############NEED THIS TO CALCULATE OPPONENT DATAFRAME\n",
    "ALL_POSITIONS_IN_THIS_GAME = POSITIONS_SORTED_BY_IMPORTANCE[0:TOTAL_ACTIONS[-1]]\n",
    "ALL_POSITIONS_IN_THIS_GAME"
   ]
  },
  {
   "cell_type": "code",
   "execution_count": null,
   "metadata": {},
   "outputs": [],
   "source": []
  },
  {
   "cell_type": "code",
   "execution_count": null,
   "metadata": {},
   "outputs": [],
   "source": []
  },
  {
   "cell_type": "code",
   "execution_count": 68,
   "metadata": {},
   "outputs": [
    {
     "data": {
      "text/plain": [
       "['Stack is <50 Big Blinds',\n",
       " 'Stack is >50 Big Blinds <150',\n",
       " 'Stack is >150 Big Blinds']"
      ]
     },
     "execution_count": 68,
     "metadata": {},
     "output_type": "execute_result"
    }
   ],
   "source": [
    "STACK_SIZES_POSSIBLE = ['Stack is <50 Big Blinds',\n",
    "                       'Stack is >50 Big Blinds <150',\n",
    "                       'Stack is >150 Big Blinds']\n",
    "STACK_SIZES_POSSIBLE"
   ]
  },
  {
   "cell_type": "code",
   "execution_count": 69,
   "metadata": {},
   "outputs": [
    {
     "data": {
      "text/plain": [
       "['Stack is <50 Big Blinds',\n",
       " 'Stack is >150 Big Blinds',\n",
       " 'Stack is >50 Big Blinds <150',\n",
       " 'Stack is <50 Big Blinds',\n",
       " 'Stack is <50 Big Blinds',\n",
       " 'Stack is >150 Big Blinds',\n",
       " 'Stack is >150 Big Blinds',\n",
       " 'Stack is >150 Big Blinds',\n",
       " 'Stack is >50 Big Blinds <150',\n",
       " 'Stack is >50 Big Blinds <150']"
      ]
     },
     "execution_count": 69,
     "metadata": {},
     "output_type": "execute_result"
    }
   ],
   "source": [
    "########NEED THIS TO CALCULATE OPPONENT DATAFRAME\n",
    "\n",
    "from random import choices\n",
    "\n",
    "ALL_STACK_SIZES = choices(STACK_SIZES_POSSIBLE,\n",
    "                          k=NUMBER_OF_PLAYERS[0])\n",
    "ALL_STACK_SIZES"
   ]
  },
  {
   "cell_type": "code",
   "execution_count": 70,
   "metadata": {},
   "outputs": [
    {
     "data": {
      "text/plain": [
       "{((1, 'BTN', 8), 'Stack is <50 Big Blinds'),\n",
       " ((2, 'SB', 9), 'Stack is >150 Big Blinds'),\n",
       " ((3, 'BB', 10), 'Stack is >50 Big Blinds <150'),\n",
       " ((4, 'UTG', 1), 'Stack is <50 Big Blinds'),\n",
       " ((5, 'CO', 7), 'Stack is <50 Big Blinds'),\n",
       " ((6, 'HJ', 6), 'Stack is >150 Big Blinds'),\n",
       " ((7, 'UTG+1', 2), 'Stack is >150 Big Blinds'),\n",
       " ((8, 'UTG+2', 3), 'Stack is >150 Big Blinds'),\n",
       " ((9, 'MP1', 4), 'Stack is >50 Big Blinds <150'),\n",
       " ((10, 'MP2', 5), 'Stack is >50 Big Blinds <150')}"
      ]
     },
     "execution_count": 70,
     "metadata": {},
     "output_type": "execute_result"
    }
   ],
   "source": [
    "POSITIONS_STACKS = set(zip(ALL_POSITIONS_IN_THIS_GAME,ALL_STACK_SIZES))\n",
    "POSITIONS_STACKS"
   ]
  },
  {
   "cell_type": "code",
   "execution_count": 71,
   "metadata": {},
   "outputs": [
    {
     "data": {
      "text/plain": [
       "{((1, 'BTN', 8), 'Stack is <50 Big Blinds'),\n",
       " ((2, 'SB', 9), 'Stack is >150 Big Blinds'),\n",
       " ((3, 'BB', 10), 'Stack is >50 Big Blinds <150'),\n",
       " ((4, 'UTG', 1), 'Stack is <50 Big Blinds'),\n",
       " ((5, 'CO', 7), 'Stack is <50 Big Blinds'),\n",
       " ((6, 'HJ', 6), 'Stack is >150 Big Blinds'),\n",
       " ((7, 'UTG+1', 2), 'Stack is >150 Big Blinds'),\n",
       " ((8, 'UTG+2', 3), 'Stack is >150 Big Blinds'),\n",
       " ((9, 'MP1', 4), 'Stack is >50 Big Blinds <150'),\n",
       " ((10, 'MP2', 5), 'Stack is >50 Big Blinds <150')}"
      ]
     },
     "execution_count": 71,
     "metadata": {},
     "output_type": "execute_result"
    }
   ],
   "source": [
    "POSITIONS_STACKS"
   ]
  },
  {
   "cell_type": "code",
   "execution_count": 72,
   "metadata": {},
   "outputs": [
    {
     "data": {
      "text/plain": [
       "['fold', 'check', 'call', 'bet small', 'bet medium', 'bet large']"
      ]
     },
     "execution_count": 72,
     "metadata": {},
     "output_type": "execute_result"
    }
   ],
   "source": [
    "OPPONENT_ACTIONS_POSSIBLE = ['fold','check','call',\n",
    "                    'bet small',\n",
    "                    'bet medium',\n",
    "                    'bet large']\n",
    "                   #'YOUR MOVE']\n",
    "OPPONENT_ACTIONS_POSSIBLE"
   ]
  },
  {
   "cell_type": "code",
   "execution_count": 73,
   "metadata": {},
   "outputs": [
    {
     "data": {
      "text/plain": [
       "{'bet large': ['StreetBegins', 'fold', 'check', 'call', 'bet small'],\n",
       " 'bet medium': ['StreetBegins', 'fold', 'check', 'call'],\n",
       " 'bet small': ['StreetBegins', 'check', 'fold'],\n",
       " 'call': ['bet small', 'bet medium', 'bet large', 'fold'],\n",
       " 'check': ['StreetBegins', 'check'],\n",
       " 'fold': ['bet small', 'call', 'bet medium', 'bet large'],\n",
       " 'zero': [0]}"
      ]
     },
     "execution_count": 73,
     "metadata": {},
     "output_type": "execute_result"
    }
   ],
   "source": [
    "OPTIONAL_MOVES_PREVIOUS_POSSIBLE_MOVES = {\n",
    " 'zero':[0],\n",
    " 'fold':['bet small','call','bet medium','bet large'],\n",
    " 'check':['StreetBegins','check'],\n",
    " 'bet small':['StreetBegins','check','fold'],\n",
    " 'call':['bet small','bet medium','bet large','fold'],\n",
    " 'bet medium':['StreetBegins','fold','check','call'],\n",
    " 'bet large':['StreetBegins','fold','check','call','bet small']\n",
    "}\n",
    "\n",
    "OPTIONAL_MOVES_PREVIOUS_POSSIBLE_MOVES"
   ]
  },
  {
   "cell_type": "code",
   "execution_count": 74,
   "metadata": {},
   "outputs": [
    {
     "data": {
      "text/plain": [
       "{'check': ['StreetBegins', 'check']}"
      ]
     },
     "execution_count": 74,
     "metadata": {},
     "output_type": "execute_result"
    }
   ],
   "source": [
    "FOLD_GIVEN_PREVIOUS_MOVES = {'fold':['bet small','call','bet medium','bet large']}\n",
    "CHECK_GIVEN_PREVIOUS_MOVES = {'check':['StreetBegins','check']}\n",
    "BET_SMALL_GIVEN_PREVIOUS_MOVES = {'bet small':['StreetBegins','check','fold'],}\n",
    "CALL_GIVEN_PREVIOUS_MOVES = {'call':['bet small','bet medium','bet large','fold'],}\n",
    "BET_MEDIUM_GIVEN_PREVIOUS_MOVES = {'bet medium':['StreetBegins','fold','check','call'],}\n",
    "BET_LARGE_GIVEN_PREVIOUS_MOVES = {'bet large':['StreetBegins','fold','check','call','bet small']}\n",
    "ALL_IN_GIVEN_PREVIOUS_MOVES = {'all-in':['StreetBegins','fold','check','call','bet small']}\n",
    "\n",
    "CHECK_GIVEN_PREVIOUS_MOVES"
   ]
  },
  {
   "cell_type": "code",
   "execution_count": 127,
   "metadata": {},
   "outputs": [
    {
     "data": {
      "text/plain": [
       "{'Bet Medium': ['Fold', 'Bet Large', 'All-In'],\n",
       " 'Bet Small': ['Fold', 'Call', 'Bet Medium', 'Bet Large', 'All-In'],\n",
       " 'Call': ['Fold', 'Bet Medium', 'Bet Large', 'All-In'],\n",
       " 'Check': ['Fold', 'Check', 'Bet Small', 'Bet Medium', 'Bet Large', 'All-In'],\n",
       " 'PRIOR BET': ['ALL POSSIBLE BETS AFTER PRIOR BET'],\n",
       " 'StreetBegins': ['Check', 'Bet Small', 'Bet Medium', 'Bet Large', 'All-In']}"
      ]
     },
     "execution_count": 127,
     "metadata": {},
     "output_type": "execute_result"
    }
   ],
   "source": [
    "Dictionary_Of_Possible_Bets = { 'PRIOR BET':['ALL POSSIBLE BETS AFTER PRIOR BET'],\n",
    "'StreetBegins' : ['Check','Bet Small','Bet Medium','Bet Large','All-In'],\n",
    "'Check': ['Fold','Check','Bet Small','Bet Medium','Bet Large','All-In'],                           \n",
    "'Bet Small' : ['Fold','Call','Bet Medium','Bet Large','All-In'],\n",
    "'Call' : ['Fold','Bet Medium','Bet Large','All-In'],\n",
    "'Bet Medium' : ['Fold','Bet Large','All-In']\n",
    "                                }\n",
    "Dictionary_Of_Possible_Bets\n",
    "                               \n"
   ]
  },
  {
   "cell_type": "code",
   "execution_count": 158,
   "metadata": {},
   "outputs": [
    {
     "data": {
      "text/plain": [
       "1"
      ]
     },
     "execution_count": 158,
     "metadata": {},
     "output_type": "execute_result"
    }
   ],
   "source": [
    "index = random.choice(range(len(Dictionary_Of_Possible_Bets)))\n",
    "index"
   ]
  },
  {
   "cell_type": "code",
   "execution_count": 163,
   "metadata": {},
   "outputs": [
    {
     "data": {
      "text/plain": [
       "[None, None, None, None, None, None, None, None, None, None]"
      ]
     },
     "execution_count": 163,
     "metadata": {},
     "output_type": "execute_result"
    }
   ],
   "source": [
    "d = dict.fromkeys(range(100))\n",
    "keys = random.sample(list(d), 10)\n",
    "keys\n",
    "[52, 3, 10, 92, 86, 42, 99, 73, 56, 23]\n",
    "values = [d[k] for k in keys]\n",
    "values"
   ]
  },
  {
   "cell_type": "code",
   "execution_count": 162,
   "metadata": {},
   "outputs": [
    {
     "ename": "TypeError",
     "evalue": "'dict_keys' object does not support indexing",
     "output_type": "error",
     "traceback": [
      "\u001b[0;31m---------------------------------------------------------------------------\u001b[0m",
      "\u001b[0;31mTypeError\u001b[0m                                 Traceback (most recent call last)",
      "\u001b[0;32m<ipython-input-162-c834fd64f835>\u001b[0m in \u001b[0;36m<module>\u001b[0;34m()\u001b[0m\n\u001b[0;32m----> 1\u001b[0;31m \u001b[0mrandom\u001b[0m\u001b[0;34m.\u001b[0m\u001b[0mchoice\u001b[0m\u001b[0;34m(\u001b[0m\u001b[0mDictionary_Of_Possible_Bets\u001b[0m\u001b[0;34m.\u001b[0m\u001b[0mkeys\u001b[0m\u001b[0;34m(\u001b[0m\u001b[0;34m)\u001b[0m\u001b[0;34m)\u001b[0m\u001b[0;34m\u001b[0m\u001b[0m\n\u001b[0m",
      "\u001b[0;32m~/anaconda3/lib/python3.6/random.py\u001b[0m in \u001b[0;36mchoice\u001b[0;34m(self, seq)\u001b[0m\n\u001b[1;32m    257\u001b[0m         \u001b[0;32mexcept\u001b[0m \u001b[0mValueError\u001b[0m\u001b[0;34m:\u001b[0m\u001b[0;34m\u001b[0m\u001b[0m\n\u001b[1;32m    258\u001b[0m             \u001b[0;32mraise\u001b[0m \u001b[0mIndexError\u001b[0m\u001b[0;34m(\u001b[0m\u001b[0;34m'Cannot choose from an empty sequence'\u001b[0m\u001b[0;34m)\u001b[0m \u001b[0;32mfrom\u001b[0m \u001b[0;32mNone\u001b[0m\u001b[0;34m\u001b[0m\u001b[0m\n\u001b[0;32m--> 259\u001b[0;31m         \u001b[0;32mreturn\u001b[0m \u001b[0mseq\u001b[0m\u001b[0;34m[\u001b[0m\u001b[0mi\u001b[0m\u001b[0;34m]\u001b[0m\u001b[0;34m\u001b[0m\u001b[0m\n\u001b[0m\u001b[1;32m    260\u001b[0m \u001b[0;34m\u001b[0m\u001b[0m\n\u001b[1;32m    261\u001b[0m     \u001b[0;32mdef\u001b[0m \u001b[0mshuffle\u001b[0m\u001b[0;34m(\u001b[0m\u001b[0mself\u001b[0m\u001b[0;34m,\u001b[0m \u001b[0mx\u001b[0m\u001b[0;34m,\u001b[0m \u001b[0mrandom\u001b[0m\u001b[0;34m=\u001b[0m\u001b[0;32mNone\u001b[0m\u001b[0;34m)\u001b[0m\u001b[0;34m:\u001b[0m\u001b[0;34m\u001b[0m\u001b[0m\n",
      "\u001b[0;31mTypeError\u001b[0m: 'dict_keys' object does not support indexing"
     ]
    }
   ],
   "source": [
    "random.choice(Dictionary_Of_Possible_Bets.keys())\n"
   ]
  },
  {
   "cell_type": "code",
   "execution_count": 142,
   "metadata": {},
   "outputs": [
    {
     "data": {
      "text/plain": [
       "'Bet Medium'"
      ]
     },
     "execution_count": 142,
     "metadata": {},
     "output_type": "execute_result"
    }
   ],
   "source": [
    "random_key = random.sample(list(Dictionary_Of_Possible_Bets), 2)[0]\n",
    "random_key"
   ]
  },
  {
   "cell_type": "code",
   "execution_count": 76,
   "metadata": {},
   "outputs": [
    {
     "data": {
      "text/plain": [
       "'call'"
      ]
     },
     "execution_count": 76,
     "metadata": {},
     "output_type": "execute_result"
    }
   ],
   "source": [
    "#FIRST MOVE\n",
    "\n",
    "def pick():\n",
    "      return random.choice(list(OPTIONAL_MOVES_PREVIOUS_POSSIBLE_MOVES))\n",
    "#     return random.choice(list(OPTIONAL_MOVES_GIVEN_PREVIOUS_MOVES.values()))\n",
    "FIRST_MOVE = pick()\n",
    "FIRST_MOVE"
   ]
  },
  {
   "cell_type": "code",
   "execution_count": 77,
   "metadata": {},
   "outputs": [
    {
     "data": {
      "text/plain": [
       "['bet small', 'bet medium', 'bet large', 'fold']"
      ]
     },
     "execution_count": 77,
     "metadata": {},
     "output_type": "execute_result"
    }
   ],
   "source": [
    "FIRST_MOVE_POSSIBLE_IF_PREVIOUS_MOVE_IS = OPTIONAL_MOVES_PREVIOUS_POSSIBLE_MOVES.get(FIRST_MOVE)\n",
    "FIRST_MOVE_POSSIBLE_IF_PREVIOUS_MOVE_IS"
   ]
  },
  {
   "cell_type": "code",
   "execution_count": 78,
   "metadata": {},
   "outputs": [],
   "source": [
    "# FIRST_MOVE_PREREQUISITES = OPTIONAL_MOVES_PREVIOUS_POSSIBLE_MOVES[CHOSEN_BET]\n",
    "# FIRST_MOVE_PREREQUISITES"
   ]
  },
  {
   "cell_type": "code",
   "execution_count": 79,
   "metadata": {},
   "outputs": [
    {
     "data": {
      "text/plain": [
       "'bet large'"
      ]
     },
     "execution_count": 79,
     "metadata": {},
     "output_type": "execute_result"
    }
   ],
   "source": [
    "#SECOND MOVE\n",
    "PREVIOUS_MOVE = FIRST_MOVE\n",
    "def pick():\n",
    "      return random.choice(list(OPTIONAL_MOVES_PREVIOUS_POSSIBLE_MOVES))\n",
    "#     return random.choice(list(OPTIONAL_MOVES_GIVEN_PREVIOUS_MOVES.values()))\n",
    "SECOND_MOVE = pick()\n",
    "SECOND_MOVE"
   ]
  },
  {
   "cell_type": "code",
   "execution_count": 80,
   "metadata": {},
   "outputs": [
    {
     "data": {
      "text/plain": [
       "['StreetBegins', 'fold', 'check', 'call', 'bet small']"
      ]
     },
     "execution_count": 80,
     "metadata": {},
     "output_type": "execute_result"
    }
   ],
   "source": [
    "SECOND_MOVE_POSSIBLE_IF_PREVIOUS_MOVE_IS = OPTIONAL_MOVES_PREVIOUS_POSSIBLE_MOVES.get(SECOND_MOVE)\n",
    "SECOND_MOVE_POSSIBLE_IF_PREVIOUS_MOVE_IS"
   ]
  },
  {
   "cell_type": "code",
   "execution_count": 81,
   "metadata": {},
   "outputs": [
    {
     "data": {
      "text/plain": [
       "True"
      ]
     },
     "execution_count": 81,
     "metadata": {},
     "output_type": "execute_result"
    }
   ],
   "source": [
    "FACTUALITY2 = PREVIOUS_MOVE in SECOND_MOVE_POSSIBLE_IF_PREVIOUS_MOVE_IS \n",
    "FACTUALITY2"
   ]
  },
  {
   "cell_type": "code",
   "execution_count": 82,
   "metadata": {},
   "outputs": [
    {
     "data": {
      "text/plain": [
       "'fold'"
      ]
     },
     "execution_count": 82,
     "metadata": {},
     "output_type": "execute_result"
    }
   ],
   "source": [
    "#THIRD MOVE\n",
    "PREVIOUS_MOVE = SECOND_MOVE\n",
    "def pick():\n",
    "      return random.choice(list(OPTIONAL_MOVES_PREVIOUS_POSSIBLE_MOVES))\n",
    "#     return random.choice(list(OPTIONAL_MOVES_GIVEN_PREVIOUS_MOVES.values()))\n",
    "THIRD_MOVE = pick()\n",
    "THIRD_MOVE"
   ]
  },
  {
   "cell_type": "code",
   "execution_count": 83,
   "metadata": {},
   "outputs": [],
   "source": [
    "THIRD_MOVE_POSSIBLE_IF_PREVIOUS_MOVE_IS_COLON = OPTIONAL_MOVES_PREVIOUS_POSSIBLE_MOVES.get(THIRD_MOVE)\n",
    "NEXT_MOVE_POSSIBLE_IF_PREVIOUS_MOVE_IS_COLON = THIRD_MOVE_POSSIBLE_IF_PREVIOUS_MOVE_IS_COLON"
   ]
  },
  {
   "cell_type": "code",
   "execution_count": 84,
   "metadata": {},
   "outputs": [
    {
     "data": {
      "text/plain": [
       "False"
      ]
     },
     "execution_count": 84,
     "metadata": {},
     "output_type": "execute_result"
    }
   ],
   "source": [
    "FACTUALITY3 = PREVIOUS_MOVE in SECOND_MOVE_POSSIBLE_IF_PREVIOUS_MOVE_IS \n",
    "FACTUALITY3"
   ]
  },
  {
   "cell_type": "code",
   "execution_count": null,
   "metadata": {},
   "outputs": [],
   "source": []
  },
  {
   "cell_type": "code",
   "execution_count": 85,
   "metadata": {},
   "outputs": [
    {
     "data": {
      "text/plain": [
       "False"
      ]
     },
     "execution_count": 85,
     "metadata": {},
     "output_type": "execute_result"
    }
   ],
   "source": [
    "#NUMBER OF THIS MOVE\n",
    "for x in range(70):\n",
    "    PREVIOUS_MOVE == 0 + x\n",
    "def pick():\n",
    "    return random.choice(list(OPTIONAL_MOVES_PREVIOUS_POSSIBLE_MOVES))\n",
    "NEXT_MOVE = pick()\n",
    "NEXT_MOVE\n",
    "NEXT_MOVE_POSSIBLE_IF_PREVIOUS_MOVE_IS_COLON = OPTIONAL_MOVES_PREVIOUS_POSSIBLE_MOVES.get(NEXT_MOVE)\n",
    "\n",
    "NEXT_MOVE_POSSIBLE_IF_PREVIOUS_MOVE_IS_COLON\n",
    "\n",
    "FACTUALITY = PREVIOUS_MOVE in SECOND_MOVE_POSSIBLE_IF_PREVIOUS_MOVE_IS\n",
    "FACTUALITY"
   ]
  },
  {
   "cell_type": "code",
   "execution_count": null,
   "metadata": {},
   "outputs": [],
   "source": []
  },
  {
   "cell_type": "code",
   "execution_count": 86,
   "metadata": {},
   "outputs": [
    {
     "ename": "NameError",
     "evalue": "name 'OPTIONAL_MOVES_GIVEN_PREVIOUS_MOVES' is not defined",
     "output_type": "error",
     "traceback": [
      "\u001b[0;31m---------------------------------------------------------------------------\u001b[0m",
      "\u001b[0;31mNameError\u001b[0m                                 Traceback (most recent call last)",
      "\u001b[0;32m<ipython-input-86-b0d9ba4aa063>\u001b[0m in \u001b[0;36m<module>\u001b[0;34m()\u001b[0m\n\u001b[1;32m      1\u001b[0m \u001b[0;32mdef\u001b[0m \u001b[0mpick\u001b[0m\u001b[0;34m(\u001b[0m\u001b[0;34m)\u001b[0m\u001b[0;34m:\u001b[0m\u001b[0;34m\u001b[0m\u001b[0m\n\u001b[1;32m      2\u001b[0m       \u001b[0;32mreturn\u001b[0m \u001b[0mrandom\u001b[0m\u001b[0;34m.\u001b[0m\u001b[0mchoice\u001b[0m\u001b[0;34m(\u001b[0m\u001b[0mlist\u001b[0m\u001b[0;34m(\u001b[0m\u001b[0mOPTIONAL_MOVES_GIVEN_PREVIOUS_MOVES\u001b[0m\u001b[0;34m)\u001b[0m\u001b[0;34m)\u001b[0m\u001b[0;34m\u001b[0m\u001b[0m\n\u001b[0;32m----> 3\u001b[0;31m \u001b[0mCHOSEN_BET_2\u001b[0m \u001b[0;34m=\u001b[0m \u001b[0mpick\u001b[0m\u001b[0;34m(\u001b[0m\u001b[0;34m)\u001b[0m\u001b[0;34m\u001b[0m\u001b[0m\n\u001b[0m",
      "\u001b[0;32m<ipython-input-86-b0d9ba4aa063>\u001b[0m in \u001b[0;36mpick\u001b[0;34m()\u001b[0m\n\u001b[1;32m      1\u001b[0m \u001b[0;32mdef\u001b[0m \u001b[0mpick\u001b[0m\u001b[0;34m(\u001b[0m\u001b[0;34m)\u001b[0m\u001b[0;34m:\u001b[0m\u001b[0;34m\u001b[0m\u001b[0m\n\u001b[0;32m----> 2\u001b[0;31m       \u001b[0;32mreturn\u001b[0m \u001b[0mrandom\u001b[0m\u001b[0;34m.\u001b[0m\u001b[0mchoice\u001b[0m\u001b[0;34m(\u001b[0m\u001b[0mlist\u001b[0m\u001b[0;34m(\u001b[0m\u001b[0mOPTIONAL_MOVES_GIVEN_PREVIOUS_MOVES\u001b[0m\u001b[0;34m)\u001b[0m\u001b[0;34m)\u001b[0m\u001b[0;34m\u001b[0m\u001b[0m\n\u001b[0m\u001b[1;32m      3\u001b[0m \u001b[0mCHOSEN_BET_2\u001b[0m \u001b[0;34m=\u001b[0m \u001b[0mpick\u001b[0m\u001b[0;34m(\u001b[0m\u001b[0;34m)\u001b[0m\u001b[0;34m\u001b[0m\u001b[0m\n",
      "\u001b[0;31mNameError\u001b[0m: name 'OPTIONAL_MOVES_GIVEN_PREVIOUS_MOVES' is not defined"
     ]
    }
   ],
   "source": [
    "def pick():\n",
    "      return random.choice(list(OPTIONAL_MOVES_GIVEN_PREVIOUS_MOVES))\n",
    "CHOSEN_BET_2 = pick()\n"
   ]
  },
  {
   "cell_type": "code",
   "execution_count": 87,
   "metadata": {},
   "outputs": [
    {
     "ename": "NameError",
     "evalue": "name 'CHOSEN_BET_2' is not defined",
     "output_type": "error",
     "traceback": [
      "\u001b[0;31m---------------------------------------------------------------------------\u001b[0m",
      "\u001b[0;31mNameError\u001b[0m                                 Traceback (most recent call last)",
      "\u001b[0;32m<ipython-input-87-8da80d22da29>\u001b[0m in \u001b[0;36m<module>\u001b[0;34m()\u001b[0m\n\u001b[0;32m----> 1\u001b[0;31m \u001b[0mCHOSEN_BET_2\u001b[0m\u001b[0;34m\u001b[0m\u001b[0m\n\u001b[0m",
      "\u001b[0;31mNameError\u001b[0m: name 'CHOSEN_BET_2' is not defined"
     ]
    }
   ],
   "source": [
    "CHOSEN_BET_2\n"
   ]
  },
  {
   "cell_type": "code",
   "execution_count": 88,
   "metadata": {},
   "outputs": [
    {
     "ename": "NameError",
     "evalue": "name 'BETTING_LIST' is not defined",
     "output_type": "error",
     "traceback": [
      "\u001b[0;31m---------------------------------------------------------------------------\u001b[0m",
      "\u001b[0;31mNameError\u001b[0m                                 Traceback (most recent call last)",
      "\u001b[0;32m<ipython-input-88-942dd8d6a106>\u001b[0m in \u001b[0;36m<module>\u001b[0;34m()\u001b[0m\n\u001b[0;32m----> 1\u001b[0;31m \u001b[0mBETTING_LIST\u001b[0m\u001b[0;34m\u001b[0m\u001b[0m\n\u001b[0m",
      "\u001b[0;31mNameError\u001b[0m: name 'BETTING_LIST' is not defined"
     ]
    }
   ],
   "source": [
    "BETTING_LIST"
   ]
  },
  {
   "cell_type": "code",
   "execution_count": 89,
   "metadata": {},
   "outputs": [
    {
     "ename": "NameError",
     "evalue": "name 'CHOSEN_BET_2' is not defined",
     "output_type": "error",
     "traceback": [
      "\u001b[0;31m---------------------------------------------------------------------------\u001b[0m",
      "\u001b[0;31mNameError\u001b[0m                                 Traceback (most recent call last)",
      "\u001b[0;32m<ipython-input-89-0b462070d9f5>\u001b[0m in \u001b[0;36m<module>\u001b[0;34m()\u001b[0m\n\u001b[0;32m----> 1\u001b[0;31m \u001b[0;32mfor\u001b[0m \u001b[0mstring\u001b[0m \u001b[0;32min\u001b[0m \u001b[0mCHOSEN_BET_2\u001b[0m\u001b[0;34m:\u001b[0m\u001b[0;34m\u001b[0m\u001b[0m\n\u001b[0m\u001b[1;32m      2\u001b[0m     \u001b[0mBETTING_LIST\u001b[0m\u001b[0;34m.\u001b[0m\u001b[0mappend\u001b[0m\u001b[0;34m(\u001b[0m\u001b[0mCHOSEN_BET_2\u001b[0m\u001b[0;34m)\u001b[0m\u001b[0;34m\u001b[0m\u001b[0m\n\u001b[1;32m      3\u001b[0m \u001b[0;34m\u001b[0m\u001b[0m\n\u001b[1;32m      4\u001b[0m \u001b[0mBETTING_LIST\u001b[0m\u001b[0;34m\u001b[0m\u001b[0m\n",
      "\u001b[0;31mNameError\u001b[0m: name 'CHOSEN_BET_2' is not defined"
     ]
    }
   ],
   "source": [
    "for string in CHOSEN_BET_2:\n",
    "    BETTING_LIST.append(CHOSEN_BET_2)\n",
    "\n",
    "BETTING_LIST"
   ]
  },
  {
   "cell_type": "code",
   "execution_count": 90,
   "metadata": {},
   "outputs": [
    {
     "ename": "NameError",
     "evalue": "name 'OPTIONAL_MOVES_GIVEN_PREVIOUS_MOVES' is not defined",
     "output_type": "error",
     "traceback": [
      "\u001b[0;31m---------------------------------------------------------------------------\u001b[0m",
      "\u001b[0;31mNameError\u001b[0m                                 Traceback (most recent call last)",
      "\u001b[0;32m<ipython-input-90-711fe13bca24>\u001b[0m in \u001b[0;36m<module>\u001b[0;34m()\u001b[0m\n\u001b[1;32m      1\u001b[0m \u001b[0;34m\u001b[0m\u001b[0m\n\u001b[0;32m----> 2\u001b[0;31m \u001b[0mCHOSEN_BET_2_PREREQUISITES\u001b[0m \u001b[0;34m=\u001b[0m \u001b[0mOPTIONAL_MOVES_GIVEN_PREVIOUS_MOVES\u001b[0m\u001b[0;34m[\u001b[0m\u001b[0mCHOSEN_BET_2\u001b[0m\u001b[0;34m]\u001b[0m\u001b[0;34m\u001b[0m\u001b[0m\n\u001b[0m\u001b[1;32m      3\u001b[0m \u001b[0mprint\u001b[0m\u001b[0;34m(\u001b[0m\u001b[0mCHOSEN_BET_2_PREREQUISITES\u001b[0m\u001b[0;34m)\u001b[0m\u001b[0;34m\u001b[0m\u001b[0m\n",
      "\u001b[0;31mNameError\u001b[0m: name 'OPTIONAL_MOVES_GIVEN_PREVIOUS_MOVES' is not defined"
     ]
    }
   ],
   "source": [
    "\n",
    "CHOSEN_BET_2_PREREQUISITES = OPTIONAL_MOVES_GIVEN_PREVIOUS_MOVES[CHOSEN_BET_2]\n",
    "print(CHOSEN_BET_2_PREREQUISITES)"
   ]
  },
  {
   "cell_type": "code",
   "execution_count": 91,
   "metadata": {},
   "outputs": [
    {
     "ename": "NameError",
     "evalue": "name 'BETTING_LIST' is not defined",
     "output_type": "error",
     "traceback": [
      "\u001b[0;31m---------------------------------------------------------------------------\u001b[0m",
      "\u001b[0;31mNameError\u001b[0m                                 Traceback (most recent call last)",
      "\u001b[0;32m<ipython-input-91-942dd8d6a106>\u001b[0m in \u001b[0;36m<module>\u001b[0;34m()\u001b[0m\n\u001b[0;32m----> 1\u001b[0;31m \u001b[0mBETTING_LIST\u001b[0m\u001b[0;34m\u001b[0m\u001b[0m\n\u001b[0m",
      "\u001b[0;31mNameError\u001b[0m: name 'BETTING_LIST' is not defined"
     ]
    }
   ],
   "source": [
    "BETTING_LIST"
   ]
  },
  {
   "cell_type": "code",
   "execution_count": 92,
   "metadata": {},
   "outputs": [
    {
     "ename": "NameError",
     "evalue": "name 'OPTIONAL_MOVES_GIVEN_PREVIOUS_MOVES' is not defined",
     "output_type": "error",
     "traceback": [
      "\u001b[0;31m---------------------------------------------------------------------------\u001b[0m",
      "\u001b[0;31mNameError\u001b[0m                                 Traceback (most recent call last)",
      "\u001b[0;32m<ipython-input-92-0c285eab60fb>\u001b[0m in \u001b[0;36m<module>\u001b[0;34m()\u001b[0m\n\u001b[1;32m      3\u001b[0m \u001b[0;32mdef\u001b[0m \u001b[0mpick\u001b[0m\u001b[0;34m(\u001b[0m\u001b[0;34m)\u001b[0m\u001b[0;34m:\u001b[0m\u001b[0;34m\u001b[0m\u001b[0m\n\u001b[1;32m      4\u001b[0m       \u001b[0;32mreturn\u001b[0m \u001b[0mrandom\u001b[0m\u001b[0;34m.\u001b[0m\u001b[0mchoice\u001b[0m\u001b[0;34m(\u001b[0m\u001b[0mlist\u001b[0m\u001b[0;34m(\u001b[0m\u001b[0mOPTIONAL_MOVES_GIVEN_PREVIOUS_MOVES\u001b[0m\u001b[0;34m)\u001b[0m\u001b[0;34m)\u001b[0m\u001b[0;34m\u001b[0m\u001b[0m\n\u001b[0;32m----> 5\u001b[0;31m \u001b[0mCHOSEN_BET_3\u001b[0m \u001b[0;34m=\u001b[0m \u001b[0mpick\u001b[0m\u001b[0;34m(\u001b[0m\u001b[0;34m)\u001b[0m\u001b[0;34m\u001b[0m\u001b[0m\n\u001b[0m\u001b[1;32m      6\u001b[0m \u001b[0mBETTING_LIST\u001b[0m \u001b[0;34m=\u001b[0m \u001b[0mBETTING_LIST\u001b[0m\u001b[0;34m.\u001b[0m\u001b[0mappend\u001b[0m\u001b[0;34m(\u001b[0m\u001b[0mCHOSEN_BET_3\u001b[0m\u001b[0;34m)\u001b[0m\u001b[0;34m\u001b[0m\u001b[0m\n\u001b[1;32m      7\u001b[0m \u001b[0mprint\u001b[0m\u001b[0;34m(\u001b[0m\u001b[0mBETTING_LIST\u001b[0m\u001b[0;34m)\u001b[0m\u001b[0;34m\u001b[0m\u001b[0m\n",
      "\u001b[0;32m<ipython-input-92-0c285eab60fb>\u001b[0m in \u001b[0;36mpick\u001b[0;34m()\u001b[0m\n\u001b[1;32m      2\u001b[0m \u001b[0;34m\u001b[0m\u001b[0m\n\u001b[1;32m      3\u001b[0m \u001b[0;32mdef\u001b[0m \u001b[0mpick\u001b[0m\u001b[0;34m(\u001b[0m\u001b[0;34m)\u001b[0m\u001b[0;34m:\u001b[0m\u001b[0;34m\u001b[0m\u001b[0m\n\u001b[0;32m----> 4\u001b[0;31m       \u001b[0;32mreturn\u001b[0m \u001b[0mrandom\u001b[0m\u001b[0;34m.\u001b[0m\u001b[0mchoice\u001b[0m\u001b[0;34m(\u001b[0m\u001b[0mlist\u001b[0m\u001b[0;34m(\u001b[0m\u001b[0mOPTIONAL_MOVES_GIVEN_PREVIOUS_MOVES\u001b[0m\u001b[0;34m)\u001b[0m\u001b[0;34m)\u001b[0m\u001b[0;34m\u001b[0m\u001b[0m\n\u001b[0m\u001b[1;32m      5\u001b[0m \u001b[0mCHOSEN_BET_3\u001b[0m \u001b[0;34m=\u001b[0m \u001b[0mpick\u001b[0m\u001b[0;34m(\u001b[0m\u001b[0;34m)\u001b[0m\u001b[0;34m\u001b[0m\u001b[0m\n\u001b[1;32m      6\u001b[0m \u001b[0mBETTING_LIST\u001b[0m \u001b[0;34m=\u001b[0m \u001b[0mBETTING_LIST\u001b[0m\u001b[0;34m.\u001b[0m\u001b[0mappend\u001b[0m\u001b[0;34m(\u001b[0m\u001b[0mCHOSEN_BET_3\u001b[0m\u001b[0;34m)\u001b[0m\u001b[0;34m\u001b[0m\u001b[0m\n",
      "\u001b[0;31mNameError\u001b[0m: name 'OPTIONAL_MOVES_GIVEN_PREVIOUS_MOVES' is not defined"
     ]
    }
   ],
   "source": [
    "#THIRD MOVE\n",
    "\n",
    "def pick():\n",
    "      return random.choice(list(OPTIONAL_MOVES_GIVEN_PREVIOUS_MOVES))\n",
    "CHOSEN_BET_3 = pick()\n",
    "BETTING_LIST = BETTING_LIST.append(CHOSEN_BET_3)\n",
    "print(BETTING_LIST)\n",
    "\n",
    "CHOSEN_BET_3_PREREQUISITES = OPTIONAL_MOVES_GIVEN_PREVIOUS_MOVES[CHOSEN_BET_3]\n",
    "print(CHOSEN_BET_3_PREREQUISITES)"
   ]
  },
  {
   "cell_type": "code",
   "execution_count": 93,
   "metadata": {},
   "outputs": [
    {
     "ename": "NameError",
     "evalue": "name 'OPTIONAL_MOVES_GIVEN_PREVIOUS_MOVES' is not defined",
     "output_type": "error",
     "traceback": [
      "\u001b[0;31m---------------------------------------------------------------------------\u001b[0m",
      "\u001b[0;31mNameError\u001b[0m                                 Traceback (most recent call last)",
      "\u001b[0;32m<ipython-input-93-d5352d0763ba>\u001b[0m in \u001b[0;36m<module>\u001b[0;34m()\u001b[0m\n\u001b[1;32m      1\u001b[0m \u001b[0;31m#FIRST MOVE PLUS PREREQUISITES\u001b[0m\u001b[0;34m\u001b[0m\u001b[0;34m\u001b[0m\u001b[0m\n\u001b[0;32m----> 2\u001b[0;31m \u001b[0;32mfor\u001b[0m \u001b[0mvalue\u001b[0m \u001b[0;32min\u001b[0m \u001b[0mOPTIONAL_MOVES_GIVEN_PREVIOUS_MOVES\u001b[0m\u001b[0;34m:\u001b[0m\u001b[0;34m\u001b[0m\u001b[0m\n\u001b[0m\u001b[1;32m      3\u001b[0m     \u001b[0;32mif\u001b[0m \u001b[0mCHOSEN_BET\u001b[0m \u001b[0;32min\u001b[0m \u001b[0mvalue\u001b[0m\u001b[0;34m:\u001b[0m\u001b[0;34m\u001b[0m\u001b[0m\n\u001b[1;32m      4\u001b[0m         \u001b[0mprint\u001b[0m\u001b[0;34m(\u001b[0m\u001b[0mkey\u001b[0m\u001b[0;34m,\u001b[0m \u001b[0mOPTIONAL_MOVES_GIVEN_PREVIOUS_MOVES\u001b[0m\u001b[0;34m[\u001b[0m\u001b[0mkey\u001b[0m\u001b[0;34m]\u001b[0m\u001b[0;34m)\u001b[0m\u001b[0;34m\u001b[0m\u001b[0m\n\u001b[1;32m      5\u001b[0m         \u001b[0mOPTIONAL_MOVES_GIVEN_PREVIOUS_MOVES\u001b[0m\u001b[0;34m[\u001b[0m\u001b[0mkey\u001b[0m\u001b[0;34m]\u001b[0m \u001b[0;34m=\u001b[0m \u001b[0mOPTIONAL_MOVES_GIVEN_PREVIOUS_MOVES\u001b[0m\u001b[0;34m[\u001b[0m\u001b[0mkey\u001b[0m\u001b[0;34m]\u001b[0m\u001b[0;34m\u001b[0m\u001b[0m\n",
      "\u001b[0;31mNameError\u001b[0m: name 'OPTIONAL_MOVES_GIVEN_PREVIOUS_MOVES' is not defined"
     ]
    }
   ],
   "source": [
    "#FIRST MOVE PLUS PREREQUISITES\n",
    "for value in OPTIONAL_MOVES_GIVEN_PREVIOUS_MOVES:\n",
    "    if CHOSEN_BET in value:\n",
    "        print(key, OPTIONAL_MOVES_GIVEN_PREVIOUS_MOVES[key])\n",
    "        OPTIONAL_MOVES_GIVEN_PREVIOUS_MOVES[key] = OPTIONAL_MOVES_GIVEN_PREVIOUS_MOVES[key]\n",
    "        \n"
   ]
  },
  {
   "cell_type": "code",
   "execution_count": 94,
   "metadata": {},
   "outputs": [],
   "source": [
    "#DELETE DICTIONARY ITEM IF PREREQUISITE IS NOT IN PREVIOUS DICTIONARY KEY\n"
   ]
  },
  {
   "cell_type": "code",
   "execution_count": 95,
   "metadata": {},
   "outputs": [
    {
     "ename": "NameError",
     "evalue": "name 'OPTIONAL_MOVES_GIVEN_PREVIOUS_MOVES' is not defined",
     "output_type": "error",
     "traceback": [
      "\u001b[0;31m---------------------------------------------------------------------------\u001b[0m",
      "\u001b[0;31mNameError\u001b[0m                                 Traceback (most recent call last)",
      "\u001b[0;32m<ipython-input-95-775a85621690>\u001b[0m in \u001b[0;36m<module>\u001b[0;34m()\u001b[0m\n\u001b[0;32m----> 1\u001b[0;31m \u001b[0mOPTIONAL_MOVES_GIVEN_PREVIOUS_MOVES\u001b[0m\u001b[0;34m\u001b[0m\u001b[0m\n\u001b[0m",
      "\u001b[0;31mNameError\u001b[0m: name 'OPTIONAL_MOVES_GIVEN_PREVIOUS_MOVES' is not defined"
     ]
    }
   ],
   "source": [
    "OPTIONAL_MOVES_GIVEN_PREVIOUS_MOVES"
   ]
  },
  {
   "cell_type": "code",
   "execution_count": 96,
   "metadata": {},
   "outputs": [
    {
     "ename": "NameError",
     "evalue": "name 'OPTIONAL_MOVES_GIVEN_PREVIOUS_MOVES' is not defined",
     "output_type": "error",
     "traceback": [
      "\u001b[0;31m---------------------------------------------------------------------------\u001b[0m",
      "\u001b[0;31mNameError\u001b[0m                                 Traceback (most recent call last)",
      "\u001b[0;32m<ipython-input-96-92b6a051f774>\u001b[0m in \u001b[0;36m<module>\u001b[0;34m()\u001b[0m\n\u001b[0;32m----> 1\u001b[0;31m \u001b[0mFirst_Move\u001b[0m\u001b[0;34m,\u001b[0m \u001b[0mPrerequisites\u001b[0m \u001b[0;34m=\u001b[0m \u001b[0mrandom\u001b[0m\u001b[0;34m.\u001b[0m\u001b[0mchoice\u001b[0m\u001b[0;34m(\u001b[0m\u001b[0mlist\u001b[0m\u001b[0;34m(\u001b[0m\u001b[0mOPTIONAL_MOVES_GIVEN_PREVIOUS_MOVES\u001b[0m\u001b[0;34m.\u001b[0m\u001b[0mitems\u001b[0m\u001b[0;34m(\u001b[0m\u001b[0;34m)\u001b[0m\u001b[0;34m)\u001b[0m\u001b[0;34m)\u001b[0m\u001b[0;34m\u001b[0m\u001b[0m\n\u001b[0m\u001b[1;32m      2\u001b[0m \u001b[0mFirst_Move\u001b[0m\u001b[0;34m,\u001b[0m \u001b[0mPrerequisites\u001b[0m\u001b[0;34m\u001b[0m\u001b[0m\n",
      "\u001b[0;31mNameError\u001b[0m: name 'OPTIONAL_MOVES_GIVEN_PREVIOUS_MOVES' is not defined"
     ]
    }
   ],
   "source": [
    "First_Move, Prerequisites = random.choice(list(OPTIONAL_MOVES_GIVEN_PREVIOUS_MOVES.items()))\n",
    "First_Move, Prerequisites"
   ]
  },
  {
   "cell_type": "code",
   "execution_count": 97,
   "metadata": {
    "scrolled": true
   },
   "outputs": [
    {
     "ename": "NameError",
     "evalue": "name 'OPTIONAL_MOVES_GIVEN_PREVIOUS_MOVES' is not defined",
     "output_type": "error",
     "traceback": [
      "\u001b[0;31m---------------------------------------------------------------------------\u001b[0m",
      "\u001b[0;31mNameError\u001b[0m                                 Traceback (most recent call last)",
      "\u001b[0;32m<ipython-input-97-5d4e9a7cb289>\u001b[0m in \u001b[0;36m<module>\u001b[0;34m()\u001b[0m\n\u001b[0;32m----> 1\u001b[0;31m \u001b[0mTOTAL_OF_ALL_OPPONENT_ACTIONS\u001b[0m \u001b[0;34m=\u001b[0m \u001b[0mchoices\u001b[0m\u001b[0;34m(\u001b[0m\u001b[0mlist\u001b[0m\u001b[0;34m(\u001b[0m\u001b[0mOPTIONAL_MOVES_GIVEN_PREVIOUS_MOVES\u001b[0m\u001b[0;34m.\u001b[0m\u001b[0mitems\u001b[0m\u001b[0;34m(\u001b[0m\u001b[0;34m)\u001b[0m\u001b[0;34m)\u001b[0m\u001b[0;34m,\u001b[0m \u001b[0mk\u001b[0m\u001b[0;34m=\u001b[0m\u001b[0;36m77\u001b[0m\u001b[0;34m)\u001b[0m\u001b[0;34m\u001b[0m\u001b[0m\n\u001b[0m\u001b[1;32m      2\u001b[0m \u001b[0mTOTAL_OF_ALL_OPPONENT_ACTIONS\u001b[0m\u001b[0;34m\u001b[0m\u001b[0m\n",
      "\u001b[0;31mNameError\u001b[0m: name 'OPTIONAL_MOVES_GIVEN_PREVIOUS_MOVES' is not defined"
     ]
    }
   ],
   "source": [
    "TOTAL_OF_ALL_OPPONENT_ACTIONS = choices(list(OPTIONAL_MOVES_GIVEN_PREVIOUS_MOVES.items()), k=77)\n",
    "TOTAL_OF_ALL_OPPONENT_ACTIONS"
   ]
  },
  {
   "cell_type": "code",
   "execution_count": null,
   "metadata": {},
   "outputs": [],
   "source": []
  },
  {
   "cell_type": "code",
   "execution_count": null,
   "metadata": {},
   "outputs": [],
   "source": []
  },
  {
   "cell_type": "code",
   "execution_count": 98,
   "metadata": {
    "scrolled": true
   },
   "outputs": [
    {
     "ename": "NameError",
     "evalue": "name 'TOTAL_OF_ALL_OPPONENT_ACTIONS' is not defined",
     "output_type": "error",
     "traceback": [
      "\u001b[0;31m---------------------------------------------------------------------------\u001b[0m",
      "\u001b[0;31mNameError\u001b[0m                                 Traceback (most recent call last)",
      "\u001b[0;32m<ipython-input-98-63adc4911d48>\u001b[0m in \u001b[0;36m<module>\u001b[0;34m()\u001b[0m\n\u001b[0;32m----> 1\u001b[0;31m \u001b[0mTOTAL_OF_ALL_OPPONENT_ACTIONS\u001b[0m\u001b[0;34m.\u001b[0m\u001b[0minsert\u001b[0m\u001b[0;34m(\u001b[0m\u001b[0;36m0\u001b[0m\u001b[0;34m,\u001b[0m\u001b[0;34m(\u001b[0m\u001b[0;34m'StreetBegins'\u001b[0m\u001b[0;34m,\u001b[0m\u001b[0;34m'NewStreet'\u001b[0m\u001b[0;34m)\u001b[0m\u001b[0;34m)\u001b[0m\u001b[0;34m\u001b[0m\u001b[0m\n\u001b[0m\u001b[1;32m      2\u001b[0m \u001b[0mTOTAL_OF_ALL_OPPONENT_ACTIONS\u001b[0m\u001b[0;34m\u001b[0m\u001b[0m\n",
      "\u001b[0;31mNameError\u001b[0m: name 'TOTAL_OF_ALL_OPPONENT_ACTIONS' is not defined"
     ]
    }
   ],
   "source": [
    "TOTAL_OF_ALL_OPPONENT_ACTIONS.insert(0,('StreetBegins','NewStreet'))\n",
    "TOTAL_OF_ALL_OPPONENT_ACTIONS"
   ]
  },
  {
   "cell_type": "code",
   "execution_count": 99,
   "metadata": {},
   "outputs": [
    {
     "ename": "NameError",
     "evalue": "name 'TOTAL_OF_ALL_OPPONENT_ACTIONS' is not defined",
     "output_type": "error",
     "traceback": [
      "\u001b[0;31m---------------------------------------------------------------------------\u001b[0m",
      "\u001b[0;31mNameError\u001b[0m                                 Traceback (most recent call last)",
      "\u001b[0;32m<ipython-input-99-d68ae3fca215>\u001b[0m in \u001b[0;36m<module>\u001b[0;34m()\u001b[0m\n\u001b[0;32m----> 1\u001b[0;31m \u001b[0mTOTAL_OF_ALL_OPPONENT_ACTIONS\u001b[0m\u001b[0;34m[\u001b[0m\u001b[0;36m0\u001b[0m\u001b[0;34m:\u001b[0m\u001b[0;36m3\u001b[0m\u001b[0;34m]\u001b[0m\u001b[0;34m\u001b[0m\u001b[0m\n\u001b[0m",
      "\u001b[0;31mNameError\u001b[0m: name 'TOTAL_OF_ALL_OPPONENT_ACTIONS' is not defined"
     ]
    }
   ],
   "source": [
    "TOTAL_OF_ALL_OPPONENT_ACTIONS[0:3]"
   ]
  },
  {
   "cell_type": "code",
   "execution_count": 100,
   "metadata": {},
   "outputs": [
    {
     "ename": "NameError",
     "evalue": "name 'TOTAL_OF_ALL_OPPONENT_ACTIONS' is not defined",
     "output_type": "error",
     "traceback": [
      "\u001b[0;31m---------------------------------------------------------------------------\u001b[0m",
      "\u001b[0;31mNameError\u001b[0m                                 Traceback (most recent call last)",
      "\u001b[0;32m<ipython-input-100-343c129288be>\u001b[0m in \u001b[0;36m<module>\u001b[0;34m()\u001b[0m\n\u001b[0;32m----> 1\u001b[0;31m \u001b[0mTOTAL_OF_ALL_OPPONENT_ACTIONS\u001b[0m\u001b[0;34m[\u001b[0m\u001b[0;36m0\u001b[0m\u001b[0;34m]\u001b[0m\u001b[0;34m\u001b[0m\u001b[0m\n\u001b[0m",
      "\u001b[0;31mNameError\u001b[0m: name 'TOTAL_OF_ALL_OPPONENT_ACTIONS' is not defined"
     ]
    }
   ],
   "source": [
    "TOTAL_OF_ALL_OPPONENT_ACTIONS[0]"
   ]
  },
  {
   "cell_type": "code",
   "execution_count": 101,
   "metadata": {},
   "outputs": [
    {
     "ename": "NameError",
     "evalue": "name 'TOTAL_OF_ALL_OPPONENT_ACTIONS' is not defined",
     "output_type": "error",
     "traceback": [
      "\u001b[0;31m---------------------------------------------------------------------------\u001b[0m",
      "\u001b[0;31mNameError\u001b[0m                                 Traceback (most recent call last)",
      "\u001b[0;32m<ipython-input-101-ee97c7aed95c>\u001b[0m in \u001b[0;36m<module>\u001b[0;34m()\u001b[0m\n\u001b[0;32m----> 1\u001b[0;31m \u001b[0mTOTAL_OF_ALL_OPPONENT_ACTIONS\u001b[0m\u001b[0;34m[\u001b[0m\u001b[0;36m1\u001b[0m\u001b[0;34m]\u001b[0m\u001b[0;34m\u001b[0m\u001b[0m\n\u001b[0m",
      "\u001b[0;31mNameError\u001b[0m: name 'TOTAL_OF_ALL_OPPONENT_ACTIONS' is not defined"
     ]
    }
   ],
   "source": [
    "TOTAL_OF_ALL_OPPONENT_ACTIONS[1]"
   ]
  },
  {
   "cell_type": "code",
   "execution_count": 102,
   "metadata": {},
   "outputs": [
    {
     "ename": "NameError",
     "evalue": "name 'TOTAL_OF_ALL_OPPONENT_ACTIONS' is not defined",
     "output_type": "error",
     "traceback": [
      "\u001b[0;31m---------------------------------------------------------------------------\u001b[0m",
      "\u001b[0;31mNameError\u001b[0m                                 Traceback (most recent call last)",
      "\u001b[0;32m<ipython-input-102-31b5690892e6>\u001b[0m in \u001b[0;36m<module>\u001b[0;34m()\u001b[0m\n\u001b[0;32m----> 1\u001b[0;31m \u001b[0mTOTAL_OF_ALL_OPPONENT_ACTIONS\u001b[0m\u001b[0;34m[\u001b[0m\u001b[0;36m1\u001b[0m\u001b[0;34m]\u001b[0m\u001b[0;34m[\u001b[0m\u001b[0;36m1\u001b[0m\u001b[0;34m]\u001b[0m\u001b[0;34m[\u001b[0m\u001b[0;36m0\u001b[0m\u001b[0;34m]\u001b[0m\u001b[0;34m\u001b[0m\u001b[0m\n\u001b[0m",
      "\u001b[0;31mNameError\u001b[0m: name 'TOTAL_OF_ALL_OPPONENT_ACTIONS' is not defined"
     ]
    }
   ],
   "source": [
    "TOTAL_OF_ALL_OPPONENT_ACTIONS[1][1][0]\n"
   ]
  },
  {
   "cell_type": "code",
   "execution_count": 103,
   "metadata": {},
   "outputs": [
    {
     "ename": "NameError",
     "evalue": "name 'TOTAL_OF_ALL_OPPONENT_ACTIONS' is not defined",
     "output_type": "error",
     "traceback": [
      "\u001b[0;31m---------------------------------------------------------------------------\u001b[0m",
      "\u001b[0;31mNameError\u001b[0m                                 Traceback (most recent call last)",
      "\u001b[0;32m<ipython-input-103-78e34523d60a>\u001b[0m in \u001b[0;36m<module>\u001b[0;34m()\u001b[0m\n\u001b[0;32m----> 1\u001b[0;31m \u001b[0mTOTAL_OF_ALL_OPPONENT_ACTIONS\u001b[0m\u001b[0;34m[\u001b[0m\u001b[0;36m1\u001b[0m\u001b[0;34m]\u001b[0m\u001b[0;34m[\u001b[0m\u001b[0;36m1\u001b[0m\u001b[0;34m]\u001b[0m\u001b[0;34m[\u001b[0m\u001b[0;36m1\u001b[0m\u001b[0;34m]\u001b[0m \u001b[0;32min\u001b[0m \u001b[0mTOTAL_OF_ALL_OPPONENT_ACTIONS\u001b[0m\u001b[0;34m[\u001b[0m\u001b[0;36m0\u001b[0m\u001b[0;34m]\u001b[0m\u001b[0;34m\u001b[0m\u001b[0m\n\u001b[0m",
      "\u001b[0;31mNameError\u001b[0m: name 'TOTAL_OF_ALL_OPPONENT_ACTIONS' is not defined"
     ]
    }
   ],
   "source": [
    "TOTAL_OF_ALL_OPPONENT_ACTIONS[1][1][1] in TOTAL_OF_ALL_OPPONENT_ACTIONS[0]"
   ]
  },
  {
   "cell_type": "code",
   "execution_count": 104,
   "metadata": {},
   "outputs": [],
   "source": [
    "# TOTAL_OF_ALL_OPPONENT_ACTIONS = random.sample( )\n",
    "# TOTAL_OF_ALL_OPPONENT_ACTIONS"
   ]
  },
  {
   "cell_type": "code",
   "execution_count": 105,
   "metadata": {},
   "outputs": [
    {
     "data": {
      "text/plain": [
       "[(4, 'UTG', 1),\n",
       " (7, 'UTG+1', 2),\n",
       " (8, 'UTG+2', 3),\n",
       " (9, 'MP1', 4),\n",
       " (10, 'MP2', 5),\n",
       " (6, 'HJ', 6),\n",
       " (5, 'CO', 7),\n",
       " (1, 'BTN', 8),\n",
       " (2, 'SB', 9),\n",
       " (3, 'BB', 10),\n",
       " (2, 'SB', 9),\n",
       " (3, 'BB', 10),\n",
       " (4, 'UTG', 1),\n",
       " (7, 'UTG+1', 2),\n",
       " (8, 'UTG+2', 3),\n",
       " (9, 'MP1', 4),\n",
       " (10, 'MP2', 5),\n",
       " (6, 'HJ', 6),\n",
       " (5, 'CO', 7),\n",
       " (1, 'BTN', 8),\n",
       " (2, 'SB', 9),\n",
       " (3, 'BB', 10),\n",
       " (4, 'UTG', 1),\n",
       " (7, 'UTG+1', 2),\n",
       " (8, 'UTG+2', 3),\n",
       " (9, 'MP1', 4),\n",
       " (10, 'MP2', 5),\n",
       " (6, 'HJ', 6),\n",
       " (5, 'CO', 7),\n",
       " (1, 'BTN', 8),\n",
       " (2, 'SB', 9),\n",
       " (3, 'BB', 10),\n",
       " (4, 'UTG', 1),\n",
       " (7, 'UTG+1', 2),\n",
       " (8, 'UTG+2', 3),\n",
       " (9, 'MP1', 4),\n",
       " (10, 'MP2', 5),\n",
       " (6, 'HJ', 6),\n",
       " (5, 'CO', 7),\n",
       " (1, 'BTN', 8),\n",
       " (2, 'SB', 9),\n",
       " (3, 'BB', 10),\n",
       " (4, 'UTG', 1),\n",
       " (7, 'UTG+1', 2),\n",
       " (8, 'UTG+2', 3),\n",
       " (9, 'MP1', 4),\n",
       " (10, 'MP2', 5),\n",
       " (6, 'HJ', 6),\n",
       " (5, 'CO', 7),\n",
       " (1, 'BTN', 8),\n",
       " (2, 'SB', 9),\n",
       " (3, 'BB', 10),\n",
       " (4, 'UTG', 1),\n",
       " (7, 'UTG+1', 2),\n",
       " (8, 'UTG+2', 3),\n",
       " (9, 'MP1', 4),\n",
       " (10, 'MP2', 5),\n",
       " (6, 'HJ', 6),\n",
       " (5, 'CO', 7),\n",
       " (1, 'BTN', 8),\n",
       " (2, 'SB', 9),\n",
       " (3, 'BB', 10),\n",
       " (4, 'UTG', 1),\n",
       " (7, 'UTG+1', 2),\n",
       " (8, 'UTG+2', 3),\n",
       " (9, 'MP1', 4),\n",
       " (10, 'MP2', 5),\n",
       " (6, 'HJ', 6),\n",
       " (5, 'CO', 7),\n",
       " (1, 'BTN', 8),\n",
       " (2, 'SB', 9),\n",
       " (3, 'BB', 10),\n",
       " (4, 'UTG', 1),\n",
       " (7, 'UTG+1', 2),\n",
       " (8, 'UTG+2', 3),\n",
       " (9, 'MP1', 4),\n",
       " (10, 'MP2', 5),\n",
       " (6, 'HJ', 6),\n",
       " (5, 'CO', 7),\n",
       " (1, 'BTN', 8),\n",
       " (2, 'SB', 9),\n",
       " (3, 'BB', 10),\n",
       " (4, 'UTG', 1),\n",
       " (7, 'UTG+1', 2),\n",
       " (8, 'UTG+2', 3),\n",
       " (9, 'MP1', 4),\n",
       " (10, 'MP2', 5),\n",
       " (6, 'HJ', 6)]"
      ]
     },
     "execution_count": 105,
     "metadata": {},
     "output_type": "execute_result"
    }
   ],
   "source": [
    "MAX_POSITIONS = [(4,'UTG',1),(7,'UTG+1',2),(8,'UTG+2',3),(9,'MP1',4),(10,'MP2',5),(6,'HJ',6),(5,'CO',7),(1,'BTN',8),(2,'SB',9),(3,'BB',10)]\n",
    "MAX_POSITIONS_POST_FLOP = [(2,'SB',9),(3,'BB',10),(4,'UTG',1),(7,'UTG+1',2),(8,'UTG+2',3),(9,'MP1',4),(10,'MP2',5),(6,'HJ',6),(5,'CO',7),(1,'BTN',8)]\n",
    "MAX_POSITIONS = MAX_POSITIONS+ MAX_POSITIONS_POST_FLOP*8\n",
    "\n",
    "MAX_POSITIONS_TO_SEVENTY = MAX_POSITIONS[:-2]\n",
    "MAX_POSITIONS_TO_SEVENTY"
   ]
  },
  {
   "cell_type": "code",
   "execution_count": 106,
   "metadata": {},
   "outputs": [
    {
     "ename": "NameError",
     "evalue": "name 'TOTAL_OF_ALL_OPPONENT_ACTIONS' is not defined",
     "output_type": "error",
     "traceback": [
      "\u001b[0;31m---------------------------------------------------------------------------\u001b[0m",
      "\u001b[0;31mNameError\u001b[0m                                 Traceback (most recent call last)",
      "\u001b[0;32m<ipython-input-106-a459a9fe466a>\u001b[0m in \u001b[0;36m<module>\u001b[0;34m()\u001b[0m\n\u001b[1;32m      1\u001b[0m \u001b[0mdf2\u001b[0m \u001b[0;34m=\u001b[0m \u001b[0mpd\u001b[0m\u001b[0;34m.\u001b[0m\u001b[0mDataFrame\u001b[0m\u001b[0;34m(\u001b[0m\u001b[0mMAX_POSITIONS_TO_SEVENTY\u001b[0m\u001b[0;34m)\u001b[0m\u001b[0;31m#, columns = \"ENTIRE GAME PLAYER POSITIONS\")\u001b[0m\u001b[0;34m\u001b[0m\u001b[0m\n\u001b[0;32m----> 2\u001b[0;31m \u001b[0mdf3\u001b[0m \u001b[0;34m=\u001b[0m \u001b[0mpd\u001b[0m\u001b[0;34m.\u001b[0m\u001b[0mDataFrame\u001b[0m\u001b[0;34m(\u001b[0m\u001b[0mTOTAL_OF_ALL_OPPONENT_ACTIONS\u001b[0m\u001b[0;34m)\u001b[0m\u001b[0;34m\u001b[0m\u001b[0m\n\u001b[0m\u001b[1;32m      3\u001b[0m \u001b[0mdfAllPositinsAllGame\u001b[0m \u001b[0;34m=\u001b[0m \u001b[0mdf2\u001b[0m\u001b[0;34m\u001b[0m\u001b[0m\n",
      "\u001b[0;31mNameError\u001b[0m: name 'TOTAL_OF_ALL_OPPONENT_ACTIONS' is not defined"
     ]
    }
   ],
   "source": [
    "df2 = pd.DataFrame(MAX_POSITIONS_TO_SEVENTY)#, columns = \"ENTIRE GAME PLAYER POSITIONS\")\n",
    "df3 = pd.DataFrame(TOTAL_OF_ALL_OPPONENT_ACTIONS)\n",
    "dfAllPositinsAllGame = df2"
   ]
  },
  {
   "cell_type": "code",
   "execution_count": 107,
   "metadata": {},
   "outputs": [
    {
     "ename": "NameError",
     "evalue": "name 'df3' is not defined",
     "output_type": "error",
     "traceback": [
      "\u001b[0;31m---------------------------------------------------------------------------\u001b[0m",
      "\u001b[0;31mNameError\u001b[0m                                 Traceback (most recent call last)",
      "\u001b[0;32m<ipython-input-107-a5a08e6c7ea3>\u001b[0m in \u001b[0;36m<module>\u001b[0;34m()\u001b[0m\n\u001b[0;32m----> 1\u001b[0;31m \u001b[0mdfAllBetsAllGames\u001b[0m \u001b[0;34m=\u001b[0m \u001b[0mdf3\u001b[0m\u001b[0;34m\u001b[0m\u001b[0m\n\u001b[0m\u001b[1;32m      2\u001b[0m \u001b[0mdfAllBetsAllGames\u001b[0m\u001b[0;34m\u001b[0m\u001b[0m\n",
      "\u001b[0;31mNameError\u001b[0m: name 'df3' is not defined"
     ]
    }
   ],
   "source": [
    "dfAllBetsAllGames = df3\n",
    "dfAllBetsAllGames"
   ]
  },
  {
   "cell_type": "code",
   "execution_count": 108,
   "metadata": {},
   "outputs": [
    {
     "ename": "NameError",
     "evalue": "name 'dfAllPositinsAllGame' is not defined",
     "output_type": "error",
     "traceback": [
      "\u001b[0;31m---------------------------------------------------------------------------\u001b[0m",
      "\u001b[0;31mNameError\u001b[0m                                 Traceback (most recent call last)",
      "\u001b[0;32m<ipython-input-108-4755d3553810>\u001b[0m in \u001b[0;36m<module>\u001b[0;34m()\u001b[0m\n\u001b[1;32m      1\u001b[0m \u001b[0;31m######## NEED TO ELIMINATE PLAYERS ONCE THEY FOLD\u001b[0m\u001b[0;34m\u001b[0m\u001b[0;34m\u001b[0m\u001b[0m\n\u001b[1;32m      2\u001b[0m \u001b[0;31m######## CANNOT ALLOW CHECKINGS AFTER A BET\u001b[0m\u001b[0;34m\u001b[0m\u001b[0;34m\u001b[0m\u001b[0m\n\u001b[0;32m----> 3\u001b[0;31m \u001b[0mdfAllBetsOnAllStreets\u001b[0m \u001b[0;34m=\u001b[0m \u001b[0mpd\u001b[0m\u001b[0;34m.\u001b[0m\u001b[0mconcat\u001b[0m\u001b[0;34m(\u001b[0m\u001b[0;34m[\u001b[0m\u001b[0mdfAllPositinsAllGame\u001b[0m\u001b[0;34m,\u001b[0m\u001b[0mdfAllBetsAllGames\u001b[0m\u001b[0;34m]\u001b[0m\u001b[0;34m,\u001b[0m\u001b[0maxis\u001b[0m\u001b[0;34m=\u001b[0m\u001b[0;36m1\u001b[0m\u001b[0;34m)\u001b[0m\u001b[0;34m\u001b[0m\u001b[0m\n\u001b[0m\u001b[1;32m      4\u001b[0m \u001b[0mdfAllBetsOnAllStreets\u001b[0m\u001b[0;34m\u001b[0m\u001b[0m\n",
      "\u001b[0;31mNameError\u001b[0m: name 'dfAllPositinsAllGame' is not defined"
     ]
    }
   ],
   "source": [
    "######## NEED TO ELIMINATE PLAYERS ONCE THEY FOLD\n",
    "######## CANNOT ALLOW CHECKINGS AFTER A BET\n",
    "dfAllBetsOnAllStreets = pd.concat([dfAllPositinsAllGame,dfAllBetsAllGames],axis=1)\n",
    "dfAllBetsOnAllStreets  "
   ]
  },
  {
   "cell_type": "code",
   "execution_count": 109,
   "metadata": {},
   "outputs": [
    {
     "ename": "NameError",
     "evalue": "name 'dfAllBetsOnAllStreets' is not defined",
     "output_type": "error",
     "traceback": [
      "\u001b[0;31m---------------------------------------------------------------------------\u001b[0m",
      "\u001b[0;31mNameError\u001b[0m                                 Traceback (most recent call last)",
      "\u001b[0;32m<ipython-input-109-cf2065b1c7d8>\u001b[0m in \u001b[0;36m<module>\u001b[0;34m()\u001b[0m\n\u001b[0;32m----> 1\u001b[0;31m \u001b[0mdfAllBetsOnAllStreets\u001b[0m\u001b[0;34m[\u001b[0m\u001b[0;36m0\u001b[0m\u001b[0;34m:\u001b[0m\u001b[0;36m10\u001b[0m\u001b[0;34m]\u001b[0m\u001b[0;34m\u001b[0m\u001b[0m\n\u001b[0m",
      "\u001b[0;31mNameError\u001b[0m: name 'dfAllBetsOnAllStreets' is not defined"
     ]
    }
   ],
   "source": [
    "dfAllBetsOnAllStreets[0:10]"
   ]
  },
  {
   "cell_type": "code",
   "execution_count": null,
   "metadata": {},
   "outputs": [],
   "source": [
    "dfAllBetsOnAllStreets[]"
   ]
  },
  {
   "cell_type": "code",
   "execution_count": null,
   "metadata": {},
   "outputs": [],
   "source": [
    "\n",
    "EIGHT_BETTING_STREETS= MAX_POSITIONS*8 +  TOTAL_OF_ALL_OPPONENT_ACTIONS\n",
    "\n",
    "EIGHT_BETTING_STREETS = list(set(MAX_POSITIONS*8 + TOTAL_OF_ALL_OPPONENT_ACTIONS))\n",
    "EIGHT_BETTING_STREETS\n"
   ]
  },
  {
   "cell_type": "code",
   "execution_count": null,
   "metadata": {},
   "outputs": [],
   "source": [
    "ALL_OPPONENT_ACTIONS = choices(OPPONENT_ACTIONS_POSSIBLE,k=NUMBER_OF_PLAYERS[0])\n",
    "ALL_OPPONENT_ACTIONS"
   ]
  },
  {
   "cell_type": "code",
   "execution_count": null,
   "metadata": {},
   "outputs": [],
   "source": [
    "ALL_OPPONENT_ACTIONS[0] = 'YOUR MOVE'\n",
    "ALL_ACTIONS = ALL_OPPONENT_ACTIONS\n",
    "ALL_ACTIONS"
   ]
  },
  {
   "cell_type": "code",
   "execution_count": null,
   "metadata": {},
   "outputs": [],
   "source": [
    "#NEED THIS TO CALCULATE OPPOENENT DATAFRAME\n",
    "\n",
    "random.shuffle(ALL_ACTIONS)\n",
    "ALL_ACTIONS"
   ]
  },
  {
   "cell_type": "code",
   "execution_count": null,
   "metadata": {},
   "outputs": [],
   "source": [
    "POSITIONS_STACKS_ACTIONS = dict(zip(POSITIONS_STACKS,ALL_ACTIONS))\n",
    "POSITIONS_STACKS_ACTIONS"
   ]
  },
  {
   "cell_type": "code",
   "execution_count": null,
   "metadata": {},
   "outputs": [],
   "source": [
    "POSITIONS_STACKS_SORTED_BY_ORDER = sorted(POSITIONS_STACKS_ACTIONS, key=lambda tup: tup[0][2])\n",
    "POSITIONS_STACKS_SORTED_BY_ORDER"
   ]
  },
  {
   "cell_type": "code",
   "execution_count": null,
   "metadata": {},
   "outputs": [],
   "source": [
    "POSITIONS_STACKS_SORTED_ACTIONS = list(zip(POSITIONS_STACKS_SORTED_BY_ORDER, ALL_OPPONENT_ACTIONS))\n",
    "POSITIONS_STACKS_SORTED_ACTIONS\n"
   ]
  },
  {
   "cell_type": "code",
   "execution_count": null,
   "metadata": {},
   "outputs": [],
   "source": [
    "ALL_OPPONENT_ACTIONS"
   ]
  },
  {
   "cell_type": "code",
   "execution_count": null,
   "metadata": {},
   "outputs": [],
   "source": [
    "\n",
    "\n",
    "#^^^^^^^^^^RANDOMIZED\n",
    "########################################################################################################################\n",
    "########################################################################################################################\n",
    "########################################################################################################################\n",
    "#DESIGNED:\n",
    "\n",
    "DESIGNED_POSITIONS_STACKS_SORTED_ACTIONS = '''[(((4, 'UTG', 1), 'Stack is >50 Big Blinds <150'), 'initial bet or min-raise'),\n",
    " (((7, 'UTG+1', 2), 'Stack is >50 Big Blinds <150'), 'fold'),\n",
    " (((8, 'UTG+2', 3), 'Stack is >150 Big Blinds'), 'check'),\n",
    " (((9, 'MP1', 4), 'Stack is <50 Big Blinds'),\n",
    "  'bet large (initial bet or raise/re-raise)'),\n",
    " (((10, 'MP2', 5), 'Stack is >50 Big Blinds <150'),\n",
    "  'bet large (initial bet or raise/re-raise)'),\n",
    " (((6, 'HJ', 6), 'Stack is >50 Big Blinds <150'),\n",
    "  'bet small (initial bet or min-raise)'),\n",
    " (((5, 'CO', 7), 'Stack is <50 Big Blinds'), 'fold'),\n",
    " (((1, 'BTN', 8), 'Stack is >150 Big Blinds'), 'check'),\n",
    " (((2, 'SB', 9), 'Stack is >50 Big Blinds <150'), 'fold'),\n",
    " (((3, 'BB', 10), 'Stack is >150 Big Blinds'),\n",
    "  'YOUR MOVE')]'''\n",
    "\n",
    "DESIGNED_POSITIONS_STACKS_SORTED_ACTIONS"
   ]
  },
  {
   "cell_type": "code",
   "execution_count": null,
   "metadata": {},
   "outputs": [],
   "source": [
    "\n",
    "\n",
    "print(DESIGNED_POSITIONS_STACKS_SORTED_ACTIONS)"
   ]
  },
  {
   "cell_type": "code",
   "execution_count": null,
   "metadata": {},
   "outputs": [],
   "source": [
    "MY_POSITION_STACK = [t for t in POSITIONS_STACKS_SORTED_ACTIONS if t[1] == \"YOUR MOVE\"]\n",
    "MY_POSITION_STACK = MY_POSITION_STACK[0]\n",
    "MY_POSITION_STACK"
   ]
  },
  {
   "cell_type": "code",
   "execution_count": null,
   "metadata": {},
   "outputs": [],
   "source": [
    "BTN_STACK_BETS = ALL_POSITIONS_IN_THIS_GAME[0][1] + ': ' +ALL_STACK_SIZES[0] +'; '+ ALL_ACTIONS[0]\n",
    "SB_STACK_BETS = ALL_POSITIONS_IN_THIS_GAME[1][1] + ': ' +ALL_STACK_SIZES[0] +'; '+ ALL_ACTIONS[1]\n",
    "BB_STACK_BETS = ALL_POSITIONS_IN_THIS_GAME[2][1] + ': ' +ALL_STACK_SIZES[0] +'; '+ ALL_ACTIONS[2]\n",
    "UTG_STACK_BETS = ALL_POSITIONS_IN_THIS_GAME[3][1] + ': ' +ALL_STACK_SIZES[0] +'; '+ ALL_ACTIONS[3]\n",
    "CO_STACK_BETS = ALL_POSITIONS_IN_THIS_GAME[4][1] + ': ' +ALL_STACK_SIZES[0] +'; '+ ALL_ACTIONS[4]\n",
    "HJ_STACK_BETS = ALL_POSITIONS_IN_THIS_GAME[5][1] + ': ' +ALL_STACK_SIZES[0] +'; '+ ALL_ACTIONS[5]\n",
    "UTG1_STACK_BETS = ALL_POSITIONS_IN_THIS_GAME[6][1] + ': ' +ALL_STACK_SIZES[0] +'; '+ ALL_ACTIONS[6]\n",
    "UTG2_STACK_BETS = ALL_POSITIONS_IN_THIS_GAME[7][1] + ': ' +ALL_STACK_SIZES[0] +'; '+ ALL_ACTIONS[7]\n",
    "MP1_STACK_BETS = ALL_POSITIONS_IN_THIS_GAME[8][1] + ': ' +ALL_STACK_SIZES[0] +'; '+ ALL_ACTIONS[8]\n",
    "MP2_STACK_BETS = ALL_POSITIONS_IN_THIS_GAME[9][1] + ': ' +ALL_STACK_SIZES[0] +'; '+ ALL_ACTIONS[9]\n"
   ]
  },
  {
   "cell_type": "code",
   "execution_count": null,
   "metadata": {},
   "outputs": [],
   "source": [
    "list_of_players_bets=[BTN_STACK_BETS , SB_STACK_BETS , BB_STACK_BETS , UTG_STACK_BETS ,CO_STACK_BETS , HJ_STACK_BETS , UTG1_STACK_BETS,UTG2_STACK_BETS ,MP1_STACK_BETS,MP2_STACK_BETS]\n",
    "list_of_players_bets"
   ]
  },
  {
   "cell_type": "code",
   "execution_count": null,
   "metadata": {},
   "outputs": [],
   "source": []
  },
  {
   "cell_type": "code",
   "execution_count": null,
   "metadata": {},
   "outputs": [],
   "source": [
    "import pandas as pd\n",
    "df = pd.DataFrame(list_of_players_bets)\n",
    "df"
   ]
  },
  {
   "cell_type": "code",
   "execution_count": null,
   "metadata": {},
   "outputs": [],
   "source": [
    "ALL_OPPONENT_ACTIONS"
   ]
  },
  {
   "cell_type": "code",
   "execution_count": null,
   "metadata": {},
   "outputs": [],
   "source": [
    "POSITION = MY_POSITION_STACK[0][0][1]\n",
    "POSITION"
   ]
  },
  {
   "cell_type": "code",
   "execution_count": null,
   "metadata": {},
   "outputs": [],
   "source": [
    "MY_STACK_SIZE = MY_POSITION_STACK[0][1]\n",
    "MY_STACK_SIZE"
   ]
  },
  {
   "cell_type": "code",
   "execution_count": null,
   "metadata": {},
   "outputs": [],
   "source": [
    "# MY_POSITION_STACK = random.choice(list(POSITIONS_STACKS_SORTED_ACTIONS))\n",
    "# MY_POSITION_STACK"
   ]
  },
  {
   "cell_type": "code",
   "execution_count": null,
   "metadata": {},
   "outputs": [],
   "source": [
    "# MY_POSITION_STACK = dict(random.sample(POSITIONS_STACKS_SORTED_ACTIONS.items(),1))\n",
    "# MY_POSITION_STACK"
   ]
  },
  {
   "cell_type": "code",
   "execution_count": null,
   "metadata": {},
   "outputs": [],
   "source": [
    "# MY_POSITION_STACK_YOUR_MOVE = {MY_POSITION_STACK: \"YOUR MOVE\"}\n",
    "# MY_POSITION_STACK_YOUR_MOVE"
   ]
  },
  {
   "cell_type": "code",
   "execution_count": null,
   "metadata": {},
   "outputs": [],
   "source": [
    "#MY_POSITION_STACK = {(1, 'BTN', 8): 'shallow'}"
   ]
  },
  {
   "cell_type": "code",
   "execution_count": null,
   "metadata": {},
   "outputs": [],
   "source": [
    "# POSITIONS_STACKS_SORTED_ACTIONS[MY_POSITION_STACK] = \"YOUR MOVE\"\n",
    "# POSITIONS_STACKS_SORTED_ACTIONS"
   ]
  },
  {
   "cell_type": "code",
   "execution_count": null,
   "metadata": {},
   "outputs": [],
   "source": [
    "# list(POSITIONS_STACKS_SORTED_ACTIONS.values())"
   ]
  },
  {
   "cell_type": "code",
   "execution_count": null,
   "metadata": {},
   "outputs": [],
   "source": [
    "# t = (MY_POSITION_STACK_YOUR_MOVE)\n",
    "# POSITIONS_STACKS_ACTIONS_ = [t if e[0] == t[0] else e for e in POSITIONAL_ACTIONS]\n",
    "# POSITIONAL_ACTIONS_CORRECTED"
   ]
  },
  {
   "cell_type": "code",
   "execution_count": null,
   "metadata": {},
   "outputs": [],
   "source": [
    "# POSITIONAL_ACTIONS_SORTED_BY_ORDER = sorted(POSITIONS_STACKS_ACTIONS, key=lambda tup: tup[0][2])\n",
    "# POSITIONAL_ACTIONS_SORTED_BY_ORDER"
   ]
  },
  {
   "cell_type": "code",
   "execution_count": null,
   "metadata": {},
   "outputs": [],
   "source": [
    "# POSITIONAL_ACTIONS = list(zip(ALL_POSITIONS_IN_THIS_GAME, ALL_OPPONENT_ACTIONS))\n",
    "# POSITIONAL_ACTIONS "
   ]
  },
  {
   "cell_type": "code",
   "execution_count": null,
   "metadata": {},
   "outputs": [],
   "source": [
    "NUMBER_OF_PLAYERS"
   ]
  },
  {
   "cell_type": "code",
   "execution_count": null,
   "metadata": {},
   "outputs": [],
   "source": [
    "# POSITIONAL_ACTIONS_SORTED_STACKS = dict(zip(POSITIONAL_ACTIONS_SORTED_BY_ORDER, ALL_STACK_SIZES))\n",
    "# POSITIONAL_ACTIONS_SORTED_STACKS"
   ]
  },
  {
   "cell_type": "code",
   "execution_count": null,
   "metadata": {},
   "outputs": [],
   "source": [
    "# MY_STACK_SIZE = POSITIONS_STACKS_SORTED_ACTIONS.get((MY_POSITION_STACK,'YOUR MOVE'))\n",
    "# MY_STACK_SIZE"
   ]
  },
  {
   "cell_type": "code",
   "execution_count": null,
   "metadata": {},
   "outputs": [],
   "source": [
    "# POSITIONAL_ACTIONS_NUMBER = POSITIONS_STACKS_SORTED_ACTIONS.items((MY_POSITION_STACK,'YOUR MOVE'))\n",
    "# POSITIONAL_ACTIONS_NUMBER"
   ]
  },
  {
   "cell_type": "code",
   "execution_count": null,
   "metadata": {},
   "outputs": [],
   "source": [
    "POSITIONAL_ACTIONS_NUMBER = POSITIONS_STACKS_SORTED_ACTIONS.index(MY_POSITION_STACK)\n",
    "POSITIONAL_ACTIONS_NUMBER"
   ]
  },
  {
   "cell_type": "code",
   "execution_count": null,
   "metadata": {},
   "outputs": [],
   "source": [
    "POSITIONS_STACKS_ACTIONS_THROUGH_TO_YOU = POSITIONS_STACKS_SORTED_ACTIONS[:POSITIONAL_ACTIONS_NUMBER+1]\n",
    "POSITIONS_STACKS_ACTIONS_THROUGH_TO_YOU "
   ]
  },
  {
   "cell_type": "code",
   "execution_count": null,
   "metadata": {},
   "outputs": [],
   "source": [
    "POSITIONS_STACKS_ACTIONS_THROUGH_TO_YOU[0][0][1]"
   ]
  },
  {
   "cell_type": "code",
   "execution_count": null,
   "metadata": {},
   "outputs": [],
   "source": [
    "actions = [y for x, y in POSITIONS_STACKS_ACTIONS_THROUGH_TO_YOU]\n",
    "actions"
   ]
  },
  {
   "cell_type": "code",
   "execution_count": null,
   "metadata": {},
   "outputs": [],
   "source": [
    "actions_list = \"-\".join(actions)\n",
    "actions_list"
   ]
  },
  {
   "cell_type": "code",
   "execution_count": null,
   "metadata": {},
   "outputs": [],
   "source": [
    "number_of_large_bets_before_you = actions_list.count('large')\n",
    "number_of_large_bets_before_you"
   ]
  },
  {
   "cell_type": "code",
   "execution_count": null,
   "metadata": {},
   "outputs": [],
   "source": [
    "number_of_medium_bets_before_you = actions_list.count('medium')\n",
    "number_of_medium_bets_before_you"
   ]
  },
  {
   "cell_type": "code",
   "execution_count": null,
   "metadata": {},
   "outputs": [],
   "source": [
    "number_of_small_bets_before_you = actions_list.count('small')\n",
    "number_of_small_bets_before_you"
   ]
  },
  {
   "cell_type": "code",
   "execution_count": null,
   "metadata": {},
   "outputs": [],
   "source": [
    "from collections import OrderedDict\n",
    "POSITIONS_STACKS_ACTIONS_THROUGH_TO_YOU_DICTIONARY = OrderedDict(POSITIONS_STACKS_ACTIONS_THROUGH_TO_YOU)\n",
    "POSITIONS_STACKS_ACTIONS_THROUGH_TO_YOU_DICTIONARY"
   ]
  },
  {
   "cell_type": "code",
   "execution_count": null,
   "metadata": {},
   "outputs": [],
   "source": [
    "######### MODULE 2 : DECISIONS ############\n",
    "######### PART ONE : PRE-FLOP #############"
   ]
  },
  {
   "cell_type": "code",
   "execution_count": null,
   "metadata": {},
   "outputs": [],
   "source": [
    "DECISION_FACTORS =  'Hand strength (out of 41) is ' + str(HAND_STRENGTH)  +' ; you have '+ str(SS) +' big blinds ;' + ' giving ' + str(ODDS_GIVING_OPPONENT) + ' odds to my opponent from ' + POSITION + ' position against a ' + OPPONENT_TYPE# + ' opponent'\n"
   ]
  },
  {
   "cell_type": "code",
   "execution_count": null,
   "metadata": {},
   "outputs": [],
   "source": [
    "DECISION_FACTORS"
   ]
  },
  {
   "cell_type": "code",
   "execution_count": null,
   "metadata": {},
   "outputs": [],
   "source": [
    "#*** means that I need to come back to this\n",
    "RAISE_REASONS = ('hand makes nut flush', #***need to find source video- not sure if given flop or not\n",
    "                 'hand makes marginal top pair', #DONE\n",
    "                 'opponent doesnt see this coming', #***LEVEL5\n",
    "                 'hand works well as a bluff since it has a good blocker', #DONE\n",
    "                 'good post-flop playability', #***need to determine this range LEVEL3\n",
    "                 'my range is better than the opponents') #***need to determine how to figure this out LEVEL4"
   ]
  },
  {
   "cell_type": "code",
   "execution_count": null,
   "metadata": {},
   "outputs": [],
   "source": [
    "RAISE_REASONS"
   ]
  },
  {
   "cell_type": "code",
   "execution_count": null,
   "metadata": {},
   "outputs": [],
   "source": [
    "THREE_BET_REASONS = ('opponent folds a lot of their range') #***LEVEL5"
   ]
  },
  {
   "cell_type": "code",
   "execution_count": null,
   "metadata": {},
   "outputs": [],
   "source": [
    "CHECK_RAISE_REASONS = ('')"
   ]
  },
  {
   "cell_type": "code",
   "execution_count": null,
   "metadata": {},
   "outputs": [],
   "source": [
    "OPTIONS = ('bet small','bet medium','bet large','all-in','check','fold','call')"
   ]
  },
  {
   "cell_type": "code",
   "execution_count": null,
   "metadata": {},
   "outputs": [],
   "source": [
    "OPTIONS"
   ]
  },
  {
   "cell_type": "code",
   "execution_count": null,
   "metadata": {},
   "outputs": [],
   "source": [
    "LIMP = ['Everyone folded to me in the small blind and Im doing this with a large amount of my range'] #DONE"
   ]
  },
  {
   "cell_type": "code",
   "execution_count": null,
   "metadata": {},
   "outputs": [],
   "source": [
    "BET_SMALL_REASONS = ['100% continuation bet strategy', #***LEVEL4\n",
    "                     'Im on the button and the hand is good enough to bet (Q8o)'] #DONE"
   ]
  },
  {
   "cell_type": "code",
   "execution_count": null,
   "metadata": {},
   "outputs": [],
   "source": [
    "# POSITION = MY_POSITION[1]\n",
    "# POSITION"
   ]
  },
  {
   "cell_type": "code",
   "execution_count": null,
   "metadata": {},
   "outputs": [],
   "source": [
    "COMMUNITY_CARDS"
   ]
  },
  {
   "cell_type": "code",
   "execution_count": null,
   "metadata": {},
   "outputs": [],
   "source": [
    "HAND"
   ]
  },
  {
   "cell_type": "code",
   "execution_count": null,
   "metadata": {
    "scrolled": true
   },
   "outputs": [],
   "source": [
    "FLOP"
   ]
  },
  {
   "cell_type": "code",
   "execution_count": null,
   "metadata": {},
   "outputs": [],
   "source": [
    "HAND_1_RANK"
   ]
  },
  {
   "cell_type": "code",
   "execution_count": null,
   "metadata": {},
   "outputs": [],
   "source": [
    "HAND_2_RANK"
   ]
  },
  {
   "cell_type": "code",
   "execution_count": null,
   "metadata": {},
   "outputs": [],
   "source": [
    "FLOP_1_RANK = S(FLOP[0][0:-1])\n",
    "FLOP_1_RANK"
   ]
  },
  {
   "cell_type": "code",
   "execution_count": null,
   "metadata": {},
   "outputs": [],
   "source": [
    "FLOP_2_RANK = S(FLOP[1][0:-1])\n",
    "FLOP_2_RANK"
   ]
  },
  {
   "cell_type": "code",
   "execution_count": null,
   "metadata": {},
   "outputs": [],
   "source": [
    "FLOP_3_RANK = S(FLOP[2][0:-1])\n",
    "FLOP_3_RANK"
   ]
  },
  {
   "cell_type": "code",
   "execution_count": null,
   "metadata": {},
   "outputs": [],
   "source": [
    "TURN"
   ]
  },
  {
   "cell_type": "code",
   "execution_count": null,
   "metadata": {},
   "outputs": [],
   "source": [
    "TURN_RANK = TURN[0:-1]\n",
    "TURN_RANK"
   ]
  },
  {
   "cell_type": "code",
   "execution_count": null,
   "metadata": {},
   "outputs": [],
   "source": [
    "TURN_RANK = S(TURN_RANK)\n",
    "TURN_RANK"
   ]
  },
  {
   "cell_type": "code",
   "execution_count": null,
   "metadata": {
    "scrolled": true
   },
   "outputs": [],
   "source": [
    "RIVER"
   ]
  },
  {
   "cell_type": "code",
   "execution_count": null,
   "metadata": {},
   "outputs": [],
   "source": [
    "RIVER_RANK = RIVER[0:-1]\n",
    "RIVER_RANK"
   ]
  },
  {
   "cell_type": "code",
   "execution_count": null,
   "metadata": {},
   "outputs": [],
   "source": [
    "RIVER_RANK = S(RIVER_RANK)\n",
    "RIVER_RANK"
   ]
  },
  {
   "cell_type": "code",
   "execution_count": null,
   "metadata": {},
   "outputs": [],
   "source": [
    "#RIVER TOP TWO PAIR - GO ALL IN\n"
   ]
  },
  {
   "cell_type": "code",
   "execution_count": null,
   "metadata": {},
   "outputs": [],
   "source": [
    "#hand makes marginal top pair if highest FLOP RANK is 11 and one HAND RANK is equal to highest FLOP RANK\n",
    "\n",
    "HIGHEST_FLOP_RANK = max(FLOP_1_RANK,FLOP_2_RANK,FLOP_3_RANK)\n",
    "HIGHEST_FLOP_RANK"
   ]
  },
  {
   "cell_type": "code",
   "execution_count": null,
   "metadata": {},
   "outputs": [],
   "source": [
    "HIGHEST_HAND_RANK = max(HAND_1_RANK,HAND_2_RANK)\n",
    "HIGHEST_HAND_RANK"
   ]
  },
  {
   "cell_type": "code",
   "execution_count": null,
   "metadata": {},
   "outputs": [],
   "source": [
    "FLOP_1_RANK"
   ]
  },
  {
   "cell_type": "code",
   "execution_count": null,
   "metadata": {},
   "outputs": [],
   "source": [
    "import pandas as pd\n",
    "data = pd.DataFrame({\"HAND\": HAND},{\"HAND_STRENGTH\":HAND_STRENGTH},{\"POSITION\":POSITION})"
   ]
  },
  {
   "cell_type": "code",
   "execution_count": null,
   "metadata": {},
   "outputs": [],
   "source": [
    "dfMyHand = pd.DataFrame(columns = [\"CARDS\",\"HAND STRENGTH\",\"MY POSITION\"], index = ['Preflop','Flop','Turn','River'])\n",
    "dfMyHand"
   ]
  },
  {
   "cell_type": "code",
   "execution_count": null,
   "metadata": {},
   "outputs": [],
   "source": [
    "dfMyHand.at['Preflop','CARDS'] = HAND\n",
    "dfMyHand['HAND STRENGTH']=HAND_STRENGTH\n",
    "dfMyHand['MY POSITION']=POSITION\n",
    "dfMyHand['MY STACK SIZE']=MY_STACK_SIZE\n",
    "# dfMyHand['HIGHEST HAND RANK']=HIGHEST_HAND_RANK\n",
    "dfMyHand"
   ]
  },
  {
   "cell_type": "code",
   "execution_count": null,
   "metadata": {},
   "outputs": [],
   "source": []
  },
  {
   "cell_type": "code",
   "execution_count": null,
   "metadata": {},
   "outputs": [],
   "source": [
    "dfPreflop = dfMyHand"
   ]
  },
  {
   "cell_type": "code",
   "execution_count": null,
   "metadata": {},
   "outputs": [],
   "source": [
    "dfFlop = dfMyHand\n",
    "# dfFlop['FLOP']=str(FLOP)\n",
    "# dfFlop['HIGHEST FLOP RANK']=HIGHEST_FLOP_RANK\n",
    "dfFlop"
   ]
  },
  {
   "cell_type": "code",
   "execution_count": null,
   "metadata": {},
   "outputs": [],
   "source": [
    "import numpy as np"
   ]
  },
  {
   "cell_type": "code",
   "execution_count": null,
   "metadata": {},
   "outputs": [],
   "source": [
    "###############MANUALLY ENTERED CRITERIA\n",
    "dfPreflop['HAND STRENGTH'] = 20\n",
    "dfPreflop['MY POSITION'] = 'BTN'\n",
    "dfPreflop"
   ]
  },
  {
   "cell_type": "code",
   "execution_count": null,
   "metadata": {},
   "outputs": [],
   "source": [
    "dfPreflop['REASONS TO LIMP/BET SMALL'] = dfPreflop['HAND STRENGTH'].apply(lambda x: '''I'm on the button and the hand is good enough to bet (Q8o [strength 20] or better)''' \n",
    "    if 28 > x > 19 and POSITION == 'BTN'else np.NaN)\n",
    "\n",
    "#'''I'm on the button but the hand is not good enough to bet (Q8o [strength 20] or worse)''')                 \n",
    "\n",
    "dfPreflop"
   ]
  },
  {
   "cell_type": "code",
   "execution_count": null,
   "metadata": {},
   "outputs": [],
   "source": [
    "pd.set_option('max_colwidth',800)\n",
    "dfPreflop"
   ]
  },
  {
   "cell_type": "code",
   "execution_count": null,
   "metadata": {},
   "outputs": [],
   "source": [
    "BET_MEDIUM_REASONS = ['UTG raised, then it folded around to me and Im doing this with a large amount of my range']"
   ]
  },
  {
   "cell_type": "code",
   "execution_count": null,
   "metadata": {},
   "outputs": [],
   "source": [
    "BET_LARGE_REASONS = ['medium-strength hands identified as such to opponents (small raise) require a larger raise', #Quiz 259: 44suited raise 4x BB\n",
    "                    'bet 3x big blind when deep stacked with a good hand first to act'] #Q264 88 suited preflop first to act\n"
   ]
  },
  {
   "cell_type": "code",
   "execution_count": null,
   "metadata": {},
   "outputs": [],
   "source": [
    "ALL_IN_REASONS = ['get more value from strong made hands']"
   ]
  },
  {
   "cell_type": "code",
   "execution_count": null,
   "metadata": {},
   "outputs": [],
   "source": [
    "CHECK_REASONS = ['would have previously checked my range that now improves',\n",
    "                 'marginal made hand with an overcard kicker that makes sense to check '#Q262 Flop\n",
    "                ]"
   ]
  },
  {
   "cell_type": "code",
   "execution_count": null,
   "metadata": {},
   "outputs": [],
   "source": [
    "FOLD_REASONS = ['not many good cards to come that will help my hand']"
   ]
  },
  {
   "cell_type": "code",
   "execution_count": null,
   "metadata": {},
   "outputs": [],
   "source": [
    "CALL_REASONS = ['getting good pot-odds to call',\n",
    "                'play the entire hand in-position',\n",
    "                'hand is too strong to fold',\n",
    "                'getting the right price to call',\n",
    "               'my hand is near the top of my range'#Q262-Turn\n",
    "               ]"
   ]
  },
  {
   "cell_type": "code",
   "execution_count": null,
   "metadata": {},
   "outputs": [],
   "source": [
    "VIBES = ['that he has pocket 7s rather than a made hand']"
   ]
  },
  {
   "cell_type": "code",
   "execution_count": null,
   "metadata": {},
   "outputs": [],
   "source": [
    "CARDS = ('Ah', '2h', '3h', '4h', '5h', '6h', '7h', '8h', '9h', '10h', 'Jh', 'Qh', 'Kh', 'Ac', '2c', '3c', '4c', '5c', '6c', '7c', '8c', '9c', '10c', 'Jc', 'Qc', 'Kc', 'As', '2s', '3s', '4s', '5s', '6s', '7s', '8s', '9s', '10s', 'Js', 'Qs', 'Ks', 'Ad', '2d', '3d', '4d', '5d', '6d', '7d', '8d', '9d', '10d', 'Jd', 'Qd', 'Kd')\n"
   ]
  },
  {
   "cell_type": "code",
   "execution_count": null,
   "metadata": {},
   "outputs": [],
   "source": [
    "CARDS"
   ]
  },
  {
   "cell_type": "code",
   "execution_count": null,
   "metadata": {},
   "outputs": [],
   "source": [
    "n = 1\n",
    "ACTIONS_THROUGH_TO_YOU = [x[n] for x in POSITIONS_STACKS_ACTIONS_THROUGH_TO_YOU ]\n",
    "ACTIONS_THROUGH_TO_YOU"
   ]
  },
  {
   "cell_type": "code",
   "execution_count": null,
   "metadata": {},
   "outputs": [],
   "source": [
    "# SIMPLIFIED_ACTIONS_THROUGH_TO_YOU = [word.replace('bet large (initial bet or raise/re-raise)','bet large') for word in ACTIONS_THROUGH_TO_YOU]\n",
    "# SIMPLIFIED_ACTIONS_THROUGH_TO_YOU = [word.replace('bet medium (initial bet or raise/re-raise)','bet medium') for word in SIMPLIFIED_ACTIONS_THROUGH_TO_YOU]\n",
    "# SIMPLIFIED_ACTIONS_THROUGH_TO_YOU = [word.replace('bet small (initial bet or min-raise)','bet small') for word in SIMPLIFIED_ACTIONS_THROUGH_TO_YOU]\n",
    "\n",
    "# SIMPLIFIED_ACTIONS_THROUGH_TO_YOU\n"
   ]
  },
  {
   "cell_type": "code",
   "execution_count": null,
   "metadata": {},
   "outputs": [],
   "source": [
    "#FOLD TO YOU PREFLOP\n",
    "\n",
    "FOLD_TO_YOU = ACTIONS_THROUGH_TO_YOU\n",
    "\n",
    "for n, i in enumerate(FOLD_TO_YOU):\n",
    "    if i != 'YOUR MOVE':\n",
    "        FOLD_TO_YOU[n] = 'fold'\n",
    "\n",
    "FOLD_TO_YOU"
   ]
  },
  {
   "cell_type": "code",
   "execution_count": null,
   "metadata": {},
   "outputs": [],
   "source": [
    "#UTG BET THEN FOLD TO YOU PREFLOP\n",
    "\n",
    "UTG_BET_FOLD_TO_YOU = ACTIONS_THROUGH_TO_YOU#SIMPLIFIED_ACTIONS_THROUGH_TO_YOU\n",
    "\n",
    "for n, i in enumerate(UTG_BET_FOLD_TO_YOU):\n",
    "    if i != 'YOUR MOVE':\n",
    "        UTG_BET_FOLD_TO_YOU[n] = 'fold'\n",
    "\n",
    "UTG_BET_FOLD_TO_YOU[0] = 'bet'\n",
    "UTG_BET_FOLD_TO_YOU"
   ]
  },
  {
   "cell_type": "code",
   "execution_count": null,
   "metadata": {},
   "outputs": [],
   "source": [
    "# n = 1\n",
    "# ACTIONS_THROUGH_TO_YOU = [x[n] for x in POSITIONS_STACKS_ACTIONS_THROUGH_TO_YOU ]\n",
    "# ACTIONS_THROUGH_TO_YOU"
   ]
  },
  {
   "cell_type": "code",
   "execution_count": null,
   "metadata": {},
   "outputs": [],
   "source": [
    "#ACTIONS_THROUGH_TO_YOU_'BET'\n"
   ]
  },
  {
   "cell_type": "code",
   "execution_count": null,
   "metadata": {},
   "outputs": [],
   "source": [
    "FOLD_TO_YOU"
   ]
  },
  {
   "cell_type": "code",
   "execution_count": null,
   "metadata": {},
   "outputs": [],
   "source": [
    "FOLD_TO_YOU_DATAFRAME = pd.DataFrame({'Action': FOLD_TO_YOU})\n",
    "FOLD_TO_YOU_DATAFRAME"
   ]
  },
  {
   "cell_type": "code",
   "execution_count": null,
   "metadata": {},
   "outputs": [],
   "source": [
    "ACTUAL_ACTIONS_DATAFRAME = pd.DataFrame({'Action': ACTIONS_THROUGH_TO_YOU})#SIMPLIFIED_ACTIONS_THROUGH_TO_YOU})\n",
    "ACTUAL_ACTIONS_DATAFRAME"
   ]
  },
  {
   "cell_type": "code",
   "execution_count": null,
   "metadata": {},
   "outputs": [],
   "source": [
    "ACTUAL_ACTIONS_ARRAY = ACTUAL_ACTIONS_DATAFRAME['Action'].unique()\n",
    "ACTUAL_ACTIONS_ARRAY"
   ]
  },
  {
   "cell_type": "code",
   "execution_count": null,
   "metadata": {},
   "outputs": [],
   "source": [
    "POSITION"
   ]
  },
  {
   "cell_type": "code",
   "execution_count": null,
   "metadata": {},
   "outputs": [],
   "source": [
    "# SIMPLIFIED_ACTIONS_THROUGH_TO_YOU_ARRAY = np.array(SIMPLIFIED_ACTIONS_THROUGH_TO_YOU, dtype=object)\n",
    "# SIMPLIFIED_ACTIONS_THROUGH_TO_YOU_ARRAY\n",
    "ACTIONS_THROUGH_TO_YOU_ARRAY = np.array(ACTIONS_THROUGH_TO_YOU, dtype= object)\n",
    "ACTIONS_THROUGH_TO_YOU"
   ]
  },
  {
   "cell_type": "code",
   "execution_count": null,
   "metadata": {},
   "outputs": [],
   "source": [
    "#Are all actions prior to you folds?\n",
    "FOLD_TO_YOU = FOLD_TO_YOU_DATAFRAME['Action'].unique()\n",
    "FOLD_TO_YOU"
   ]
  },
  {
   "cell_type": "code",
   "execution_count": null,
   "metadata": {},
   "outputs": [],
   "source": [
    "import numpy as np\n",
    "FOLD_ARRAY = np.array(['fold', 'YOUR MOVE'], dtype=object)\n",
    "FOLD_ARRAY"
   ]
  },
  {
   "cell_type": "code",
   "execution_count": null,
   "metadata": {},
   "outputs": [],
   "source": [
    "np.array_equal(FOLD_TO_YOU,FOLD_ARRAY)"
   ]
  },
  {
   "cell_type": "code",
   "execution_count": null,
   "metadata": {},
   "outputs": [],
   "source": [
    "if HAND_STRENGTH < 25:\n",
    "    dfPreflop['REASONS TO FOLD'] = 'Hand is too weak to call'\n",
    "else: np.NaN"
   ]
  },
  {
   "cell_type": "code",
   "execution_count": null,
   "metadata": {},
   "outputs": [],
   "source": [
    "#Limp if everyone folded to me in the small blind because I'm doing this with a large amount of my range: All previous actions are FOLD and my position is SB pre-flop\n",
    "\n",
    "dfPreflop['REASONS TO LIMP/BET SMALL'] = dfPreflop['MY POSITION'].apply(lambda x: '''Everyone folded to me in the small blind and I'm limping with a large amount of my range''' if x == 'SB'\n",
    "    and np.array_equal(FOLD_TO_YOU,ACTUAL_ACTIONS_ARRAY) == True\n",
    "    else np.NaN)\n",
    "dfPreflop"
   ]
  },
  {
   "cell_type": "code",
   "execution_count": null,
   "metadata": {},
   "outputs": [],
   "source": [
    "POSITIONS_STACKS_ACTIONS_THROUGH_TO_YOU"
   ]
  },
  {
   "cell_type": "code",
   "execution_count": null,
   "metadata": {},
   "outputs": [],
   "source": []
  },
  {
   "cell_type": "code",
   "execution_count": null,
   "metadata": {},
   "outputs": [],
   "source": [
    "FLOP_2_RANK"
   ]
  },
  {
   "cell_type": "code",
   "execution_count": null,
   "metadata": {},
   "outputs": [],
   "source": [
    "FLOP_3_RANK"
   ]
  },
  {
   "cell_type": "code",
   "execution_count": null,
   "metadata": {},
   "outputs": [],
   "source": [
    "HAND_RANKS_ONLY = [HAND_1_RANK, HAND_2_RANK]\n",
    "HAND_RANKS_ONLY"
   ]
  },
  {
   "cell_type": "code",
   "execution_count": null,
   "metadata": {},
   "outputs": [],
   "source": [
    "FLOP_RANKS_ONLY = [FLOP_1_RANK, FLOP_2_RANK, FLOP_3_RANK]\n",
    "FLOP_RANKS_ONLY"
   ]
  },
  {
   "cell_type": "code",
   "execution_count": null,
   "metadata": {},
   "outputs": [],
   "source": [
    "TURN_RANK"
   ]
  },
  {
   "cell_type": "code",
   "execution_count": null,
   "metadata": {},
   "outputs": [],
   "source": [
    "HAND = ['As', '2s']\n",
    "HAND"
   ]
  },
  {
   "cell_type": "code",
   "execution_count": null,
   "metadata": {},
   "outputs": [],
   "source": [
    "HAND_STRENGTH"
   ]
  },
  {
   "cell_type": "code",
   "execution_count": null,
   "metadata": {},
   "outputs": [],
   "source": [
    "dfPreflop"
   ]
  },
  {
   "cell_type": "code",
   "execution_count": null,
   "metadata": {},
   "outputs": [],
   "source": [
    "PAIR = [x for x in HAND_RANKS_ONLY if x in FLOP_RANKS_ONLY]\n",
    "PAIR"
   ]
  },
  {
   "cell_type": "code",
   "execution_count": null,
   "metadata": {},
   "outputs": [],
   "source": [
    "PAIR"
   ]
  },
  {
   "cell_type": "code",
   "execution_count": null,
   "metadata": {},
   "outputs": [],
   "source": [
    "# PAIR[0]"
   ]
  },
  {
   "cell_type": "code",
   "execution_count": null,
   "metadata": {},
   "outputs": [],
   "source": [
    "#if there is a number in PAIR, PAIR_STRENGTH = 4. NOT SURE HOW THIS CODE IS WORKING\n",
    "# if 1 in PAIR: PAIR_STRENGTH = 4\n",
    "# else: PAIR_STRENTGH = 0\n",
    "# PAIR_STRENGTH"
   ]
  },
  {
   "cell_type": "code",
   "execution_count": null,
   "metadata": {},
   "outputs": [],
   "source": [
    "FLOP"
   ]
  },
  {
   "cell_type": "code",
   "execution_count": null,
   "metadata": {},
   "outputs": [],
   "source": [
    "BURN1"
   ]
  },
  {
   "cell_type": "code",
   "execution_count": null,
   "metadata": {},
   "outputs": [],
   "source": [
    "TURN"
   ]
  },
  {
   "cell_type": "code",
   "execution_count": null,
   "metadata": {},
   "outputs": [],
   "source": [
    "BURN2"
   ]
  },
  {
   "cell_type": "code",
   "execution_count": null,
   "metadata": {},
   "outputs": [],
   "source": [
    "RIVER"
   ]
  },
  {
   "cell_type": "code",
   "execution_count": null,
   "metadata": {},
   "outputs": [],
   "source": []
  },
  {
   "cell_type": "code",
   "execution_count": null,
   "metadata": {},
   "outputs": [],
   "source": [
    "HAND_STRENGTH"
   ]
  },
  {
   "cell_type": "code",
   "execution_count": null,
   "metadata": {},
   "outputs": [],
   "source": [
    "dfPreflop"
   ]
  },
  {
   "cell_type": "code",
   "execution_count": null,
   "metadata": {},
   "outputs": [],
   "source": [
    "dfPreflop['REASONS TO RAISE'] = dfPreflop['HAND STRENGTH'].apply(lambda x: '''Hand makes marginal top pair''' \n",
    "    if x == HIGHEST_HAND_RANK and 8 < x < 12 else np.NaN)\n",
    "\n",
    "#'''I'm on the button but the hand is not good enough to bet (Q8o [strength 20] or better)''')                 \n",
    "\n",
    "dfPreflop"
   ]
  },
  {
   "cell_type": "code",
   "execution_count": null,
   "metadata": {},
   "outputs": [],
   "source": [
    "HAND_STRENGTH"
   ]
  },
  {
   "cell_type": "code",
   "execution_count": null,
   "metadata": {},
   "outputs": [],
   "source": [
    "#Hand works well as a bluff since it has good blockers if HAND 1 or HAND 2 has RANK 15\n",
    "\n",
    "dfPreflop['REASONS TO RAISE'] = dfPreflop['HIGHEST HAND RANK'].apply(lambda x: '''Hand works well as a bluff since it has a good blocker'''\n",
    "    if x == 15 and HAND_STRENGTH < 23 else np.NaN)\n",
    "\n",
    "dfPreflop"
   ]
  },
  {
   "cell_type": "code",
   "execution_count": null,
   "metadata": {},
   "outputs": [],
   "source": [
    "ACTIONS_THROUGH_TO_YOU"
   ]
  },
  {
   "cell_type": "code",
   "execution_count": null,
   "metadata": {},
   "outputs": [],
   "source": [
    "# SIMPLIFIED_ACTIONS_THROUGH_TO_YOU"
   ]
  },
  {
   "cell_type": "code",
   "execution_count": null,
   "metadata": {},
   "outputs": [],
   "source": [
    "UTG_BET_FOLD_TO_YOU"
   ]
  },
  {
   "cell_type": "code",
   "execution_count": null,
   "metadata": {},
   "outputs": [],
   "source": [
    "UTG_BET_FOLD_TO_YOU_DATAFRAME = pd.DataFrame({'Action': UTG_BET_FOLD_TO_YOU})\n",
    "UTG_BET_FOLD_TO_YOU_DATAFRAME"
   ]
  },
  {
   "cell_type": "code",
   "execution_count": null,
   "metadata": {},
   "outputs": [],
   "source": [
    "#Is there a bet and then all folds to you?\n",
    "UTG_BET_FOLD_TO_YOU = UTG_BET_FOLD_TO_YOU_DATAFRAME['Action'].unique()\n",
    "UTG_BET_FOLD_TO_YOU"
   ]
  },
  {
   "cell_type": "code",
   "execution_count": null,
   "metadata": {},
   "outputs": [],
   "source": [
    "UTG_BET_FOLD_ARRAY = np.array([UTG_BET_FOLD_TO_YOU[0].startswith('bet'),'fold', 'YOUR MOVE'], dtype=object)\n",
    "UTG_BET_FOLD_ARRAY"
   ]
  },
  {
   "cell_type": "code",
   "execution_count": null,
   "metadata": {},
   "outputs": [],
   "source": [
    "UTG_BET_FOLD_ARRAY_TO_BET = np.array([True,'fold','YOUR MOVE'], dtype=object)\n",
    "UTG_BET_FOLD_ARRAY_TO_BET"
   ]
  },
  {
   "cell_type": "code",
   "execution_count": null,
   "metadata": {},
   "outputs": [],
   "source": [
    "#FOLDS TO YOU / FIRST TO ACT\n"
   ]
  },
  {
   "cell_type": "code",
   "execution_count": null,
   "metadata": {},
   "outputs": [],
   "source": []
  },
  {
   "cell_type": "code",
   "execution_count": null,
   "metadata": {},
   "outputs": [],
   "source": [
    "####CREATE 'POT ODDS' CALCULAOR/GAME#########################"
   ]
  },
  {
   "cell_type": "code",
   "execution_count": null,
   "metadata": {},
   "outputs": [],
   "source": [
    "POSITIONS_STACKS_ACTIONS_THROUGH_TO_YOU"
   ]
  },
  {
   "cell_type": "code",
   "execution_count": null,
   "metadata": {},
   "outputs": [],
   "source": [
    "dfPreflop"
   ]
  },
  {
   "cell_type": "code",
   "execution_count": null,
   "metadata": {},
   "outputs": [],
   "source": [
    "# dfPreflop['ACTIONS'].loc= SIMPLIFIED_ACTIONS_THROUGH_TO_YOU\n",
    "# dfPreflop"
   ]
  },
  {
   "cell_type": "code",
   "execution_count": null,
   "metadata": {},
   "outputs": [],
   "source": [
    "# dfBetsPreflop = dfPreflop\n",
    "# dfBetsPreflop[POSITIONS_STACKS_ACTIONS_THROUGH_TO_YOU] = \n",
    "# dfBetsPreflop"
   ]
  },
  {
   "cell_type": "code",
   "execution_count": null,
   "metadata": {},
   "outputs": [],
   "source": [
    "# BET_MEDIUM_REASONS = ['UTG raised (ACTIONS_THROUGH_TO_YOU contains \"bet\"), then it folded around to me (and Im doing this with a large amount of my range']\n",
    "\n",
    "dfPreflop['REASONS TO BET MEDIUM'] = dfPreflop['MY POSITION'].apply(lambda x: '''Someone raised and then everyone folded to me in the small blind and I'm doing this with a large amount of my range''' if x == 'SB'\n",
    "    and np.array_equal(UTG_BET_FOLD_ARRAY_TO_BET,UTG_BET_FOLD_ARRAY) == True\n",
    "    else np.NaN)\n",
    "dfPreflop"
   ]
  },
  {
   "cell_type": "code",
   "execution_count": null,
   "metadata": {},
   "outputs": [],
   "source": [
    "dfPreflop.at[\"Flop\",\"CARDS\"] = FLOP\n",
    "dfFlop = dfPreflop\n",
    "dfFlop"
   ]
  },
  {
   "cell_type": "code",
   "execution_count": null,
   "metadata": {},
   "outputs": [],
   "source": [
    "dfFlop.at[\"Turn\",\"CARDS\"] = [TURN]\n",
    "dfTurn = dfFlop\n",
    "dfTurn"
   ]
  },
  {
   "cell_type": "code",
   "execution_count": null,
   "metadata": {},
   "outputs": [],
   "source": [
    "dfTurn.at[\"River\",\"CARDS\"] = [RIVER]\n",
    "dfRiver = dfTurn\n",
    "dfRiver"
   ]
  },
  {
   "cell_type": "code",
   "execution_count": null,
   "metadata": {},
   "outputs": [],
   "source": [
    "TOP_7_CARDS = dfRiver.CARDS.tolist()\n",
    "TOP_7_CARDS"
   ]
  },
  {
   "cell_type": "code",
   "execution_count": null,
   "metadata": {},
   "outputs": [],
   "source": [
    "YOUR_CARDS_PLUS_FLOP = TOP_7_CARDS[0:2]\n",
    "YOUR_CARDS_PLUS_FLOP"
   ]
  },
  {
   "cell_type": "code",
   "execution_count": null,
   "metadata": {},
   "outputs": [],
   "source": [
    "YOUR_CARDS = dfRiver.CARDS.tolist()[0]\n",
    "YOUR_CARDS\n"
   ]
  },
  {
   "cell_type": "code",
   "execution_count": null,
   "metadata": {},
   "outputs": [],
   "source": [
    "FLOP"
   ]
  },
  {
   "cell_type": "code",
   "execution_count": null,
   "metadata": {},
   "outputs": [],
   "source": [
    "List_of_your_cards_plus_flop = YOUR_CARDS + FLOP\n",
    "List_of_your_cards_plus_flop"
   ]
  },
  {
   "cell_type": "code",
   "execution_count": null,
   "metadata": {},
   "outputs": [],
   "source": [
    "import string\n",
    "listA = [''.join(x for x in par if x not in string.punctuation) for par in List_of_your_cards_plus_flop]\n",
    "listB = ''.join(listA)\n",
    "listB"
   ]
  },
  {
   "cell_type": "code",
   "execution_count": null,
   "metadata": {},
   "outputs": [],
   "source": [
    "Card_Numbers = listB[::2]\n",
    "Card_Numbers"
   ]
  },
  {
   "cell_type": "code",
   "execution_count": null,
   "metadata": {},
   "outputs": [],
   "source": [
    "Card_Suits_Plus_Z = 'Z'+listB\n",
    "Card_Suits = Card_Suits_Plus_Z[::2]\n",
    "Card_Suits_Minus_Z = Card_Suits[1:]\n",
    "Card_Suits_Minus_Z"
   ]
  },
  {
   "cell_type": "code",
   "execution_count": null,
   "metadata": {},
   "outputs": [],
   "source": [
    "#count number of suits in hand plus flop\n",
    "import collections\n",
    "results = collections.Counter(Card_Suits_Minus_Z)\n",
    "results"
   ]
  },
  {
   "cell_type": "code",
   "execution_count": null,
   "metadata": {},
   "outputs": [],
   "source": [
    "Backdoor_Flush_Draw = [id for id, count in results.items() if count == 3]\n",
    "Backdoor_Flush_Draw"
   ]
  },
  {
   "cell_type": "code",
   "execution_count": null,
   "metadata": {},
   "outputs": [],
   "source": [
    "dfRiver"
   ]
  },
  {
   "cell_type": "code",
   "execution_count": null,
   "metadata": {},
   "outputs": [],
   "source": [
    "#count number of numbers in hand plus flop\n",
    "import collections\n",
    "results = collections.Counter(Card_Numbers)\n",
    "results"
   ]
  },
  {
   "cell_type": "code",
   "execution_count": null,
   "metadata": {},
   "outputs": [],
   "source": [
    "Pair_the_Flop = [id for id, count in results.items() if count > 1]\n",
    "Pair_the_Flop"
   ]
  },
  {
   "cell_type": "code",
   "execution_count": null,
   "metadata": {},
   "outputs": [],
   "source": [
    "# STRENGTH_OF_YOUR_CARDS_PLUS_FLOP\n",
    "######## CARD NUMBER STRENGTH >>>>>>>>>MAYBE DO THIS LATER, SEEMS UNNECESSARY AFTER THE FLOP\n",
    "######## PAIR STRENGTH\n",
    "######## 3 OF A KIND STRENGTH\n",
    "######## STRAIGHT STRENGTH\n",
    "######## FLUSH STRENGTH\n",
    "######## FOUR OF A KIND STRENGTH\n",
    "######## STRAIGHT FLUSH STRENGTH\n",
    "######## ROYAL FLUSH STRENGTH"
   ]
  },
  {
   "cell_type": "code",
   "execution_count": null,
   "metadata": {},
   "outputs": [],
   "source": [
    "POSITIONS_STACKS_ACTIONS_THROUGH_TO_YOU"
   ]
  },
  {
   "cell_type": "code",
   "execution_count": null,
   "metadata": {},
   "outputs": [],
   "source": [
    "MY_POSITION_STACK"
   ]
  },
  {
   "cell_type": "code",
   "execution_count": null,
   "metadata": {},
   "outputs": [],
   "source": [
    "HAND_STRENGTH = 30"
   ]
  },
  {
   "cell_type": "code",
   "execution_count": null,
   "metadata": {},
   "outputs": [],
   "source": [
    "#Bet 3x big blind when deep stacked with a good hand first to act'] #Q264 88 suited preflop first to act\n",
    "dfPreflop['REASONS TO BET LARGE'] = dfPreflop['MY POSITION'].apply(lambda x: \n",
    "    '''Bet 3x big blind when deep stacked with a good hand first to act''' \n",
    "    #########FIRST TO ACT INCLUDING FOLDS:\n",
    "        if MY_POSITION_STACK[0][1] == \"deep\" \n",
    "            and HAND_STRENGTH > 30\n",
    "                and np.array_equal(UTG_BET_FOLD_ARRAY_TO_BET,UTG_BET_FOLD_ARRAY) == True \n",
    "                    or MY_POSITION_STACK[0][1] == \"deep\" \n",
    "                        and x == 'UTG'\n",
    "                            and HAND_STRENGTH > 30\n",
    "                                else np.NaN)\n",
    "    ##########FIRST TO ACT INCLUDING FOLDS^^:\n",
    "dfPreflop"
   ]
  },
  {
   "cell_type": "code",
   "execution_count": null,
   "metadata": {},
   "outputs": [],
   "source": [
    "POSITIONS_STACKS_ACTIONS_THROUGH_TO_YOU"
   ]
  },
  {
   "cell_type": "code",
   "execution_count": null,
   "metadata": {},
   "outputs": [],
   "source": [
    "HAND_RANKS_ONLY"
   ]
  },
  {
   "cell_type": "code",
   "execution_count": null,
   "metadata": {},
   "outputs": [],
   "source": [
    "FLOP_RANKS_ONLY"
   ]
  },
  {
   "cell_type": "code",
   "execution_count": null,
   "metadata": {},
   "outputs": [],
   "source": [
    "OVERCARDS = [max(i) for i in zip(FLOP_RANKS_ONLY,HAND_RANKS_ONLY)]\n",
    "OVERCARD = max(OVERCARDS)\n",
    "OVERCARD"
   ]
  },
  {
   "cell_type": "code",
   "execution_count": null,
   "metadata": {},
   "outputs": [],
   "source": [
    "OVERCARD_IN_HAND = OVERCARD in HAND_RANKS_ONLY\n",
    "OVERCARD_IN_HAND"
   ]
  },
  {
   "cell_type": "code",
   "execution_count": null,
   "metadata": {},
   "outputs": [],
   "source": [
    "# Check marginal made hand (medium pair [6s to 10s]) with an overcard kicker #Q262 Flop\n",
    "\n",
    "try:\n",
    "    # the code that can cause the error\n",
    "    if 11 > PAIR[0] > 5 and OVERCARD_IN_HAND == True: \n",
    "        PAIR_WITH_OVERCARD = 'Marginal made hand with overcard kicker'\n",
    "\n",
    "        \n",
    "except IndexError: # catch the error\n",
    "    pass\n",
    "\n",
    "\n"
   ]
  },
  {
   "cell_type": "code",
   "execution_count": null,
   "metadata": {},
   "outputs": [],
   "source": [
    "try:\n",
    "    if PAIR_WITH_OVERCARD == 'Marginal made hand with overcard kicker':\n",
    "        dfPreflop['REASONS TO CHECK'] = 'Check marginal made hand (medium pair [6s to 10s]) with an overcard kicker'\n",
    "\n",
    "except NameError:\n",
    "    pass\n",
    "dfPreflop"
   ]
  },
  {
   "cell_type": "code",
   "execution_count": null,
   "metadata": {},
   "outputs": [],
   "source": [
    "HAND_STRENGTH"
   ]
  },
  {
   "cell_type": "code",
   "execution_count": null,
   "metadata": {},
   "outputs": [],
   "source": [
    "if HAND_STRENGTH > 30:\n",
    "    dfPreflop['REASONS TO CALL'] = 'Hand is too strong to fold'\n",
    "dfPreflop"
   ]
  },
  {
   "cell_type": "code",
   "execution_count": null,
   "metadata": {},
   "outputs": [],
   "source": [
    "mydf"
   ]
  },
  {
   "cell_type": "code",
   "execution_count": 29,
   "metadata": {},
   "outputs": [
    {
     "data": {
      "text/plain": [
       "('Ah',\n",
       " '2h',\n",
       " '3h',\n",
       " '4h',\n",
       " '5h',\n",
       " '6h',\n",
       " '7h',\n",
       " '8h',\n",
       " '9h',\n",
       " '10h',\n",
       " 'Jh',\n",
       " 'Qh',\n",
       " 'Kh',\n",
       " 'Ac',\n",
       " '2c',\n",
       " '3c',\n",
       " '4c',\n",
       " '5c',\n",
       " '6c',\n",
       " '7c',\n",
       " '8c',\n",
       " '9c',\n",
       " '10c',\n",
       " 'Jc',\n",
       " 'Qc',\n",
       " 'Kc',\n",
       " 'As',\n",
       " '2s',\n",
       " '3s',\n",
       " '4s',\n",
       " '5s',\n",
       " '6s',\n",
       " '7s',\n",
       " '8s',\n",
       " '9s',\n",
       " '10s',\n",
       " 'Js',\n",
       " 'Qs',\n",
       " 'Ks',\n",
       " 'Ad',\n",
       " '2d',\n",
       " '3d',\n",
       " '4d',\n",
       " '5d',\n",
       " '6d',\n",
       " '7d',\n",
       " '8d',\n",
       " '9d',\n",
       " '10d',\n",
       " 'Jd',\n",
       " 'Qd',\n",
       " 'Kd')"
      ]
     },
     "execution_count": 29,
     "metadata": {},
     "output_type": "execute_result"
    }
   ],
   "source": [
    "CARDS\n"
   ]
  },
  {
   "cell_type": "code",
   "execution_count": null,
   "metadata": {},
   "outputs": [],
   "source": []
  },
  {
   "cell_type": "code",
   "execution_count": 30,
   "metadata": {},
   "outputs": [
    {
     "ename": "NameError",
     "evalue": "name 'HAND_STRENGTH' is not defined",
     "output_type": "error",
     "traceback": [
      "\u001b[0;31m---------------------------------------------------------------------------\u001b[0m",
      "\u001b[0;31mNameError\u001b[0m                                 Traceback (most recent call last)",
      "\u001b[0;32m<ipython-input-30-33b4e3bace21>\u001b[0m in \u001b[0;36m<module>\u001b[0;34m()\u001b[0m\n\u001b[0;32m----> 1\u001b[0;31m \u001b[0mHAND_STRENGTH\u001b[0m\u001b[0;34m\u001b[0m\u001b[0m\n\u001b[0m",
      "\u001b[0;31mNameError\u001b[0m: name 'HAND_STRENGTH' is not defined"
     ]
    }
   ],
   "source": [
    "HAND_STRENGTH"
   ]
  },
  {
   "cell_type": "code",
   "execution_count": null,
   "metadata": {},
   "outputs": [],
   "source": [
    "#TOP TWO PAIR ON THE RIVER : GO ALL-IN"
   ]
  },
  {
   "cell_type": "code",
   "execution_count": null,
   "metadata": {},
   "outputs": [],
   "source": [
    "POSITIONS_STACKS_ACTIONS_THROUGH_TO_YOU"
   ]
  },
  {
   "cell_type": "code",
   "execution_count": null,
   "metadata": {},
   "outputs": [],
   "source": [
    "from collections import Counter\n",
    "count_of_move_type = Counter(elem[1] for elem in POSITIONS_STACKS_ACTIONS_THROUGH_TO_YOU)\n",
    "count_of_move_type"
   ]
  },
  {
   "cell_type": "code",
   "execution_count": null,
   "metadata": {},
   "outputs": [],
   "source": [
    "number_of_medium_size_bets = count_of_move_type[\"bet medium (initial bet or raise/re-raise)\"]"
   ]
  },
  {
   "cell_type": "code",
   "execution_count": null,
   "metadata": {},
   "outputs": [],
   "source": [
    "\n",
    "number_of_small_size_bets = count_of_move_type[\"bet small (initial bet or min-raise)\"]\n",
    "number_of_small_size_bets"
   ]
  },
  {
   "cell_type": "code",
   "execution_count": null,
   "metadata": {},
   "outputs": [],
   "source": [
    "number_of_large_size_bets = count_of_move_type[\"bet large (initial bet or raise/re-raise)\"]"
   ]
  },
  {
   "cell_type": "code",
   "execution_count": null,
   "metadata": {},
   "outputs": [],
   "source": []
  },
  {
   "cell_type": "code",
   "execution_count": null,
   "metadata": {},
   "outputs": [],
   "source": [
    "################# MODULE 1.5: CALCULATING POT-ODDS #########################"
   ]
  },
  {
   "cell_type": "code",
   "execution_count": null,
   "metadata": {},
   "outputs": [],
   "source": [
    "#### GOAL: SUM BET SIZES BEFORE YOUR MOVE"
   ]
  },
  {
   "cell_type": "code",
   "execution_count": null,
   "metadata": {},
   "outputs": [],
   "source": [
    "small_bet_size = number_of_small_size_bets*1\n",
    "small_bet_size"
   ]
  },
  {
   "cell_type": "code",
   "execution_count": null,
   "metadata": {},
   "outputs": [],
   "source": [
    "medium_bet_size = number_of_medium_size_bets*2\n",
    "medium_bet_size"
   ]
  },
  {
   "cell_type": "code",
   "execution_count": null,
   "metadata": {},
   "outputs": [],
   "source": [
    "large_bet_size = number_of_large_size_bets*3\n",
    "large_bet_size"
   ]
  },
  {
   "cell_type": "code",
   "execution_count": null,
   "metadata": {},
   "outputs": [],
   "source": [
    "bet_sizes_prior_to_you_this_street = small_bet_size + medium_bet_size + large_bet_size\n",
    "bet_sizes_prior_to_you_this_street"
   ]
  },
  {
   "cell_type": "code",
   "execution_count": null,
   "metadata": {},
   "outputs": [],
   "source": [
    "countamedium = a[1].count('medium')\n",
    "countbmedium = b[1].count('medium')\n",
    "countcmedium = c[1].count('medium')\n",
    "countdmedium = d[1].count('medium')\n",
    "countemedium = e[1].count('medium')\n",
    "countfmedium = f[1].count('medium')\n",
    "countgmedium = g[1].count('medium')\n",
    "counthmedium = h[1].count('medium')\n"
   ]
  },
  {
   "cell_type": "code",
   "execution_count": null,
   "metadata": {},
   "outputs": [],
   "source": [
    "countasmall = a[1].count('small')\n",
    "countbsmall = b[1].count('small')\n",
    "countcsmall = c[1].count('small')\n",
    "countdsmall = d[1].count('small')\n",
    "countesmall = e[1].count('small')\n",
    "countfsmall = f[1].count('small')\n",
    "countgsmall = g[1].count('small')\n",
    "counthsmall = h[1].count('small')"
   ]
  },
  {
   "cell_type": "code",
   "execution_count": null,
   "metadata": {},
   "outputs": [],
   "source": [
    "number_of_small_bets = countasmall + countbsmall + countcsmall + countesmall + countfsmall + countgsmall + counthsmall \n",
    "number_of_small_bets"
   ]
  },
  {
   "cell_type": "code",
   "execution_count": null,
   "metadata": {},
   "outputs": [],
   "source": [
    "number_of_large_bets = countasmall + countbsmall + countcsmall + countesmall + countfsmall + countgsmall + counthsmall \n",
    "number_of_large_bets"
   ]
  },
  {
   "cell_type": "code",
   "execution_count": null,
   "metadata": {},
   "outputs": [],
   "source": [
    "def countX(lst, x):\n",
    "    return(lst.count(x))\n",
    "\n",
    "\n",
    "lst = POSITIONS_STACKS_ACTIONS_THROUGH_TO_YOU[:][1]\n",
    "x = 'bet large (initial bet or raise/re-raise)'\n",
    "print('{} has occurred {} times'.format(x, countX(lst, x)))"
   ]
  },
  {
   "cell_type": "code",
   "execution_count": null,
   "metadata": {},
   "outputs": [],
   "source": [
    "dfPreflop.dropna(axis=1, how = 'all')"
   ]
  },
  {
   "cell_type": "code",
   "execution_count": null,
   "metadata": {},
   "outputs": [],
   "source": [
    "dfPreflop\n",
    "TOTAL_OF_ALL_OPPONENT_ACTIONS\n",
    "POSITIONS"
   ]
  },
  {
   "cell_type": "code",
   "execution_count": null,
   "metadata": {},
   "outputs": [],
   "source": [
    "HAND"
   ]
  },
  {
   "cell_type": "code",
   "execution_count": null,
   "metadata": {},
   "outputs": [],
   "source": [
    "########## MODULE TWO PART TWO : DECISIONS ON THE TURN ############"
   ]
  },
  {
   "cell_type": "code",
   "execution_count": null,
   "metadata": {},
   "outputs": [],
   "source": [
    "COMMUNITY_CARDS \n"
   ]
  },
  {
   "cell_type": "code",
   "execution_count": null,
   "metadata": {},
   "outputs": [],
   "source": [
    "HAND = COMMUNITY_CARDS[0:2]\n",
    "FLOP = COMMUNITY_CARDS[2:5]\n",
    "BURN1 = COMMUNITY_CARDS[5]\n",
    "TURN = COMMUNITY_CARDS[6]\n",
    "BURN2 = COMMUNITY_CARDS[7]\n",
    "RIVER = COMMUNITY_CARDS[8]\n",
    "FLOP"
   ]
  },
  {
   "cell_type": "code",
   "execution_count": null,
   "metadata": {},
   "outputs": [],
   "source": []
  },
  {
   "cell_type": "code",
   "execution_count": null,
   "metadata": {},
   "outputs": [],
   "source": [
    "TURN"
   ]
  },
  {
   "cell_type": "code",
   "execution_count": null,
   "metadata": {},
   "outputs": [],
   "source": [
    "TURN_RANK"
   ]
  },
  {
   "cell_type": "code",
   "execution_count": null,
   "metadata": {},
   "outputs": [],
   "source": [
    "dfPreflop['TURN CARD'] = str(TURN)\n",
    "\n",
    "if TURN_RANK == FLOP_1_RANK or FLOP_2_RANK or FLOP_3_RANK:\n",
    "    dfPreflop['REASONS TO CALL'] = 'You have at least a pair'\n",
    "dfPreflop"
   ]
  },
  {
   "cell_type": "code",
   "execution_count": null,
   "metadata": {},
   "outputs": [],
   "source": [
    "dfFlopTurn = dfPreflop\n",
    "dfFlopTurn\n"
   ]
  },
  {
   "cell_type": "code",
   "execution_count": null,
   "metadata": {},
   "outputs": [],
   "source": [
    "RAISE_POSSIBILITIES = ('Opponent plays very well/folds out hands you beat')"
   ]
  },
  {
   "cell_type": "code",
   "execution_count": null,
   "metadata": {},
   "outputs": [],
   "source": [
    "########### MODULE TWO PART THREE : DECISIONS ON THE RIVER ############"
   ]
  },
  {
   "cell_type": "code",
   "execution_count": null,
   "metadata": {},
   "outputs": [],
   "source": [
    "RIVER = COMMUNITY_CARDS[8]"
   ]
  },
  {
   "cell_type": "code",
   "execution_count": null,
   "metadata": {},
   "outputs": [],
   "source": [
    "RIVER"
   ]
  },
  {
   "cell_type": "code",
   "execution_count": null,
   "metadata": {},
   "outputs": [],
   "source": [
    "dfFlopTurn['RIVER'] = RIVER\n",
    "dfFlopTurn\n"
   ]
  },
  {
   "cell_type": "code",
   "execution_count": null,
   "metadata": {},
   "outputs": [],
   "source": [
    "RIVER"
   ]
  },
  {
   "cell_type": "code",
   "execution_count": null,
   "metadata": {},
   "outputs": [],
   "source": [
    "#Write this as a list :'[x]'\n",
    "NUMBER_OF_PLAYERS = [4]"
   ]
  },
  {
   "cell_type": "code",
   "execution_count": null,
   "metadata": {},
   "outputs": [],
   "source": [
    "NUMBER_OF_PLAYERS"
   ]
  },
  {
   "cell_type": "code",
   "execution_count": null,
   "metadata": {},
   "outputs": [],
   "source": [
    "FLOP"
   ]
  },
  {
   "cell_type": "code",
   "execution_count": null,
   "metadata": {},
   "outputs": [],
   "source": [
    "EQUITY = ('backdoor flush draw','gutshot straight draw','overcards')\n"
   ]
  },
  {
   "cell_type": "code",
   "execution_count": null,
   "metadata": {},
   "outputs": [],
   "source": [
    "EQUITY"
   ]
  },
  {
   "cell_type": "code",
   "execution_count": null,
   "metadata": {},
   "outputs": [],
   "source": []
  },
  {
   "cell_type": "code",
   "execution_count": null,
   "metadata": {},
   "outputs": [],
   "source": [
    "import random\n",
    "import matplotlib.pyplot as plt\n",
    "import matplotlib.image as img"
   ]
  },
  {
   "cell_type": "code",
   "execution_count": null,
   "metadata": {
    "scrolled": true
   },
   "outputs": [],
   "source": [
    "roll = random.randint(1,6)\n",
    "roll"
   ]
  },
  {
   "cell_type": "code",
   "execution_count": null,
   "metadata": {},
   "outputs": [],
   "source": [
    "Qh = 'file:///Users/ricardobarrios/learning-texas-holdem/art_assets/queen_of_hearts.png'"
   ]
  },
  {
   "cell_type": "code",
   "execution_count": null,
   "metadata": {},
   "outputs": [],
   "source": [
    "Kh = 'file:///Users/ricardobarrios/learning-texas-holdem/art_assets/king_of_hearts.png'\n",
    "Kh"
   ]
  },
  {
   "cell_type": "code",
   "execution_count": null,
   "metadata": {},
   "outputs": [],
   "source": [
    "\n",
    "'Jh' = 'file:///Users/ricardobarrios/learning-texas-holdem/art_assets/jack_of_hearts.png'\n",
    "'Th' = 'file:///Users/ricardobarrios/learning-texas-holdem/art_assets/ten_of_hearts.png'\n",
    "'Qs' = 'file:///Users/ricardobarrios/learning-texas-holdem/art_assets/queen_of_spades.png'\n",
    "'Qh' = 'file:///Users/ricardobarrios/learning-texas-holdem/art_assets/queen_of_hearts.png'\n",
    "'Qd' = 'file:///Users/ricardobarrios/learning-texas-holdem/art_assets/queen_of_diamonds.png'\n",
    "'Qc' = 'file:///Users/ricardobarrios/learning-texas-holdem/art_assets/queen_of_clubs.png'\n",
    "'Ks' = 'file:///Users/ricardobarrios/learning-texas-holdem/art_assets/king_of_spades.png'\n",
    "'Kh' = 'file:///Users/ricardobarrios/learning-texas-holdem/art_assets/king_of_hearts.png'\n",
    "'Kd' = 'file:///Users/ricardobarrios/learning-texas-holdem/art_assets/king_of_diamonds.png'\n",
    "'Kc' = 'file:///Users/ricardobarrios/learning-texas-holdem/art_assets/king_of_clubs.png'\n",
    "'Js' = 'file:///Users/ricardobarrios/learning-texas-holdem/art_assets/jack_of_spades.png'\n",
    "'Jh' = 'file:///Users/ricardobarrios/learning-texas-holdem/art_assets/jack_of_hearts.png'\n",
    "'Jd' = 'file:///Users/ricardobarrios/learning-texas-holdem/art_assets/jack_of_diamonds.png'\n",
    "'Jc' = 'file:///Users/ricardobarrios/learning-texas-holdem/art_assets/jack_of_clubs.png'\n",
    "'Jk' = 'file:///Users/ricardobarrios/learning-texas-holdem/art_assets/black_joker.png'\n",
    "'IDK' = 'file:///Users/ricardobarrios/learning-texas-holdem/art_assets/back@2x.png'\n",
    "'IDDK' = 'file:///Users/ricardobarrios/learning-texas-holdem/art_assets/back.png'\n",
    "'As' = 'file:///Users/ricardobarrios/learning-texas-holdem/art_assets/ace_of_spades.png'\n",
    "'Ah' = 'file:///Users/ricardobarrios/learning-texas-holdem/art_assets/ace_of_hearts.png'\n",
    "'Ad' = 'file:///Users/ricardobarrios/learning-texas-holdem/art_assets/ace_of_diamonds.png'\n",
    "'Ac' = 'file:///Users/ricardobarrios/learning-texas-holdem/art_assets/ace_of_clubs.png'\n",
    "'Ts' = 'file:///Users/ricardobarrios/learning-texas-holdem/art_assets/10_of_spades.png'\n",
    "'Th' = 'file:///Users/ricardobarrios/learning-texas-holdem/art_assets/10_of_hearts.png'\n",
    "'Td' = 'file:///Users/ricardobarrios/learning-texas-holdem/art_assets/10_of_diamonds.png'\n",
    "'Tc' = 'file:///Users/ricardobarrios/learning-texas-holdem/art_assets/10_of_clubs.png'\n",
    "'9s' = 'file:///Users/ricardobarrios/learning-texas-holdem/art_assets/9_of_spades.png'\n",
    "'9h' = 'file:///Users/ricardobarrios/learning-texas-holdem/art_assets/9_of_hearts.png'\n",
    "'9d' = 'file:///Users/ricardobarrios/learning-texas-holdem/art_assets/9_of_diamonds.png'\n",
    "'9c' = 'file:///Users/ricardobarrios/learning-texas-holdem/art_assets/9_of_clubs.png'\n",
    "'8s' = 'file:///Users/ricardobarrios/learning-texas-holdem/art_assets/8_of_spades.png'\n",
    "8h = 'file:///Users/ricardobarrios/learning-texas-holdem/art_assets/8_of_hearts.png'\n",
    "8d = 'file:///Users/ricardobarrios/learning-texas-holdem/art_assets/8_of_diamonds.png'\n",
    "8c = 'file:///Users/ricardobarrios/learning-texas-holdem/art_assets/8_of_clubs.png'\n",
    "7s = 'file:///Users/ricardobarrios/learning-texas-holdem/art_assets/7_of_spades.png'\n",
    "7h = 'file:///Users/ricardobarrios/learning-texas-holdem/art_assets/7_of_hearts.png'\n",
    "7d = 'file:///Users/ricardobarrios/learning-texas-holdem/art_assets/7_of_diamonds.png'\n",
    "7c = 'file:///Users/ricardobarrios/learning-texas-holdem/art_assets/7_of_clubs.png'\n",
    "6s = 'file:///Users/ricardobarrios/learning-texas-holdem/art_assets/6_of_spades.png'\n",
    "6h = 'file:///Users/ricardobarrios/learning-texas-holdem/art_assets/6_of_hearts.png'\n",
    "6d = 'file:///Users/ricardobarrios/learning-texas-holdem/art_assets/6_of_diamonds.png'\n",
    "6c = 'file:///Users/ricardobarrios/learning-texas-holdem/art_assets/6_of_clubs.png'\n",
    "5s = 'file:///Users/ricardobarrios/learning-texas-holdem/art_assets/5_of_spades.png'\n",
    "5h = 'file:///Users/ricardobarrios/learning-texas-holdem/art_assets/5_of_hearts.png'\n",
    "5d = 'file:///Users/ricardobarrios/learning-texas-holdem/art_assets/5_of_diamonds.png'\n",
    "5c = 'file:///Users/ricardobarrios/learning-texas-holdem/art_assets/5_of_clubs.png'\n",
    "4s = 'file:///Users/ricardobarrios/learning-texas-holdem/art_assets/4_of_spades.png'\n",
    "4h = 'file:///Users/ricardobarrios/learning-texas-holdem/art_assets/4_of_hearts.png'\n",
    "4d = 'file:///Users/ricardobarrios/learning-texas-holdem/art_assets/4_of_diamonds.png'\n",
    "4c = 'file:///Users/ricardobarrios/learning-texas-holdem/art_assets/4_of_clubs.png'\n",
    "3s = 'file:///Users/ricardobarrios/learning-texas-holdem/art_assets/3_of_spades.png'\n",
    "3h = 'file:///Users/ricardobarrios/learning-texas-holdem/art_assets/3_of_hearts.png'\n",
    "3d = 'file:///Users/ricardobarrios/learning-texas-holdem/art_assets/3_of_diamonds.png'\n",
    "3c = 'file:///Users/ricardobarrios/learning-texas-holdem/art_assets/3_of_clubs.png'\n",
    "2s = 'file:///Users/ricardobarrios/learning-texas-holdem/art_assets/2_of_spades.png'\n",
    "2h = 'file:///Users/ricardobarrios/learning-texas-holdem/art_assets/2_of_hearts.png'\n",
    "2d = 'file:///Users/ricardobarrios/learning-texas-holdem/art_assets/2_of_diamonds.png'\n",
    "2c = 'file:///Users/ricardobarrios/learning-texas-holdem/art_assets/2_of_clubs.png'\n"
   ]
  },
  {
   "cell_type": "code",
   "execution_count": null,
   "metadata": {},
   "outputs": [],
   "source": [
    "As = img.imread(As)"
   ]
  },
  {
   "cell_type": "code",
   "execution_count": null,
   "metadata": {},
   "outputs": [],
   "source": [
    "cards = (['Jh','Kh','As','Th'])\n"
   ]
  },
  {
   "cell_type": "code",
   "execution_count": null,
   "metadata": {},
   "outputs": [],
   "source": [
    "fun = random.choice(cards)\n",
    "plt.imshow(fun)\n",
    "plt.show()"
   ]
  },
  {
   "cell_type": "code",
   "execution_count": null,
   "metadata": {},
   "outputs": [],
   "source": [
    "import PIL\n",
    "from PIL import Image\n",
    "basewidth = 300\n",
    " ",
    "img = Image.open('learning-texas-holdem/art_assets/2_of_clubs.png')\n",
    " ",
    "wpercent = (basewidth / float(img.size[0]))\n",
    " ",
    "hsize = int((float(img.size[1]) * float(wpercent)))\n",
    " ",
    "img = img.resize((basewidth, hsize), PIL.Image.ANTIALIAS)\n",
    " ",
    "img.save('learning-texas-holdem/art_assets/2_of_clubs.png')"
   ]
  },
  {
   "cell_type": "code",
   "execution_count": null,
   "metadata": {},
   "outputs": [],
   "source": [
    "from PIL import Image\n",
    "\n",
    "im = Image.open('///Users/ricardobarrios/learning-texas-holdem/art_assets/2_of_clubs.png')\n",
    "width, height = 400,800"
   ]
  },
  {
   "cell_type": "code",
   "execution_count": null,
   "metadata": {},
   "outputs": [],
   "source": []
  },
  {
   "cell_type": "code",
   "execution_count": null,
   "metadata": {},
   "outputs": [],
   "source": []
  }
 ],
 "metadata": {
  "kernelspec": {
   "display_name": "Python 3",
   "language": "python",
   "name": "python3"
  },
  "language_info": {
   "codemirror_mode": {
    "name": "ipython",
    "version": 3
   },
   "file_extension": ".py",
   "mimetype": "text/x-python",
   "name": "python",
   "nbconvert_exporter": "python",
   "pygments_lexer": "ipython3",
   "version": "3.6.4"
  }
 },
 "nbformat": 4,
 "nbformat_minor": 2
}
